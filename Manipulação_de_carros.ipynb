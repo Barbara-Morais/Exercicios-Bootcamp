{
  "nbformat": 4,
  "nbformat_minor": 0,
  "metadata": {
    "colab": {
      "name": "Manipulação de carros.ipynb",
      "provenance": [],
      "collapsed_sections": []
    },
    "kernelspec": {
      "name": "python3",
      "display_name": "Python 3"
    }
  },
  "cells": [
    {
      "cell_type": "markdown",
      "metadata": {
        "id": "Yz1My4RQy8B7"
      },
      "source": [
        "###Instalação do PySpark###"
      ]
    },
    {
      "cell_type": "code",
      "metadata": {
        "id": "imGSmFFgvF4X",
        "colab": {
          "base_uri": "https://localhost:8080/"
        },
        "outputId": "328df059-565f-4853-b18c-ba6670c0ad72"
      },
      "source": [
        "!pip install pyspark"
      ],
      "execution_count": null,
      "outputs": [
        {
          "output_type": "stream",
          "name": "stdout",
          "text": [
            "Collecting pyspark\n",
            "  Downloading pyspark-3.1.2.tar.gz (212.4 MB)\n",
            "\u001b[K     |████████████████████████████████| 212.4 MB 63 kB/s \n",
            "\u001b[?25hCollecting py4j==0.10.9\n",
            "  Downloading py4j-0.10.9-py2.py3-none-any.whl (198 kB)\n",
            "\u001b[K     |████████████████████████████████| 198 kB 61.6 MB/s \n",
            "\u001b[?25hBuilding wheels for collected packages: pyspark\n",
            "  Building wheel for pyspark (setup.py) ... \u001b[?25l\u001b[?25hdone\n",
            "  Created wheel for pyspark: filename=pyspark-3.1.2-py2.py3-none-any.whl size=212880768 sha256=d3754e5b019ac27080a5d50abc3a8a1ecab5ace8d4ba37dd60e15d59c544b323\n",
            "  Stored in directory: /root/.cache/pip/wheels/a5/0a/c1/9561f6fecb759579a7d863dcd846daaa95f598744e71b02c77\n",
            "Successfully built pyspark\n",
            "Installing collected packages: py4j, pyspark\n",
            "Successfully installed py4j-0.10.9 pyspark-3.1.2\n"
          ]
        }
      ]
    },
    {
      "cell_type": "markdown",
      "metadata": {
        "id": "vEbLvKrmzL0b"
      },
      "source": [
        "###Importação dos pacotes de contexto e configuração do Spark###"
      ]
    },
    {
      "cell_type": "code",
      "metadata": {
        "id": "hGrKTtRrwFuO"
      },
      "source": [
        "from pyspark.sql import SparkSession"
      ],
      "execution_count": null,
      "outputs": []
    },
    {
      "cell_type": "markdown",
      "metadata": {
        "id": "-OTVYrGozbPx"
      },
      "source": [
        "###Montando o sistema de arquivos do seu Google Drive###"
      ]
    },
    {
      "cell_type": "code",
      "metadata": {
        "id": "rIMLAvHrwISI",
        "colab": {
          "base_uri": "https://localhost:8080/"
        },
        "outputId": "6aa5b3d3-d0df-4b0b-8e92-d251e62a5c9c"
      },
      "source": [
        "from google.colab import drive\n",
        "drive.mount('/content/drive')"
      ],
      "execution_count": null,
      "outputs": [
        {
          "output_type": "stream",
          "name": "stdout",
          "text": [
            "Mounted at /content/drive\n"
          ]
        }
      ]
    },
    {
      "cell_type": "code",
      "metadata": {
        "id": "cD0SZOj5wu-f"
      },
      "source": [
        "import os\n",
        "os.chdir(\"/content/drive/My Drive/Spark\")"
      ],
      "execution_count": null,
      "outputs": []
    },
    {
      "cell_type": "code",
      "metadata": {
        "id": "3tJ8wPPFw9fS",
        "colab": {
          "base_uri": "https://localhost:8080/"
        },
        "outputId": "79585ebe-3509-491e-8689-42edaf27fd3c"
      },
      "source": [
        "!ls"
      ],
      "execution_count": null,
      "outputs": [
        {
          "output_type": "stream",
          "name": "stdout",
          "text": [
            " alunos.csv\t\t\t\t       'Manipulação de carros.ipynb'\n",
            " auto-miles-per-gallon.csv\t\t       'Manual PIG.pdf'\n",
            " drivers.csv\t\t\t\t        Neo4j.pdf\n",
            "'Ecosistema Hadoop.pdf'\t\t\t        NoSQL.pdf\n",
            "'Exemplo didático MapReduce.pdf'\t       'O Ecossistema Spark.pdf'\n",
            "'Exemplo regressao Spark.ipynb'\t\t        pig_script.txt\n",
            "'Hands on Hadoop.pdf'\t\t\t        timesheet.csv\n",
            " hive.txt\t\t\t\t        WordCount-Spark.ipynb\n",
            "'Introdução ao processamento distribuído.pdf'   words.txt\n"
          ]
        }
      ]
    },
    {
      "cell_type": "markdown",
      "metadata": {
        "id": "D402cfonzopa"
      },
      "source": [
        "###Setando a configuração do seu Spark Context###"
      ]
    },
    {
      "cell_type": "code",
      "metadata": {
        "id": "g3VqkhiTx2qn"
      },
      "source": [
        "spark = SparkSession.builder.appName(\"Exemplo\").master(\"local[*]\").getOrCreate()"
      ],
      "execution_count": null,
      "outputs": []
    },
    {
      "cell_type": "markdown",
      "metadata": {
        "id": "8ymjt_tfz4iu"
      },
      "source": [
        "###Carregando o CSV de carros em um dataframe do Spark###"
      ]
    },
    {
      "cell_type": "code",
      "metadata": {
        "id": "iOa_aqy8x_7G"
      },
      "source": [
        "df_carros = spark.read.csv(path='auto-miles-per-gallon.csv',\n",
        "# sep=',',\n",
        "# encoding='UTF-8',\n",
        "# comment=None,\n",
        "header=True,\n",
        "inferSchema=True)"
      ],
      "execution_count": null,
      "outputs": []
    },
    {
      "cell_type": "markdown",
      "metadata": {
        "id": "uF54iHJD0K_j"
      },
      "source": [
        "###Imprimindo as primeiras linhas do dataframe###"
      ]
    },
    {
      "cell_type": "code",
      "metadata": {
        "id": "xaNUtF8UyK5v",
        "colab": {
          "base_uri": "https://localhost:8080/"
        },
        "outputId": "83cc66c2-2961-47b7-e600-4e75457370a8"
      },
      "source": [
        "df_carros.show()"
      ],
      "execution_count": null,
      "outputs": [
        {
          "output_type": "stream",
          "name": "stdout",
          "text": [
            "+----+---------+------------+----------+------+------------+---------+--------------------+\n",
            "| MPG|CYLINDERS|DISPLACEMENT|HORSEPOWER|WEIGHT|ACCELERATION|MODELYEAR|                NAME|\n",
            "+----+---------+------------+----------+------+------------+---------+--------------------+\n",
            "|18.0|        8|       307.0|       130|  3504|        12.0|       70|chevrolet chevell...|\n",
            "|15.0|        8|       350.0|       165|  3693|        11.5|       70|   buick skylark 320|\n",
            "|18.0|        8|       318.0|       150|  3436|        11.0|       70|  plymouth satellite|\n",
            "|16.0|        8|       304.0|       150|  3433|        12.0|       70|       amc rebel sst|\n",
            "|17.0|        8|       302.0|       140|  3449|        10.5|       70|         ford torino|\n",
            "|15.0|        8|       429.0|       198|  4341|        10.0|       70|    ford galaxie 500|\n",
            "|14.0|        8|       454.0|       220|  4354|         9.0|       70|    chevrolet impala|\n",
            "|14.0|        8|       440.0|       215|  4312|         8.5|       70|   plymouth fury iii|\n",
            "|14.0|        8|       455.0|       225|  4425|        10.0|       70|    pontiac catalina|\n",
            "|15.0|        8|       390.0|       190|  3850|         8.5|       70|  amc ambassador dpl|\n",
            "|15.0|        8|       383.0|       170|  3563|        10.0|       70| dodge challenger se|\n",
            "|14.0|        8|       340.0|       160|  3609|         8.0|       70|  plymouth 'cuda 340|\n",
            "|15.0|        8|       400.0|       150|  3761|         9.5|       70|chevrolet monte c...|\n",
            "|14.0|        8|       455.0|       225|  3086|        10.0|       70|buick estate wago...|\n",
            "|24.0|        4|       113.0|        95|  2372|        15.0|       70|toyota corona mar...|\n",
            "|22.0|        6|       198.0|        95|  2833|        15.5|       70|     plymouth duster|\n",
            "|18.0|        6|       199.0|        97|  2774|        15.5|       70|          amc hornet|\n",
            "|21.0|        6|       200.0|        85|  2587|        16.0|       70|       ford maverick|\n",
            "|27.0|        4|        97.0|        88|  2130|        14.5|       70|        datsun pl510|\n",
            "|26.0|        4|        97.0|        46|  1835|        20.5|       70|volkswagen 1131 d...|\n",
            "+----+---------+------------+----------+------+------------+---------+--------------------+\n",
            "only showing top 20 rows\n",
            "\n"
          ]
        }
      ]
    },
    {
      "cell_type": "markdown",
      "metadata": {
        "id": "Kq_Um9F80d-r"
      },
      "source": [
        "###Imprimindo o esquema do dataframe###"
      ]
    },
    {
      "cell_type": "code",
      "metadata": {
        "id": "plZzlipoyWA2",
        "colab": {
          "base_uri": "https://localhost:8080/"
        },
        "outputId": "6006055a-341a-4965-eb5c-1be06adb7d2f"
      },
      "source": [
        "df_carros.printSchema()"
      ],
      "execution_count": null,
      "outputs": [
        {
          "output_type": "stream",
          "name": "stdout",
          "text": [
            "root\n",
            " |-- MPG: double (nullable = true)\n",
            " |-- CYLINDERS: integer (nullable = true)\n",
            " |-- DISPLACEMENT: double (nullable = true)\n",
            " |-- HORSEPOWER: integer (nullable = true)\n",
            " |-- WEIGHT: integer (nullable = true)\n",
            " |-- ACCELERATION: double (nullable = true)\n",
            " |-- MODELYEAR: integer (nullable = true)\n",
            " |-- NAME: string (nullable = true)\n",
            "\n"
          ]
        }
      ]
    },
    {
      "cell_type": "code",
      "metadata": {
        "id": "D887JfaU_UDV",
        "colab": {
          "base_uri": "https://localhost:8080/"
        },
        "outputId": "b7350902-1f92-4b4c-8f9f-9a022d6c3e4f"
      },
      "source": [
        "df_carros.createOrReplaceTempView(\"carros\")\n",
        "df_query = spark.sql(\"select mpg as label, cylinders, displacement, horsepower, weight, modelyear from carros\")\n",
        "df_query.show()"
      ],
      "execution_count": null,
      "outputs": [
        {
          "output_type": "stream",
          "name": "stdout",
          "text": [
            "+-----+---------+------------+----------+------+---------+\n",
            "|label|cylinders|displacement|horsepower|weight|modelyear|\n",
            "+-----+---------+------------+----------+------+---------+\n",
            "| 18.0|        8|       307.0|       130|  3504|       70|\n",
            "| 15.0|        8|       350.0|       165|  3693|       70|\n",
            "| 18.0|        8|       318.0|       150|  3436|       70|\n",
            "| 16.0|        8|       304.0|       150|  3433|       70|\n",
            "| 17.0|        8|       302.0|       140|  3449|       70|\n",
            "| 15.0|        8|       429.0|       198|  4341|       70|\n",
            "| 14.0|        8|       454.0|       220|  4354|       70|\n",
            "| 14.0|        8|       440.0|       215|  4312|       70|\n",
            "| 14.0|        8|       455.0|       225|  4425|       70|\n",
            "| 15.0|        8|       390.0|       190|  3850|       70|\n",
            "| 15.0|        8|       383.0|       170|  3563|       70|\n",
            "| 14.0|        8|       340.0|       160|  3609|       70|\n",
            "| 15.0|        8|       400.0|       150|  3761|       70|\n",
            "| 14.0|        8|       455.0|       225|  3086|       70|\n",
            "| 24.0|        4|       113.0|        95|  2372|       70|\n",
            "| 22.0|        6|       198.0|        95|  2833|       70|\n",
            "| 18.0|        6|       199.0|        97|  2774|       70|\n",
            "| 21.0|        6|       200.0|        85|  2587|       70|\n",
            "| 27.0|        4|        97.0|        88|  2130|       70|\n",
            "| 26.0|        4|        97.0|        46|  1835|       70|\n",
            "+-----+---------+------------+----------+------+---------+\n",
            "only showing top 20 rows\n",
            "\n"
          ]
        }
      ]
    },
    {
      "cell_type": "code",
      "metadata": {
        "id": "IA9OoiGeij7l",
        "colab": {
          "base_uri": "https://localhost:8080/"
        },
        "outputId": "791f87b3-a2a5-453a-ddd6-3cec85d8284f"
      },
      "source": [
        "df_query.select(\"cylinders\").show();"
      ],
      "execution_count": null,
      "outputs": [
        {
          "output_type": "stream",
          "name": "stdout",
          "text": [
            "+---------+\n",
            "|cylinders|\n",
            "+---------+\n",
            "|        8|\n",
            "|        8|\n",
            "|        8|\n",
            "|        8|\n",
            "|        8|\n",
            "|        8|\n",
            "|        8|\n",
            "|        8|\n",
            "|        8|\n",
            "|        8|\n",
            "|        8|\n",
            "|        8|\n",
            "|        8|\n",
            "|        8|\n",
            "|        4|\n",
            "|        6|\n",
            "|        6|\n",
            "|        6|\n",
            "|        4|\n",
            "|        4|\n",
            "+---------+\n",
            "only showing top 20 rows\n",
            "\n"
          ]
        }
      ]
    },
    {
      "cell_type": "code",
      "metadata": {
        "id": "ehBp7tETjcdM",
        "colab": {
          "base_uri": "https://localhost:8080/"
        },
        "outputId": "549c1bf0-e89b-4e41-ae52-c02710f34ebf"
      },
      "source": [
        "df_query.filter(df_query['cylinders'] > 6).show();"
      ],
      "execution_count": null,
      "outputs": [
        {
          "output_type": "stream",
          "name": "stdout",
          "text": [
            "+-----+---------+------------+----------+------+---------+\n",
            "|label|cylinders|displacement|horsepower|weight|modelyear|\n",
            "+-----+---------+------------+----------+------+---------+\n",
            "| 18.0|        8|       307.0|       130|  3504|       70|\n",
            "| 15.0|        8|       350.0|       165|  3693|       70|\n",
            "| 18.0|        8|       318.0|       150|  3436|       70|\n",
            "| 16.0|        8|       304.0|       150|  3433|       70|\n",
            "| 17.0|        8|       302.0|       140|  3449|       70|\n",
            "| 15.0|        8|       429.0|       198|  4341|       70|\n",
            "| 14.0|        8|       454.0|       220|  4354|       70|\n",
            "| 14.0|        8|       440.0|       215|  4312|       70|\n",
            "| 14.0|        8|       455.0|       225|  4425|       70|\n",
            "| 15.0|        8|       390.0|       190|  3850|       70|\n",
            "| 15.0|        8|       383.0|       170|  3563|       70|\n",
            "| 14.0|        8|       340.0|       160|  3609|       70|\n",
            "| 15.0|        8|       400.0|       150|  3761|       70|\n",
            "| 14.0|        8|       455.0|       225|  3086|       70|\n",
            "| 10.0|        8|       360.0|       215|  4615|       70|\n",
            "| 10.0|        8|       307.0|       200|  4376|       70|\n",
            "| 11.0|        8|       318.0|       210|  4382|       70|\n",
            "|  9.0|        8|       304.0|       193|  4732|       70|\n",
            "| 14.0|        8|       350.0|       165|  4209|       71|\n",
            "| 14.0|        8|       400.0|       175|  4464|       71|\n",
            "+-----+---------+------------+----------+------+---------+\n",
            "only showing top 20 rows\n",
            "\n"
          ]
        }
      ]
    },
    {
      "cell_type": "code",
      "metadata": {
        "id": "FN7sryC_5jEv",
        "colab": {
          "base_uri": "https://localhost:8080/"
        },
        "outputId": "9d8d2617-7d93-4b34-de0c-5da08ca3f2d4"
      },
      "source": [
        "df_query.groupBy(\"cylinders\").count().show();"
      ],
      "execution_count": null,
      "outputs": [
        {
          "output_type": "stream",
          "name": "stdout",
          "text": [
            "+---------+-----+\n",
            "|cylinders|count|\n",
            "+---------+-----+\n",
            "|        6|   84|\n",
            "|        3|    4|\n",
            "|        5|    3|\n",
            "|        4|  203|\n",
            "|        8|  103|\n",
            "+---------+-----+\n",
            "\n"
          ]
        }
      ]
    },
    {
      "cell_type": "code",
      "metadata": {
        "id": "LkSPifnsPaYl",
        "colab": {
          "base_uri": "https://localhost:8080/"
        },
        "outputId": "4d30a3e8-7f15-4892-ede9-22b224302f19"
      },
      "source": [
        "df_query.orderBy(\"modelyear\").show()"
      ],
      "execution_count": null,
      "outputs": [
        {
          "output_type": "stream",
          "name": "stdout",
          "text": [
            "+-----+---------+------------+----------+------+---------+\n",
            "|label|cylinders|displacement|horsepower|weight|modelyear|\n",
            "+-----+---------+------------+----------+------+---------+\n",
            "| 18.0|        8|       307.0|       130|  3504|       70|\n",
            "| 15.0|        8|       350.0|       165|  3693|       70|\n",
            "| 18.0|        8|       318.0|       150|  3436|       70|\n",
            "| 16.0|        8|       304.0|       150|  3433|       70|\n",
            "| 17.0|        8|       302.0|       140|  3449|       70|\n",
            "| 15.0|        8|       429.0|       198|  4341|       70|\n",
            "| 14.0|        8|       454.0|       220|  4354|       70|\n",
            "| 14.0|        8|       440.0|       215|  4312|       70|\n",
            "| 14.0|        8|       455.0|       225|  4425|       70|\n",
            "| 15.0|        8|       390.0|       190|  3850|       70|\n",
            "| 15.0|        8|       383.0|       170|  3563|       70|\n",
            "| 14.0|        8|       340.0|       160|  3609|       70|\n",
            "| 15.0|        8|       400.0|       150|  3761|       70|\n",
            "| 14.0|        8|       455.0|       225|  3086|       70|\n",
            "| 24.0|        4|       113.0|        95|  2372|       70|\n",
            "| 22.0|        6|       198.0|        95|  2833|       70|\n",
            "| 18.0|        6|       199.0|        97|  2774|       70|\n",
            "| 21.0|        6|       200.0|        85|  2587|       70|\n",
            "| 27.0|        4|        97.0|        88|  2130|       70|\n",
            "| 26.0|        4|        97.0|        46|  1835|       70|\n",
            "+-----+---------+------------+----------+------+---------+\n",
            "only showing top 20 rows\n",
            "\n"
          ]
        }
      ]
    }
  ]
}
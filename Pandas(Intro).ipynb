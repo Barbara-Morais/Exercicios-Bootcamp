{
  "nbformat": 4,
  "nbformat_minor": 0,
  "metadata": {
    "kernelspec": {
      "display_name": "Python 3",
      "language": "python",
      "name": "python3"
    },
    "language_info": {
      "codemirror_mode": {
        "name": "ipython",
        "version": 3
      },
      "file_extension": ".py",
      "mimetype": "text/x-python",
      "name": "python",
      "nbconvert_exporter": "python",
      "pygments_lexer": "ipython3",
      "version": "3.8.5"
    },
    "colab": {
      "name": "Copy of Pandas(Intro).ipynb",
      "provenance": [],
      "collapsed_sections": []
    }
  },
  "cells": [
    {
      "cell_type": "markdown",
      "metadata": {
        "id": "cA_lzdImRlSR"
      },
      "source": [
        "# Importing Pandas"
      ]
    },
    {
      "cell_type": "code",
      "metadata": {
        "id": "kUurbxGrRlSU"
      },
      "source": [
        "import pandas as pd\n",
        "import numpy as np "
      ],
      "execution_count": null,
      "outputs": []
    },
    {
      "cell_type": "markdown",
      "metadata": {
        "id": "L9v67dbm9ZoD"
      },
      "source": [
        ""
      ]
    },
    {
      "cell_type": "markdown",
      "metadata": {
        "id": "br_lcQ1wRlSV"
      },
      "source": [
        "# Creating new DataFrames - Dictionary"
      ]
    },
    {
      "cell_type": "code",
      "metadata": {
        "colab": {
          "base_uri": "https://localhost:8080/",
          "height": 173
        },
        "id": "3xxI-JG5RlSV",
        "outputId": "ab0ca42b-b661-4cf0-d666-9088173aa707"
      },
      "source": [
        "data={'student': ['João','José','Maria','Ana'], 'year':[1,2,3,1], 'marks':[9.8,6.7,8,9.9]}\n",
        "dataflair_df=pd.DataFrame(data)\n",
        "dataflair_df\n"
      ],
      "execution_count": null,
      "outputs": [
        {
          "output_type": "execute_result",
          "data": {
            "text/html": [
              "<div>\n",
              "<style scoped>\n",
              "    .dataframe tbody tr th:only-of-type {\n",
              "        vertical-align: middle;\n",
              "    }\n",
              "\n",
              "    .dataframe tbody tr th {\n",
              "        vertical-align: top;\n",
              "    }\n",
              "\n",
              "    .dataframe thead th {\n",
              "        text-align: right;\n",
              "    }\n",
              "</style>\n",
              "<table border=\"1\" class=\"dataframe\">\n",
              "  <thead>\n",
              "    <tr style=\"text-align: right;\">\n",
              "      <th></th>\n",
              "      <th>student</th>\n",
              "      <th>year</th>\n",
              "      <th>marks</th>\n",
              "    </tr>\n",
              "  </thead>\n",
              "  <tbody>\n",
              "    <tr>\n",
              "      <th>0</th>\n",
              "      <td>João</td>\n",
              "      <td>1</td>\n",
              "      <td>9.8</td>\n",
              "    </tr>\n",
              "    <tr>\n",
              "      <th>1</th>\n",
              "      <td>José</td>\n",
              "      <td>2</td>\n",
              "      <td>6.7</td>\n",
              "    </tr>\n",
              "    <tr>\n",
              "      <th>2</th>\n",
              "      <td>Maria</td>\n",
              "      <td>3</td>\n",
              "      <td>8.0</td>\n",
              "    </tr>\n",
              "    <tr>\n",
              "      <th>3</th>\n",
              "      <td>Ana</td>\n",
              "      <td>1</td>\n",
              "      <td>9.9</td>\n",
              "    </tr>\n",
              "  </tbody>\n",
              "</table>\n",
              "</div>"
            ],
            "text/plain": [
              "  student  year  marks\n",
              "0    João     1    9.8\n",
              "1    José     2    6.7\n",
              "2   Maria     3    8.0\n",
              "3     Ana     1    9.9"
            ]
          },
          "metadata": {
            "tags": []
          },
          "execution_count": 22
        }
      ]
    },
    {
      "cell_type": "code",
      "metadata": {
        "id": "asKI8YO_RlSd",
        "colab": {
          "base_uri": "https://localhost:8080/"
        },
        "outputId": "cd5c606f-afbb-4e90-ff34-fe596eab7a09"
      },
      "source": [
        "mean = dataflair_df['marks'].mean()\n",
        "mean\n",
        "#notas = np.array(dataflair_df['marks'])\n",
        "#media_notas = np.mean(notas)\n",
        "#print(media_notas)"
      ],
      "execution_count": null,
      "outputs": [
        {
          "output_type": "execute_result",
          "data": {
            "text/plain": [
              "8.6"
            ]
          },
          "metadata": {
            "tags": []
          },
          "execution_count": 23
        }
      ]
    },
    {
      "cell_type": "code",
      "metadata": {
        "id": "YI1-0mWnG7RQ",
        "colab": {
          "base_uri": "https://localhost:8080/"
        },
        "outputId": "796af962-b70e-48a1-dcca-ad0ce9961975"
      },
      "source": [
        "dataflair_df['year']"
      ],
      "execution_count": null,
      "outputs": [
        {
          "output_type": "execute_result",
          "data": {
            "text/plain": [
              "0    1\n",
              "1    2\n",
              "2    3\n",
              "3    1\n",
              "Name: year, dtype: int64"
            ]
          },
          "metadata": {
            "tags": []
          },
          "execution_count": 24
        }
      ]
    },
    {
      "cell_type": "markdown",
      "metadata": {
        "id": "A85C-57LRlSe"
      },
      "source": [
        "# Reading csv from URL "
      ]
    },
    {
      "cell_type": "code",
      "metadata": {
        "id": "wxaOTJm3RlSf"
      },
      "source": [
        "url = ('https://raw.github.com/pandas-dev'\n",
        "...: '/pandas/master/pandas/tests/io/data/csv/tips.csv')\n",
        "\n"
      ],
      "execution_count": null,
      "outputs": []
    },
    {
      "cell_type": "code",
      "metadata": {
        "id": "f5whTJR5RlSf"
      },
      "source": [
        "tips = pd.read_csv(url)"
      ],
      "execution_count": null,
      "outputs": []
    },
    {
      "cell_type": "code",
      "metadata": {
        "scrolled": true,
        "colab": {
          "base_uri": "https://localhost:8080/",
          "height": 419
        },
        "id": "tA5AZHrxRlSg",
        "outputId": "ce703bed-673e-4440-9d88-33679ad7baa5"
      },
      "source": [
        "tips"
      ],
      "execution_count": null,
      "outputs": [
        {
          "output_type": "execute_result",
          "data": {
            "text/html": [
              "<div>\n",
              "<style scoped>\n",
              "    .dataframe tbody tr th:only-of-type {\n",
              "        vertical-align: middle;\n",
              "    }\n",
              "\n",
              "    .dataframe tbody tr th {\n",
              "        vertical-align: top;\n",
              "    }\n",
              "\n",
              "    .dataframe thead th {\n",
              "        text-align: right;\n",
              "    }\n",
              "</style>\n",
              "<table border=\"1\" class=\"dataframe\">\n",
              "  <thead>\n",
              "    <tr style=\"text-align: right;\">\n",
              "      <th></th>\n",
              "      <th>total_bill</th>\n",
              "      <th>tip</th>\n",
              "      <th>sex</th>\n",
              "      <th>smoker</th>\n",
              "      <th>day</th>\n",
              "      <th>time</th>\n",
              "      <th>size</th>\n",
              "    </tr>\n",
              "  </thead>\n",
              "  <tbody>\n",
              "    <tr>\n",
              "      <th>0</th>\n",
              "      <td>16.99</td>\n",
              "      <td>1.01</td>\n",
              "      <td>Female</td>\n",
              "      <td>No</td>\n",
              "      <td>Sun</td>\n",
              "      <td>Dinner</td>\n",
              "      <td>2</td>\n",
              "    </tr>\n",
              "    <tr>\n",
              "      <th>1</th>\n",
              "      <td>10.34</td>\n",
              "      <td>1.66</td>\n",
              "      <td>Male</td>\n",
              "      <td>No</td>\n",
              "      <td>Sun</td>\n",
              "      <td>Dinner</td>\n",
              "      <td>3</td>\n",
              "    </tr>\n",
              "    <tr>\n",
              "      <th>2</th>\n",
              "      <td>21.01</td>\n",
              "      <td>3.50</td>\n",
              "      <td>Male</td>\n",
              "      <td>No</td>\n",
              "      <td>Sun</td>\n",
              "      <td>Dinner</td>\n",
              "      <td>3</td>\n",
              "    </tr>\n",
              "    <tr>\n",
              "      <th>3</th>\n",
              "      <td>23.68</td>\n",
              "      <td>3.31</td>\n",
              "      <td>Male</td>\n",
              "      <td>No</td>\n",
              "      <td>Sun</td>\n",
              "      <td>Dinner</td>\n",
              "      <td>2</td>\n",
              "    </tr>\n",
              "    <tr>\n",
              "      <th>4</th>\n",
              "      <td>24.59</td>\n",
              "      <td>3.61</td>\n",
              "      <td>Female</td>\n",
              "      <td>No</td>\n",
              "      <td>Sun</td>\n",
              "      <td>Dinner</td>\n",
              "      <td>4</td>\n",
              "    </tr>\n",
              "    <tr>\n",
              "      <th>...</th>\n",
              "      <td>...</td>\n",
              "      <td>...</td>\n",
              "      <td>...</td>\n",
              "      <td>...</td>\n",
              "      <td>...</td>\n",
              "      <td>...</td>\n",
              "      <td>...</td>\n",
              "    </tr>\n",
              "    <tr>\n",
              "      <th>239</th>\n",
              "      <td>29.03</td>\n",
              "      <td>5.92</td>\n",
              "      <td>Male</td>\n",
              "      <td>No</td>\n",
              "      <td>Sat</td>\n",
              "      <td>Dinner</td>\n",
              "      <td>3</td>\n",
              "    </tr>\n",
              "    <tr>\n",
              "      <th>240</th>\n",
              "      <td>27.18</td>\n",
              "      <td>2.00</td>\n",
              "      <td>Female</td>\n",
              "      <td>Yes</td>\n",
              "      <td>Sat</td>\n",
              "      <td>Dinner</td>\n",
              "      <td>2</td>\n",
              "    </tr>\n",
              "    <tr>\n",
              "      <th>241</th>\n",
              "      <td>22.67</td>\n",
              "      <td>2.00</td>\n",
              "      <td>Male</td>\n",
              "      <td>Yes</td>\n",
              "      <td>Sat</td>\n",
              "      <td>Dinner</td>\n",
              "      <td>2</td>\n",
              "    </tr>\n",
              "    <tr>\n",
              "      <th>242</th>\n",
              "      <td>17.82</td>\n",
              "      <td>1.75</td>\n",
              "      <td>Male</td>\n",
              "      <td>No</td>\n",
              "      <td>Sat</td>\n",
              "      <td>Dinner</td>\n",
              "      <td>2</td>\n",
              "    </tr>\n",
              "    <tr>\n",
              "      <th>243</th>\n",
              "      <td>18.78</td>\n",
              "      <td>3.00</td>\n",
              "      <td>Female</td>\n",
              "      <td>No</td>\n",
              "      <td>Thur</td>\n",
              "      <td>Dinner</td>\n",
              "      <td>2</td>\n",
              "    </tr>\n",
              "  </tbody>\n",
              "</table>\n",
              "<p>244 rows × 7 columns</p>\n",
              "</div>"
            ],
            "text/plain": [
              "     total_bill   tip     sex smoker   day    time  size\n",
              "0         16.99  1.01  Female     No   Sun  Dinner     2\n",
              "1         10.34  1.66    Male     No   Sun  Dinner     3\n",
              "2         21.01  3.50    Male     No   Sun  Dinner     3\n",
              "3         23.68  3.31    Male     No   Sun  Dinner     2\n",
              "4         24.59  3.61  Female     No   Sun  Dinner     4\n",
              "..          ...   ...     ...    ...   ...     ...   ...\n",
              "239       29.03  5.92    Male     No   Sat  Dinner     3\n",
              "240       27.18  2.00  Female    Yes   Sat  Dinner     2\n",
              "241       22.67  2.00    Male    Yes   Sat  Dinner     2\n",
              "242       17.82  1.75    Male     No   Sat  Dinner     2\n",
              "243       18.78  3.00  Female     No  Thur  Dinner     2\n",
              "\n",
              "[244 rows x 7 columns]"
            ]
          },
          "metadata": {
            "tags": []
          },
          "execution_count": 27
        }
      ]
    },
    {
      "cell_type": "code",
      "metadata": {
        "colab": {
          "base_uri": "https://localhost:8080/",
          "height": 80
        },
        "id": "uHqlRKq70uxF",
        "outputId": "31b39d95-6aa1-4ea3-80bc-f3f1a051bab6"
      },
      "source": [
        "var = tips[tips.duplicated() == True]\n",
        "var"
      ],
      "execution_count": null,
      "outputs": [
        {
          "output_type": "execute_result",
          "data": {
            "text/html": [
              "<div>\n",
              "<style scoped>\n",
              "    .dataframe tbody tr th:only-of-type {\n",
              "        vertical-align: middle;\n",
              "    }\n",
              "\n",
              "    .dataframe tbody tr th {\n",
              "        vertical-align: top;\n",
              "    }\n",
              "\n",
              "    .dataframe thead th {\n",
              "        text-align: right;\n",
              "    }\n",
              "</style>\n",
              "<table border=\"1\" class=\"dataframe\">\n",
              "  <thead>\n",
              "    <tr style=\"text-align: right;\">\n",
              "      <th></th>\n",
              "      <th>total_bill</th>\n",
              "      <th>tip</th>\n",
              "      <th>sex</th>\n",
              "      <th>smoker</th>\n",
              "      <th>day</th>\n",
              "      <th>time</th>\n",
              "      <th>size</th>\n",
              "    </tr>\n",
              "  </thead>\n",
              "  <tbody>\n",
              "    <tr>\n",
              "      <th>202</th>\n",
              "      <td>13.0</td>\n",
              "      <td>2.0</td>\n",
              "      <td>Female</td>\n",
              "      <td>Yes</td>\n",
              "      <td>Thur</td>\n",
              "      <td>Lunch</td>\n",
              "      <td>2</td>\n",
              "    </tr>\n",
              "  </tbody>\n",
              "</table>\n",
              "</div>"
            ],
            "text/plain": [
              "     total_bill  tip     sex smoker   day   time  size\n",
              "202        13.0  2.0  Female    Yes  Thur  Lunch     2"
            ]
          },
          "metadata": {
            "tags": []
          },
          "execution_count": 90
        }
      ]
    },
    {
      "cell_type": "code",
      "metadata": {
        "colab": {
          "base_uri": "https://localhost:8080/",
          "height": 419
        },
        "id": "GdJ3jAP-FDn4",
        "outputId": "c17cefd3-a93e-4ad0-c281-3e0885aac298"
      },
      "source": [
        "#duplicatas ou entradas repetidas\n",
        "duplicada = tips.loc[0:100]\n",
        "duplicada"
      ],
      "execution_count": null,
      "outputs": [
        {
          "output_type": "execute_result",
          "data": {
            "text/html": [
              "<div>\n",
              "<style scoped>\n",
              "    .dataframe tbody tr th:only-of-type {\n",
              "        vertical-align: middle;\n",
              "    }\n",
              "\n",
              "    .dataframe tbody tr th {\n",
              "        vertical-align: top;\n",
              "    }\n",
              "\n",
              "    .dataframe thead th {\n",
              "        text-align: right;\n",
              "    }\n",
              "</style>\n",
              "<table border=\"1\" class=\"dataframe\">\n",
              "  <thead>\n",
              "    <tr style=\"text-align: right;\">\n",
              "      <th></th>\n",
              "      <th>total_bill</th>\n",
              "      <th>tip</th>\n",
              "      <th>sex</th>\n",
              "      <th>smoker</th>\n",
              "      <th>day</th>\n",
              "      <th>time</th>\n",
              "      <th>size</th>\n",
              "    </tr>\n",
              "  </thead>\n",
              "  <tbody>\n",
              "    <tr>\n",
              "      <th>0</th>\n",
              "      <td>16.99</td>\n",
              "      <td>1.01</td>\n",
              "      <td>Female</td>\n",
              "      <td>No</td>\n",
              "      <td>Sun</td>\n",
              "      <td>Dinner</td>\n",
              "      <td>2</td>\n",
              "    </tr>\n",
              "    <tr>\n",
              "      <th>1</th>\n",
              "      <td>10.34</td>\n",
              "      <td>1.66</td>\n",
              "      <td>Male</td>\n",
              "      <td>No</td>\n",
              "      <td>Sun</td>\n",
              "      <td>Dinner</td>\n",
              "      <td>3</td>\n",
              "    </tr>\n",
              "    <tr>\n",
              "      <th>2</th>\n",
              "      <td>21.01</td>\n",
              "      <td>3.50</td>\n",
              "      <td>Male</td>\n",
              "      <td>No</td>\n",
              "      <td>Sun</td>\n",
              "      <td>Dinner</td>\n",
              "      <td>3</td>\n",
              "    </tr>\n",
              "    <tr>\n",
              "      <th>3</th>\n",
              "      <td>23.68</td>\n",
              "      <td>3.31</td>\n",
              "      <td>Male</td>\n",
              "      <td>No</td>\n",
              "      <td>Sun</td>\n",
              "      <td>Dinner</td>\n",
              "      <td>2</td>\n",
              "    </tr>\n",
              "    <tr>\n",
              "      <th>4</th>\n",
              "      <td>24.59</td>\n",
              "      <td>3.61</td>\n",
              "      <td>Female</td>\n",
              "      <td>No</td>\n",
              "      <td>Sun</td>\n",
              "      <td>Dinner</td>\n",
              "      <td>4</td>\n",
              "    </tr>\n",
              "    <tr>\n",
              "      <th>...</th>\n",
              "      <td>...</td>\n",
              "      <td>...</td>\n",
              "      <td>...</td>\n",
              "      <td>...</td>\n",
              "      <td>...</td>\n",
              "      <td>...</td>\n",
              "      <td>...</td>\n",
              "    </tr>\n",
              "    <tr>\n",
              "      <th>96</th>\n",
              "      <td>27.28</td>\n",
              "      <td>4.00</td>\n",
              "      <td>Male</td>\n",
              "      <td>Yes</td>\n",
              "      <td>Fri</td>\n",
              "      <td>Dinner</td>\n",
              "      <td>2</td>\n",
              "    </tr>\n",
              "    <tr>\n",
              "      <th>97</th>\n",
              "      <td>12.03</td>\n",
              "      <td>1.50</td>\n",
              "      <td>Male</td>\n",
              "      <td>Yes</td>\n",
              "      <td>Fri</td>\n",
              "      <td>Dinner</td>\n",
              "      <td>2</td>\n",
              "    </tr>\n",
              "    <tr>\n",
              "      <th>98</th>\n",
              "      <td>21.01</td>\n",
              "      <td>3.00</td>\n",
              "      <td>Male</td>\n",
              "      <td>Yes</td>\n",
              "      <td>Fri</td>\n",
              "      <td>Dinner</td>\n",
              "      <td>2</td>\n",
              "    </tr>\n",
              "    <tr>\n",
              "      <th>99</th>\n",
              "      <td>12.46</td>\n",
              "      <td>1.50</td>\n",
              "      <td>Male</td>\n",
              "      <td>No</td>\n",
              "      <td>Fri</td>\n",
              "      <td>Dinner</td>\n",
              "      <td>2</td>\n",
              "    </tr>\n",
              "    <tr>\n",
              "      <th>100</th>\n",
              "      <td>11.35</td>\n",
              "      <td>2.50</td>\n",
              "      <td>Female</td>\n",
              "      <td>Yes</td>\n",
              "      <td>Fri</td>\n",
              "      <td>Dinner</td>\n",
              "      <td>2</td>\n",
              "    </tr>\n",
              "  </tbody>\n",
              "</table>\n",
              "<p>101 rows × 7 columns</p>\n",
              "</div>"
            ],
            "text/plain": [
              "     total_bill   tip     sex smoker  day    time  size\n",
              "0         16.99  1.01  Female     No  Sun  Dinner     2\n",
              "1         10.34  1.66    Male     No  Sun  Dinner     3\n",
              "2         21.01  3.50    Male     No  Sun  Dinner     3\n",
              "3         23.68  3.31    Male     No  Sun  Dinner     2\n",
              "4         24.59  3.61  Female     No  Sun  Dinner     4\n",
              "..          ...   ...     ...    ...  ...     ...   ...\n",
              "96        27.28  4.00    Male    Yes  Fri  Dinner     2\n",
              "97        12.03  1.50    Male    Yes  Fri  Dinner     2\n",
              "98        21.01  3.00    Male    Yes  Fri  Dinner     2\n",
              "99        12.46  1.50    Male     No  Fri  Dinner     2\n",
              "100       11.35  2.50  Female    Yes  Fri  Dinner     2\n",
              "\n",
              "[101 rows x 7 columns]"
            ]
          },
          "metadata": {
            "tags": []
          },
          "execution_count": 28
        }
      ]
    },
    {
      "cell_type": "code",
      "metadata": {
        "id": "qGgFEybr1CkV"
      },
      "source": [
        "tips = tips.append(duplicada)"
      ],
      "execution_count": null,
      "outputs": []
    },
    {
      "cell_type": "code",
      "metadata": {
        "colab": {
          "base_uri": "https://localhost:8080/",
          "height": 419
        },
        "id": "TjD0TARH1GK9",
        "outputId": "56da24d3-e8ed-4490-9346-19f1231f3a83"
      },
      "source": [
        "tips"
      ],
      "execution_count": null,
      "outputs": [
        {
          "output_type": "execute_result",
          "data": {
            "text/html": [
              "<div>\n",
              "<style scoped>\n",
              "    .dataframe tbody tr th:only-of-type {\n",
              "        vertical-align: middle;\n",
              "    }\n",
              "\n",
              "    .dataframe tbody tr th {\n",
              "        vertical-align: top;\n",
              "    }\n",
              "\n",
              "    .dataframe thead th {\n",
              "        text-align: right;\n",
              "    }\n",
              "</style>\n",
              "<table border=\"1\" class=\"dataframe\">\n",
              "  <thead>\n",
              "    <tr style=\"text-align: right;\">\n",
              "      <th></th>\n",
              "      <th>total_bill</th>\n",
              "      <th>tip</th>\n",
              "      <th>sex</th>\n",
              "      <th>smoker</th>\n",
              "      <th>day</th>\n",
              "      <th>time</th>\n",
              "      <th>size</th>\n",
              "    </tr>\n",
              "  </thead>\n",
              "  <tbody>\n",
              "    <tr>\n",
              "      <th>0</th>\n",
              "      <td>16.99</td>\n",
              "      <td>1.01</td>\n",
              "      <td>Female</td>\n",
              "      <td>No</td>\n",
              "      <td>Sun</td>\n",
              "      <td>Dinner</td>\n",
              "      <td>2</td>\n",
              "    </tr>\n",
              "    <tr>\n",
              "      <th>1</th>\n",
              "      <td>10.34</td>\n",
              "      <td>1.66</td>\n",
              "      <td>Male</td>\n",
              "      <td>No</td>\n",
              "      <td>Sun</td>\n",
              "      <td>Dinner</td>\n",
              "      <td>3</td>\n",
              "    </tr>\n",
              "    <tr>\n",
              "      <th>2</th>\n",
              "      <td>21.01</td>\n",
              "      <td>3.50</td>\n",
              "      <td>Male</td>\n",
              "      <td>No</td>\n",
              "      <td>Sun</td>\n",
              "      <td>Dinner</td>\n",
              "      <td>3</td>\n",
              "    </tr>\n",
              "    <tr>\n",
              "      <th>3</th>\n",
              "      <td>23.68</td>\n",
              "      <td>3.31</td>\n",
              "      <td>Male</td>\n",
              "      <td>No</td>\n",
              "      <td>Sun</td>\n",
              "      <td>Dinner</td>\n",
              "      <td>2</td>\n",
              "    </tr>\n",
              "    <tr>\n",
              "      <th>4</th>\n",
              "      <td>24.59</td>\n",
              "      <td>3.61</td>\n",
              "      <td>Female</td>\n",
              "      <td>No</td>\n",
              "      <td>Sun</td>\n",
              "      <td>Dinner</td>\n",
              "      <td>4</td>\n",
              "    </tr>\n",
              "    <tr>\n",
              "      <th>...</th>\n",
              "      <td>...</td>\n",
              "      <td>...</td>\n",
              "      <td>...</td>\n",
              "      <td>...</td>\n",
              "      <td>...</td>\n",
              "      <td>...</td>\n",
              "      <td>...</td>\n",
              "    </tr>\n",
              "    <tr>\n",
              "      <th>96</th>\n",
              "      <td>27.28</td>\n",
              "      <td>4.00</td>\n",
              "      <td>Male</td>\n",
              "      <td>Yes</td>\n",
              "      <td>Fri</td>\n",
              "      <td>Dinner</td>\n",
              "      <td>2</td>\n",
              "    </tr>\n",
              "    <tr>\n",
              "      <th>97</th>\n",
              "      <td>12.03</td>\n",
              "      <td>1.50</td>\n",
              "      <td>Male</td>\n",
              "      <td>Yes</td>\n",
              "      <td>Fri</td>\n",
              "      <td>Dinner</td>\n",
              "      <td>2</td>\n",
              "    </tr>\n",
              "    <tr>\n",
              "      <th>98</th>\n",
              "      <td>21.01</td>\n",
              "      <td>3.00</td>\n",
              "      <td>Male</td>\n",
              "      <td>Yes</td>\n",
              "      <td>Fri</td>\n",
              "      <td>Dinner</td>\n",
              "      <td>2</td>\n",
              "    </tr>\n",
              "    <tr>\n",
              "      <th>99</th>\n",
              "      <td>12.46</td>\n",
              "      <td>1.50</td>\n",
              "      <td>Male</td>\n",
              "      <td>No</td>\n",
              "      <td>Fri</td>\n",
              "      <td>Dinner</td>\n",
              "      <td>2</td>\n",
              "    </tr>\n",
              "    <tr>\n",
              "      <th>100</th>\n",
              "      <td>11.35</td>\n",
              "      <td>2.50</td>\n",
              "      <td>Female</td>\n",
              "      <td>Yes</td>\n",
              "      <td>Fri</td>\n",
              "      <td>Dinner</td>\n",
              "      <td>2</td>\n",
              "    </tr>\n",
              "  </tbody>\n",
              "</table>\n",
              "<p>345 rows × 7 columns</p>\n",
              "</div>"
            ],
            "text/plain": [
              "     total_bill   tip     sex smoker  day    time  size\n",
              "0         16.99  1.01  Female     No  Sun  Dinner     2\n",
              "1         10.34  1.66    Male     No  Sun  Dinner     3\n",
              "2         21.01  3.50    Male     No  Sun  Dinner     3\n",
              "3         23.68  3.31    Male     No  Sun  Dinner     2\n",
              "4         24.59  3.61  Female     No  Sun  Dinner     4\n",
              "..          ...   ...     ...    ...  ...     ...   ...\n",
              "96        27.28  4.00    Male    Yes  Fri  Dinner     2\n",
              "97        12.03  1.50    Male    Yes  Fri  Dinner     2\n",
              "98        21.01  3.00    Male    Yes  Fri  Dinner     2\n",
              "99        12.46  1.50    Male     No  Fri  Dinner     2\n",
              "100       11.35  2.50  Female    Yes  Fri  Dinner     2\n",
              "\n",
              "[345 rows x 7 columns]"
            ]
          },
          "metadata": {
            "tags": []
          },
          "execution_count": 92
        }
      ]
    },
    {
      "cell_type": "code",
      "metadata": {
        "colab": {
          "base_uri": "https://localhost:8080/"
        },
        "id": "BBFqpr1L1JWV",
        "outputId": "a28b3073-431b-4967-f23a-96b8d8e3ac8b"
      },
      "source": [
        "tips.duplicated().sum()"
      ],
      "execution_count": null,
      "outputs": [
        {
          "output_type": "execute_result",
          "data": {
            "text/plain": [
              "102"
            ]
          },
          "metadata": {
            "tags": []
          },
          "execution_count": 93
        }
      ]
    },
    {
      "cell_type": "code",
      "metadata": {
        "colab": {
          "base_uri": "https://localhost:8080/",
          "height": 419
        },
        "id": "JWWsRy_G1LGP",
        "outputId": "7b0453f3-b800-4d8d-f815-0815d0a2df75"
      },
      "source": [
        "tips.drop_duplicates(inplace = True)\n",
        "tips"
      ],
      "execution_count": null,
      "outputs": [
        {
          "output_type": "execute_result",
          "data": {
            "text/html": [
              "<div>\n",
              "<style scoped>\n",
              "    .dataframe tbody tr th:only-of-type {\n",
              "        vertical-align: middle;\n",
              "    }\n",
              "\n",
              "    .dataframe tbody tr th {\n",
              "        vertical-align: top;\n",
              "    }\n",
              "\n",
              "    .dataframe thead th {\n",
              "        text-align: right;\n",
              "    }\n",
              "</style>\n",
              "<table border=\"1\" class=\"dataframe\">\n",
              "  <thead>\n",
              "    <tr style=\"text-align: right;\">\n",
              "      <th></th>\n",
              "      <th>total_bill</th>\n",
              "      <th>tip</th>\n",
              "      <th>sex</th>\n",
              "      <th>smoker</th>\n",
              "      <th>day</th>\n",
              "      <th>time</th>\n",
              "      <th>size</th>\n",
              "    </tr>\n",
              "  </thead>\n",
              "  <tbody>\n",
              "    <tr>\n",
              "      <th>0</th>\n",
              "      <td>16.99</td>\n",
              "      <td>1.01</td>\n",
              "      <td>Female</td>\n",
              "      <td>No</td>\n",
              "      <td>Sun</td>\n",
              "      <td>Dinner</td>\n",
              "      <td>2</td>\n",
              "    </tr>\n",
              "    <tr>\n",
              "      <th>1</th>\n",
              "      <td>10.34</td>\n",
              "      <td>1.66</td>\n",
              "      <td>Male</td>\n",
              "      <td>No</td>\n",
              "      <td>Sun</td>\n",
              "      <td>Dinner</td>\n",
              "      <td>3</td>\n",
              "    </tr>\n",
              "    <tr>\n",
              "      <th>2</th>\n",
              "      <td>21.01</td>\n",
              "      <td>3.50</td>\n",
              "      <td>Male</td>\n",
              "      <td>No</td>\n",
              "      <td>Sun</td>\n",
              "      <td>Dinner</td>\n",
              "      <td>3</td>\n",
              "    </tr>\n",
              "    <tr>\n",
              "      <th>3</th>\n",
              "      <td>23.68</td>\n",
              "      <td>3.31</td>\n",
              "      <td>Male</td>\n",
              "      <td>No</td>\n",
              "      <td>Sun</td>\n",
              "      <td>Dinner</td>\n",
              "      <td>2</td>\n",
              "    </tr>\n",
              "    <tr>\n",
              "      <th>4</th>\n",
              "      <td>24.59</td>\n",
              "      <td>3.61</td>\n",
              "      <td>Female</td>\n",
              "      <td>No</td>\n",
              "      <td>Sun</td>\n",
              "      <td>Dinner</td>\n",
              "      <td>4</td>\n",
              "    </tr>\n",
              "    <tr>\n",
              "      <th>...</th>\n",
              "      <td>...</td>\n",
              "      <td>...</td>\n",
              "      <td>...</td>\n",
              "      <td>...</td>\n",
              "      <td>...</td>\n",
              "      <td>...</td>\n",
              "      <td>...</td>\n",
              "    </tr>\n",
              "    <tr>\n",
              "      <th>239</th>\n",
              "      <td>29.03</td>\n",
              "      <td>5.92</td>\n",
              "      <td>Male</td>\n",
              "      <td>No</td>\n",
              "      <td>Sat</td>\n",
              "      <td>Dinner</td>\n",
              "      <td>3</td>\n",
              "    </tr>\n",
              "    <tr>\n",
              "      <th>240</th>\n",
              "      <td>27.18</td>\n",
              "      <td>2.00</td>\n",
              "      <td>Female</td>\n",
              "      <td>Yes</td>\n",
              "      <td>Sat</td>\n",
              "      <td>Dinner</td>\n",
              "      <td>2</td>\n",
              "    </tr>\n",
              "    <tr>\n",
              "      <th>241</th>\n",
              "      <td>22.67</td>\n",
              "      <td>2.00</td>\n",
              "      <td>Male</td>\n",
              "      <td>Yes</td>\n",
              "      <td>Sat</td>\n",
              "      <td>Dinner</td>\n",
              "      <td>2</td>\n",
              "    </tr>\n",
              "    <tr>\n",
              "      <th>242</th>\n",
              "      <td>17.82</td>\n",
              "      <td>1.75</td>\n",
              "      <td>Male</td>\n",
              "      <td>No</td>\n",
              "      <td>Sat</td>\n",
              "      <td>Dinner</td>\n",
              "      <td>2</td>\n",
              "    </tr>\n",
              "    <tr>\n",
              "      <th>243</th>\n",
              "      <td>18.78</td>\n",
              "      <td>3.00</td>\n",
              "      <td>Female</td>\n",
              "      <td>No</td>\n",
              "      <td>Thur</td>\n",
              "      <td>Dinner</td>\n",
              "      <td>2</td>\n",
              "    </tr>\n",
              "  </tbody>\n",
              "</table>\n",
              "<p>243 rows × 7 columns</p>\n",
              "</div>"
            ],
            "text/plain": [
              "     total_bill   tip     sex smoker   day    time  size\n",
              "0         16.99  1.01  Female     No   Sun  Dinner     2\n",
              "1         10.34  1.66    Male     No   Sun  Dinner     3\n",
              "2         21.01  3.50    Male     No   Sun  Dinner     3\n",
              "3         23.68  3.31    Male     No   Sun  Dinner     2\n",
              "4         24.59  3.61  Female     No   Sun  Dinner     4\n",
              "..          ...   ...     ...    ...   ...     ...   ...\n",
              "239       29.03  5.92    Male     No   Sat  Dinner     3\n",
              "240       27.18  2.00  Female    Yes   Sat  Dinner     2\n",
              "241       22.67  2.00    Male    Yes   Sat  Dinner     2\n",
              "242       17.82  1.75    Male     No   Sat  Dinner     2\n",
              "243       18.78  3.00  Female     No  Thur  Dinner     2\n",
              "\n",
              "[243 rows x 7 columns]"
            ]
          },
          "metadata": {
            "tags": []
          },
          "execution_count": 94
        }
      ]
    },
    {
      "cell_type": "code",
      "metadata": {
        "colab": {
          "base_uri": "https://localhost:8080/"
        },
        "id": "5xeQ0BKKKX7S",
        "outputId": "91c4a83a-71c8-411e-a271-69824aabae7c"
      },
      "source": [
        "#valores únicos\n",
        "tips['time'].unique()"
      ],
      "execution_count": null,
      "outputs": [
        {
          "output_type": "execute_result",
          "data": {
            "text/plain": [
              "array(['Dinner', 'Lunch'], dtype=object)"
            ]
          },
          "metadata": {
            "tags": []
          },
          "execution_count": 29
        }
      ]
    },
    {
      "cell_type": "code",
      "metadata": {
        "colab": {
          "base_uri": "https://localhost:8080/"
        },
        "id": "8ybYvPcJO0l0",
        "outputId": "3e0c85a5-3808-483a-8b3b-e0311987d63d"
      },
      "source": [
        "tips['size'].unique()"
      ],
      "execution_count": null,
      "outputs": [
        {
          "output_type": "execute_result",
          "data": {
            "text/plain": [
              "array([2, 3, 4, 1, 6, 5])"
            ]
          },
          "metadata": {
            "tags": []
          },
          "execution_count": 30
        }
      ]
    },
    {
      "cell_type": "code",
      "metadata": {
        "colab": {
          "base_uri": "https://localhost:8080/",
          "height": 204
        },
        "id": "tlaHhhtYRlSh",
        "outputId": "06642c53-53e3-4d95-eb91-f6dcde371639"
      },
      "source": [
        "tips.head()"
      ],
      "execution_count": null,
      "outputs": [
        {
          "output_type": "execute_result",
          "data": {
            "text/html": [
              "<div>\n",
              "<style scoped>\n",
              "    .dataframe tbody tr th:only-of-type {\n",
              "        vertical-align: middle;\n",
              "    }\n",
              "\n",
              "    .dataframe tbody tr th {\n",
              "        vertical-align: top;\n",
              "    }\n",
              "\n",
              "    .dataframe thead th {\n",
              "        text-align: right;\n",
              "    }\n",
              "</style>\n",
              "<table border=\"1\" class=\"dataframe\">\n",
              "  <thead>\n",
              "    <tr style=\"text-align: right;\">\n",
              "      <th></th>\n",
              "      <th>total_bill</th>\n",
              "      <th>tip</th>\n",
              "      <th>sex</th>\n",
              "      <th>smoker</th>\n",
              "      <th>day</th>\n",
              "      <th>time</th>\n",
              "      <th>size</th>\n",
              "    </tr>\n",
              "  </thead>\n",
              "  <tbody>\n",
              "    <tr>\n",
              "      <th>0</th>\n",
              "      <td>16.99</td>\n",
              "      <td>1.01</td>\n",
              "      <td>Female</td>\n",
              "      <td>No</td>\n",
              "      <td>Sun</td>\n",
              "      <td>Dinner</td>\n",
              "      <td>2</td>\n",
              "    </tr>\n",
              "    <tr>\n",
              "      <th>1</th>\n",
              "      <td>10.34</td>\n",
              "      <td>1.66</td>\n",
              "      <td>Male</td>\n",
              "      <td>No</td>\n",
              "      <td>Sun</td>\n",
              "      <td>Dinner</td>\n",
              "      <td>3</td>\n",
              "    </tr>\n",
              "    <tr>\n",
              "      <th>2</th>\n",
              "      <td>21.01</td>\n",
              "      <td>3.50</td>\n",
              "      <td>Male</td>\n",
              "      <td>No</td>\n",
              "      <td>Sun</td>\n",
              "      <td>Dinner</td>\n",
              "      <td>3</td>\n",
              "    </tr>\n",
              "    <tr>\n",
              "      <th>3</th>\n",
              "      <td>23.68</td>\n",
              "      <td>3.31</td>\n",
              "      <td>Male</td>\n",
              "      <td>No</td>\n",
              "      <td>Sun</td>\n",
              "      <td>Dinner</td>\n",
              "      <td>2</td>\n",
              "    </tr>\n",
              "    <tr>\n",
              "      <th>4</th>\n",
              "      <td>24.59</td>\n",
              "      <td>3.61</td>\n",
              "      <td>Female</td>\n",
              "      <td>No</td>\n",
              "      <td>Sun</td>\n",
              "      <td>Dinner</td>\n",
              "      <td>4</td>\n",
              "    </tr>\n",
              "  </tbody>\n",
              "</table>\n",
              "</div>"
            ],
            "text/plain": [
              "   total_bill   tip     sex smoker  day    time  size\n",
              "0       16.99  1.01  Female     No  Sun  Dinner     2\n",
              "1       10.34  1.66    Male     No  Sun  Dinner     3\n",
              "2       21.01  3.50    Male     No  Sun  Dinner     3\n",
              "3       23.68  3.31    Male     No  Sun  Dinner     2\n",
              "4       24.59  3.61  Female     No  Sun  Dinner     4"
            ]
          },
          "metadata": {
            "tags": []
          },
          "execution_count": 31
        }
      ]
    },
    {
      "cell_type": "code",
      "metadata": {
        "scrolled": true,
        "colab": {
          "base_uri": "https://localhost:8080/",
          "height": 204
        },
        "id": "nwz-YXLwRlSi",
        "outputId": "926c65a9-ce22-43e1-93d5-ef0725903716"
      },
      "source": [
        "tips.tail()"
      ],
      "execution_count": null,
      "outputs": [
        {
          "output_type": "execute_result",
          "data": {
            "text/html": [
              "<div>\n",
              "<style scoped>\n",
              "    .dataframe tbody tr th:only-of-type {\n",
              "        vertical-align: middle;\n",
              "    }\n",
              "\n",
              "    .dataframe tbody tr th {\n",
              "        vertical-align: top;\n",
              "    }\n",
              "\n",
              "    .dataframe thead th {\n",
              "        text-align: right;\n",
              "    }\n",
              "</style>\n",
              "<table border=\"1\" class=\"dataframe\">\n",
              "  <thead>\n",
              "    <tr style=\"text-align: right;\">\n",
              "      <th></th>\n",
              "      <th>total_bill</th>\n",
              "      <th>tip</th>\n",
              "      <th>sex</th>\n",
              "      <th>smoker</th>\n",
              "      <th>day</th>\n",
              "      <th>time</th>\n",
              "      <th>size</th>\n",
              "    </tr>\n",
              "  </thead>\n",
              "  <tbody>\n",
              "    <tr>\n",
              "      <th>239</th>\n",
              "      <td>29.03</td>\n",
              "      <td>5.92</td>\n",
              "      <td>Male</td>\n",
              "      <td>No</td>\n",
              "      <td>Sat</td>\n",
              "      <td>Dinner</td>\n",
              "      <td>3</td>\n",
              "    </tr>\n",
              "    <tr>\n",
              "      <th>240</th>\n",
              "      <td>27.18</td>\n",
              "      <td>2.00</td>\n",
              "      <td>Female</td>\n",
              "      <td>Yes</td>\n",
              "      <td>Sat</td>\n",
              "      <td>Dinner</td>\n",
              "      <td>2</td>\n",
              "    </tr>\n",
              "    <tr>\n",
              "      <th>241</th>\n",
              "      <td>22.67</td>\n",
              "      <td>2.00</td>\n",
              "      <td>Male</td>\n",
              "      <td>Yes</td>\n",
              "      <td>Sat</td>\n",
              "      <td>Dinner</td>\n",
              "      <td>2</td>\n",
              "    </tr>\n",
              "    <tr>\n",
              "      <th>242</th>\n",
              "      <td>17.82</td>\n",
              "      <td>1.75</td>\n",
              "      <td>Male</td>\n",
              "      <td>No</td>\n",
              "      <td>Sat</td>\n",
              "      <td>Dinner</td>\n",
              "      <td>2</td>\n",
              "    </tr>\n",
              "    <tr>\n",
              "      <th>243</th>\n",
              "      <td>18.78</td>\n",
              "      <td>3.00</td>\n",
              "      <td>Female</td>\n",
              "      <td>No</td>\n",
              "      <td>Thur</td>\n",
              "      <td>Dinner</td>\n",
              "      <td>2</td>\n",
              "    </tr>\n",
              "  </tbody>\n",
              "</table>\n",
              "</div>"
            ],
            "text/plain": [
              "     total_bill   tip     sex smoker   day    time  size\n",
              "239       29.03  5.92    Male     No   Sat  Dinner     3\n",
              "240       27.18  2.00  Female    Yes   Sat  Dinner     2\n",
              "241       22.67  2.00    Male    Yes   Sat  Dinner     2\n",
              "242       17.82  1.75    Male     No   Sat  Dinner     2\n",
              "243       18.78  3.00  Female     No  Thur  Dinner     2"
            ]
          },
          "metadata": {
            "tags": []
          },
          "execution_count": 32
        }
      ]
    },
    {
      "cell_type": "code",
      "metadata": {
        "colab": {
          "base_uri": "https://localhost:8080/",
          "height": 297
        },
        "id": "DQQJ1dCgRlSj",
        "outputId": "0df4079b-6b8f-41c6-8b88-24ec6582ae8d"
      },
      "source": [
        "tips.describe()"
      ],
      "execution_count": null,
      "outputs": [
        {
          "output_type": "execute_result",
          "data": {
            "text/html": [
              "<div>\n",
              "<style scoped>\n",
              "    .dataframe tbody tr th:only-of-type {\n",
              "        vertical-align: middle;\n",
              "    }\n",
              "\n",
              "    .dataframe tbody tr th {\n",
              "        vertical-align: top;\n",
              "    }\n",
              "\n",
              "    .dataframe thead th {\n",
              "        text-align: right;\n",
              "    }\n",
              "</style>\n",
              "<table border=\"1\" class=\"dataframe\">\n",
              "  <thead>\n",
              "    <tr style=\"text-align: right;\">\n",
              "      <th></th>\n",
              "      <th>total_bill</th>\n",
              "      <th>tip</th>\n",
              "      <th>size</th>\n",
              "    </tr>\n",
              "  </thead>\n",
              "  <tbody>\n",
              "    <tr>\n",
              "      <th>count</th>\n",
              "      <td>244.000000</td>\n",
              "      <td>244.000000</td>\n",
              "      <td>244.000000</td>\n",
              "    </tr>\n",
              "    <tr>\n",
              "      <th>mean</th>\n",
              "      <td>19.785943</td>\n",
              "      <td>2.998279</td>\n",
              "      <td>2.569672</td>\n",
              "    </tr>\n",
              "    <tr>\n",
              "      <th>std</th>\n",
              "      <td>8.902412</td>\n",
              "      <td>1.383638</td>\n",
              "      <td>0.951100</td>\n",
              "    </tr>\n",
              "    <tr>\n",
              "      <th>min</th>\n",
              "      <td>3.070000</td>\n",
              "      <td>1.000000</td>\n",
              "      <td>1.000000</td>\n",
              "    </tr>\n",
              "    <tr>\n",
              "      <th>25%</th>\n",
              "      <td>13.347500</td>\n",
              "      <td>2.000000</td>\n",
              "      <td>2.000000</td>\n",
              "    </tr>\n",
              "    <tr>\n",
              "      <th>50%</th>\n",
              "      <td>17.795000</td>\n",
              "      <td>2.900000</td>\n",
              "      <td>2.000000</td>\n",
              "    </tr>\n",
              "    <tr>\n",
              "      <th>75%</th>\n",
              "      <td>24.127500</td>\n",
              "      <td>3.562500</td>\n",
              "      <td>3.000000</td>\n",
              "    </tr>\n",
              "    <tr>\n",
              "      <th>max</th>\n",
              "      <td>50.810000</td>\n",
              "      <td>10.000000</td>\n",
              "      <td>6.000000</td>\n",
              "    </tr>\n",
              "  </tbody>\n",
              "</table>\n",
              "</div>"
            ],
            "text/plain": [
              "       total_bill         tip        size\n",
              "count  244.000000  244.000000  244.000000\n",
              "mean    19.785943    2.998279    2.569672\n",
              "std      8.902412    1.383638    0.951100\n",
              "min      3.070000    1.000000    1.000000\n",
              "25%     13.347500    2.000000    2.000000\n",
              "50%     17.795000    2.900000    2.000000\n",
              "75%     24.127500    3.562500    3.000000\n",
              "max     50.810000   10.000000    6.000000"
            ]
          },
          "metadata": {
            "tags": []
          },
          "execution_count": 33
        }
      ]
    },
    {
      "cell_type": "markdown",
      "metadata": {
        "id": "u9507gaqRlSl"
      },
      "source": [
        "# Type - DataFrame / Series"
      ]
    },
    {
      "cell_type": "code",
      "metadata": {
        "colab": {
          "base_uri": "https://localhost:8080/"
        },
        "id": "6LDRGvP8RlSm",
        "outputId": "dd2b448d-77d1-4b9b-eef3-fe18e1b275f0"
      },
      "source": [
        "type(tips)"
      ],
      "execution_count": null,
      "outputs": [
        {
          "output_type": "execute_result",
          "data": {
            "text/plain": [
              "pandas.core.frame.DataFrame"
            ]
          },
          "metadata": {
            "tags": []
          },
          "execution_count": 34
        }
      ]
    },
    {
      "cell_type": "code",
      "metadata": {
        "colab": {
          "base_uri": "https://localhost:8080/"
        },
        "id": "unphkPbu8v2H",
        "outputId": "f8890daf-6911-4931-de20-b80a127f9ead"
      },
      "source": [
        "tips.dtypes"
      ],
      "execution_count": null,
      "outputs": [
        {
          "output_type": "execute_result",
          "data": {
            "text/plain": [
              "total_bill    float64\n",
              "tip           float64\n",
              "sex            object\n",
              "smoker         object\n",
              "day            object\n",
              "time           object\n",
              "size            int64\n",
              "dtype: object"
            ]
          },
          "metadata": {
            "tags": []
          },
          "execution_count": 35
        }
      ]
    },
    {
      "cell_type": "code",
      "metadata": {
        "colab": {
          "base_uri": "https://localhost:8080/"
        },
        "id": "Gv7YqUCH1cZx",
        "outputId": "c4d468d3-76c4-47b5-a4f0-393bc208b9da"
      },
      "source": [
        "tips.info()"
      ],
      "execution_count": null,
      "outputs": [
        {
          "output_type": "stream",
          "text": [
            "<class 'pandas.core.frame.DataFrame'>\n",
            "Int64Index: 243 entries, 0 to 243\n",
            "Data columns (total 7 columns):\n",
            " #   Column      Non-Null Count  Dtype  \n",
            "---  ------      --------------  -----  \n",
            " 0   total_bill  243 non-null    float64\n",
            " 1   tip         243 non-null    float64\n",
            " 2   sex         243 non-null    object \n",
            " 3   smoker      243 non-null    object \n",
            " 4   day         243 non-null    object \n",
            " 5   time        243 non-null    object \n",
            " 6   size        243 non-null    int64  \n",
            "dtypes: float64(2), int64(1), object(4)\n",
            "memory usage: 15.2+ KB\n"
          ],
          "name": "stdout"
        }
      ]
    },
    {
      "cell_type": "code",
      "metadata": {
        "id": "XkSbVUI1G9vX",
        "colab": {
          "base_uri": "https://localhost:8080/"
        },
        "outputId": "75ba3cf2-df3b-4bcb-b9f3-da632ad10abc"
      },
      "source": [
        "lista = [indice for indice, row in enumerate(tips[\"size\"]) if type(row) != int]\n",
        "lista"
      ],
      "execution_count": null,
      "outputs": [
        {
          "output_type": "execute_result",
          "data": {
            "text/plain": [
              "[]"
            ]
          },
          "metadata": {
            "tags": []
          },
          "execution_count": 36
        }
      ]
    },
    {
      "cell_type": "code",
      "metadata": {
        "colab": {
          "base_uri": "https://localhost:8080/"
        },
        "id": "6GfLVRyd9mBP",
        "outputId": "2e8ea833-0675-456b-d8d7-4c68ec92efc0"
      },
      "source": [
        "tips[\"smoker\"].map(type)"
      ],
      "execution_count": null,
      "outputs": [
        {
          "output_type": "execute_result",
          "data": {
            "text/plain": [
              "0      <class 'str'>\n",
              "1      <class 'str'>\n",
              "2      <class 'str'>\n",
              "3      <class 'str'>\n",
              "4      <class 'str'>\n",
              "           ...      \n",
              "239    <class 'str'>\n",
              "240    <class 'str'>\n",
              "241    <class 'str'>\n",
              "242    <class 'str'>\n",
              "243    <class 'str'>\n",
              "Name: smoker, Length: 244, dtype: object"
            ]
          },
          "metadata": {
            "tags": []
          },
          "execution_count": 37
        }
      ]
    },
    {
      "cell_type": "code",
      "metadata": {
        "colab": {
          "base_uri": "https://localhost:8080/"
        },
        "id": "Zz0dqbrcRlSn",
        "outputId": "23329a4c-58f2-4409-8ac8-895151de253f"
      },
      "source": [
        "type(tips[\"smoker\"])"
      ],
      "execution_count": null,
      "outputs": [
        {
          "output_type": "execute_result",
          "data": {
            "text/plain": [
              "pandas.core.series.Series"
            ]
          },
          "metadata": {
            "tags": []
          },
          "execution_count": 38
        }
      ]
    },
    {
      "cell_type": "code",
      "metadata": {
        "colab": {
          "base_uri": "https://localhost:8080/"
        },
        "id": "fl8OSuaJ1pyT",
        "outputId": "cebe7bca-d2aa-4e8d-c7b9-bc71ef733a5f"
      },
      "source": [
        "type(10) == int"
      ],
      "execution_count": null,
      "outputs": [
        {
          "output_type": "execute_result",
          "data": {
            "text/plain": [
              "True"
            ]
          },
          "metadata": {
            "tags": []
          },
          "execution_count": 96
        }
      ]
    },
    {
      "cell_type": "code",
      "metadata": {
        "id": "3SBPtrtp1s82"
      },
      "source": [
        "for row in tips[\"smoker\"]:\n",
        "    if type(row) != str:\n",
        "      print(type(row))"
      ],
      "execution_count": null,
      "outputs": []
    },
    {
      "cell_type": "code",
      "metadata": {
        "colab": {
          "base_uri": "https://localhost:8080/",
          "height": 419
        },
        "id": "OpEj1u6j1vQt",
        "outputId": "c83e16db-0768-465a-cddf-5e6373ac610f"
      },
      "source": [
        "tips"
      ],
      "execution_count": null,
      "outputs": [
        {
          "output_type": "execute_result",
          "data": {
            "text/html": [
              "<div>\n",
              "<style scoped>\n",
              "    .dataframe tbody tr th:only-of-type {\n",
              "        vertical-align: middle;\n",
              "    }\n",
              "\n",
              "    .dataframe tbody tr th {\n",
              "        vertical-align: top;\n",
              "    }\n",
              "\n",
              "    .dataframe thead th {\n",
              "        text-align: right;\n",
              "    }\n",
              "</style>\n",
              "<table border=\"1\" class=\"dataframe\">\n",
              "  <thead>\n",
              "    <tr style=\"text-align: right;\">\n",
              "      <th></th>\n",
              "      <th>total_bill</th>\n",
              "      <th>tip</th>\n",
              "      <th>sex</th>\n",
              "      <th>smoker</th>\n",
              "      <th>day</th>\n",
              "      <th>time</th>\n",
              "      <th>size</th>\n",
              "    </tr>\n",
              "  </thead>\n",
              "  <tbody>\n",
              "    <tr>\n",
              "      <th>0</th>\n",
              "      <td>16.99</td>\n",
              "      <td>1.01</td>\n",
              "      <td>Female</td>\n",
              "      <td>No</td>\n",
              "      <td>Sun</td>\n",
              "      <td>Dinner</td>\n",
              "      <td>2</td>\n",
              "    </tr>\n",
              "    <tr>\n",
              "      <th>1</th>\n",
              "      <td>10.34</td>\n",
              "      <td>1.66</td>\n",
              "      <td>Male</td>\n",
              "      <td>No</td>\n",
              "      <td>Sun</td>\n",
              "      <td>Dinner</td>\n",
              "      <td>3</td>\n",
              "    </tr>\n",
              "    <tr>\n",
              "      <th>2</th>\n",
              "      <td>21.01</td>\n",
              "      <td>3.50</td>\n",
              "      <td>Male</td>\n",
              "      <td>No</td>\n",
              "      <td>Sun</td>\n",
              "      <td>Dinner</td>\n",
              "      <td>3</td>\n",
              "    </tr>\n",
              "    <tr>\n",
              "      <th>3</th>\n",
              "      <td>23.68</td>\n",
              "      <td>3.31</td>\n",
              "      <td>Male</td>\n",
              "      <td>No</td>\n",
              "      <td>Sun</td>\n",
              "      <td>Dinner</td>\n",
              "      <td>2</td>\n",
              "    </tr>\n",
              "    <tr>\n",
              "      <th>4</th>\n",
              "      <td>24.59</td>\n",
              "      <td>3.61</td>\n",
              "      <td>Female</td>\n",
              "      <td>No</td>\n",
              "      <td>Sun</td>\n",
              "      <td>Dinner</td>\n",
              "      <td>4</td>\n",
              "    </tr>\n",
              "    <tr>\n",
              "      <th>...</th>\n",
              "      <td>...</td>\n",
              "      <td>...</td>\n",
              "      <td>...</td>\n",
              "      <td>...</td>\n",
              "      <td>...</td>\n",
              "      <td>...</td>\n",
              "      <td>...</td>\n",
              "    </tr>\n",
              "    <tr>\n",
              "      <th>239</th>\n",
              "      <td>29.03</td>\n",
              "      <td>5.92</td>\n",
              "      <td>Male</td>\n",
              "      <td>No</td>\n",
              "      <td>Sat</td>\n",
              "      <td>Dinner</td>\n",
              "      <td>3</td>\n",
              "    </tr>\n",
              "    <tr>\n",
              "      <th>240</th>\n",
              "      <td>27.18</td>\n",
              "      <td>2.00</td>\n",
              "      <td>Female</td>\n",
              "      <td>Yes</td>\n",
              "      <td>Sat</td>\n",
              "      <td>Dinner</td>\n",
              "      <td>2</td>\n",
              "    </tr>\n",
              "    <tr>\n",
              "      <th>241</th>\n",
              "      <td>22.67</td>\n",
              "      <td>2.00</td>\n",
              "      <td>Male</td>\n",
              "      <td>Yes</td>\n",
              "      <td>Sat</td>\n",
              "      <td>Dinner</td>\n",
              "      <td>2</td>\n",
              "    </tr>\n",
              "    <tr>\n",
              "      <th>242</th>\n",
              "      <td>17.82</td>\n",
              "      <td>1.75</td>\n",
              "      <td>Male</td>\n",
              "      <td>No</td>\n",
              "      <td>Sat</td>\n",
              "      <td>Dinner</td>\n",
              "      <td>2</td>\n",
              "    </tr>\n",
              "    <tr>\n",
              "      <th>243</th>\n",
              "      <td>18.78</td>\n",
              "      <td>3.00</td>\n",
              "      <td>Female</td>\n",
              "      <td>No</td>\n",
              "      <td>Thur</td>\n",
              "      <td>Dinner</td>\n",
              "      <td>2</td>\n",
              "    </tr>\n",
              "  </tbody>\n",
              "</table>\n",
              "<p>243 rows × 7 columns</p>\n",
              "</div>"
            ],
            "text/plain": [
              "     total_bill   tip     sex smoker   day    time  size\n",
              "0         16.99  1.01  Female     No   Sun  Dinner     2\n",
              "1         10.34  1.66    Male     No   Sun  Dinner     3\n",
              "2         21.01  3.50    Male     No   Sun  Dinner     3\n",
              "3         23.68  3.31    Male     No   Sun  Dinner     2\n",
              "4         24.59  3.61  Female     No   Sun  Dinner     4\n",
              "..          ...   ...     ...    ...   ...     ...   ...\n",
              "239       29.03  5.92    Male     No   Sat  Dinner     3\n",
              "240       27.18  2.00  Female    Yes   Sat  Dinner     2\n",
              "241       22.67  2.00    Male    Yes   Sat  Dinner     2\n",
              "242       17.82  1.75    Male     No   Sat  Dinner     2\n",
              "243       18.78  3.00  Female     No  Thur  Dinner     2\n",
              "\n",
              "[243 rows x 7 columns]"
            ]
          },
          "metadata": {
            "tags": []
          },
          "execution_count": 98
        }
      ]
    },
    {
      "cell_type": "code",
      "metadata": {
        "id": "z1acoWz41_4t"
      },
      "source": [
        "tips.loc[0,\"size\"] = '2'\n",
        "tips.loc[100,\"size\"] = '5'"
      ],
      "execution_count": null,
      "outputs": []
    },
    {
      "cell_type": "code",
      "metadata": {
        "colab": {
          "base_uri": "https://localhost:8080/"
        },
        "id": "4iyFZplT2DUC",
        "outputId": "0f1845c6-f73b-4c0f-ff4c-b2d71118f3ed"
      },
      "source": [
        "tips.info()"
      ],
      "execution_count": null,
      "outputs": [
        {
          "output_type": "stream",
          "text": [
            "<class 'pandas.core.frame.DataFrame'>\n",
            "Int64Index: 243 entries, 0 to 243\n",
            "Data columns (total 7 columns):\n",
            " #   Column      Non-Null Count  Dtype  \n",
            "---  ------      --------------  -----  \n",
            " 0   total_bill  243 non-null    float64\n",
            " 1   tip         243 non-null    float64\n",
            " 2   sex         243 non-null    object \n",
            " 3   smoker      243 non-null    object \n",
            " 4   day         243 non-null    object \n",
            " 5   time        243 non-null    object \n",
            " 6   size        243 non-null    object \n",
            "dtypes: float64(2), object(5)\n",
            "memory usage: 25.2+ KB\n"
          ],
          "name": "stdout"
        }
      ]
    },
    {
      "cell_type": "code",
      "metadata": {
        "colab": {
          "base_uri": "https://localhost:8080/"
        },
        "id": "SL2jfig62H2Y",
        "outputId": "327caf33-5116-4bd9-a2c5-8f650830eee6"
      },
      "source": [
        "tips[\"size\"].map(type)"
      ],
      "execution_count": null,
      "outputs": [
        {
          "output_type": "execute_result",
          "data": {
            "text/plain": [
              "0      <class 'str'>\n",
              "1      <class 'int'>\n",
              "2      <class 'int'>\n",
              "3      <class 'int'>\n",
              "4      <class 'int'>\n",
              "           ...      \n",
              "239    <class 'int'>\n",
              "240    <class 'int'>\n",
              "241    <class 'int'>\n",
              "242    <class 'int'>\n",
              "243    <class 'int'>\n",
              "Name: size, Length: 243, dtype: object"
            ]
          },
          "metadata": {
            "tags": []
          },
          "execution_count": 102
        }
      ]
    },
    {
      "cell_type": "code",
      "metadata": {
        "id": "DKzyMfyr2LIn"
      },
      "source": [
        "#def RetornoInd(obj):\n",
        "lista = []\n",
        "idx=0\n",
        "for row in tips[\"size\"]:\n",
        "  if type(row) != int:\n",
        "    lista.append(idx)\n",
        "  idx+=1"
      ],
      "execution_count": null,
      "outputs": []
    },
    {
      "cell_type": "code",
      "metadata": {
        "colab": {
          "base_uri": "https://localhost:8080/"
        },
        "id": "0PoTcn_c2Nx7",
        "outputId": "132d5bc1-0f45-4db8-c73d-a9bb74db7d6d"
      },
      "source": [
        "lista"
      ],
      "execution_count": null,
      "outputs": [
        {
          "output_type": "execute_result",
          "data": {
            "text/plain": [
              "[0, 100]"
            ]
          },
          "metadata": {
            "tags": []
          },
          "execution_count": 104
        }
      ]
    },
    {
      "cell_type": "code",
      "metadata": {
        "id": "9nCcqAqv2Qd8"
      },
      "source": [
        "#def RetornoInd(obj):\n",
        "lista = []\n",
        "\n",
        "for idx,row in enumerate(tips[\"size\"]):\n",
        "  if type(row) != int:\n",
        "    lista.append(idx)"
      ],
      "execution_count": null,
      "outputs": []
    },
    {
      "cell_type": "code",
      "metadata": {
        "colab": {
          "base_uri": "https://localhost:8080/"
        },
        "id": "mQPXxEQf2T1M",
        "outputId": "35ee0db3-4547-45a5-93d5-9ea5ea8b719e"
      },
      "source": [
        "lista"
      ],
      "execution_count": null,
      "outputs": [
        {
          "output_type": "execute_result",
          "data": {
            "text/plain": [
              "[0, 100]"
            ]
          },
          "metadata": {
            "tags": []
          },
          "execution_count": 106
        }
      ]
    },
    {
      "cell_type": "code",
      "metadata": {
        "id": "J0bTYo7F2Wvd"
      },
      "source": [
        "def rIndex(obj):\n",
        "  lista = []\n",
        "\n",
        "  for idx,row in enumerate(obj):\n",
        "    if type(row) != int:\n",
        "      lista.append(idx)\n",
        "  return\n",
        "\n",
        "rIndex(tips[\"size\"])"
      ],
      "execution_count": null,
      "outputs": []
    },
    {
      "cell_type": "code",
      "metadata": {
        "colab": {
          "base_uri": "https://localhost:8080/"
        },
        "id": "ZqWC9wbQ2aYG",
        "outputId": "284e76bc-20e3-45a3-8845-4c2fbea8dc27"
      },
      "source": [
        "lista = [indice for indice, row in enumerate(tips[\"size\"]) if type(row) != int]\n",
        "lista"
      ],
      "execution_count": null,
      "outputs": [
        {
          "output_type": "execute_result",
          "data": {
            "text/plain": [
              "[0, 100]"
            ]
          },
          "metadata": {
            "tags": []
          },
          "execution_count": 108
        }
      ]
    },
    {
      "cell_type": "code",
      "metadata": {
        "colab": {
          "base_uri": "https://localhost:8080/",
          "height": 35
        },
        "id": "Kj9Kmzmk2dsu",
        "outputId": "1ef22aa4-fb31-4e93-90c3-f4e5e7a9d955"
      },
      "source": [
        "tips.loc[0,\"size\"]"
      ],
      "execution_count": null,
      "outputs": [
        {
          "output_type": "execute_result",
          "data": {
            "application/vnd.google.colaboratory.intrinsic+json": {
              "type": "string"
            },
            "text/plain": [
              "'2'"
            ]
          },
          "metadata": {
            "tags": []
          },
          "execution_count": 109
        }
      ]
    },
    {
      "cell_type": "code",
      "metadata": {
        "id": "_AdeZoj72hBa"
      },
      "source": [
        "for row in lista:\n",
        "  if tips.loc[row,\"size\"].isnumeric():\n",
        "    tips.loc[row,\"size\"] = int(tips.loc[row,\"size\"])"
      ],
      "execution_count": null,
      "outputs": []
    },
    {
      "cell_type": "code",
      "metadata": {
        "colab": {
          "base_uri": "https://localhost:8080/"
        },
        "id": "HCgdaQDN2j3K",
        "outputId": "fb79367b-00f4-42c5-ea53-41ee732b2716"
      },
      "source": [
        "tips.info()"
      ],
      "execution_count": null,
      "outputs": [
        {
          "output_type": "stream",
          "text": [
            "<class 'pandas.core.frame.DataFrame'>\n",
            "Int64Index: 243 entries, 0 to 243\n",
            "Data columns (total 7 columns):\n",
            " #   Column      Non-Null Count  Dtype  \n",
            "---  ------      --------------  -----  \n",
            " 0   total_bill  243 non-null    float64\n",
            " 1   tip         243 non-null    float64\n",
            " 2   sex         243 non-null    object \n",
            " 3   smoker      243 non-null    object \n",
            " 4   day         243 non-null    object \n",
            " 5   time        243 non-null    object \n",
            " 6   size        243 non-null    object \n",
            "dtypes: float64(2), object(5)\n",
            "memory usage: 25.2+ KB\n"
          ],
          "name": "stdout"
        }
      ]
    },
    {
      "cell_type": "code",
      "metadata": {
        "colab": {
          "base_uri": "https://localhost:8080/",
          "height": 204
        },
        "id": "0xbOAJU12qqa",
        "outputId": "036a4480-1136-493c-fbc9-6b365db452a3"
      },
      "source": [
        "tips.head()"
      ],
      "execution_count": null,
      "outputs": [
        {
          "output_type": "execute_result",
          "data": {
            "text/html": [
              "<div>\n",
              "<style scoped>\n",
              "    .dataframe tbody tr th:only-of-type {\n",
              "        vertical-align: middle;\n",
              "    }\n",
              "\n",
              "    .dataframe tbody tr th {\n",
              "        vertical-align: top;\n",
              "    }\n",
              "\n",
              "    .dataframe thead th {\n",
              "        text-align: right;\n",
              "    }\n",
              "</style>\n",
              "<table border=\"1\" class=\"dataframe\">\n",
              "  <thead>\n",
              "    <tr style=\"text-align: right;\">\n",
              "      <th></th>\n",
              "      <th>total_bill</th>\n",
              "      <th>tip</th>\n",
              "      <th>sex</th>\n",
              "      <th>smoker</th>\n",
              "      <th>day</th>\n",
              "      <th>time</th>\n",
              "      <th>size</th>\n",
              "    </tr>\n",
              "  </thead>\n",
              "  <tbody>\n",
              "    <tr>\n",
              "      <th>0</th>\n",
              "      <td>16.99</td>\n",
              "      <td>1.01</td>\n",
              "      <td>Female</td>\n",
              "      <td>No</td>\n",
              "      <td>Sun</td>\n",
              "      <td>Dinner</td>\n",
              "      <td>2</td>\n",
              "    </tr>\n",
              "    <tr>\n",
              "      <th>1</th>\n",
              "      <td>10.34</td>\n",
              "      <td>1.66</td>\n",
              "      <td>Male</td>\n",
              "      <td>No</td>\n",
              "      <td>Sun</td>\n",
              "      <td>Dinner</td>\n",
              "      <td>3</td>\n",
              "    </tr>\n",
              "    <tr>\n",
              "      <th>2</th>\n",
              "      <td>21.01</td>\n",
              "      <td>3.50</td>\n",
              "      <td>Male</td>\n",
              "      <td>No</td>\n",
              "      <td>Sun</td>\n",
              "      <td>Dinner</td>\n",
              "      <td>3</td>\n",
              "    </tr>\n",
              "    <tr>\n",
              "      <th>3</th>\n",
              "      <td>23.68</td>\n",
              "      <td>3.31</td>\n",
              "      <td>Male</td>\n",
              "      <td>No</td>\n",
              "      <td>Sun</td>\n",
              "      <td>Dinner</td>\n",
              "      <td>2</td>\n",
              "    </tr>\n",
              "    <tr>\n",
              "      <th>4</th>\n",
              "      <td>24.59</td>\n",
              "      <td>3.61</td>\n",
              "      <td>Female</td>\n",
              "      <td>No</td>\n",
              "      <td>Sun</td>\n",
              "      <td>Dinner</td>\n",
              "      <td>4</td>\n",
              "    </tr>\n",
              "  </tbody>\n",
              "</table>\n",
              "</div>"
            ],
            "text/plain": [
              "   total_bill   tip     sex smoker  day    time size\n",
              "0       16.99  1.01  Female     No  Sun  Dinner    2\n",
              "1       10.34  1.66    Male     No  Sun  Dinner    3\n",
              "2       21.01  3.50    Male     No  Sun  Dinner    3\n",
              "3       23.68  3.31    Male     No  Sun  Dinner    2\n",
              "4       24.59  3.61  Female     No  Sun  Dinner    4"
            ]
          },
          "metadata": {
            "tags": []
          },
          "execution_count": 113
        }
      ]
    },
    {
      "cell_type": "code",
      "metadata": {
        "id": "TqzdpLjd3BbP"
      },
      "source": [
        "tips[\"size\"]=tips[\"size\"].astype(int)"
      ],
      "execution_count": null,
      "outputs": []
    },
    {
      "cell_type": "code",
      "metadata": {
        "colab": {
          "base_uri": "https://localhost:8080/"
        },
        "id": "vCUQo4pf3G6Y",
        "outputId": "63c87da6-2a5e-46e3-b3ec-daff7f54aa8a"
      },
      "source": [
        "tips.info()"
      ],
      "execution_count": null,
      "outputs": [
        {
          "output_type": "stream",
          "text": [
            "<class 'pandas.core.frame.DataFrame'>\n",
            "Int64Index: 243 entries, 0 to 243\n",
            "Data columns (total 7 columns):\n",
            " #   Column      Non-Null Count  Dtype  \n",
            "---  ------      --------------  -----  \n",
            " 0   total_bill  243 non-null    float64\n",
            " 1   tip         243 non-null    float64\n",
            " 2   sex         243 non-null    object \n",
            " 3   smoker      243 non-null    object \n",
            " 4   day         243 non-null    object \n",
            " 5   time        243 non-null    object \n",
            " 6   size        243 non-null    int64  \n",
            "dtypes: float64(2), int64(1), object(4)\n",
            "memory usage: 25.2+ KB\n"
          ],
          "name": "stdout"
        }
      ]
    },
    {
      "cell_type": "code",
      "metadata": {
        "colab": {
          "base_uri": "https://localhost:8080/",
          "height": 419
        },
        "id": "EgUewbof3MwR",
        "outputId": "5da696f4-167c-46f6-e7d5-28201033b185"
      },
      "source": [
        "tips"
      ],
      "execution_count": null,
      "outputs": [
        {
          "output_type": "execute_result",
          "data": {
            "text/html": [
              "<div>\n",
              "<style scoped>\n",
              "    .dataframe tbody tr th:only-of-type {\n",
              "        vertical-align: middle;\n",
              "    }\n",
              "\n",
              "    .dataframe tbody tr th {\n",
              "        vertical-align: top;\n",
              "    }\n",
              "\n",
              "    .dataframe thead th {\n",
              "        text-align: right;\n",
              "    }\n",
              "</style>\n",
              "<table border=\"1\" class=\"dataframe\">\n",
              "  <thead>\n",
              "    <tr style=\"text-align: right;\">\n",
              "      <th></th>\n",
              "      <th>total_bill</th>\n",
              "      <th>tip</th>\n",
              "      <th>sex</th>\n",
              "      <th>smoker</th>\n",
              "      <th>day</th>\n",
              "      <th>time</th>\n",
              "      <th>size</th>\n",
              "    </tr>\n",
              "  </thead>\n",
              "  <tbody>\n",
              "    <tr>\n",
              "      <th>0</th>\n",
              "      <td>16.99</td>\n",
              "      <td>1.01</td>\n",
              "      <td>Female</td>\n",
              "      <td>No</td>\n",
              "      <td>Sun</td>\n",
              "      <td>Dinner</td>\n",
              "      <td>2</td>\n",
              "    </tr>\n",
              "    <tr>\n",
              "      <th>1</th>\n",
              "      <td>10.34</td>\n",
              "      <td>1.66</td>\n",
              "      <td>Male</td>\n",
              "      <td>No</td>\n",
              "      <td>Sun</td>\n",
              "      <td>Dinner</td>\n",
              "      <td>3</td>\n",
              "    </tr>\n",
              "    <tr>\n",
              "      <th>2</th>\n",
              "      <td>21.01</td>\n",
              "      <td>3.50</td>\n",
              "      <td>Male</td>\n",
              "      <td>No</td>\n",
              "      <td>Sun</td>\n",
              "      <td>Dinner</td>\n",
              "      <td>3</td>\n",
              "    </tr>\n",
              "    <tr>\n",
              "      <th>3</th>\n",
              "      <td>23.68</td>\n",
              "      <td>3.31</td>\n",
              "      <td>Male</td>\n",
              "      <td>No</td>\n",
              "      <td>Sun</td>\n",
              "      <td>Dinner</td>\n",
              "      <td>2</td>\n",
              "    </tr>\n",
              "    <tr>\n",
              "      <th>4</th>\n",
              "      <td>24.59</td>\n",
              "      <td>3.61</td>\n",
              "      <td>Female</td>\n",
              "      <td>No</td>\n",
              "      <td>Sun</td>\n",
              "      <td>Dinner</td>\n",
              "      <td>4</td>\n",
              "    </tr>\n",
              "    <tr>\n",
              "      <th>...</th>\n",
              "      <td>...</td>\n",
              "      <td>...</td>\n",
              "      <td>...</td>\n",
              "      <td>...</td>\n",
              "      <td>...</td>\n",
              "      <td>...</td>\n",
              "      <td>...</td>\n",
              "    </tr>\n",
              "    <tr>\n",
              "      <th>239</th>\n",
              "      <td>29.03</td>\n",
              "      <td>5.92</td>\n",
              "      <td>Male</td>\n",
              "      <td>No</td>\n",
              "      <td>Sat</td>\n",
              "      <td>Dinner</td>\n",
              "      <td>3</td>\n",
              "    </tr>\n",
              "    <tr>\n",
              "      <th>240</th>\n",
              "      <td>27.18</td>\n",
              "      <td>2.00</td>\n",
              "      <td>Female</td>\n",
              "      <td>Yes</td>\n",
              "      <td>Sat</td>\n",
              "      <td>Dinner</td>\n",
              "      <td>2</td>\n",
              "    </tr>\n",
              "    <tr>\n",
              "      <th>241</th>\n",
              "      <td>22.67</td>\n",
              "      <td>2.00</td>\n",
              "      <td>Male</td>\n",
              "      <td>Yes</td>\n",
              "      <td>Sat</td>\n",
              "      <td>Dinner</td>\n",
              "      <td>2</td>\n",
              "    </tr>\n",
              "    <tr>\n",
              "      <th>242</th>\n",
              "      <td>17.82</td>\n",
              "      <td>1.75</td>\n",
              "      <td>Male</td>\n",
              "      <td>No</td>\n",
              "      <td>Sat</td>\n",
              "      <td>Dinner</td>\n",
              "      <td>2</td>\n",
              "    </tr>\n",
              "    <tr>\n",
              "      <th>243</th>\n",
              "      <td>18.78</td>\n",
              "      <td>3.00</td>\n",
              "      <td>Female</td>\n",
              "      <td>No</td>\n",
              "      <td>Thur</td>\n",
              "      <td>Dinner</td>\n",
              "      <td>2</td>\n",
              "    </tr>\n",
              "  </tbody>\n",
              "</table>\n",
              "<p>243 rows × 7 columns</p>\n",
              "</div>"
            ],
            "text/plain": [
              "     total_bill   tip     sex smoker   day    time  size\n",
              "0         16.99  1.01  Female     No   Sun  Dinner     2\n",
              "1         10.34  1.66    Male     No   Sun  Dinner     3\n",
              "2         21.01  3.50    Male     No   Sun  Dinner     3\n",
              "3         23.68  3.31    Male     No   Sun  Dinner     2\n",
              "4         24.59  3.61  Female     No   Sun  Dinner     4\n",
              "..          ...   ...     ...    ...   ...     ...   ...\n",
              "239       29.03  5.92    Male     No   Sat  Dinner     3\n",
              "240       27.18  2.00  Female    Yes   Sat  Dinner     2\n",
              "241       22.67  2.00    Male    Yes   Sat  Dinner     2\n",
              "242       17.82  1.75    Male     No   Sat  Dinner     2\n",
              "243       18.78  3.00  Female     No  Thur  Dinner     2\n",
              "\n",
              "[243 rows x 7 columns]"
            ]
          },
          "metadata": {
            "tags": []
          },
          "execution_count": 116
        }
      ]
    },
    {
      "cell_type": "code",
      "metadata": {
        "colab": {
          "base_uri": "https://localhost:8080/",
          "height": 204
        },
        "id": "zkxO7pOu3N7p",
        "outputId": "c4b937ab-8a66-4117-ccf3-1821fb28ba7d"
      },
      "source": [
        "tips.tail()"
      ],
      "execution_count": null,
      "outputs": [
        {
          "output_type": "execute_result",
          "data": {
            "text/html": [
              "<div>\n",
              "<style scoped>\n",
              "    .dataframe tbody tr th:only-of-type {\n",
              "        vertical-align: middle;\n",
              "    }\n",
              "\n",
              "    .dataframe tbody tr th {\n",
              "        vertical-align: top;\n",
              "    }\n",
              "\n",
              "    .dataframe thead th {\n",
              "        text-align: right;\n",
              "    }\n",
              "</style>\n",
              "<table border=\"1\" class=\"dataframe\">\n",
              "  <thead>\n",
              "    <tr style=\"text-align: right;\">\n",
              "      <th></th>\n",
              "      <th>total_bill</th>\n",
              "      <th>tip</th>\n",
              "      <th>sex</th>\n",
              "      <th>smoker</th>\n",
              "      <th>day</th>\n",
              "      <th>time</th>\n",
              "      <th>size</th>\n",
              "    </tr>\n",
              "  </thead>\n",
              "  <tbody>\n",
              "    <tr>\n",
              "      <th>239</th>\n",
              "      <td>29.03</td>\n",
              "      <td>5.92</td>\n",
              "      <td>Male</td>\n",
              "      <td>No</td>\n",
              "      <td>Sat</td>\n",
              "      <td>Dinner</td>\n",
              "      <td>3</td>\n",
              "    </tr>\n",
              "    <tr>\n",
              "      <th>240</th>\n",
              "      <td>27.18</td>\n",
              "      <td>2.00</td>\n",
              "      <td>Female</td>\n",
              "      <td>Yes</td>\n",
              "      <td>Sat</td>\n",
              "      <td>Dinner</td>\n",
              "      <td>2</td>\n",
              "    </tr>\n",
              "    <tr>\n",
              "      <th>241</th>\n",
              "      <td>22.67</td>\n",
              "      <td>2.00</td>\n",
              "      <td>Male</td>\n",
              "      <td>Yes</td>\n",
              "      <td>Sat</td>\n",
              "      <td>Dinner</td>\n",
              "      <td>2</td>\n",
              "    </tr>\n",
              "    <tr>\n",
              "      <th>242</th>\n",
              "      <td>17.82</td>\n",
              "      <td>1.75</td>\n",
              "      <td>Male</td>\n",
              "      <td>No</td>\n",
              "      <td>Sat</td>\n",
              "      <td>Dinner</td>\n",
              "      <td>2</td>\n",
              "    </tr>\n",
              "    <tr>\n",
              "      <th>243</th>\n",
              "      <td>18.78</td>\n",
              "      <td>3.00</td>\n",
              "      <td>Female</td>\n",
              "      <td>No</td>\n",
              "      <td>Thur</td>\n",
              "      <td>Dinner</td>\n",
              "      <td>2</td>\n",
              "    </tr>\n",
              "  </tbody>\n",
              "</table>\n",
              "</div>"
            ],
            "text/plain": [
              "     total_bill   tip     sex smoker   day    time  size\n",
              "239       29.03  5.92    Male     No   Sat  Dinner     3\n",
              "240       27.18  2.00  Female    Yes   Sat  Dinner     2\n",
              "241       22.67  2.00    Male    Yes   Sat  Dinner     2\n",
              "242       17.82  1.75    Male     No   Sat  Dinner     2\n",
              "243       18.78  3.00  Female     No  Thur  Dinner     2"
            ]
          },
          "metadata": {
            "tags": []
          },
          "execution_count": 117
        }
      ]
    },
    {
      "cell_type": "code",
      "metadata": {
        "colab": {
          "base_uri": "https://localhost:8080/",
          "height": 297
        },
        "id": "Dz5Z0j603Tmr",
        "outputId": "a87035ef-11be-4d19-f2c4-092125c17b8e"
      },
      "source": [
        "tips.describe()"
      ],
      "execution_count": null,
      "outputs": [
        {
          "output_type": "execute_result",
          "data": {
            "text/html": [
              "<div>\n",
              "<style scoped>\n",
              "    .dataframe tbody tr th:only-of-type {\n",
              "        vertical-align: middle;\n",
              "    }\n",
              "\n",
              "    .dataframe tbody tr th {\n",
              "        vertical-align: top;\n",
              "    }\n",
              "\n",
              "    .dataframe thead th {\n",
              "        text-align: right;\n",
              "    }\n",
              "</style>\n",
              "<table border=\"1\" class=\"dataframe\">\n",
              "  <thead>\n",
              "    <tr style=\"text-align: right;\">\n",
              "      <th></th>\n",
              "      <th>total_bill</th>\n",
              "      <th>tip</th>\n",
              "      <th>size</th>\n",
              "    </tr>\n",
              "  </thead>\n",
              "  <tbody>\n",
              "    <tr>\n",
              "      <th>count</th>\n",
              "      <td>243.000000</td>\n",
              "      <td>243.000000</td>\n",
              "      <td>243.000000</td>\n",
              "    </tr>\n",
              "    <tr>\n",
              "      <th>mean</th>\n",
              "      <td>19.813868</td>\n",
              "      <td>3.002387</td>\n",
              "      <td>2.584362</td>\n",
              "    </tr>\n",
              "    <tr>\n",
              "      <th>std</th>\n",
              "      <td>8.910071</td>\n",
              "      <td>1.385002</td>\n",
              "      <td>0.964281</td>\n",
              "    </tr>\n",
              "    <tr>\n",
              "      <th>min</th>\n",
              "      <td>3.070000</td>\n",
              "      <td>1.000000</td>\n",
              "      <td>1.000000</td>\n",
              "    </tr>\n",
              "    <tr>\n",
              "      <th>25%</th>\n",
              "      <td>13.380000</td>\n",
              "      <td>2.000000</td>\n",
              "      <td>2.000000</td>\n",
              "    </tr>\n",
              "    <tr>\n",
              "      <th>50%</th>\n",
              "      <td>17.810000</td>\n",
              "      <td>2.920000</td>\n",
              "      <td>2.000000</td>\n",
              "    </tr>\n",
              "    <tr>\n",
              "      <th>75%</th>\n",
              "      <td>24.175000</td>\n",
              "      <td>3.575000</td>\n",
              "      <td>3.000000</td>\n",
              "    </tr>\n",
              "    <tr>\n",
              "      <th>max</th>\n",
              "      <td>50.810000</td>\n",
              "      <td>10.000000</td>\n",
              "      <td>6.000000</td>\n",
              "    </tr>\n",
              "  </tbody>\n",
              "</table>\n",
              "</div>"
            ],
            "text/plain": [
              "       total_bill         tip        size\n",
              "count  243.000000  243.000000  243.000000\n",
              "mean    19.813868    3.002387    2.584362\n",
              "std      8.910071    1.385002    0.964281\n",
              "min      3.070000    1.000000    1.000000\n",
              "25%     13.380000    2.000000    2.000000\n",
              "50%     17.810000    2.920000    2.000000\n",
              "75%     24.175000    3.575000    3.000000\n",
              "max     50.810000   10.000000    6.000000"
            ]
          },
          "metadata": {
            "tags": []
          },
          "execution_count": 118
        }
      ]
    },
    {
      "cell_type": "markdown",
      "metadata": {
        "id": "AgdJE_pB3YtU"
      },
      "source": [
        "##Type - DataFrame / Series"
      ]
    },
    {
      "cell_type": "code",
      "metadata": {
        "colab": {
          "base_uri": "https://localhost:8080/"
        },
        "id": "Od46N91Q3cfT",
        "outputId": "2a179975-2f7c-46be-9ee7-7d303d0157a1"
      },
      "source": [
        "type(tips)"
      ],
      "execution_count": null,
      "outputs": [
        {
          "output_type": "execute_result",
          "data": {
            "text/plain": [
              "pandas.core.frame.DataFrame"
            ]
          },
          "metadata": {
            "tags": []
          },
          "execution_count": 119
        }
      ]
    },
    {
      "cell_type": "code",
      "metadata": {
        "colab": {
          "base_uri": "https://localhost:8080/"
        },
        "id": "-0HvGM0w3gUK",
        "outputId": "2a3f981e-4dd5-4be4-c4b3-466a7f9f349b"
      },
      "source": [
        "type(tips[\"smoker\"])"
      ],
      "execution_count": null,
      "outputs": [
        {
          "output_type": "execute_result",
          "data": {
            "text/plain": [
              "pandas.core.series.Series"
            ]
          },
          "metadata": {
            "tags": []
          },
          "execution_count": 120
        }
      ]
    },
    {
      "cell_type": "markdown",
      "metadata": {
        "id": "-LOSBfyURlSn"
      },
      "source": [
        "   # Creating New DataFrames \n",
        "       # Two examples "
      ]
    },
    {
      "cell_type": "code",
      "metadata": {
        "id": "uNe864dERlSo",
        "colab": {
          "base_uri": "https://localhost:8080/",
          "height": 419
        },
        "outputId": "44e85515-4625-416b-e84d-edf4b9b935e8"
      },
      "source": [
        "df2 = tips[['sex','day']]\n",
        "df2"
      ],
      "execution_count": null,
      "outputs": [
        {
          "output_type": "execute_result",
          "data": {
            "text/html": [
              "<div>\n",
              "<style scoped>\n",
              "    .dataframe tbody tr th:only-of-type {\n",
              "        vertical-align: middle;\n",
              "    }\n",
              "\n",
              "    .dataframe tbody tr th {\n",
              "        vertical-align: top;\n",
              "    }\n",
              "\n",
              "    .dataframe thead th {\n",
              "        text-align: right;\n",
              "    }\n",
              "</style>\n",
              "<table border=\"1\" class=\"dataframe\">\n",
              "  <thead>\n",
              "    <tr style=\"text-align: right;\">\n",
              "      <th></th>\n",
              "      <th>sex</th>\n",
              "      <th>day</th>\n",
              "    </tr>\n",
              "  </thead>\n",
              "  <tbody>\n",
              "    <tr>\n",
              "      <th>0</th>\n",
              "      <td>Female</td>\n",
              "      <td>Sun</td>\n",
              "    </tr>\n",
              "    <tr>\n",
              "      <th>1</th>\n",
              "      <td>Male</td>\n",
              "      <td>Sun</td>\n",
              "    </tr>\n",
              "    <tr>\n",
              "      <th>2</th>\n",
              "      <td>Male</td>\n",
              "      <td>Sun</td>\n",
              "    </tr>\n",
              "    <tr>\n",
              "      <th>3</th>\n",
              "      <td>Male</td>\n",
              "      <td>Sun</td>\n",
              "    </tr>\n",
              "    <tr>\n",
              "      <th>4</th>\n",
              "      <td>Female</td>\n",
              "      <td>Sun</td>\n",
              "    </tr>\n",
              "    <tr>\n",
              "      <th>...</th>\n",
              "      <td>...</td>\n",
              "      <td>...</td>\n",
              "    </tr>\n",
              "    <tr>\n",
              "      <th>239</th>\n",
              "      <td>Male</td>\n",
              "      <td>Sat</td>\n",
              "    </tr>\n",
              "    <tr>\n",
              "      <th>240</th>\n",
              "      <td>Female</td>\n",
              "      <td>Sat</td>\n",
              "    </tr>\n",
              "    <tr>\n",
              "      <th>241</th>\n",
              "      <td>Male</td>\n",
              "      <td>Sat</td>\n",
              "    </tr>\n",
              "    <tr>\n",
              "      <th>242</th>\n",
              "      <td>Male</td>\n",
              "      <td>Sat</td>\n",
              "    </tr>\n",
              "    <tr>\n",
              "      <th>243</th>\n",
              "      <td>Female</td>\n",
              "      <td>Thur</td>\n",
              "    </tr>\n",
              "  </tbody>\n",
              "</table>\n",
              "<p>244 rows × 2 columns</p>\n",
              "</div>"
            ],
            "text/plain": [
              "        sex   day\n",
              "0    Female   Sun\n",
              "1      Male   Sun\n",
              "2      Male   Sun\n",
              "3      Male   Sun\n",
              "4    Female   Sun\n",
              "..      ...   ...\n",
              "239    Male   Sat\n",
              "240  Female   Sat\n",
              "241    Male   Sat\n",
              "242    Male   Sat\n",
              "243  Female  Thur\n",
              "\n",
              "[244 rows x 2 columns]"
            ]
          },
          "metadata": {
            "tags": []
          },
          "execution_count": 39
        }
      ]
    },
    {
      "cell_type": "code",
      "metadata": {
        "id": "1q1ecTyTRlSp",
        "colab": {
          "base_uri": "https://localhost:8080/"
        },
        "outputId": "6421d727-34cf-4aa4-d0ac-bc99b5a7d57c"
      },
      "source": [
        "df3 = tips.sex ## tips['sex']\n",
        "df3"
      ],
      "execution_count": null,
      "outputs": [
        {
          "output_type": "execute_result",
          "data": {
            "text/plain": [
              "0      Female\n",
              "1        Male\n",
              "2        Male\n",
              "3        Male\n",
              "4      Female\n",
              "        ...  \n",
              "239      Male\n",
              "240    Female\n",
              "241      Male\n",
              "242      Male\n",
              "243    Female\n",
              "Name: sex, Length: 244, dtype: object"
            ]
          },
          "metadata": {
            "tags": []
          },
          "execution_count": 40
        }
      ]
    },
    {
      "cell_type": "code",
      "metadata": {
        "colab": {
          "base_uri": "https://localhost:8080/",
          "height": 419
        },
        "id": "T6bS8f6dyr1s",
        "outputId": "865c1272-2164-49dc-9625-a72db4dfa44e"
      },
      "source": [
        "tips"
      ],
      "execution_count": null,
      "outputs": [
        {
          "output_type": "execute_result",
          "data": {
            "text/html": [
              "<div>\n",
              "<style scoped>\n",
              "    .dataframe tbody tr th:only-of-type {\n",
              "        vertical-align: middle;\n",
              "    }\n",
              "\n",
              "    .dataframe tbody tr th {\n",
              "        vertical-align: top;\n",
              "    }\n",
              "\n",
              "    .dataframe thead th {\n",
              "        text-align: right;\n",
              "    }\n",
              "</style>\n",
              "<table border=\"1\" class=\"dataframe\">\n",
              "  <thead>\n",
              "    <tr style=\"text-align: right;\">\n",
              "      <th></th>\n",
              "      <th>total_bill</th>\n",
              "      <th>tip</th>\n",
              "      <th>sex</th>\n",
              "      <th>smoker</th>\n",
              "      <th>day</th>\n",
              "      <th>time</th>\n",
              "      <th>size</th>\n",
              "    </tr>\n",
              "  </thead>\n",
              "  <tbody>\n",
              "    <tr>\n",
              "      <th>0</th>\n",
              "      <td>16.99</td>\n",
              "      <td>1.01</td>\n",
              "      <td>Female</td>\n",
              "      <td>No</td>\n",
              "      <td>Sun</td>\n",
              "      <td>Dinner</td>\n",
              "      <td>2</td>\n",
              "    </tr>\n",
              "    <tr>\n",
              "      <th>1</th>\n",
              "      <td>10.34</td>\n",
              "      <td>1.66</td>\n",
              "      <td>Male</td>\n",
              "      <td>No</td>\n",
              "      <td>Sun</td>\n",
              "      <td>Dinner</td>\n",
              "      <td>3</td>\n",
              "    </tr>\n",
              "    <tr>\n",
              "      <th>2</th>\n",
              "      <td>21.01</td>\n",
              "      <td>3.50</td>\n",
              "      <td>Male</td>\n",
              "      <td>No</td>\n",
              "      <td>Sun</td>\n",
              "      <td>Dinner</td>\n",
              "      <td>3</td>\n",
              "    </tr>\n",
              "    <tr>\n",
              "      <th>3</th>\n",
              "      <td>23.68</td>\n",
              "      <td>3.31</td>\n",
              "      <td>Male</td>\n",
              "      <td>No</td>\n",
              "      <td>Sun</td>\n",
              "      <td>Dinner</td>\n",
              "      <td>2</td>\n",
              "    </tr>\n",
              "    <tr>\n",
              "      <th>4</th>\n",
              "      <td>24.59</td>\n",
              "      <td>3.61</td>\n",
              "      <td>Female</td>\n",
              "      <td>No</td>\n",
              "      <td>Sun</td>\n",
              "      <td>Dinner</td>\n",
              "      <td>4</td>\n",
              "    </tr>\n",
              "    <tr>\n",
              "      <th>...</th>\n",
              "      <td>...</td>\n",
              "      <td>...</td>\n",
              "      <td>...</td>\n",
              "      <td>...</td>\n",
              "      <td>...</td>\n",
              "      <td>...</td>\n",
              "      <td>...</td>\n",
              "    </tr>\n",
              "    <tr>\n",
              "      <th>239</th>\n",
              "      <td>29.03</td>\n",
              "      <td>5.92</td>\n",
              "      <td>Male</td>\n",
              "      <td>No</td>\n",
              "      <td>Sat</td>\n",
              "      <td>Dinner</td>\n",
              "      <td>3</td>\n",
              "    </tr>\n",
              "    <tr>\n",
              "      <th>240</th>\n",
              "      <td>27.18</td>\n",
              "      <td>2.00</td>\n",
              "      <td>Female</td>\n",
              "      <td>Yes</td>\n",
              "      <td>Sat</td>\n",
              "      <td>Dinner</td>\n",
              "      <td>2</td>\n",
              "    </tr>\n",
              "    <tr>\n",
              "      <th>241</th>\n",
              "      <td>22.67</td>\n",
              "      <td>2.00</td>\n",
              "      <td>Male</td>\n",
              "      <td>Yes</td>\n",
              "      <td>Sat</td>\n",
              "      <td>Dinner</td>\n",
              "      <td>2</td>\n",
              "    </tr>\n",
              "    <tr>\n",
              "      <th>242</th>\n",
              "      <td>17.82</td>\n",
              "      <td>1.75</td>\n",
              "      <td>Male</td>\n",
              "      <td>No</td>\n",
              "      <td>Sat</td>\n",
              "      <td>Dinner</td>\n",
              "      <td>2</td>\n",
              "    </tr>\n",
              "    <tr>\n",
              "      <th>243</th>\n",
              "      <td>18.78</td>\n",
              "      <td>3.00</td>\n",
              "      <td>Female</td>\n",
              "      <td>No</td>\n",
              "      <td>Thur</td>\n",
              "      <td>Dinner</td>\n",
              "      <td>2</td>\n",
              "    </tr>\n",
              "  </tbody>\n",
              "</table>\n",
              "<p>244 rows × 7 columns</p>\n",
              "</div>"
            ],
            "text/plain": [
              "     total_bill   tip     sex smoker   day    time  size\n",
              "0         16.99  1.01  Female     No   Sun  Dinner     2\n",
              "1         10.34  1.66    Male     No   Sun  Dinner     3\n",
              "2         21.01  3.50    Male     No   Sun  Dinner     3\n",
              "3         23.68  3.31    Male     No   Sun  Dinner     2\n",
              "4         24.59  3.61  Female     No   Sun  Dinner     4\n",
              "..          ...   ...     ...    ...   ...     ...   ...\n",
              "239       29.03  5.92    Male     No   Sat  Dinner     3\n",
              "240       27.18  2.00  Female    Yes   Sat  Dinner     2\n",
              "241       22.67  2.00    Male    Yes   Sat  Dinner     2\n",
              "242       17.82  1.75    Male     No   Sat  Dinner     2\n",
              "243       18.78  3.00  Female     No  Thur  Dinner     2\n",
              "\n",
              "[244 rows x 7 columns]"
            ]
          },
          "metadata": {
            "tags": []
          },
          "execution_count": 41
        }
      ]
    },
    {
      "cell_type": "code",
      "metadata": {
        "id": "ggcz4LHmRlSq",
        "colab": {
          "base_uri": "https://localhost:8080/"
        },
        "outputId": "867615db-c947-4478-bdcb-52d31f9a329b"
      },
      "source": [
        "tips.loc[0:1,'sex']"
      ],
      "execution_count": null,
      "outputs": [
        {
          "output_type": "execute_result",
          "data": {
            "text/plain": [
              "0    Female\n",
              "1      Male\n",
              "Name: sex, dtype: object"
            ]
          },
          "metadata": {
            "tags": []
          },
          "execution_count": 42
        }
      ]
    },
    {
      "cell_type": "code",
      "metadata": {
        "id": "qFNEnK0JRlSq",
        "colab": {
          "base_uri": "https://localhost:8080/"
        },
        "outputId": "6d27877c-3f76-44aa-83d3-b55294f732e4"
      },
      "source": [
        "tips.loc[3,'size']"
      ],
      "execution_count": null,
      "outputs": [
        {
          "output_type": "execute_result",
          "data": {
            "text/plain": [
              "2"
            ]
          },
          "metadata": {
            "tags": []
          },
          "execution_count": 43
        }
      ]
    },
    {
      "cell_type": "code",
      "metadata": {
        "id": "vLYedejxRlSr",
        "colab": {
          "base_uri": "https://localhost:8080/"
        },
        "outputId": "d776a64b-ae2b-46f5-dda6-54702c46780d"
      },
      "source": [
        "tips.iloc[4,0]"
      ],
      "execution_count": null,
      "outputs": [
        {
          "output_type": "execute_result",
          "data": {
            "text/plain": [
              "24.59"
            ]
          },
          "metadata": {
            "tags": []
          },
          "execution_count": 44
        }
      ]
    },
    {
      "cell_type": "code",
      "metadata": {
        "id": "FNu_FuyQRlSs",
        "colab": {
          "base_uri": "https://localhost:8080/"
        },
        "outputId": "f5c9e54c-b4ea-46fd-bda9-d4f4a1da7f18"
      },
      "source": [
        "tips.iloc[4,2:5]"
      ],
      "execution_count": null,
      "outputs": [
        {
          "output_type": "execute_result",
          "data": {
            "text/plain": [
              "sex       Female\n",
              "smoker        No\n",
              "day          Sun\n",
              "Name: 4, dtype: object"
            ]
          },
          "metadata": {
            "tags": []
          },
          "execution_count": 45
        }
      ]
    },
    {
      "cell_type": "code",
      "metadata": {
        "id": "PEktz40zRlSs",
        "colab": {
          "base_uri": "https://localhost:8080/",
          "height": 204
        },
        "outputId": "30619b0f-4c2a-4b35-f6d5-5586e6f21028"
      },
      "source": [
        "tips[['total_bill', 'tip', 'smoker', 'time']].head(5)"
      ],
      "execution_count": null,
      "outputs": [
        {
          "output_type": "execute_result",
          "data": {
            "text/html": [
              "<div>\n",
              "<style scoped>\n",
              "    .dataframe tbody tr th:only-of-type {\n",
              "        vertical-align: middle;\n",
              "    }\n",
              "\n",
              "    .dataframe tbody tr th {\n",
              "        vertical-align: top;\n",
              "    }\n",
              "\n",
              "    .dataframe thead th {\n",
              "        text-align: right;\n",
              "    }\n",
              "</style>\n",
              "<table border=\"1\" class=\"dataframe\">\n",
              "  <thead>\n",
              "    <tr style=\"text-align: right;\">\n",
              "      <th></th>\n",
              "      <th>total_bill</th>\n",
              "      <th>tip</th>\n",
              "      <th>smoker</th>\n",
              "      <th>time</th>\n",
              "    </tr>\n",
              "  </thead>\n",
              "  <tbody>\n",
              "    <tr>\n",
              "      <th>0</th>\n",
              "      <td>16.99</td>\n",
              "      <td>1.01</td>\n",
              "      <td>No</td>\n",
              "      <td>Dinner</td>\n",
              "    </tr>\n",
              "    <tr>\n",
              "      <th>1</th>\n",
              "      <td>10.34</td>\n",
              "      <td>1.66</td>\n",
              "      <td>No</td>\n",
              "      <td>Dinner</td>\n",
              "    </tr>\n",
              "    <tr>\n",
              "      <th>2</th>\n",
              "      <td>21.01</td>\n",
              "      <td>3.50</td>\n",
              "      <td>No</td>\n",
              "      <td>Dinner</td>\n",
              "    </tr>\n",
              "    <tr>\n",
              "      <th>3</th>\n",
              "      <td>23.68</td>\n",
              "      <td>3.31</td>\n",
              "      <td>No</td>\n",
              "      <td>Dinner</td>\n",
              "    </tr>\n",
              "    <tr>\n",
              "      <th>4</th>\n",
              "      <td>24.59</td>\n",
              "      <td>3.61</td>\n",
              "      <td>No</td>\n",
              "      <td>Dinner</td>\n",
              "    </tr>\n",
              "  </tbody>\n",
              "</table>\n",
              "</div>"
            ],
            "text/plain": [
              "   total_bill   tip smoker    time\n",
              "0       16.99  1.01     No  Dinner\n",
              "1       10.34  1.66     No  Dinner\n",
              "2       21.01  3.50     No  Dinner\n",
              "3       23.68  3.31     No  Dinner\n",
              "4       24.59  3.61     No  Dinner"
            ]
          },
          "metadata": {
            "tags": []
          },
          "execution_count": 46
        }
      ]
    },
    {
      "cell_type": "code",
      "metadata": {
        "id": "5hTOWa2SRlSt",
        "colab": {
          "base_uri": "https://localhost:8080/",
          "height": 204
        },
        "outputId": "b40456e2-07dd-403a-f5a2-f5f304b8dcba"
      },
      "source": [
        "tips[tips['time'] == 'Dinner'].head(5)"
      ],
      "execution_count": null,
      "outputs": [
        {
          "output_type": "execute_result",
          "data": {
            "text/html": [
              "<div>\n",
              "<style scoped>\n",
              "    .dataframe tbody tr th:only-of-type {\n",
              "        vertical-align: middle;\n",
              "    }\n",
              "\n",
              "    .dataframe tbody tr th {\n",
              "        vertical-align: top;\n",
              "    }\n",
              "\n",
              "    .dataframe thead th {\n",
              "        text-align: right;\n",
              "    }\n",
              "</style>\n",
              "<table border=\"1\" class=\"dataframe\">\n",
              "  <thead>\n",
              "    <tr style=\"text-align: right;\">\n",
              "      <th></th>\n",
              "      <th>total_bill</th>\n",
              "      <th>tip</th>\n",
              "      <th>sex</th>\n",
              "      <th>smoker</th>\n",
              "      <th>day</th>\n",
              "      <th>time</th>\n",
              "      <th>size</th>\n",
              "    </tr>\n",
              "  </thead>\n",
              "  <tbody>\n",
              "    <tr>\n",
              "      <th>0</th>\n",
              "      <td>16.99</td>\n",
              "      <td>1.01</td>\n",
              "      <td>Female</td>\n",
              "      <td>No</td>\n",
              "      <td>Sun</td>\n",
              "      <td>Dinner</td>\n",
              "      <td>2</td>\n",
              "    </tr>\n",
              "    <tr>\n",
              "      <th>1</th>\n",
              "      <td>10.34</td>\n",
              "      <td>1.66</td>\n",
              "      <td>Male</td>\n",
              "      <td>No</td>\n",
              "      <td>Sun</td>\n",
              "      <td>Dinner</td>\n",
              "      <td>3</td>\n",
              "    </tr>\n",
              "    <tr>\n",
              "      <th>2</th>\n",
              "      <td>21.01</td>\n",
              "      <td>3.50</td>\n",
              "      <td>Male</td>\n",
              "      <td>No</td>\n",
              "      <td>Sun</td>\n",
              "      <td>Dinner</td>\n",
              "      <td>3</td>\n",
              "    </tr>\n",
              "    <tr>\n",
              "      <th>3</th>\n",
              "      <td>23.68</td>\n",
              "      <td>3.31</td>\n",
              "      <td>Male</td>\n",
              "      <td>No</td>\n",
              "      <td>Sun</td>\n",
              "      <td>Dinner</td>\n",
              "      <td>2</td>\n",
              "    </tr>\n",
              "    <tr>\n",
              "      <th>4</th>\n",
              "      <td>24.59</td>\n",
              "      <td>3.61</td>\n",
              "      <td>Female</td>\n",
              "      <td>No</td>\n",
              "      <td>Sun</td>\n",
              "      <td>Dinner</td>\n",
              "      <td>4</td>\n",
              "    </tr>\n",
              "  </tbody>\n",
              "</table>\n",
              "</div>"
            ],
            "text/plain": [
              "   total_bill   tip     sex smoker  day    time  size\n",
              "0       16.99  1.01  Female     No  Sun  Dinner     2\n",
              "1       10.34  1.66    Male     No  Sun  Dinner     3\n",
              "2       21.01  3.50    Male     No  Sun  Dinner     3\n",
              "3       23.68  3.31    Male     No  Sun  Dinner     2\n",
              "4       24.59  3.61  Female     No  Sun  Dinner     4"
            ]
          },
          "metadata": {
            "tags": []
          },
          "execution_count": 47
        }
      ]
    },
    {
      "cell_type": "code",
      "metadata": {
        "id": "YuWJPjTeRlSt",
        "colab": {
          "base_uri": "https://localhost:8080/"
        },
        "outputId": "a473e042-f64f-4fcf-e8e4-6c0d796878bc"
      },
      "source": [
        "tips_by_sex = tips.groupby('sex').size()\n",
        "tips_by_sex"
      ],
      "execution_count": null,
      "outputs": [
        {
          "output_type": "execute_result",
          "data": {
            "text/plain": [
              "sex\n",
              "Female     87\n",
              "Male      157\n",
              "dtype: int64"
            ]
          },
          "metadata": {
            "tags": []
          },
          "execution_count": 48
        }
      ]
    },
    {
      "cell_type": "code",
      "metadata": {
        "id": "OylmpE6WRlSu",
        "colab": {
          "base_uri": "https://localhost:8080/",
          "height": 279
        },
        "outputId": "9ad9b1c9-cf62-48d1-ae25-7f614acaf484"
      },
      "source": [
        "tips_by_sex.plot.bar(rot=0); #visualização gráfica"
      ],
      "execution_count": null,
      "outputs": [
        {
          "output_type": "display_data",
          "data": {
            "image/png": "[encoded data removed]",
            "text/plain": [
              "<Figure size 432x288 with 1 Axes>"
            ]
          },
          "metadata": {
            "tags": [],
            "needs_background": "light"
          }
        }
      ]
    },
    {
      "cell_type": "code",
      "metadata": {
        "id": "Ebf_5zKcRlSv",
        "colab": {
          "base_uri": "https://localhost:8080/",
          "height": 204
        },
        "outputId": "a9a1b1c7-cc39-4d90-e8fe-3596f22c3c5d"
      },
      "source": [
        "tips_1 = tips.groupby('day').agg({'total_bill': np.max}) #quero que me agrupe, mas que agrupe o máximo da variável que foi agregada (qual a conta máxima paga por dia)\n",
        "tips_1"
      ],
      "execution_count": null,
      "outputs": [
        {
          "output_type": "execute_result",
          "data": {
            "text/html": [
              "<div>\n",
              "<style scoped>\n",
              "    .dataframe tbody tr th:only-of-type {\n",
              "        vertical-align: middle;\n",
              "    }\n",
              "\n",
              "    .dataframe tbody tr th {\n",
              "        vertical-align: top;\n",
              "    }\n",
              "\n",
              "    .dataframe thead th {\n",
              "        text-align: right;\n",
              "    }\n",
              "</style>\n",
              "<table border=\"1\" class=\"dataframe\">\n",
              "  <thead>\n",
              "    <tr style=\"text-align: right;\">\n",
              "      <th></th>\n",
              "      <th>total_bill</th>\n",
              "    </tr>\n",
              "    <tr>\n",
              "      <th>day</th>\n",
              "      <th></th>\n",
              "    </tr>\n",
              "  </thead>\n",
              "  <tbody>\n",
              "    <tr>\n",
              "      <th>Fri</th>\n",
              "      <td>40.17</td>\n",
              "    </tr>\n",
              "    <tr>\n",
              "      <th>Sat</th>\n",
              "      <td>50.81</td>\n",
              "    </tr>\n",
              "    <tr>\n",
              "      <th>Sun</th>\n",
              "      <td>48.17</td>\n",
              "    </tr>\n",
              "    <tr>\n",
              "      <th>Thur</th>\n",
              "      <td>43.11</td>\n",
              "    </tr>\n",
              "  </tbody>\n",
              "</table>\n",
              "</div>"
            ],
            "text/plain": [
              "      total_bill\n",
              "day             \n",
              "Fri        40.17\n",
              "Sat        50.81\n",
              "Sun        48.17\n",
              "Thur       43.11"
            ]
          },
          "metadata": {
            "tags": []
          },
          "execution_count": 50
        }
      ]
    },
    {
      "cell_type": "code",
      "metadata": {
        "id": "Ter0kB7wRlSw",
        "colab": {
          "base_uri": "https://localhost:8080/",
          "height": 248
        },
        "outputId": "7a8ef037-988d-479c-a1de-3d256425aaac"
      },
      "source": [
        "tips_1.plot.pie(y='total_bill');"
      ],
      "execution_count": null,
      "outputs": [
        {
          "output_type": "display_data",
          "data": {
            "image/png": "[encoded data removed]",
            "text/plain": [
              "<Figure size 432x288 with 1 Axes>"
            ]
          },
          "metadata": {
            "tags": []
          }
        }
      ]
    },
    {
      "cell_type": "code",
      "metadata": {
        "id": "EkbywbyMRlSw"
      },
      "source": [
        "df1 = pd.DataFrame({'city': ['Chicago', 'San Francisco', 'New York City'], 'rank': range(1, 4)})\n",
        "df2 = pd.DataFrame({'city': ['Chicago', 'Boston', 'Los Angeles'], 'rank': [1, 4, 5]})"
      ],
      "execution_count": null,
      "outputs": []
    },
    {
      "cell_type": "code",
      "metadata": {
        "id": "sVaX1ZulRlSx",
        "colab": {
          "base_uri": "https://localhost:8080/",
          "height": 142
        },
        "outputId": "7e1ed66e-f9ba-4676-c71c-41bad4fa6294"
      },
      "source": [
        "df1.head()"
      ],
      "execution_count": null,
      "outputs": [
        {
          "output_type": "execute_result",
          "data": {
            "text/html": [
              "<div>\n",
              "<style scoped>\n",
              "    .dataframe tbody tr th:only-of-type {\n",
              "        vertical-align: middle;\n",
              "    }\n",
              "\n",
              "    .dataframe tbody tr th {\n",
              "        vertical-align: top;\n",
              "    }\n",
              "\n",
              "    .dataframe thead th {\n",
              "        text-align: right;\n",
              "    }\n",
              "</style>\n",
              "<table border=\"1\" class=\"dataframe\">\n",
              "  <thead>\n",
              "    <tr style=\"text-align: right;\">\n",
              "      <th></th>\n",
              "      <th>city</th>\n",
              "      <th>rank</th>\n",
              "    </tr>\n",
              "  </thead>\n",
              "  <tbody>\n",
              "    <tr>\n",
              "      <th>0</th>\n",
              "      <td>Chicago</td>\n",
              "      <td>1</td>\n",
              "    </tr>\n",
              "    <tr>\n",
              "      <th>1</th>\n",
              "      <td>San Francisco</td>\n",
              "      <td>2</td>\n",
              "    </tr>\n",
              "    <tr>\n",
              "      <th>2</th>\n",
              "      <td>New York City</td>\n",
              "      <td>3</td>\n",
              "    </tr>\n",
              "  </tbody>\n",
              "</table>\n",
              "</div>"
            ],
            "text/plain": [
              "            city  rank\n",
              "0        Chicago     1\n",
              "1  San Francisco     2\n",
              "2  New York City     3"
            ]
          },
          "metadata": {
            "tags": []
          },
          "execution_count": 53
        }
      ]
    },
    {
      "cell_type": "code",
      "metadata": {
        "id": "TW9MAAPbRlSx",
        "colab": {
          "base_uri": "https://localhost:8080/",
          "height": 142
        },
        "outputId": "3af72b98-a29d-431e-b9ce-12351a62034b"
      },
      "source": [
        "df2.head()"
      ],
      "execution_count": null,
      "outputs": [
        {
          "output_type": "execute_result",
          "data": {
            "text/html": [
              "<div>\n",
              "<style scoped>\n",
              "    .dataframe tbody tr th:only-of-type {\n",
              "        vertical-align: middle;\n",
              "    }\n",
              "\n",
              "    .dataframe tbody tr th {\n",
              "        vertical-align: top;\n",
              "    }\n",
              "\n",
              "    .dataframe thead th {\n",
              "        text-align: right;\n",
              "    }\n",
              "</style>\n",
              "<table border=\"1\" class=\"dataframe\">\n",
              "  <thead>\n",
              "    <tr style=\"text-align: right;\">\n",
              "      <th></th>\n",
              "      <th>city</th>\n",
              "      <th>rank</th>\n",
              "    </tr>\n",
              "  </thead>\n",
              "  <tbody>\n",
              "    <tr>\n",
              "      <th>0</th>\n",
              "      <td>Chicago</td>\n",
              "      <td>1</td>\n",
              "    </tr>\n",
              "    <tr>\n",
              "      <th>1</th>\n",
              "      <td>Boston</td>\n",
              "      <td>4</td>\n",
              "    </tr>\n",
              "    <tr>\n",
              "      <th>2</th>\n",
              "      <td>Los Angeles</td>\n",
              "      <td>5</td>\n",
              "    </tr>\n",
              "  </tbody>\n",
              "</table>\n",
              "</div>"
            ],
            "text/plain": [
              "          city  rank\n",
              "0      Chicago     1\n",
              "1       Boston     4\n",
              "2  Los Angeles     5"
            ]
          },
          "metadata": {
            "tags": []
          },
          "execution_count": 54
        }
      ]
    },
    {
      "cell_type": "code",
      "metadata": {
        "id": "syycqEcrRlSy",
        "colab": {
          "base_uri": "https://localhost:8080/",
          "height": 235
        },
        "outputId": "33ad9ce9-6af1-47f4-8be2-a3d9f4251814"
      },
      "source": [
        "pd.concat([df1, df2])"
      ],
      "execution_count": null,
      "outputs": [
        {
          "output_type": "execute_result",
          "data": {
            "text/html": [
              "<div>\n",
              "<style scoped>\n",
              "    .dataframe tbody tr th:only-of-type {\n",
              "        vertical-align: middle;\n",
              "    }\n",
              "\n",
              "    .dataframe tbody tr th {\n",
              "        vertical-align: top;\n",
              "    }\n",
              "\n",
              "    .dataframe thead th {\n",
              "        text-align: right;\n",
              "    }\n",
              "</style>\n",
              "<table border=\"1\" class=\"dataframe\">\n",
              "  <thead>\n",
              "    <tr style=\"text-align: right;\">\n",
              "      <th></th>\n",
              "      <th>city</th>\n",
              "      <th>rank</th>\n",
              "    </tr>\n",
              "  </thead>\n",
              "  <tbody>\n",
              "    <tr>\n",
              "      <th>0</th>\n",
              "      <td>Chicago</td>\n",
              "      <td>1</td>\n",
              "    </tr>\n",
              "    <tr>\n",
              "      <th>1</th>\n",
              "      <td>San Francisco</td>\n",
              "      <td>2</td>\n",
              "    </tr>\n",
              "    <tr>\n",
              "      <th>2</th>\n",
              "      <td>New York City</td>\n",
              "      <td>3</td>\n",
              "    </tr>\n",
              "    <tr>\n",
              "      <th>0</th>\n",
              "      <td>Chicago</td>\n",
              "      <td>1</td>\n",
              "    </tr>\n",
              "    <tr>\n",
              "      <th>1</th>\n",
              "      <td>Boston</td>\n",
              "      <td>4</td>\n",
              "    </tr>\n",
              "    <tr>\n",
              "      <th>2</th>\n",
              "      <td>Los Angeles</td>\n",
              "      <td>5</td>\n",
              "    </tr>\n",
              "  </tbody>\n",
              "</table>\n",
              "</div>"
            ],
            "text/plain": [
              "            city  rank\n",
              "0        Chicago     1\n",
              "1  San Francisco     2\n",
              "2  New York City     3\n",
              "0        Chicago     1\n",
              "1         Boston     4\n",
              "2    Los Angeles     5"
            ]
          },
          "metadata": {
            "tags": []
          },
          "execution_count": 55
        }
      ]
    },
    {
      "cell_type": "code",
      "metadata": {
        "id": "CzyPOQuERlSz",
        "colab": {
          "base_uri": "https://localhost:8080/",
          "height": 204
        },
        "outputId": "b3813adb-d826-4397-828e-5fd89c896f8b"
      },
      "source": [
        "DataFrame = pd.concat([df1, df2]).drop_duplicates()\n",
        "DataFrame"
      ],
      "execution_count": null,
      "outputs": [
        {
          "output_type": "execute_result",
          "data": {
            "text/html": [
              "<div>\n",
              "<style scoped>\n",
              "    .dataframe tbody tr th:only-of-type {\n",
              "        vertical-align: middle;\n",
              "    }\n",
              "\n",
              "    .dataframe tbody tr th {\n",
              "        vertical-align: top;\n",
              "    }\n",
              "\n",
              "    .dataframe thead th {\n",
              "        text-align: right;\n",
              "    }\n",
              "</style>\n",
              "<table border=\"1\" class=\"dataframe\">\n",
              "  <thead>\n",
              "    <tr style=\"text-align: right;\">\n",
              "      <th></th>\n",
              "      <th>city</th>\n",
              "      <th>rank</th>\n",
              "    </tr>\n",
              "  </thead>\n",
              "  <tbody>\n",
              "    <tr>\n",
              "      <th>0</th>\n",
              "      <td>Chicago</td>\n",
              "      <td>1</td>\n",
              "    </tr>\n",
              "    <tr>\n",
              "      <th>1</th>\n",
              "      <td>San Francisco</td>\n",
              "      <td>2</td>\n",
              "    </tr>\n",
              "    <tr>\n",
              "      <th>2</th>\n",
              "      <td>New York City</td>\n",
              "      <td>3</td>\n",
              "    </tr>\n",
              "    <tr>\n",
              "      <th>1</th>\n",
              "      <td>Boston</td>\n",
              "      <td>4</td>\n",
              "    </tr>\n",
              "    <tr>\n",
              "      <th>2</th>\n",
              "      <td>Los Angeles</td>\n",
              "      <td>5</td>\n",
              "    </tr>\n",
              "  </tbody>\n",
              "</table>\n",
              "</div>"
            ],
            "text/plain": [
              "            city  rank\n",
              "0        Chicago     1\n",
              "1  San Francisco     2\n",
              "2  New York City     3\n",
              "1         Boston     4\n",
              "2    Los Angeles     5"
            ]
          },
          "metadata": {
            "tags": []
          },
          "execution_count": 56
        }
      ]
    },
    {
      "cell_type": "code",
      "metadata": {
        "id": "_goWD-CQRlS0",
        "colab": {
          "base_uri": "https://localhost:8080/",
          "height": 204
        },
        "outputId": "13757645-6d0d-4a6a-dfa8-9b7a37d31536"
      },
      "source": [
        "DataFrame.reset_index(inplace = True)\n",
        "DataFrame\n"
      ],
      "execution_count": null,
      "outputs": [
        {
          "output_type": "execute_result",
          "data": {
            "text/html": [
              "<div>\n",
              "<style scoped>\n",
              "    .dataframe tbody tr th:only-of-type {\n",
              "        vertical-align: middle;\n",
              "    }\n",
              "\n",
              "    .dataframe tbody tr th {\n",
              "        vertical-align: top;\n",
              "    }\n",
              "\n",
              "    .dataframe thead th {\n",
              "        text-align: right;\n",
              "    }\n",
              "</style>\n",
              "<table border=\"1\" class=\"dataframe\">\n",
              "  <thead>\n",
              "    <tr style=\"text-align: right;\">\n",
              "      <th></th>\n",
              "      <th>index</th>\n",
              "      <th>city</th>\n",
              "      <th>rank</th>\n",
              "    </tr>\n",
              "  </thead>\n",
              "  <tbody>\n",
              "    <tr>\n",
              "      <th>0</th>\n",
              "      <td>0</td>\n",
              "      <td>Chicago</td>\n",
              "      <td>1</td>\n",
              "    </tr>\n",
              "    <tr>\n",
              "      <th>1</th>\n",
              "      <td>1</td>\n",
              "      <td>San Francisco</td>\n",
              "      <td>2</td>\n",
              "    </tr>\n",
              "    <tr>\n",
              "      <th>2</th>\n",
              "      <td>2</td>\n",
              "      <td>New York City</td>\n",
              "      <td>3</td>\n",
              "    </tr>\n",
              "    <tr>\n",
              "      <th>3</th>\n",
              "      <td>1</td>\n",
              "      <td>Boston</td>\n",
              "      <td>4</td>\n",
              "    </tr>\n",
              "    <tr>\n",
              "      <th>4</th>\n",
              "      <td>2</td>\n",
              "      <td>Los Angeles</td>\n",
              "      <td>5</td>\n",
              "    </tr>\n",
              "  </tbody>\n",
              "</table>\n",
              "</div>"
            ],
            "text/plain": [
              "   index           city  rank\n",
              "0      0        Chicago     1\n",
              "1      1  San Francisco     2\n",
              "2      2  New York City     3\n",
              "3      1         Boston     4\n",
              "4      2    Los Angeles     5"
            ]
          },
          "metadata": {
            "tags": []
          },
          "execution_count": 57
        }
      ]
    },
    {
      "cell_type": "code",
      "metadata": {
        "id": "RQhN5BmfRlS0"
      },
      "source": [
        "tips.to_csv('tips2.csv')    "
      ],
      "execution_count": null,
      "outputs": []
    },
    {
      "cell_type": "code",
      "metadata": {
        "id": "TQakd46uRlS1",
        "colab": {
          "base_uri": "https://localhost:8080/"
        },
        "outputId": "cef7d969-821c-4da7-df05-b6524122e202"
      },
      "source": [
        "df_data = pd.read_csv('http://mscbio2025.csb.pitt.edu/files/Spellman.csv')\n",
        "df_data.columns\n"
      ],
      "execution_count": null,
      "outputs": [
        {
          "output_type": "execute_result",
          "data": {
            "text/plain": [
              "Index(['time', '40', '50', '60', '70', '80', '90', '100', '110', '120', '130',\n",
              "       '140', '150', '160', '170', '180', '190', '200', '210', '220', '230',\n",
              "       '240', '250', '260'],\n",
              "      dtype='object')"
            ]
          },
          "metadata": {
            "tags": []
          },
          "execution_count": 59
        }
      ]
    },
    {
      "cell_type": "markdown",
      "metadata": {
        "id": "WNh_5GJIsNO9"
      },
      "source": [
        "###Analisando dados de um arquivo CSV\n",
        "\n",
        "1 - Read_csv()\n",
        "\n",
        "2 - Verificar o conteúdo - Head(), Columms\n",
        "\n",
        "3 - Tipos de Dados - Info ()\n",
        "\n",
        "4 - Extrato Estatístico - Describe()\n",
        "\n",
        "5 - Iniciar uma verificação de integridade e consistência"
      ]
    },
    {
      "cell_type": "code",
      "metadata": {
        "colab": {
          "base_uri": "https://localhost:8080/",
          "height": 204
        },
        "id": "DfcrNy_vInsO",
        "outputId": "89a629b8-948b-41c8-e1f4-d4562ec98bba"
      },
      "source": [
        "df_data.head()"
      ],
      "execution_count": null,
      "outputs": [
        {
          "output_type": "execute_result",
          "data": {
            "text/html": [
              "<div>\n",
              "<style scoped>\n",
              "    .dataframe tbody tr th:only-of-type {\n",
              "        vertical-align: middle;\n",
              "    }\n",
              "\n",
              "    .dataframe tbody tr th {\n",
              "        vertical-align: top;\n",
              "    }\n",
              "\n",
              "    .dataframe thead th {\n",
              "        text-align: right;\n",
              "    }\n",
              "</style>\n",
              "<table border=\"1\" class=\"dataframe\">\n",
              "  <thead>\n",
              "    <tr style=\"text-align: right;\">\n",
              "      <th></th>\n",
              "      <th>time</th>\n",
              "      <th>40</th>\n",
              "      <th>50</th>\n",
              "      <th>60</th>\n",
              "      <th>70</th>\n",
              "      <th>80</th>\n",
              "      <th>90</th>\n",
              "      <th>100</th>\n",
              "      <th>110</th>\n",
              "      <th>120</th>\n",
              "      <th>130</th>\n",
              "      <th>140</th>\n",
              "      <th>150</th>\n",
              "      <th>160</th>\n",
              "      <th>170</th>\n",
              "      <th>180</th>\n",
              "      <th>190</th>\n",
              "      <th>200</th>\n",
              "      <th>210</th>\n",
              "      <th>220</th>\n",
              "      <th>230</th>\n",
              "      <th>240</th>\n",
              "      <th>250</th>\n",
              "      <th>260</th>\n",
              "    </tr>\n",
              "  </thead>\n",
              "  <tbody>\n",
              "    <tr>\n",
              "      <th>0</th>\n",
              "      <td>YAL001C</td>\n",
              "      <td>-0.070</td>\n",
              "      <td>-0.23</td>\n",
              "      <td>-0.100</td>\n",
              "      <td>0.03</td>\n",
              "      <td>-0.04</td>\n",
              "      <td>-0.12</td>\n",
              "      <td>-0.28</td>\n",
              "      <td>-0.44</td>\n",
              "      <td>-0.09</td>\n",
              "      <td>0.12</td>\n",
              "      <td>0.06</td>\n",
              "      <td>-0.04</td>\n",
              "      <td>0.31</td>\n",
              "      <td>0.59</td>\n",
              "      <td>0.34</td>\n",
              "      <td>-0.28</td>\n",
              "      <td>-0.09</td>\n",
              "      <td>-0.44</td>\n",
              "      <td>0.31</td>\n",
              "      <td>0.03</td>\n",
              "      <td>0.57</td>\n",
              "      <td>0.00</td>\n",
              "      <td>0.010</td>\n",
              "    </tr>\n",
              "    <tr>\n",
              "      <th>1</th>\n",
              "      <td>YAL014C</td>\n",
              "      <td>0.215</td>\n",
              "      <td>0.09</td>\n",
              "      <td>0.025</td>\n",
              "      <td>-0.04</td>\n",
              "      <td>-0.04</td>\n",
              "      <td>-0.02</td>\n",
              "      <td>-0.51</td>\n",
              "      <td>-0.08</td>\n",
              "      <td>0.00</td>\n",
              "      <td>0.46</td>\n",
              "      <td>-0.19</td>\n",
              "      <td>0.04</td>\n",
              "      <td>0.18</td>\n",
              "      <td>-0.30</td>\n",
              "      <td>-0.38</td>\n",
              "      <td>0.07</td>\n",
              "      <td>-0.04</td>\n",
              "      <td>0.13</td>\n",
              "      <td>-0.06</td>\n",
              "      <td>-0.26</td>\n",
              "      <td>-0.10</td>\n",
              "      <td>0.27</td>\n",
              "      <td>0.235</td>\n",
              "    </tr>\n",
              "    <tr>\n",
              "      <th>2</th>\n",
              "      <td>YAL016W</td>\n",
              "      <td>0.150</td>\n",
              "      <td>0.15</td>\n",
              "      <td>0.220</td>\n",
              "      <td>0.29</td>\n",
              "      <td>-0.10</td>\n",
              "      <td>0.15</td>\n",
              "      <td>-0.73</td>\n",
              "      <td>0.19</td>\n",
              "      <td>-0.15</td>\n",
              "      <td>0.29</td>\n",
              "      <td>-0.08</td>\n",
              "      <td>0.16</td>\n",
              "      <td>-0.05</td>\n",
              "      <td>0.12</td>\n",
              "      <td>-0.17</td>\n",
              "      <td>0.11</td>\n",
              "      <td>-0.15</td>\n",
              "      <td>0.03</td>\n",
              "      <td>-0.26</td>\n",
              "      <td>-0.34</td>\n",
              "      <td>-0.34</td>\n",
              "      <td>0.25</td>\n",
              "      <td>0.190</td>\n",
              "    </tr>\n",
              "    <tr>\n",
              "      <th>3</th>\n",
              "      <td>YAL020C</td>\n",
              "      <td>-0.350</td>\n",
              "      <td>-0.28</td>\n",
              "      <td>-0.215</td>\n",
              "      <td>-0.15</td>\n",
              "      <td>0.16</td>\n",
              "      <td>-0.12</td>\n",
              "      <td>0.26</td>\n",
              "      <td>0.00</td>\n",
              "      <td>0.13</td>\n",
              "      <td>-0.20</td>\n",
              "      <td>-0.07</td>\n",
              "      <td>-0.05</td>\n",
              "      <td>0.43</td>\n",
              "      <td>0.07</td>\n",
              "      <td>0.61</td>\n",
              "      <td>-0.20</td>\n",
              "      <td>0.49</td>\n",
              "      <td>-0.43</td>\n",
              "      <td>0.80</td>\n",
              "      <td>-0.47</td>\n",
              "      <td>1.01</td>\n",
              "      <td>-0.36</td>\n",
              "      <td>-0.405</td>\n",
              "    </tr>\n",
              "    <tr>\n",
              "      <th>4</th>\n",
              "      <td>YAL022C</td>\n",
              "      <td>-0.415</td>\n",
              "      <td>-0.59</td>\n",
              "      <td>-0.580</td>\n",
              "      <td>-0.57</td>\n",
              "      <td>-0.09</td>\n",
              "      <td>-0.34</td>\n",
              "      <td>0.49</td>\n",
              "      <td>0.32</td>\n",
              "      <td>1.15</td>\n",
              "      <td>0.20</td>\n",
              "      <td>0.31</td>\n",
              "      <td>-0.28</td>\n",
              "      <td>-0.01</td>\n",
              "      <td>-0.48</td>\n",
              "      <td>-0.40</td>\n",
              "      <td>-0.59</td>\n",
              "      <td>0.54</td>\n",
              "      <td>-0.09</td>\n",
              "      <td>1.03</td>\n",
              "      <td>0.08</td>\n",
              "      <td>0.57</td>\n",
              "      <td>-0.26</td>\n",
              "      <td>-0.310</td>\n",
              "    </tr>\n",
              "  </tbody>\n",
              "</table>\n",
              "</div>"
            ],
            "text/plain": [
              "      time     40    50     60    70    80  ...   210   220   230   240   250    260\n",
              "0  YAL001C -0.070 -0.23 -0.100  0.03 -0.04  ... -0.44  0.31  0.03  0.57  0.00  0.010\n",
              "1  YAL014C  0.215  0.09  0.025 -0.04 -0.04  ...  0.13 -0.06 -0.26 -0.10  0.27  0.235\n",
              "2  YAL016W  0.150  0.15  0.220  0.29 -0.10  ...  0.03 -0.26 -0.34 -0.34  0.25  0.190\n",
              "3  YAL020C -0.350 -0.28 -0.215 -0.15  0.16  ... -0.43  0.80 -0.47  1.01 -0.36 -0.405\n",
              "4  YAL022C -0.415 -0.59 -0.580 -0.57 -0.09  ... -0.09  1.03  0.08  0.57 -0.26 -0.310\n",
              "\n",
              "[5 rows x 24 columns]"
            ]
          },
          "metadata": {
            "tags": []
          },
          "execution_count": 60
        }
      ]
    },
    {
      "cell_type": "code",
      "metadata": {
        "colab": {
          "base_uri": "https://localhost:8080/"
        },
        "id": "3lur7sMFynSk",
        "outputId": "8b4800b0-6a22-461b-952f-4c3a72f2b274"
      },
      "source": [
        "df_data.dtypes"
      ],
      "execution_count": null,
      "outputs": [
        {
          "output_type": "execute_result",
          "data": {
            "text/plain": [
              "time     object\n",
              "40      float64\n",
              "50      float64\n",
              "60      float64\n",
              "70      float64\n",
              "80      float64\n",
              "90      float64\n",
              "100     float64\n",
              "110     float64\n",
              "120     float64\n",
              "130     float64\n",
              "140     float64\n",
              "150     float64\n",
              "160     float64\n",
              "170     float64\n",
              "180     float64\n",
              "190     float64\n",
              "200     float64\n",
              "210     float64\n",
              "220     float64\n",
              "230     float64\n",
              "240     float64\n",
              "250     float64\n",
              "260     float64\n",
              "dtype: object"
            ]
          },
          "metadata": {
            "tags": []
          },
          "execution_count": 61
        }
      ]
    },
    {
      "cell_type": "code",
      "metadata": {
        "colab": {
          "base_uri": "https://localhost:8080/"
        },
        "id": "aKjRu10Ov0yA",
        "outputId": "5aa7a54a-0727-42d5-dcbe-34be11d4ef8c"
      },
      "source": [
        "df_data.info()"
      ],
      "execution_count": null,
      "outputs": [
        {
          "output_type": "stream",
          "text": [
            "<class 'pandas.core.frame.DataFrame'>\n",
            "RangeIndex: 4381 entries, 0 to 4380\n",
            "Data columns (total 24 columns):\n",
            " #   Column  Non-Null Count  Dtype  \n",
            "---  ------  --------------  -----  \n",
            " 0   time    4381 non-null   object \n",
            " 1   40      4381 non-null   float64\n",
            " 2   50      4381 non-null   float64\n",
            " 3   60      4381 non-null   float64\n",
            " 4   70      4381 non-null   float64\n",
            " 5   80      4381 non-null   float64\n",
            " 6   90      4381 non-null   float64\n",
            " 7   100     4381 non-null   float64\n",
            " 8   110     4381 non-null   float64\n",
            " 9   120     4381 non-null   float64\n",
            " 10  130     4381 non-null   float64\n",
            " 11  140     4381 non-null   float64\n",
            " 12  150     4381 non-null   float64\n",
            " 13  160     4381 non-null   float64\n",
            " 14  170     4381 non-null   float64\n",
            " 15  180     4381 non-null   float64\n",
            " 16  190     4381 non-null   float64\n",
            " 17  200     4381 non-null   float64\n",
            " 18  210     4381 non-null   float64\n",
            " 19  220     4381 non-null   float64\n",
            " 20  230     4381 non-null   float64\n",
            " 21  240     4381 non-null   float64\n",
            " 22  250     4381 non-null   float64\n",
            " 23  260     4381 non-null   float64\n",
            "dtypes: float64(23), object(1)\n",
            "memory usage: 821.6+ KB\n"
          ],
          "name": "stdout"
        }
      ]
    },
    {
      "cell_type": "code",
      "metadata": {
        "colab": {
          "base_uri": "https://localhost:8080/",
          "height": 317
        },
        "id": "DW3QTILzwir-",
        "outputId": "38f0b310-e47b-46ac-c391-30cd95866a70"
      },
      "source": [
        "df_data.describe()"
      ],
      "execution_count": null,
      "outputs": [
        {
          "output_type": "execute_result",
          "data": {
            "text/html": [
              "<div>\n",
              "<style scoped>\n",
              "    .dataframe tbody tr th:only-of-type {\n",
              "        vertical-align: middle;\n",
              "    }\n",
              "\n",
              "    .dataframe tbody tr th {\n",
              "        vertical-align: top;\n",
              "    }\n",
              "\n",
              "    .dataframe thead th {\n",
              "        text-align: right;\n",
              "    }\n",
              "</style>\n",
              "<table border=\"1\" class=\"dataframe\">\n",
              "  <thead>\n",
              "    <tr style=\"text-align: right;\">\n",
              "      <th></th>\n",
              "      <th>40</th>\n",
              "      <th>50</th>\n",
              "      <th>60</th>\n",
              "      <th>70</th>\n",
              "      <th>80</th>\n",
              "      <th>90</th>\n",
              "      <th>100</th>\n",
              "      <th>110</th>\n",
              "      <th>120</th>\n",
              "      <th>130</th>\n",
              "      <th>140</th>\n",
              "      <th>150</th>\n",
              "      <th>160</th>\n",
              "      <th>170</th>\n",
              "      <th>180</th>\n",
              "      <th>190</th>\n",
              "      <th>200</th>\n",
              "      <th>210</th>\n",
              "      <th>220</th>\n",
              "      <th>230</th>\n",
              "      <th>240</th>\n",
              "      <th>250</th>\n",
              "      <th>260</th>\n",
              "    </tr>\n",
              "  </thead>\n",
              "  <tbody>\n",
              "    <tr>\n",
              "      <th>count</th>\n",
              "      <td>4381.000000</td>\n",
              "      <td>4381.000000</td>\n",
              "      <td>4381.000000</td>\n",
              "      <td>4381.000000</td>\n",
              "      <td>4381.000000</td>\n",
              "      <td>4381.000000</td>\n",
              "      <td>4381.000000</td>\n",
              "      <td>4381.000000</td>\n",
              "      <td>4381.000000</td>\n",
              "      <td>4381.000000</td>\n",
              "      <td>4381.000000</td>\n",
              "      <td>4381.000000</td>\n",
              "      <td>4381.000000</td>\n",
              "      <td>4381.000000</td>\n",
              "      <td>4381.000000</td>\n",
              "      <td>4381.000000</td>\n",
              "      <td>4381.000000</td>\n",
              "      <td>4381.000000</td>\n",
              "      <td>4381.000000</td>\n",
              "      <td>4381.000000</td>\n",
              "      <td>4381.000000</td>\n",
              "      <td>4381.000000</td>\n",
              "      <td>4381.000000</td>\n",
              "    </tr>\n",
              "    <tr>\n",
              "      <th>mean</th>\n",
              "      <td>0.007301</td>\n",
              "      <td>-0.007348</td>\n",
              "      <td>0.003192</td>\n",
              "      <td>0.013732</td>\n",
              "      <td>-0.010367</td>\n",
              "      <td>-0.030854</td>\n",
              "      <td>0.027231</td>\n",
              "      <td>0.013716</td>\n",
              "      <td>-0.078443</td>\n",
              "      <td>0.056136</td>\n",
              "      <td>-0.095111</td>\n",
              "      <td>0.118838</td>\n",
              "      <td>-0.091586</td>\n",
              "      <td>0.061164</td>\n",
              "      <td>0.022353</td>\n",
              "      <td>-0.033415</td>\n",
              "      <td>-0.021036</td>\n",
              "      <td>-0.025040</td>\n",
              "      <td>0.023294</td>\n",
              "      <td>-0.037893</td>\n",
              "      <td>0.118674</td>\n",
              "      <td>0.016622</td>\n",
              "      <td>-0.012365</td>\n",
              "    </tr>\n",
              "    <tr>\n",
              "      <th>std</th>\n",
              "      <td>0.466731</td>\n",
              "      <td>0.478514</td>\n",
              "      <td>0.361053</td>\n",
              "      <td>0.399159</td>\n",
              "      <td>0.424641</td>\n",
              "      <td>0.425090</td>\n",
              "      <td>0.414527</td>\n",
              "      <td>0.380423</td>\n",
              "      <td>0.483079</td>\n",
              "      <td>0.374063</td>\n",
              "      <td>0.365535</td>\n",
              "      <td>0.354816</td>\n",
              "      <td>0.399038</td>\n",
              "      <td>0.343563</td>\n",
              "      <td>0.472254</td>\n",
              "      <td>0.360631</td>\n",
              "      <td>0.429095</td>\n",
              "      <td>0.346815</td>\n",
              "      <td>0.482878</td>\n",
              "      <td>0.503479</td>\n",
              "      <td>0.496157</td>\n",
              "      <td>0.458676</td>\n",
              "      <td>0.393974</td>\n",
              "    </tr>\n",
              "    <tr>\n",
              "      <th>min</th>\n",
              "      <td>-3.295000</td>\n",
              "      <td>-3.960000</td>\n",
              "      <td>-2.440000</td>\n",
              "      <td>-3.730000</td>\n",
              "      <td>-2.450000</td>\n",
              "      <td>-3.600000</td>\n",
              "      <td>-2.420000</td>\n",
              "      <td>-4.080000</td>\n",
              "      <td>-2.500000</td>\n",
              "      <td>-4.120000</td>\n",
              "      <td>-1.500000</td>\n",
              "      <td>-2.060000</td>\n",
              "      <td>-2.580000</td>\n",
              "      <td>-3.780000</td>\n",
              "      <td>-2.200000</td>\n",
              "      <td>-4.630000</td>\n",
              "      <td>-2.600000</td>\n",
              "      <td>-2.460000</td>\n",
              "      <td>-1.790000</td>\n",
              "      <td>-2.010000</td>\n",
              "      <td>-1.840000</td>\n",
              "      <td>-3.420000</td>\n",
              "      <td>-2.250000</td>\n",
              "    </tr>\n",
              "    <tr>\n",
              "      <th>25%</th>\n",
              "      <td>-0.210000</td>\n",
              "      <td>-0.230000</td>\n",
              "      <td>-0.175000</td>\n",
              "      <td>-0.180000</td>\n",
              "      <td>-0.250000</td>\n",
              "      <td>-0.250000</td>\n",
              "      <td>-0.210000</td>\n",
              "      <td>-0.160000</td>\n",
              "      <td>-0.360000</td>\n",
              "      <td>-0.120000</td>\n",
              "      <td>-0.320000</td>\n",
              "      <td>-0.080000</td>\n",
              "      <td>-0.340000</td>\n",
              "      <td>-0.120000</td>\n",
              "      <td>-0.270000</td>\n",
              "      <td>-0.220000</td>\n",
              "      <td>-0.270000</td>\n",
              "      <td>-0.210000</td>\n",
              "      <td>-0.290000</td>\n",
              "      <td>-0.350000</td>\n",
              "      <td>-0.190000</td>\n",
              "      <td>-0.260000</td>\n",
              "      <td>-0.265000</td>\n",
              "    </tr>\n",
              "    <tr>\n",
              "      <th>50%</th>\n",
              "      <td>0.035000</td>\n",
              "      <td>0.020000</td>\n",
              "      <td>0.030000</td>\n",
              "      <td>0.030000</td>\n",
              "      <td>0.010000</td>\n",
              "      <td>0.010000</td>\n",
              "      <td>0.030000</td>\n",
              "      <td>0.050000</td>\n",
              "      <td>-0.100000</td>\n",
              "      <td>0.070000</td>\n",
              "      <td>-0.130000</td>\n",
              "      <td>0.100000</td>\n",
              "      <td>-0.090000</td>\n",
              "      <td>0.060000</td>\n",
              "      <td>0.030000</td>\n",
              "      <td>0.000000</td>\n",
              "      <td>0.000000</td>\n",
              "      <td>0.000000</td>\n",
              "      <td>0.030000</td>\n",
              "      <td>-0.010000</td>\n",
              "      <td>0.120000</td>\n",
              "      <td>0.000000</td>\n",
              "      <td>-0.040000</td>\n",
              "    </tr>\n",
              "    <tr>\n",
              "      <th>75%</th>\n",
              "      <td>0.270000</td>\n",
              "      <td>0.260000</td>\n",
              "      <td>0.220000</td>\n",
              "      <td>0.230000</td>\n",
              "      <td>0.250000</td>\n",
              "      <td>0.230000</td>\n",
              "      <td>0.260000</td>\n",
              "      <td>0.220000</td>\n",
              "      <td>0.180000</td>\n",
              "      <td>0.260000</td>\n",
              "      <td>0.090000</td>\n",
              "      <td>0.280000</td>\n",
              "      <td>0.160000</td>\n",
              "      <td>0.240000</td>\n",
              "      <td>0.320000</td>\n",
              "      <td>0.190000</td>\n",
              "      <td>0.240000</td>\n",
              "      <td>0.180000</td>\n",
              "      <td>0.340000</td>\n",
              "      <td>0.300000</td>\n",
              "      <td>0.440000</td>\n",
              "      <td>0.280000</td>\n",
              "      <td>0.210000</td>\n",
              "    </tr>\n",
              "    <tr>\n",
              "      <th>max</th>\n",
              "      <td>1.930000</td>\n",
              "      <td>2.060000</td>\n",
              "      <td>1.805000</td>\n",
              "      <td>1.770000</td>\n",
              "      <td>1.880000</td>\n",
              "      <td>4.140000</td>\n",
              "      <td>2.400000</td>\n",
              "      <td>2.760000</td>\n",
              "      <td>3.060000</td>\n",
              "      <td>2.380000</td>\n",
              "      <td>2.440000</td>\n",
              "      <td>2.160000</td>\n",
              "      <td>2.320000</td>\n",
              "      <td>1.950000</td>\n",
              "      <td>2.780000</td>\n",
              "      <td>1.410000</td>\n",
              "      <td>3.010000</td>\n",
              "      <td>2.250000</td>\n",
              "      <td>2.480000</td>\n",
              "      <td>1.960000</td>\n",
              "      <td>2.350000</td>\n",
              "      <td>2.450000</td>\n",
              "      <td>2.640000</td>\n",
              "    </tr>\n",
              "  </tbody>\n",
              "</table>\n",
              "</div>"
            ],
            "text/plain": [
              "                40           50  ...          250          260\n",
              "count  4381.000000  4381.000000  ...  4381.000000  4381.000000\n",
              "mean      0.007301    -0.007348  ...     0.016622    -0.012365\n",
              "std       0.466731     0.478514  ...     0.458676     0.393974\n",
              "min      -3.295000    -3.960000  ...    -3.420000    -2.250000\n",
              "25%      -0.210000    -0.230000  ...    -0.260000    -0.265000\n",
              "50%       0.035000     0.020000  ...     0.000000    -0.040000\n",
              "75%       0.270000     0.260000  ...     0.280000     0.210000\n",
              "max       1.930000     2.060000  ...     2.450000     2.640000\n",
              "\n",
              "[8 rows x 23 columns]"
            ]
          },
          "metadata": {
            "tags": []
          },
          "execution_count": 63
        }
      ]
    },
    {
      "cell_type": "code",
      "metadata": {
        "id": "nPPkuyFJxDTv"
      },
      "source": [
        "df_data.iloc[0,1] = np.nan   #slice do pandas"
      ],
      "execution_count": null,
      "outputs": []
    },
    {
      "cell_type": "code",
      "metadata": {
        "colab": {
          "base_uri": "https://localhost:8080/"
        },
        "id": "fBw9KJrXxtwV",
        "outputId": "d370c9e5-0eee-4cf4-ee0b-01fa3d3d3639"
      },
      "source": [
        "df_data.iloc[0,1]"
      ],
      "execution_count": null,
      "outputs": [
        {
          "output_type": "execute_result",
          "data": {
            "text/plain": [
              "nan"
            ]
          },
          "metadata": {
            "tags": []
          },
          "execution_count": 65
        }
      ]
    },
    {
      "cell_type": "code",
      "metadata": {
        "colab": {
          "base_uri": "https://localhost:8080/"
        },
        "id": "61J3Ou-lyJLR",
        "outputId": "72e4bc68-929d-4338-c169-79f392b732e7"
      },
      "source": [
        "df_data.info() #reparar que na linha 1, uma entrada já não foi cotabilizada"
      ],
      "execution_count": null,
      "outputs": [
        {
          "output_type": "stream",
          "text": [
            "<class 'pandas.core.frame.DataFrame'>\n",
            "RangeIndex: 4381 entries, 0 to 4380\n",
            "Data columns (total 24 columns):\n",
            " #   Column  Non-Null Count  Dtype  \n",
            "---  ------  --------------  -----  \n",
            " 0   time    4381 non-null   object \n",
            " 1   40      4380 non-null   float64\n",
            " 2   50      4381 non-null   float64\n",
            " 3   60      4381 non-null   float64\n",
            " 4   70      4381 non-null   float64\n",
            " 5   80      4381 non-null   float64\n",
            " 6   90      4381 non-null   float64\n",
            " 7   100     4381 non-null   float64\n",
            " 8   110     4381 non-null   float64\n",
            " 9   120     4381 non-null   float64\n",
            " 10  130     4381 non-null   float64\n",
            " 11  140     4381 non-null   float64\n",
            " 12  150     4381 non-null   float64\n",
            " 13  160     4381 non-null   float64\n",
            " 14  170     4381 non-null   float64\n",
            " 15  180     4381 non-null   float64\n",
            " 16  190     4381 non-null   float64\n",
            " 17  200     4381 non-null   float64\n",
            " 18  210     4381 non-null   float64\n",
            " 19  220     4381 non-null   float64\n",
            " 20  230     4381 non-null   float64\n",
            " 21  240     4381 non-null   float64\n",
            " 22  250     4381 non-null   float64\n",
            " 23  260     4381 non-null   float64\n",
            "dtypes: float64(23), object(1)\n",
            "memory usage: 821.6+ KB\n"
          ],
          "name": "stdout"
        }
      ]
    },
    {
      "cell_type": "code",
      "metadata": {
        "colab": {
          "base_uri": "https://localhost:8080/"
        },
        "id": "cV0_Ul7lBpmq",
        "outputId": "64340ca7-e63d-4f1a-c4fd-3a12eb377785"
      },
      "source": [
        "df_data['40'].map(type) #ver, posição a posição, o tipo daquela coluna"
      ],
      "execution_count": null,
      "outputs": [
        {
          "output_type": "execute_result",
          "data": {
            "text/plain": [
              "0       <class 'float'>\n",
              "1       <class 'float'>\n",
              "2       <class 'float'>\n",
              "3       <class 'float'>\n",
              "4       <class 'float'>\n",
              "             ...       \n",
              "4376    <class 'float'>\n",
              "4377    <class 'float'>\n",
              "4378    <class 'float'>\n",
              "4379    <class 'float'>\n",
              "4380    <class 'float'>\n",
              "Name: 40, Length: 4381, dtype: object"
            ]
          },
          "metadata": {
            "tags": []
          },
          "execution_count": 67
        }
      ]
    },
    {
      "cell_type": "code",
      "metadata": {
        "colab": {
          "base_uri": "https://localhost:8080/"
        },
        "id": "fFAyh_klCZKk",
        "outputId": "b6cc5ac4-7f70-4e46-ea33-7e156047d9e6"
      },
      "source": [
        "df_data.iloc[1,1]"
      ],
      "execution_count": null,
      "outputs": [
        {
          "output_type": "execute_result",
          "data": {
            "text/plain": [
              "0.215"
            ]
          },
          "metadata": {
            "tags": []
          },
          "execution_count": 68
        }
      ]
    },
    {
      "cell_type": "code",
      "metadata": {
        "colab": {
          "base_uri": "https://localhost:8080/",
          "height": 419
        },
        "id": "5VFJ_8IAyY6c",
        "outputId": "a6249e80-32be-4c97-90de-c348eabad599"
      },
      "source": [
        "df_data.isna() # verifica linha a linha, se existe alguma posição não numérica"
      ],
      "execution_count": null,
      "outputs": [
        {
          "output_type": "execute_result",
          "data": {
            "text/html": [
              "<div>\n",
              "<style scoped>\n",
              "    .dataframe tbody tr th:only-of-type {\n",
              "        vertical-align: middle;\n",
              "    }\n",
              "\n",
              "    .dataframe tbody tr th {\n",
              "        vertical-align: top;\n",
              "    }\n",
              "\n",
              "    .dataframe thead th {\n",
              "        text-align: right;\n",
              "    }\n",
              "</style>\n",
              "<table border=\"1\" class=\"dataframe\">\n",
              "  <thead>\n",
              "    <tr style=\"text-align: right;\">\n",
              "      <th></th>\n",
              "      <th>time</th>\n",
              "      <th>40</th>\n",
              "      <th>50</th>\n",
              "      <th>60</th>\n",
              "      <th>70</th>\n",
              "      <th>80</th>\n",
              "      <th>90</th>\n",
              "      <th>100</th>\n",
              "      <th>110</th>\n",
              "      <th>120</th>\n",
              "      <th>130</th>\n",
              "      <th>140</th>\n",
              "      <th>150</th>\n",
              "      <th>160</th>\n",
              "      <th>170</th>\n",
              "      <th>180</th>\n",
              "      <th>190</th>\n",
              "      <th>200</th>\n",
              "      <th>210</th>\n",
              "      <th>220</th>\n",
              "      <th>230</th>\n",
              "      <th>240</th>\n",
              "      <th>250</th>\n",
              "      <th>260</th>\n",
              "    </tr>\n",
              "  </thead>\n",
              "  <tbody>\n",
              "    <tr>\n",
              "      <th>0</th>\n",
              "      <td>False</td>\n",
              "      <td>True</td>\n",
              "      <td>False</td>\n",
              "      <td>False</td>\n",
              "      <td>False</td>\n",
              "      <td>False</td>\n",
              "      <td>False</td>\n",
              "      <td>False</td>\n",
              "      <td>False</td>\n",
              "      <td>False</td>\n",
              "      <td>False</td>\n",
              "      <td>False</td>\n",
              "      <td>False</td>\n",
              "      <td>False</td>\n",
              "      <td>False</td>\n",
              "      <td>False</td>\n",
              "      <td>False</td>\n",
              "      <td>False</td>\n",
              "      <td>False</td>\n",
              "      <td>False</td>\n",
              "      <td>False</td>\n",
              "      <td>False</td>\n",
              "      <td>False</td>\n",
              "      <td>False</td>\n",
              "    </tr>\n",
              "    <tr>\n",
              "      <th>1</th>\n",
              "      <td>False</td>\n",
              "      <td>False</td>\n",
              "      <td>False</td>\n",
              "      <td>False</td>\n",
              "      <td>False</td>\n",
              "      <td>False</td>\n",
              "      <td>False</td>\n",
              "      <td>False</td>\n",
              "      <td>False</td>\n",
              "      <td>False</td>\n",
              "      <td>False</td>\n",
              "      <td>False</td>\n",
              "      <td>False</td>\n",
              "      <td>False</td>\n",
              "      <td>False</td>\n",
              "      <td>False</td>\n",
              "      <td>False</td>\n",
              "      <td>False</td>\n",
              "      <td>False</td>\n",
              "      <td>False</td>\n",
              "      <td>False</td>\n",
              "      <td>False</td>\n",
              "      <td>False</td>\n",
              "      <td>False</td>\n",
              "    </tr>\n",
              "    <tr>\n",
              "      <th>2</th>\n",
              "      <td>False</td>\n",
              "      <td>False</td>\n",
              "      <td>False</td>\n",
              "      <td>False</td>\n",
              "      <td>False</td>\n",
              "      <td>False</td>\n",
              "      <td>False</td>\n",
              "      <td>False</td>\n",
              "      <td>False</td>\n",
              "      <td>False</td>\n",
              "      <td>False</td>\n",
              "      <td>False</td>\n",
              "      <td>False</td>\n",
              "      <td>False</td>\n",
              "      <td>False</td>\n",
              "      <td>False</td>\n",
              "      <td>False</td>\n",
              "      <td>False</td>\n",
              "      <td>False</td>\n",
              "      <td>False</td>\n",
              "      <td>False</td>\n",
              "      <td>False</td>\n",
              "      <td>False</td>\n",
              "      <td>False</td>\n",
              "    </tr>\n",
              "    <tr>\n",
              "      <th>3</th>\n",
              "      <td>False</td>\n",
              "      <td>False</td>\n",
              "      <td>False</td>\n",
              "      <td>False</td>\n",
              "      <td>False</td>\n",
              "      <td>False</td>\n",
              "      <td>False</td>\n",
              "      <td>False</td>\n",
              "      <td>False</td>\n",
              "      <td>False</td>\n",
              "      <td>False</td>\n",
              "      <td>False</td>\n",
              "      <td>False</td>\n",
              "      <td>False</td>\n",
              "      <td>False</td>\n",
              "      <td>False</td>\n",
              "      <td>False</td>\n",
              "      <td>False</td>\n",
              "      <td>False</td>\n",
              "      <td>False</td>\n",
              "      <td>False</td>\n",
              "      <td>False</td>\n",
              "      <td>False</td>\n",
              "      <td>False</td>\n",
              "    </tr>\n",
              "    <tr>\n",
              "      <th>4</th>\n",
              "      <td>False</td>\n",
              "      <td>False</td>\n",
              "      <td>False</td>\n",
              "      <td>False</td>\n",
              "      <td>False</td>\n",
              "      <td>False</td>\n",
              "      <td>False</td>\n",
              "      <td>False</td>\n",
              "      <td>False</td>\n",
              "      <td>False</td>\n",
              "      <td>False</td>\n",
              "      <td>False</td>\n",
              "      <td>False</td>\n",
              "      <td>False</td>\n",
              "      <td>False</td>\n",
              "      <td>False</td>\n",
              "      <td>False</td>\n",
              "      <td>False</td>\n",
              "      <td>False</td>\n",
              "      <td>False</td>\n",
              "      <td>False</td>\n",
              "      <td>False</td>\n",
              "      <td>False</td>\n",
              "      <td>False</td>\n",
              "    </tr>\n",
              "    <tr>\n",
              "      <th>...</th>\n",
              "      <td>...</td>\n",
              "      <td>...</td>\n",
              "      <td>...</td>\n",
              "      <td>...</td>\n",
              "      <td>...</td>\n",
              "      <td>...</td>\n",
              "      <td>...</td>\n",
              "      <td>...</td>\n",
              "      <td>...</td>\n",
              "      <td>...</td>\n",
              "      <td>...</td>\n",
              "      <td>...</td>\n",
              "      <td>...</td>\n",
              "      <td>...</td>\n",
              "      <td>...</td>\n",
              "      <td>...</td>\n",
              "      <td>...</td>\n",
              "      <td>...</td>\n",
              "      <td>...</td>\n",
              "      <td>...</td>\n",
              "      <td>...</td>\n",
              "      <td>...</td>\n",
              "      <td>...</td>\n",
              "      <td>...</td>\n",
              "    </tr>\n",
              "    <tr>\n",
              "      <th>4376</th>\n",
              "      <td>False</td>\n",
              "      <td>False</td>\n",
              "      <td>False</td>\n",
              "      <td>False</td>\n",
              "      <td>False</td>\n",
              "      <td>False</td>\n",
              "      <td>False</td>\n",
              "      <td>False</td>\n",
              "      <td>False</td>\n",
              "      <td>False</td>\n",
              "      <td>False</td>\n",
              "      <td>False</td>\n",
              "      <td>False</td>\n",
              "      <td>False</td>\n",
              "      <td>False</td>\n",
              "      <td>False</td>\n",
              "      <td>False</td>\n",
              "      <td>False</td>\n",
              "      <td>False</td>\n",
              "      <td>False</td>\n",
              "      <td>False</td>\n",
              "      <td>False</td>\n",
              "      <td>False</td>\n",
              "      <td>False</td>\n",
              "    </tr>\n",
              "    <tr>\n",
              "      <th>4377</th>\n",
              "      <td>False</td>\n",
              "      <td>False</td>\n",
              "      <td>False</td>\n",
              "      <td>False</td>\n",
              "      <td>False</td>\n",
              "      <td>False</td>\n",
              "      <td>False</td>\n",
              "      <td>False</td>\n",
              "      <td>False</td>\n",
              "      <td>False</td>\n",
              "      <td>False</td>\n",
              "      <td>False</td>\n",
              "      <td>False</td>\n",
              "      <td>False</td>\n",
              "      <td>False</td>\n",
              "      <td>False</td>\n",
              "      <td>False</td>\n",
              "      <td>False</td>\n",
              "      <td>False</td>\n",
              "      <td>False</td>\n",
              "      <td>False</td>\n",
              "      <td>False</td>\n",
              "      <td>False</td>\n",
              "      <td>False</td>\n",
              "    </tr>\n",
              "    <tr>\n",
              "      <th>4378</th>\n",
              "      <td>False</td>\n",
              "      <td>False</td>\n",
              "      <td>False</td>\n",
              "      <td>False</td>\n",
              "      <td>False</td>\n",
              "      <td>False</td>\n",
              "      <td>False</td>\n",
              "      <td>False</td>\n",
              "      <td>False</td>\n",
              "      <td>False</td>\n",
              "      <td>False</td>\n",
              "      <td>False</td>\n",
              "      <td>False</td>\n",
              "      <td>False</td>\n",
              "      <td>False</td>\n",
              "      <td>False</td>\n",
              "      <td>False</td>\n",
              "      <td>False</td>\n",
              "      <td>False</td>\n",
              "      <td>False</td>\n",
              "      <td>False</td>\n",
              "      <td>False</td>\n",
              "      <td>False</td>\n",
              "      <td>False</td>\n",
              "    </tr>\n",
              "    <tr>\n",
              "      <th>4379</th>\n",
              "      <td>False</td>\n",
              "      <td>False</td>\n",
              "      <td>False</td>\n",
              "      <td>False</td>\n",
              "      <td>False</td>\n",
              "      <td>False</td>\n",
              "      <td>False</td>\n",
              "      <td>False</td>\n",
              "      <td>False</td>\n",
              "      <td>False</td>\n",
              "      <td>False</td>\n",
              "      <td>False</td>\n",
              "      <td>False</td>\n",
              "      <td>False</td>\n",
              "      <td>False</td>\n",
              "      <td>False</td>\n",
              "      <td>False</td>\n",
              "      <td>False</td>\n",
              "      <td>False</td>\n",
              "      <td>False</td>\n",
              "      <td>False</td>\n",
              "      <td>False</td>\n",
              "      <td>False</td>\n",
              "      <td>False</td>\n",
              "    </tr>\n",
              "    <tr>\n",
              "      <th>4380</th>\n",
              "      <td>False</td>\n",
              "      <td>False</td>\n",
              "      <td>False</td>\n",
              "      <td>False</td>\n",
              "      <td>False</td>\n",
              "      <td>False</td>\n",
              "      <td>False</td>\n",
              "      <td>False</td>\n",
              "      <td>False</td>\n",
              "      <td>False</td>\n",
              "      <td>False</td>\n",
              "      <td>False</td>\n",
              "      <td>False</td>\n",
              "      <td>False</td>\n",
              "      <td>False</td>\n",
              "      <td>False</td>\n",
              "      <td>False</td>\n",
              "      <td>False</td>\n",
              "      <td>False</td>\n",
              "      <td>False</td>\n",
              "      <td>False</td>\n",
              "      <td>False</td>\n",
              "      <td>False</td>\n",
              "      <td>False</td>\n",
              "    </tr>\n",
              "  </tbody>\n",
              "</table>\n",
              "<p>4381 rows × 24 columns</p>\n",
              "</div>"
            ],
            "text/plain": [
              "       time     40     50     60     70  ...    220    230    240    250    260\n",
              "0     False   True  False  False  False  ...  False  False  False  False  False\n",
              "1     False  False  False  False  False  ...  False  False  False  False  False\n",
              "2     False  False  False  False  False  ...  False  False  False  False  False\n",
              "3     False  False  False  False  False  ...  False  False  False  False  False\n",
              "4     False  False  False  False  False  ...  False  False  False  False  False\n",
              "...     ...    ...    ...    ...    ...  ...    ...    ...    ...    ...    ...\n",
              "4376  False  False  False  False  False  ...  False  False  False  False  False\n",
              "4377  False  False  False  False  False  ...  False  False  False  False  False\n",
              "4378  False  False  False  False  False  ...  False  False  False  False  False\n",
              "4379  False  False  False  False  False  ...  False  False  False  False  False\n",
              "4380  False  False  False  False  False  ...  False  False  False  False  False\n",
              "\n",
              "[4381 rows x 24 columns]"
            ]
          },
          "metadata": {
            "tags": []
          },
          "execution_count": 69
        }
      ]
    },
    {
      "cell_type": "code",
      "metadata": {
        "colab": {
          "base_uri": "https://localhost:8080/"
        },
        "id": "WPtA6YZCzeiz",
        "outputId": "59d8a597-452f-4fdb-f722-4e9e55fe50e2"
      },
      "source": [
        "df_data.isna().sum() #quantas posições daquela coluna são valores nulos?"
      ],
      "execution_count": null,
      "outputs": [
        {
          "output_type": "execute_result",
          "data": {
            "text/plain": [
              "time    0\n",
              "40      1\n",
              "50      0\n",
              "60      0\n",
              "70      0\n",
              "80      0\n",
              "90      0\n",
              "100     0\n",
              "110     0\n",
              "120     0\n",
              "130     0\n",
              "140     0\n",
              "150     0\n",
              "160     0\n",
              "170     0\n",
              "180     0\n",
              "190     0\n",
              "200     0\n",
              "210     0\n",
              "220     0\n",
              "230     0\n",
              "240     0\n",
              "250     0\n",
              "260     0\n",
              "dtype: int64"
            ]
          },
          "metadata": {
            "tags": []
          },
          "execution_count": 70
        }
      ]
    },
    {
      "cell_type": "code",
      "metadata": {
        "id": "JlVv3Bikz6ON"
      },
      "source": [
        "#como dropar uma informação? Atenção!!! Data é o novo petróleo, só devemos dropar como última opção!!!\n",
        "# df_data = df_data.dropna() \n",
        "#df_data.info()\n",
        "#inplace - você deleta só a informação\n",
        "#nesse caso, dropa tudo que tiver linha nula - mas eu posso especificar qual linha eu quero; exemplo: linha 1 - df_1 = df_data.dropna()"
      ],
      "execution_count": null,
      "outputs": []
    },
    {
      "cell_type": "code",
      "metadata": {
        "id": "jUJxEq4cFgj2",
        "colab": {
          "base_uri": "https://localhost:8080/",
          "height": 828
        },
        "outputId": "513c496d-0ea9-417c-a780-e04a1746346f"
      },
      "source": [
        "df_T = df_data.set_index('time').transpose() #meu indice passa a ser o time, meu dataframe foi rotacionado\n",
        "df_T #reparar como mudou a primeira coluna"
      ],
      "execution_count": null,
      "outputs": [
        {
          "output_type": "execute_result",
          "data": {
            "text/html": [
              "<div>\n",
              "<style scoped>\n",
              "    .dataframe tbody tr th:only-of-type {\n",
              "        vertical-align: middle;\n",
              "    }\n",
              "\n",
              "    .dataframe tbody tr th {\n",
              "        vertical-align: top;\n",
              "    }\n",
              "\n",
              "    .dataframe thead th {\n",
              "        text-align: right;\n",
              "    }\n",
              "</style>\n",
              "<table border=\"1\" class=\"dataframe\">\n",
              "  <thead>\n",
              "    <tr style=\"text-align: right;\">\n",
              "      <th>time</th>\n",
              "      <th>YAL001C</th>\n",
              "      <th>YAL014C</th>\n",
              "      <th>YAL016W</th>\n",
              "      <th>YAL020C</th>\n",
              "      <th>YAL022C</th>\n",
              "      <th>YAL036C</th>\n",
              "      <th>YAL038W</th>\n",
              "      <th>YAL039C</th>\n",
              "      <th>YAL040C</th>\n",
              "      <th>YAL044C</th>\n",
              "      <th>YAL046C</th>\n",
              "      <th>YAL048C</th>\n",
              "      <th>YAL049C</th>\n",
              "      <th>YAL051W</th>\n",
              "      <th>YAL056W</th>\n",
              "      <th>YAL063C</th>\n",
              "      <th>YAL064W-B</th>\n",
              "      <th>YAL065C</th>\n",
              "      <th>YAR007C</th>\n",
              "      <th>YAR009C</th>\n",
              "      <th>YAR020C</th>\n",
              "      <th>YAR035W</th>\n",
              "      <th>YAR043C</th>\n",
              "      <th>YAR052C</th>\n",
              "      <th>YAR060C</th>\n",
              "      <th>YAR070C</th>\n",
              "      <th>YAR075W</th>\n",
              "      <th>YBL003C</th>\n",
              "      <th>YBL005W</th>\n",
              "      <th>YBL007C</th>\n",
              "      <th>YBL008W</th>\n",
              "      <th>YBL009W</th>\n",
              "      <th>YBL011W</th>\n",
              "      <th>YBL017C</th>\n",
              "      <th>YBL027W</th>\n",
              "      <th>YBL029W</th>\n",
              "      <th>YBL031W</th>\n",
              "      <th>YBL033C</th>\n",
              "      <th>YBL047C</th>\n",
              "      <th>YBL051C</th>\n",
              "      <th>...</th>\n",
              "      <th>YPR150W</th>\n",
              "      <th>YPR151C</th>\n",
              "      <th>YPR152C</th>\n",
              "      <th>YPR154W</th>\n",
              "      <th>YPR155C</th>\n",
              "      <th>YPR156C</th>\n",
              "      <th>YPR158W</th>\n",
              "      <th>YPR159W</th>\n",
              "      <th>YPR161C</th>\n",
              "      <th>YPR162C</th>\n",
              "      <th>YPR163C</th>\n",
              "      <th>YPR164W</th>\n",
              "      <th>YPR165W</th>\n",
              "      <th>YPR166C</th>\n",
              "      <th>YPR167C</th>\n",
              "      <th>YPR168W</th>\n",
              "      <th>YPR169W</th>\n",
              "      <th>YPR171W</th>\n",
              "      <th>YPR173C</th>\n",
              "      <th>YPR174C</th>\n",
              "      <th>YPR175W</th>\n",
              "      <th>YPR176C</th>\n",
              "      <th>YPR177C</th>\n",
              "      <th>YPR178W</th>\n",
              "      <th>YPR179C</th>\n",
              "      <th>YPR180W</th>\n",
              "      <th>YPR181C</th>\n",
              "      <th>YPR183W</th>\n",
              "      <th>YPR185W</th>\n",
              "      <th>YPR186C</th>\n",
              "      <th>YPR189W</th>\n",
              "      <th>YPR191W</th>\n",
              "      <th>YPR193C</th>\n",
              "      <th>YPR194C</th>\n",
              "      <th>YPR197C</th>\n",
              "      <th>YPR198W</th>\n",
              "      <th>YPR199C</th>\n",
              "      <th>YPR201W</th>\n",
              "      <th>YPR203W</th>\n",
              "      <th>YPR204W</th>\n",
              "    </tr>\n",
              "  </thead>\n",
              "  <tbody>\n",
              "    <tr>\n",
              "      <th>40</th>\n",
              "      <td>NaN</td>\n",
              "      <td>0.215</td>\n",
              "      <td>0.15</td>\n",
              "      <td>-0.350</td>\n",
              "      <td>-0.415</td>\n",
              "      <td>0.540</td>\n",
              "      <td>-0.625</td>\n",
              "      <td>0.050</td>\n",
              "      <td>0.335</td>\n",
              "      <td>-0.43</td>\n",
              "      <td>0.135</td>\n",
              "      <td>0.005</td>\n",
              "      <td>-0.200</td>\n",
              "      <td>0.155</td>\n",
              "      <td>-0.135</td>\n",
              "      <td>0.420</td>\n",
              "      <td>0.10</td>\n",
              "      <td>-0.070</td>\n",
              "      <td>1.260</td>\n",
              "      <td>0.235</td>\n",
              "      <td>0.235</td>\n",
              "      <td>-0.055</td>\n",
              "      <td>0.200</td>\n",
              "      <td>0.25</td>\n",
              "      <td>0.550</td>\n",
              "      <td>0.000</td>\n",
              "      <td>0.260</td>\n",
              "      <td>0.215</td>\n",
              "      <td>0.150</td>\n",
              "      <td>-0.28</td>\n",
              "      <td>0.095</td>\n",
              "      <td>0.620</td>\n",
              "      <td>0.085</td>\n",
              "      <td>-0.590</td>\n",
              "      <td>0.480</td>\n",
              "      <td>0.085</td>\n",
              "      <td>0.365</td>\n",
              "      <td>0.315</td>\n",
              "      <td>-0.550</td>\n",
              "      <td>1.115</td>\n",
              "      <td>...</td>\n",
              "      <td>-0.675</td>\n",
              "      <td>-0.435</td>\n",
              "      <td>-0.030</td>\n",
              "      <td>-0.185</td>\n",
              "      <td>-0.245</td>\n",
              "      <td>-0.635</td>\n",
              "      <td>-0.480</td>\n",
              "      <td>0.115</td>\n",
              "      <td>0.05</td>\n",
              "      <td>-0.065</td>\n",
              "      <td>0.35</td>\n",
              "      <td>0.005</td>\n",
              "      <td>-0.325</td>\n",
              "      <td>-0.360</td>\n",
              "      <td>-0.125</td>\n",
              "      <td>0.060</td>\n",
              "      <td>0.610</td>\n",
              "      <td>0.145</td>\n",
              "      <td>0.475</td>\n",
              "      <td>0.675</td>\n",
              "      <td>0.890</td>\n",
              "      <td>-0.100</td>\n",
              "      <td>0.240</td>\n",
              "      <td>0.255</td>\n",
              "      <td>0.385</td>\n",
              "      <td>0.165</td>\n",
              "      <td>-0.35</td>\n",
              "      <td>0.390</td>\n",
              "      <td>0.135</td>\n",
              "      <td>0.33</td>\n",
              "      <td>0.13</td>\n",
              "      <td>-0.435</td>\n",
              "      <td>-0.005</td>\n",
              "      <td>-0.365</td>\n",
              "      <td>0.015</td>\n",
              "      <td>-0.060</td>\n",
              "      <td>0.155</td>\n",
              "      <td>-0.255</td>\n",
              "      <td>0.570</td>\n",
              "      <td>0.405</td>\n",
              "    </tr>\n",
              "    <tr>\n",
              "      <th>50</th>\n",
              "      <td>-0.23</td>\n",
              "      <td>0.090</td>\n",
              "      <td>0.15</td>\n",
              "      <td>-0.280</td>\n",
              "      <td>-0.590</td>\n",
              "      <td>0.330</td>\n",
              "      <td>-0.600</td>\n",
              "      <td>-0.240</td>\n",
              "      <td>0.050</td>\n",
              "      <td>-0.46</td>\n",
              "      <td>0.230</td>\n",
              "      <td>0.020</td>\n",
              "      <td>-0.320</td>\n",
              "      <td>0.200</td>\n",
              "      <td>-0.250</td>\n",
              "      <td>0.430</td>\n",
              "      <td>0.07</td>\n",
              "      <td>-0.120</td>\n",
              "      <td>1.530</td>\n",
              "      <td>0.420</td>\n",
              "      <td>0.110</td>\n",
              "      <td>-0.150</td>\n",
              "      <td>0.040</td>\n",
              "      <td>0.32</td>\n",
              "      <td>0.630</td>\n",
              "      <td>0.000</td>\n",
              "      <td>0.210</td>\n",
              "      <td>1.260</td>\n",
              "      <td>-0.020</td>\n",
              "      <td>-0.21</td>\n",
              "      <td>0.060</td>\n",
              "      <td>0.910</td>\n",
              "      <td>-0.100</td>\n",
              "      <td>-0.700</td>\n",
              "      <td>0.560</td>\n",
              "      <td>0.080</td>\n",
              "      <td>0.590</td>\n",
              "      <td>0.090</td>\n",
              "      <td>-0.550</td>\n",
              "      <td>1.120</td>\n",
              "      <td>...</td>\n",
              "      <td>-0.700</td>\n",
              "      <td>-0.450</td>\n",
              "      <td>-0.030</td>\n",
              "      <td>-0.130</td>\n",
              "      <td>0.100</td>\n",
              "      <td>-0.100</td>\n",
              "      <td>-0.560</td>\n",
              "      <td>0.540</td>\n",
              "      <td>-0.14</td>\n",
              "      <td>-0.020</td>\n",
              "      <td>0.26</td>\n",
              "      <td>-0.210</td>\n",
              "      <td>-0.100</td>\n",
              "      <td>-0.200</td>\n",
              "      <td>0.160</td>\n",
              "      <td>-0.050</td>\n",
              "      <td>0.490</td>\n",
              "      <td>0.080</td>\n",
              "      <td>0.360</td>\n",
              "      <td>0.650</td>\n",
              "      <td>0.850</td>\n",
              "      <td>-0.060</td>\n",
              "      <td>0.270</td>\n",
              "      <td>0.180</td>\n",
              "      <td>0.390</td>\n",
              "      <td>0.250</td>\n",
              "      <td>-0.28</td>\n",
              "      <td>0.430</td>\n",
              "      <td>0.280</td>\n",
              "      <td>0.25</td>\n",
              "      <td>0.08</td>\n",
              "      <td>-0.130</td>\n",
              "      <td>0.020</td>\n",
              "      <td>-0.590</td>\n",
              "      <td>0.100</td>\n",
              "      <td>0.080</td>\n",
              "      <td>0.190</td>\n",
              "      <td>-0.360</td>\n",
              "      <td>0.120</td>\n",
              "      <td>0.170</td>\n",
              "    </tr>\n",
              "    <tr>\n",
              "      <th>60</th>\n",
              "      <td>-0.10</td>\n",
              "      <td>0.025</td>\n",
              "      <td>0.22</td>\n",
              "      <td>-0.215</td>\n",
              "      <td>-0.580</td>\n",
              "      <td>0.215</td>\n",
              "      <td>-0.400</td>\n",
              "      <td>-0.190</td>\n",
              "      <td>-0.040</td>\n",
              "      <td>-0.39</td>\n",
              "      <td>0.125</td>\n",
              "      <td>-0.050</td>\n",
              "      <td>-0.320</td>\n",
              "      <td>0.230</td>\n",
              "      <td>-0.205</td>\n",
              "      <td>0.325</td>\n",
              "      <td>-0.11</td>\n",
              "      <td>0.075</td>\n",
              "      <td>0.710</td>\n",
              "      <td>0.320</td>\n",
              "      <td>-0.055</td>\n",
              "      <td>-0.120</td>\n",
              "      <td>0.155</td>\n",
              "      <td>-0.02</td>\n",
              "      <td>-0.100</td>\n",
              "      <td>-0.150</td>\n",
              "      <td>0.155</td>\n",
              "      <td>1.375</td>\n",
              "      <td>0.205</td>\n",
              "      <td>-0.09</td>\n",
              "      <td>0.030</td>\n",
              "      <td>0.750</td>\n",
              "      <td>-0.060</td>\n",
              "      <td>-0.285</td>\n",
              "      <td>0.350</td>\n",
              "      <td>0.055</td>\n",
              "      <td>0.270</td>\n",
              "      <td>-0.020</td>\n",
              "      <td>-0.310</td>\n",
              "      <td>0.220</td>\n",
              "      <td>...</td>\n",
              "      <td>-0.575</td>\n",
              "      <td>-0.270</td>\n",
              "      <td>-0.185</td>\n",
              "      <td>-0.045</td>\n",
              "      <td>0.255</td>\n",
              "      <td>0.065</td>\n",
              "      <td>-0.780</td>\n",
              "      <td>0.620</td>\n",
              "      <td>-0.18</td>\n",
              "      <td>-0.020</td>\n",
              "      <td>0.13</td>\n",
              "      <td>-0.175</td>\n",
              "      <td>0.120</td>\n",
              "      <td>-0.205</td>\n",
              "      <td>0.160</td>\n",
              "      <td>-0.095</td>\n",
              "      <td>0.290</td>\n",
              "      <td>0.145</td>\n",
              "      <td>0.185</td>\n",
              "      <td>0.350</td>\n",
              "      <td>0.300</td>\n",
              "      <td>0.095</td>\n",
              "      <td>0.180</td>\n",
              "      <td>0.040</td>\n",
              "      <td>0.240</td>\n",
              "      <td>-0.140</td>\n",
              "      <td>-0.04</td>\n",
              "      <td>0.340</td>\n",
              "      <td>-0.065</td>\n",
              "      <td>0.14</td>\n",
              "      <td>-0.06</td>\n",
              "      <td>-0.350</td>\n",
              "      <td>-0.180</td>\n",
              "      <td>-0.550</td>\n",
              "      <td>0.210</td>\n",
              "      <td>0.210</td>\n",
              "      <td>0.235</td>\n",
              "      <td>-0.300</td>\n",
              "      <td>-0.070</td>\n",
              "      <td>-0.045</td>\n",
              "    </tr>\n",
              "    <tr>\n",
              "      <th>70</th>\n",
              "      <td>0.03</td>\n",
              "      <td>-0.040</td>\n",
              "      <td>0.29</td>\n",
              "      <td>-0.150</td>\n",
              "      <td>-0.570</td>\n",
              "      <td>0.100</td>\n",
              "      <td>-0.200</td>\n",
              "      <td>-0.140</td>\n",
              "      <td>-0.130</td>\n",
              "      <td>-0.32</td>\n",
              "      <td>0.020</td>\n",
              "      <td>-0.120</td>\n",
              "      <td>-0.320</td>\n",
              "      <td>0.260</td>\n",
              "      <td>-0.160</td>\n",
              "      <td>0.220</td>\n",
              "      <td>-0.29</td>\n",
              "      <td>0.270</td>\n",
              "      <td>-0.110</td>\n",
              "      <td>0.220</td>\n",
              "      <td>-0.220</td>\n",
              "      <td>-0.090</td>\n",
              "      <td>0.270</td>\n",
              "      <td>-0.36</td>\n",
              "      <td>-0.830</td>\n",
              "      <td>-0.300</td>\n",
              "      <td>0.100</td>\n",
              "      <td>1.490</td>\n",
              "      <td>0.430</td>\n",
              "      <td>0.03</td>\n",
              "      <td>0.000</td>\n",
              "      <td>0.590</td>\n",
              "      <td>-0.020</td>\n",
              "      <td>0.130</td>\n",
              "      <td>0.140</td>\n",
              "      <td>0.030</td>\n",
              "      <td>-0.050</td>\n",
              "      <td>-0.130</td>\n",
              "      <td>-0.070</td>\n",
              "      <td>-0.680</td>\n",
              "      <td>...</td>\n",
              "      <td>-0.450</td>\n",
              "      <td>-0.090</td>\n",
              "      <td>-0.340</td>\n",
              "      <td>0.040</td>\n",
              "      <td>0.410</td>\n",
              "      <td>0.230</td>\n",
              "      <td>-1.000</td>\n",
              "      <td>0.700</td>\n",
              "      <td>-0.22</td>\n",
              "      <td>-0.020</td>\n",
              "      <td>0.00</td>\n",
              "      <td>-0.140</td>\n",
              "      <td>0.340</td>\n",
              "      <td>-0.210</td>\n",
              "      <td>0.160</td>\n",
              "      <td>-0.140</td>\n",
              "      <td>0.090</td>\n",
              "      <td>0.210</td>\n",
              "      <td>0.010</td>\n",
              "      <td>0.050</td>\n",
              "      <td>-0.250</td>\n",
              "      <td>0.250</td>\n",
              "      <td>0.090</td>\n",
              "      <td>-0.100</td>\n",
              "      <td>0.090</td>\n",
              "      <td>-0.530</td>\n",
              "      <td>0.20</td>\n",
              "      <td>0.250</td>\n",
              "      <td>-0.410</td>\n",
              "      <td>0.03</td>\n",
              "      <td>-0.20</td>\n",
              "      <td>-0.570</td>\n",
              "      <td>-0.380</td>\n",
              "      <td>-0.510</td>\n",
              "      <td>0.320</td>\n",
              "      <td>0.340</td>\n",
              "      <td>0.280</td>\n",
              "      <td>-0.240</td>\n",
              "      <td>-0.260</td>\n",
              "      <td>-0.260</td>\n",
              "    </tr>\n",
              "    <tr>\n",
              "      <th>80</th>\n",
              "      <td>-0.04</td>\n",
              "      <td>-0.040</td>\n",
              "      <td>-0.10</td>\n",
              "      <td>0.160</td>\n",
              "      <td>-0.090</td>\n",
              "      <td>-0.270</td>\n",
              "      <td>-0.130</td>\n",
              "      <td>-1.220</td>\n",
              "      <td>0.020</td>\n",
              "      <td>-0.66</td>\n",
              "      <td>0.090</td>\n",
              "      <td>0.100</td>\n",
              "      <td>-0.330</td>\n",
              "      <td>-0.040</td>\n",
              "      <td>0.090</td>\n",
              "      <td>0.030</td>\n",
              "      <td>0.56</td>\n",
              "      <td>0.220</td>\n",
              "      <td>-0.590</td>\n",
              "      <td>0.130</td>\n",
              "      <td>0.190</td>\n",
              "      <td>0.290</td>\n",
              "      <td>0.190</td>\n",
              "      <td>0.45</td>\n",
              "      <td>0.440</td>\n",
              "      <td>0.110</td>\n",
              "      <td>0.470</td>\n",
              "      <td>1.030</td>\n",
              "      <td>0.060</td>\n",
              "      <td>0.40</td>\n",
              "      <td>0.160</td>\n",
              "      <td>0.520</td>\n",
              "      <td>0.000</td>\n",
              "      <td>0.460</td>\n",
              "      <td>-0.450</td>\n",
              "      <td>-0.280</td>\n",
              "      <td>-0.090</td>\n",
              "      <td>-0.620</td>\n",
              "      <td>0.300</td>\n",
              "      <td>0.460</td>\n",
              "      <td>...</td>\n",
              "      <td>0.600</td>\n",
              "      <td>0.130</td>\n",
              "      <td>0.340</td>\n",
              "      <td>0.560</td>\n",
              "      <td>0.080</td>\n",
              "      <td>0.900</td>\n",
              "      <td>-1.350</td>\n",
              "      <td>0.580</td>\n",
              "      <td>-0.19</td>\n",
              "      <td>0.180</td>\n",
              "      <td>-0.15</td>\n",
              "      <td>0.010</td>\n",
              "      <td>0.420</td>\n",
              "      <td>-0.240</td>\n",
              "      <td>0.300</td>\n",
              "      <td>-0.020</td>\n",
              "      <td>-0.130</td>\n",
              "      <td>-0.060</td>\n",
              "      <td>-0.910</td>\n",
              "      <td>-0.460</td>\n",
              "      <td>-0.830</td>\n",
              "      <td>0.320</td>\n",
              "      <td>-0.220</td>\n",
              "      <td>-0.150</td>\n",
              "      <td>-0.120</td>\n",
              "      <td>-0.060</td>\n",
              "      <td>0.13</td>\n",
              "      <td>-0.100</td>\n",
              "      <td>-0.050</td>\n",
              "      <td>-0.47</td>\n",
              "      <td>0.05</td>\n",
              "      <td>-0.210</td>\n",
              "      <td>0.030</td>\n",
              "      <td>0.390</td>\n",
              "      <td>0.110</td>\n",
              "      <td>0.650</td>\n",
              "      <td>-0.260</td>\n",
              "      <td>1.300</td>\n",
              "      <td>-0.440</td>\n",
              "      <td>-0.600</td>\n",
              "    </tr>\n",
              "    <tr>\n",
              "      <th>90</th>\n",
              "      <td>-0.12</td>\n",
              "      <td>-0.020</td>\n",
              "      <td>0.15</td>\n",
              "      <td>-0.120</td>\n",
              "      <td>-0.340</td>\n",
              "      <td>0.450</td>\n",
              "      <td>0.330</td>\n",
              "      <td>-0.160</td>\n",
              "      <td>0.040</td>\n",
              "      <td>0.03</td>\n",
              "      <td>0.160</td>\n",
              "      <td>0.100</td>\n",
              "      <td>-0.260</td>\n",
              "      <td>0.340</td>\n",
              "      <td>0.060</td>\n",
              "      <td>0.200</td>\n",
              "      <td>-0.40</td>\n",
              "      <td>0.150</td>\n",
              "      <td>-1.210</td>\n",
              "      <td>0.180</td>\n",
              "      <td>-0.420</td>\n",
              "      <td>-0.130</td>\n",
              "      <td>0.180</td>\n",
              "      <td>-0.09</td>\n",
              "      <td>-0.480</td>\n",
              "      <td>-1.400</td>\n",
              "      <td>-0.210</td>\n",
              "      <td>0.130</td>\n",
              "      <td>0.360</td>\n",
              "      <td>0.24</td>\n",
              "      <td>-0.430</td>\n",
              "      <td>-0.470</td>\n",
              "      <td>0.170</td>\n",
              "      <td>-0.040</td>\n",
              "      <td>0.310</td>\n",
              "      <td>-0.560</td>\n",
              "      <td>-0.840</td>\n",
              "      <td>-0.200</td>\n",
              "      <td>0.040</td>\n",
              "      <td>-2.460</td>\n",
              "      <td>...</td>\n",
              "      <td>-0.260</td>\n",
              "      <td>-0.030</td>\n",
              "      <td>-0.270</td>\n",
              "      <td>-0.190</td>\n",
              "      <td>0.330</td>\n",
              "      <td>0.420</td>\n",
              "      <td>-1.350</td>\n",
              "      <td>0.210</td>\n",
              "      <td>-0.19</td>\n",
              "      <td>0.070</td>\n",
              "      <td>0.24</td>\n",
              "      <td>-0.350</td>\n",
              "      <td>0.480</td>\n",
              "      <td>-0.150</td>\n",
              "      <td>-0.280</td>\n",
              "      <td>-0.420</td>\n",
              "      <td>0.320</td>\n",
              "      <td>0.220</td>\n",
              "      <td>0.380</td>\n",
              "      <td>-0.590</td>\n",
              "      <td>-0.710</td>\n",
              "      <td>-0.250</td>\n",
              "      <td>0.340</td>\n",
              "      <td>0.020</td>\n",
              "      <td>-0.610</td>\n",
              "      <td>-0.390</td>\n",
              "      <td>0.27</td>\n",
              "      <td>0.130</td>\n",
              "      <td>-0.390</td>\n",
              "      <td>0.04</td>\n",
              "      <td>-0.01</td>\n",
              "      <td>-0.440</td>\n",
              "      <td>-0.250</td>\n",
              "      <td>-0.220</td>\n",
              "      <td>0.310</td>\n",
              "      <td>-0.260</td>\n",
              "      <td>0.210</td>\n",
              "      <td>-0.070</td>\n",
              "      <td>-0.210</td>\n",
              "      <td>-0.090</td>\n",
              "    </tr>\n",
              "    <tr>\n",
              "      <th>100</th>\n",
              "      <td>-0.28</td>\n",
              "      <td>-0.510</td>\n",
              "      <td>-0.73</td>\n",
              "      <td>0.260</td>\n",
              "      <td>0.490</td>\n",
              "      <td>0.620</td>\n",
              "      <td>-0.530</td>\n",
              "      <td>-0.210</td>\n",
              "      <td>-0.140</td>\n",
              "      <td>-0.79</td>\n",
              "      <td>-0.160</td>\n",
              "      <td>0.110</td>\n",
              "      <td>0.090</td>\n",
              "      <td>-0.310</td>\n",
              "      <td>0.260</td>\n",
              "      <td>-0.380</td>\n",
              "      <td>0.24</td>\n",
              "      <td>0.190</td>\n",
              "      <td>-1.430</td>\n",
              "      <td>0.080</td>\n",
              "      <td>0.730</td>\n",
              "      <td>0.180</td>\n",
              "      <td>-0.330</td>\n",
              "      <td>0.24</td>\n",
              "      <td>0.570</td>\n",
              "      <td>0.690</td>\n",
              "      <td>0.410</td>\n",
              "      <td>-0.640</td>\n",
              "      <td>0.310</td>\n",
              "      <td>0.01</td>\n",
              "      <td>0.320</td>\n",
              "      <td>-0.020</td>\n",
              "      <td>-0.370</td>\n",
              "      <td>0.300</td>\n",
              "      <td>-0.230</td>\n",
              "      <td>1.440</td>\n",
              "      <td>0.360</td>\n",
              "      <td>-0.010</td>\n",
              "      <td>0.130</td>\n",
              "      <td>0.660</td>\n",
              "      <td>...</td>\n",
              "      <td>0.450</td>\n",
              "      <td>0.040</td>\n",
              "      <td>0.210</td>\n",
              "      <td>0.190</td>\n",
              "      <td>-0.200</td>\n",
              "      <td>0.740</td>\n",
              "      <td>-1.150</td>\n",
              "      <td>-0.340</td>\n",
              "      <td>2.28</td>\n",
              "      <td>0.150</td>\n",
              "      <td>0.09</td>\n",
              "      <td>0.330</td>\n",
              "      <td>0.100</td>\n",
              "      <td>-0.150</td>\n",
              "      <td>0.000</td>\n",
              "      <td>0.360</td>\n",
              "      <td>0.040</td>\n",
              "      <td>0.010</td>\n",
              "      <td>-0.940</td>\n",
              "      <td>-1.090</td>\n",
              "      <td>-0.710</td>\n",
              "      <td>-0.160</td>\n",
              "      <td>0.240</td>\n",
              "      <td>-0.140</td>\n",
              "      <td>0.120</td>\n",
              "      <td>0.080</td>\n",
              "      <td>0.23</td>\n",
              "      <td>-0.490</td>\n",
              "      <td>-0.120</td>\n",
              "      <td>0.03</td>\n",
              "      <td>0.07</td>\n",
              "      <td>0.580</td>\n",
              "      <td>0.230</td>\n",
              "      <td>0.290</td>\n",
              "      <td>0.100</td>\n",
              "      <td>0.140</td>\n",
              "      <td>-0.400</td>\n",
              "      <td>0.290</td>\n",
              "      <td>-1.080</td>\n",
              "      <td>-0.850</td>\n",
              "    </tr>\n",
              "    <tr>\n",
              "      <th>110</th>\n",
              "      <td>-0.44</td>\n",
              "      <td>-0.080</td>\n",
              "      <td>0.19</td>\n",
              "      <td>0.000</td>\n",
              "      <td>0.320</td>\n",
              "      <td>0.320</td>\n",
              "      <td>0.260</td>\n",
              "      <td>0.200</td>\n",
              "      <td>0.240</td>\n",
              "      <td>0.10</td>\n",
              "      <td>-0.020</td>\n",
              "      <td>0.010</td>\n",
              "      <td>-0.230</td>\n",
              "      <td>-0.270</td>\n",
              "      <td>0.140</td>\n",
              "      <td>0.210</td>\n",
              "      <td>0.05</td>\n",
              "      <td>0.180</td>\n",
              "      <td>-1.370</td>\n",
              "      <td>0.170</td>\n",
              "      <td>-0.820</td>\n",
              "      <td>-0.120</td>\n",
              "      <td>0.460</td>\n",
              "      <td>0.00</td>\n",
              "      <td>-0.400</td>\n",
              "      <td>0.030</td>\n",
              "      <td>0.120</td>\n",
              "      <td>-1.330</td>\n",
              "      <td>0.350</td>\n",
              "      <td>0.22</td>\n",
              "      <td>-0.060</td>\n",
              "      <td>-0.560</td>\n",
              "      <td>-0.160</td>\n",
              "      <td>0.010</td>\n",
              "      <td>0.290</td>\n",
              "      <td>-0.100</td>\n",
              "      <td>-0.340</td>\n",
              "      <td>0.010</td>\n",
              "      <td>-0.040</td>\n",
              "      <td>-2.170</td>\n",
              "      <td>...</td>\n",
              "      <td>0.090</td>\n",
              "      <td>0.150</td>\n",
              "      <td>-0.340</td>\n",
              "      <td>-0.560</td>\n",
              "      <td>0.160</td>\n",
              "      <td>0.280</td>\n",
              "      <td>-0.970</td>\n",
              "      <td>-0.420</td>\n",
              "      <td>-0.07</td>\n",
              "      <td>0.050</td>\n",
              "      <td>0.09</td>\n",
              "      <td>-0.040</td>\n",
              "      <td>0.060</td>\n",
              "      <td>0.070</td>\n",
              "      <td>-0.330</td>\n",
              "      <td>-0.280</td>\n",
              "      <td>0.180</td>\n",
              "      <td>0.190</td>\n",
              "      <td>0.340</td>\n",
              "      <td>-0.590</td>\n",
              "      <td>-0.650</td>\n",
              "      <td>-0.080</td>\n",
              "      <td>0.240</td>\n",
              "      <td>0.170</td>\n",
              "      <td>0.350</td>\n",
              "      <td>-0.140</td>\n",
              "      <td>0.27</td>\n",
              "      <td>-0.080</td>\n",
              "      <td>-0.300</td>\n",
              "      <td>0.28</td>\n",
              "      <td>-0.15</td>\n",
              "      <td>-0.130</td>\n",
              "      <td>-0.100</td>\n",
              "      <td>-0.920</td>\n",
              "      <td>0.230</td>\n",
              "      <td>-0.330</td>\n",
              "      <td>0.340</td>\n",
              "      <td>-0.200</td>\n",
              "      <td>0.390</td>\n",
              "      <td>0.170</td>\n",
              "    </tr>\n",
              "    <tr>\n",
              "      <th>120</th>\n",
              "      <td>-0.09</td>\n",
              "      <td>0.000</td>\n",
              "      <td>-0.15</td>\n",
              "      <td>0.130</td>\n",
              "      <td>1.150</td>\n",
              "      <td>-0.600</td>\n",
              "      <td>-0.180</td>\n",
              "      <td>-0.470</td>\n",
              "      <td>0.910</td>\n",
              "      <td>-0.89</td>\n",
              "      <td>-0.170</td>\n",
              "      <td>-0.010</td>\n",
              "      <td>0.370</td>\n",
              "      <td>-0.290</td>\n",
              "      <td>0.210</td>\n",
              "      <td>-0.340</td>\n",
              "      <td>0.29</td>\n",
              "      <td>0.130</td>\n",
              "      <td>-1.160</td>\n",
              "      <td>-0.050</td>\n",
              "      <td>0.320</td>\n",
              "      <td>0.380</td>\n",
              "      <td>0.020</td>\n",
              "      <td>0.31</td>\n",
              "      <td>0.420</td>\n",
              "      <td>0.300</td>\n",
              "      <td>0.210</td>\n",
              "      <td>-1.910</td>\n",
              "      <td>-0.320</td>\n",
              "      <td>0.14</td>\n",
              "      <td>0.120</td>\n",
              "      <td>-0.730</td>\n",
              "      <td>-0.340</td>\n",
              "      <td>0.010</td>\n",
              "      <td>-0.920</td>\n",
              "      <td>-0.690</td>\n",
              "      <td>2.140</td>\n",
              "      <td>-0.410</td>\n",
              "      <td>0.080</td>\n",
              "      <td>0.410</td>\n",
              "      <td>...</td>\n",
              "      <td>0.100</td>\n",
              "      <td>-0.140</td>\n",
              "      <td>-0.310</td>\n",
              "      <td>0.090</td>\n",
              "      <td>-0.240</td>\n",
              "      <td>0.900</td>\n",
              "      <td>-0.970</td>\n",
              "      <td>-0.060</td>\n",
              "      <td>-0.10</td>\n",
              "      <td>-0.060</td>\n",
              "      <td>-0.26</td>\n",
              "      <td>0.010</td>\n",
              "      <td>-0.150</td>\n",
              "      <td>-0.490</td>\n",
              "      <td>-0.380</td>\n",
              "      <td>-0.030</td>\n",
              "      <td>-0.280</td>\n",
              "      <td>-0.240</td>\n",
              "      <td>-0.660</td>\n",
              "      <td>-0.820</td>\n",
              "      <td>-0.380</td>\n",
              "      <td>0.270</td>\n",
              "      <td>-0.180</td>\n",
              "      <td>-0.210</td>\n",
              "      <td>-0.120</td>\n",
              "      <td>-0.370</td>\n",
              "      <td>0.58</td>\n",
              "      <td>-0.730</td>\n",
              "      <td>-0.030</td>\n",
              "      <td>-0.37</td>\n",
              "      <td>-0.11</td>\n",
              "      <td>0.390</td>\n",
              "      <td>0.400</td>\n",
              "      <td>0.420</td>\n",
              "      <td>-0.120</td>\n",
              "      <td>0.530</td>\n",
              "      <td>-0.800</td>\n",
              "      <td>0.250</td>\n",
              "      <td>-0.170</td>\n",
              "      <td>-0.050</td>\n",
              "    </tr>\n",
              "    <tr>\n",
              "      <th>130</th>\n",
              "      <td>0.12</td>\n",
              "      <td>0.460</td>\n",
              "      <td>0.29</td>\n",
              "      <td>-0.200</td>\n",
              "      <td>0.200</td>\n",
              "      <td>0.270</td>\n",
              "      <td>0.350</td>\n",
              "      <td>0.350</td>\n",
              "      <td>0.420</td>\n",
              "      <td>0.05</td>\n",
              "      <td>0.100</td>\n",
              "      <td>-0.390</td>\n",
              "      <td>0.040</td>\n",
              "      <td>0.270</td>\n",
              "      <td>-0.190</td>\n",
              "      <td>0.060</td>\n",
              "      <td>-0.07</td>\n",
              "      <td>0.190</td>\n",
              "      <td>0.720</td>\n",
              "      <td>0.050</td>\n",
              "      <td>-0.420</td>\n",
              "      <td>0.000</td>\n",
              "      <td>0.250</td>\n",
              "      <td>-0.02</td>\n",
              "      <td>-0.220</td>\n",
              "      <td>-0.580</td>\n",
              "      <td>-0.460</td>\n",
              "      <td>-1.120</td>\n",
              "      <td>0.470</td>\n",
              "      <td>-0.55</td>\n",
              "      <td>0.090</td>\n",
              "      <td>-0.110</td>\n",
              "      <td>-1.830</td>\n",
              "      <td>-0.040</td>\n",
              "      <td>0.410</td>\n",
              "      <td>-0.620</td>\n",
              "      <td>-0.440</td>\n",
              "      <td>-0.010</td>\n",
              "      <td>-0.020</td>\n",
              "      <td>-4.050</td>\n",
              "      <td>...</td>\n",
              "      <td>-0.230</td>\n",
              "      <td>0.100</td>\n",
              "      <td>-0.380</td>\n",
              "      <td>-0.160</td>\n",
              "      <td>0.030</td>\n",
              "      <td>-0.480</td>\n",
              "      <td>0.460</td>\n",
              "      <td>-0.240</td>\n",
              "      <td>-0.07</td>\n",
              "      <td>0.150</td>\n",
              "      <td>0.03</td>\n",
              "      <td>-0.230</td>\n",
              "      <td>-0.300</td>\n",
              "      <td>0.250</td>\n",
              "      <td>-0.160</td>\n",
              "      <td>0.030</td>\n",
              "      <td>0.120</td>\n",
              "      <td>0.080</td>\n",
              "      <td>0.600</td>\n",
              "      <td>0.780</td>\n",
              "      <td>0.840</td>\n",
              "      <td>-0.060</td>\n",
              "      <td>0.190</td>\n",
              "      <td>0.120</td>\n",
              "      <td>0.300</td>\n",
              "      <td>0.030</td>\n",
              "      <td>0.19</td>\n",
              "      <td>0.380</td>\n",
              "      <td>0.000</td>\n",
              "      <td>0.10</td>\n",
              "      <td>0.05</td>\n",
              "      <td>-0.210</td>\n",
              "      <td>-0.430</td>\n",
              "      <td>-0.590</td>\n",
              "      <td>0.310</td>\n",
              "      <td>-0.020</td>\n",
              "      <td>0.340</td>\n",
              "      <td>-0.470</td>\n",
              "      <td>1.610</td>\n",
              "      <td>1.260</td>\n",
              "    </tr>\n",
              "    <tr>\n",
              "      <th>140</th>\n",
              "      <td>0.06</td>\n",
              "      <td>-0.190</td>\n",
              "      <td>-0.08</td>\n",
              "      <td>-0.070</td>\n",
              "      <td>0.310</td>\n",
              "      <td>-0.270</td>\n",
              "      <td>0.180</td>\n",
              "      <td>0.110</td>\n",
              "      <td>0.580</td>\n",
              "      <td>-0.97</td>\n",
              "      <td>-0.140</td>\n",
              "      <td>-0.490</td>\n",
              "      <td>0.180</td>\n",
              "      <td>-0.350</td>\n",
              "      <td>-0.110</td>\n",
              "      <td>0.110</td>\n",
              "      <td>0.33</td>\n",
              "      <td>-0.040</td>\n",
              "      <td>0.940</td>\n",
              "      <td>-0.190</td>\n",
              "      <td>0.460</td>\n",
              "      <td>-0.490</td>\n",
              "      <td>-0.170</td>\n",
              "      <td>0.28</td>\n",
              "      <td>0.460</td>\n",
              "      <td>0.320</td>\n",
              "      <td>-0.080</td>\n",
              "      <td>-0.310</td>\n",
              "      <td>-0.160</td>\n",
              "      <td>-0.22</td>\n",
              "      <td>0.000</td>\n",
              "      <td>0.030</td>\n",
              "      <td>0.100</td>\n",
              "      <td>-0.280</td>\n",
              "      <td>-0.340</td>\n",
              "      <td>-0.280</td>\n",
              "      <td>-0.030</td>\n",
              "      <td>-0.520</td>\n",
              "      <td>-0.010</td>\n",
              "      <td>0.800</td>\n",
              "      <td>...</td>\n",
              "      <td>-0.030</td>\n",
              "      <td>-0.440</td>\n",
              "      <td>0.080</td>\n",
              "      <td>-0.020</td>\n",
              "      <td>-0.480</td>\n",
              "      <td>-0.880</td>\n",
              "      <td>-0.490</td>\n",
              "      <td>0.250</td>\n",
              "      <td>-0.17</td>\n",
              "      <td>-0.380</td>\n",
              "      <td>-0.22</td>\n",
              "      <td>-0.140</td>\n",
              "      <td>-0.480</td>\n",
              "      <td>-0.330</td>\n",
              "      <td>-0.290</td>\n",
              "      <td>0.840</td>\n",
              "      <td>-0.450</td>\n",
              "      <td>-0.350</td>\n",
              "      <td>-0.280</td>\n",
              "      <td>0.130</td>\n",
              "      <td>0.350</td>\n",
              "      <td>-0.010</td>\n",
              "      <td>-0.260</td>\n",
              "      <td>-0.470</td>\n",
              "      <td>-0.140</td>\n",
              "      <td>0.010</td>\n",
              "      <td>0.15</td>\n",
              "      <td>0.160</td>\n",
              "      <td>-0.240</td>\n",
              "      <td>-0.28</td>\n",
              "      <td>-0.20</td>\n",
              "      <td>0.050</td>\n",
              "      <td>-0.150</td>\n",
              "      <td>0.040</td>\n",
              "      <td>0.210</td>\n",
              "      <td>0.130</td>\n",
              "      <td>-0.250</td>\n",
              "      <td>0.230</td>\n",
              "      <td>1.120</td>\n",
              "      <td>0.670</td>\n",
              "    </tr>\n",
              "    <tr>\n",
              "      <th>150</th>\n",
              "      <td>-0.04</td>\n",
              "      <td>0.040</td>\n",
              "      <td>0.16</td>\n",
              "      <td>-0.050</td>\n",
              "      <td>-0.280</td>\n",
              "      <td>0.210</td>\n",
              "      <td>0.340</td>\n",
              "      <td>0.520</td>\n",
              "      <td>-0.200</td>\n",
              "      <td>0.17</td>\n",
              "      <td>-0.090</td>\n",
              "      <td>1.920</td>\n",
              "      <td>0.820</td>\n",
              "      <td>0.300</td>\n",
              "      <td>-0.230</td>\n",
              "      <td>-0.640</td>\n",
              "      <td>0.98</td>\n",
              "      <td>-0.040</td>\n",
              "      <td>1.150</td>\n",
              "      <td>-0.300</td>\n",
              "      <td>-0.770</td>\n",
              "      <td>0.260</td>\n",
              "      <td>-0.330</td>\n",
              "      <td>-0.10</td>\n",
              "      <td>-0.380</td>\n",
              "      <td>-0.880</td>\n",
              "      <td>0.120</td>\n",
              "      <td>1.110</td>\n",
              "      <td>0.200</td>\n",
              "      <td>-0.37</td>\n",
              "      <td>0.160</td>\n",
              "      <td>0.180</td>\n",
              "      <td>1.100</td>\n",
              "      <td>-0.210</td>\n",
              "      <td>0.190</td>\n",
              "      <td>0.280</td>\n",
              "      <td>0.340</td>\n",
              "      <td>0.070</td>\n",
              "      <td>0.190</td>\n",
              "      <td>0.780</td>\n",
              "      <td>...</td>\n",
              "      <td>0.710</td>\n",
              "      <td>-0.590</td>\n",
              "      <td>-0.100</td>\n",
              "      <td>0.090</td>\n",
              "      <td>0.090</td>\n",
              "      <td>-0.430</td>\n",
              "      <td>0.840</td>\n",
              "      <td>0.350</td>\n",
              "      <td>0.39</td>\n",
              "      <td>-0.190</td>\n",
              "      <td>-0.22</td>\n",
              "      <td>0.200</td>\n",
              "      <td>-0.100</td>\n",
              "      <td>0.600</td>\n",
              "      <td>0.190</td>\n",
              "      <td>-0.530</td>\n",
              "      <td>-0.060</td>\n",
              "      <td>0.140</td>\n",
              "      <td>0.310</td>\n",
              "      <td>0.890</td>\n",
              "      <td>0.840</td>\n",
              "      <td>0.140</td>\n",
              "      <td>0.050</td>\n",
              "      <td>0.200</td>\n",
              "      <td>-0.060</td>\n",
              "      <td>0.260</td>\n",
              "      <td>0.16</td>\n",
              "      <td>0.600</td>\n",
              "      <td>0.350</td>\n",
              "      <td>0.14</td>\n",
              "      <td>0.20</td>\n",
              "      <td>0.820</td>\n",
              "      <td>-0.170</td>\n",
              "      <td>-0.090</td>\n",
              "      <td>0.070</td>\n",
              "      <td>0.080</td>\n",
              "      <td>0.250</td>\n",
              "      <td>-1.200</td>\n",
              "      <td>1.110</td>\n",
              "      <td>0.790</td>\n",
              "    </tr>\n",
              "    <tr>\n",
              "      <th>160</th>\n",
              "      <td>0.31</td>\n",
              "      <td>0.180</td>\n",
              "      <td>-0.05</td>\n",
              "      <td>0.430</td>\n",
              "      <td>-0.010</td>\n",
              "      <td>-0.400</td>\n",
              "      <td>0.280</td>\n",
              "      <td>-0.480</td>\n",
              "      <td>0.030</td>\n",
              "      <td>-0.31</td>\n",
              "      <td>0.020</td>\n",
              "      <td>0.020</td>\n",
              "      <td>-0.070</td>\n",
              "      <td>-1.190</td>\n",
              "      <td>-0.500</td>\n",
              "      <td>0.040</td>\n",
              "      <td>0.28</td>\n",
              "      <td>0.060</td>\n",
              "      <td>0.850</td>\n",
              "      <td>-0.390</td>\n",
              "      <td>0.340</td>\n",
              "      <td>0.330</td>\n",
              "      <td>-0.170</td>\n",
              "      <td>0.28</td>\n",
              "      <td>0.450</td>\n",
              "      <td>0.560</td>\n",
              "      <td>0.190</td>\n",
              "      <td>1.240</td>\n",
              "      <td>-0.440</td>\n",
              "      <td>0.21</td>\n",
              "      <td>0.410</td>\n",
              "      <td>0.220</td>\n",
              "      <td>-0.060</td>\n",
              "      <td>0.350</td>\n",
              "      <td>-0.600</td>\n",
              "      <td>-0.450</td>\n",
              "      <td>0.140</td>\n",
              "      <td>-0.280</td>\n",
              "      <td>0.480</td>\n",
              "      <td>0.920</td>\n",
              "      <td>...</td>\n",
              "      <td>-0.220</td>\n",
              "      <td>-0.340</td>\n",
              "      <td>-0.010</td>\n",
              "      <td>0.140</td>\n",
              "      <td>-0.380</td>\n",
              "      <td>-0.680</td>\n",
              "      <td>-0.470</td>\n",
              "      <td>0.440</td>\n",
              "      <td>0.04</td>\n",
              "      <td>-0.210</td>\n",
              "      <td>-0.36</td>\n",
              "      <td>0.040</td>\n",
              "      <td>-0.090</td>\n",
              "      <td>-0.130</td>\n",
              "      <td>0.240</td>\n",
              "      <td>-0.050</td>\n",
              "      <td>-0.720</td>\n",
              "      <td>-0.220</td>\n",
              "      <td>-0.660</td>\n",
              "      <td>-0.150</td>\n",
              "      <td>-0.090</td>\n",
              "      <td>0.310</td>\n",
              "      <td>-0.290</td>\n",
              "      <td>-0.450</td>\n",
              "      <td>-0.300</td>\n",
              "      <td>-0.430</td>\n",
              "      <td>0.29</td>\n",
              "      <td>0.410</td>\n",
              "      <td>-0.010</td>\n",
              "      <td>-0.58</td>\n",
              "      <td>-0.05</td>\n",
              "      <td>0.280</td>\n",
              "      <td>0.050</td>\n",
              "      <td>0.770</td>\n",
              "      <td>0.130</td>\n",
              "      <td>0.070</td>\n",
              "      <td>-0.380</td>\n",
              "      <td>0.120</td>\n",
              "      <td>0.290</td>\n",
              "      <td>0.190</td>\n",
              "    </tr>\n",
              "    <tr>\n",
              "      <th>170</th>\n",
              "      <td>0.59</td>\n",
              "      <td>-0.300</td>\n",
              "      <td>0.12</td>\n",
              "      <td>0.070</td>\n",
              "      <td>-0.480</td>\n",
              "      <td>-0.110</td>\n",
              "      <td>0.160</td>\n",
              "      <td>-0.130</td>\n",
              "      <td>-0.380</td>\n",
              "      <td>0.18</td>\n",
              "      <td>-0.270</td>\n",
              "      <td>-0.130</td>\n",
              "      <td>0.250</td>\n",
              "      <td>0.190</td>\n",
              "      <td>-0.190</td>\n",
              "      <td>0.000</td>\n",
              "      <td>-0.15</td>\n",
              "      <td>-0.120</td>\n",
              "      <td>0.990</td>\n",
              "      <td>-0.070</td>\n",
              "      <td>0.240</td>\n",
              "      <td>-0.060</td>\n",
              "      <td>-0.380</td>\n",
              "      <td>-0.27</td>\n",
              "      <td>-0.420</td>\n",
              "      <td>0.420</td>\n",
              "      <td>-0.370</td>\n",
              "      <td>1.790</td>\n",
              "      <td>0.390</td>\n",
              "      <td>-0.21</td>\n",
              "      <td>0.190</td>\n",
              "      <td>0.500</td>\n",
              "      <td>0.920</td>\n",
              "      <td>0.120</td>\n",
              "      <td>0.570</td>\n",
              "      <td>0.980</td>\n",
              "      <td>0.010</td>\n",
              "      <td>0.130</td>\n",
              "      <td>0.140</td>\n",
              "      <td>0.850</td>\n",
              "      <td>...</td>\n",
              "      <td>-0.070</td>\n",
              "      <td>-0.670</td>\n",
              "      <td>0.060</td>\n",
              "      <td>0.370</td>\n",
              "      <td>0.150</td>\n",
              "      <td>-0.340</td>\n",
              "      <td>-0.400</td>\n",
              "      <td>0.390</td>\n",
              "      <td>-0.37</td>\n",
              "      <td>0.030</td>\n",
              "      <td>-0.30</td>\n",
              "      <td>-0.250</td>\n",
              "      <td>0.110</td>\n",
              "      <td>0.410</td>\n",
              "      <td>0.180</td>\n",
              "      <td>0.090</td>\n",
              "      <td>-0.010</td>\n",
              "      <td>-0.140</td>\n",
              "      <td>0.150</td>\n",
              "      <td>0.240</td>\n",
              "      <td>0.480</td>\n",
              "      <td>0.440</td>\n",
              "      <td>0.050</td>\n",
              "      <td>0.010</td>\n",
              "      <td>0.170</td>\n",
              "      <td>0.260</td>\n",
              "      <td>0.20</td>\n",
              "      <td>0.200</td>\n",
              "      <td>0.390</td>\n",
              "      <td>0.13</td>\n",
              "      <td>-0.01</td>\n",
              "      <td>0.200</td>\n",
              "      <td>0.060</td>\n",
              "      <td>0.680</td>\n",
              "      <td>-0.210</td>\n",
              "      <td>0.140</td>\n",
              "      <td>0.340</td>\n",
              "      <td>-0.810</td>\n",
              "      <td>0.120</td>\n",
              "      <td>0.170</td>\n",
              "    </tr>\n",
              "    <tr>\n",
              "      <th>180</th>\n",
              "      <td>0.34</td>\n",
              "      <td>-0.380</td>\n",
              "      <td>-0.17</td>\n",
              "      <td>0.610</td>\n",
              "      <td>-0.400</td>\n",
              "      <td>-0.550</td>\n",
              "      <td>0.150</td>\n",
              "      <td>-0.260</td>\n",
              "      <td>-0.310</td>\n",
              "      <td>-0.14</td>\n",
              "      <td>0.160</td>\n",
              "      <td>-0.050</td>\n",
              "      <td>0.080</td>\n",
              "      <td>-0.440</td>\n",
              "      <td>0.250</td>\n",
              "      <td>0.000</td>\n",
              "      <td>-0.06</td>\n",
              "      <td>-0.020</td>\n",
              "      <td>0.150</td>\n",
              "      <td>-0.240</td>\n",
              "      <td>0.520</td>\n",
              "      <td>0.200</td>\n",
              "      <td>-0.470</td>\n",
              "      <td>0.14</td>\n",
              "      <td>0.140</td>\n",
              "      <td>0.170</td>\n",
              "      <td>0.090</td>\n",
              "      <td>1.330</td>\n",
              "      <td>-0.400</td>\n",
              "      <td>-0.15</td>\n",
              "      <td>0.170</td>\n",
              "      <td>0.180</td>\n",
              "      <td>0.060</td>\n",
              "      <td>0.370</td>\n",
              "      <td>-0.990</td>\n",
              "      <td>-0.430</td>\n",
              "      <td>0.050</td>\n",
              "      <td>-0.640</td>\n",
              "      <td>0.220</td>\n",
              "      <td>0.460</td>\n",
              "      <td>...</td>\n",
              "      <td>0.350</td>\n",
              "      <td>0.480</td>\n",
              "      <td>0.820</td>\n",
              "      <td>0.370</td>\n",
              "      <td>0.290</td>\n",
              "      <td>0.440</td>\n",
              "      <td>0.220</td>\n",
              "      <td>0.810</td>\n",
              "      <td>0.29</td>\n",
              "      <td>0.180</td>\n",
              "      <td>0.08</td>\n",
              "      <td>0.330</td>\n",
              "      <td>0.230</td>\n",
              "      <td>0.010</td>\n",
              "      <td>0.340</td>\n",
              "      <td>0.030</td>\n",
              "      <td>-0.430</td>\n",
              "      <td>-0.100</td>\n",
              "      <td>-0.410</td>\n",
              "      <td>-0.020</td>\n",
              "      <td>0.090</td>\n",
              "      <td>-0.500</td>\n",
              "      <td>-0.080</td>\n",
              "      <td>0.460</td>\n",
              "      <td>-0.190</td>\n",
              "      <td>0.140</td>\n",
              "      <td>-0.69</td>\n",
              "      <td>-0.240</td>\n",
              "      <td>0.050</td>\n",
              "      <td>-0.30</td>\n",
              "      <td>0.64</td>\n",
              "      <td>0.300</td>\n",
              "      <td>0.290</td>\n",
              "      <td>0.870</td>\n",
              "      <td>0.170</td>\n",
              "      <td>-0.640</td>\n",
              "      <td>0.150</td>\n",
              "      <td>0.890</td>\n",
              "      <td>-0.960</td>\n",
              "      <td>-1.900</td>\n",
              "    </tr>\n",
              "    <tr>\n",
              "      <th>190</th>\n",
              "      <td>-0.28</td>\n",
              "      <td>0.070</td>\n",
              "      <td>0.11</td>\n",
              "      <td>-0.200</td>\n",
              "      <td>-0.590</td>\n",
              "      <td>0.240</td>\n",
              "      <td>0.110</td>\n",
              "      <td>-0.030</td>\n",
              "      <td>-0.560</td>\n",
              "      <td>0.46</td>\n",
              "      <td>-0.250</td>\n",
              "      <td>-0.350</td>\n",
              "      <td>-0.180</td>\n",
              "      <td>0.110</td>\n",
              "      <td>-0.290</td>\n",
              "      <td>-0.040</td>\n",
              "      <td>-0.56</td>\n",
              "      <td>-0.450</td>\n",
              "      <td>-0.430</td>\n",
              "      <td>0.010</td>\n",
              "      <td>-0.020</td>\n",
              "      <td>-0.300</td>\n",
              "      <td>0.150</td>\n",
              "      <td>-0.18</td>\n",
              "      <td>-0.650</td>\n",
              "      <td>-0.100</td>\n",
              "      <td>-0.330</td>\n",
              "      <td>0.850</td>\n",
              "      <td>0.130</td>\n",
              "      <td>-0.13</td>\n",
              "      <td>-0.450</td>\n",
              "      <td>0.410</td>\n",
              "      <td>0.390</td>\n",
              "      <td>-0.040</td>\n",
              "      <td>-0.020</td>\n",
              "      <td>-0.070</td>\n",
              "      <td>0.030</td>\n",
              "      <td>0.130</td>\n",
              "      <td>-0.120</td>\n",
              "      <td>-1.720</td>\n",
              "      <td>...</td>\n",
              "      <td>-0.170</td>\n",
              "      <td>0.410</td>\n",
              "      <td>-0.700</td>\n",
              "      <td>-0.410</td>\n",
              "      <td>0.080</td>\n",
              "      <td>-0.020</td>\n",
              "      <td>1.140</td>\n",
              "      <td>0.170</td>\n",
              "      <td>-0.30</td>\n",
              "      <td>-0.060</td>\n",
              "      <td>0.00</td>\n",
              "      <td>-0.490</td>\n",
              "      <td>0.340</td>\n",
              "      <td>0.320</td>\n",
              "      <td>-0.170</td>\n",
              "      <td>-0.500</td>\n",
              "      <td>0.090</td>\n",
              "      <td>0.080</td>\n",
              "      <td>0.460</td>\n",
              "      <td>0.100</td>\n",
              "      <td>0.330</td>\n",
              "      <td>-0.330</td>\n",
              "      <td>0.050</td>\n",
              "      <td>-0.400</td>\n",
              "      <td>0.050</td>\n",
              "      <td>-0.340</td>\n",
              "      <td>0.15</td>\n",
              "      <td>0.030</td>\n",
              "      <td>-0.430</td>\n",
              "      <td>0.27</td>\n",
              "      <td>-0.18</td>\n",
              "      <td>-0.920</td>\n",
              "      <td>-0.380</td>\n",
              "      <td>-0.220</td>\n",
              "      <td>-0.010</td>\n",
              "      <td>-0.260</td>\n",
              "      <td>0.300</td>\n",
              "      <td>0.070</td>\n",
              "      <td>-0.310</td>\n",
              "      <td>-0.210</td>\n",
              "    </tr>\n",
              "    <tr>\n",
              "      <th>200</th>\n",
              "      <td>-0.09</td>\n",
              "      <td>-0.040</td>\n",
              "      <td>-0.15</td>\n",
              "      <td>0.490</td>\n",
              "      <td>0.540</td>\n",
              "      <td>-0.190</td>\n",
              "      <td>0.570</td>\n",
              "      <td>-0.200</td>\n",
              "      <td>0.170</td>\n",
              "      <td>0.40</td>\n",
              "      <td>0.190</td>\n",
              "      <td>-0.010</td>\n",
              "      <td>-0.420</td>\n",
              "      <td>0.140</td>\n",
              "      <td>0.290</td>\n",
              "      <td>0.280</td>\n",
              "      <td>-0.01</td>\n",
              "      <td>0.040</td>\n",
              "      <td>-0.660</td>\n",
              "      <td>0.170</td>\n",
              "      <td>0.350</td>\n",
              "      <td>0.190</td>\n",
              "      <td>-0.140</td>\n",
              "      <td>0.36</td>\n",
              "      <td>0.060</td>\n",
              "      <td>0.180</td>\n",
              "      <td>0.220</td>\n",
              "      <td>0.300</td>\n",
              "      <td>-1.640</td>\n",
              "      <td>0.51</td>\n",
              "      <td>0.200</td>\n",
              "      <td>-0.020</td>\n",
              "      <td>0.110</td>\n",
              "      <td>0.270</td>\n",
              "      <td>-0.500</td>\n",
              "      <td>-0.120</td>\n",
              "      <td>0.090</td>\n",
              "      <td>-0.220</td>\n",
              "      <td>-0.080</td>\n",
              "      <td>0.010</td>\n",
              "      <td>...</td>\n",
              "      <td>0.140</td>\n",
              "      <td>0.140</td>\n",
              "      <td>0.970</td>\n",
              "      <td>0.380</td>\n",
              "      <td>0.170</td>\n",
              "      <td>1.100</td>\n",
              "      <td>0.600</td>\n",
              "      <td>0.390</td>\n",
              "      <td>-0.16</td>\n",
              "      <td>0.160</td>\n",
              "      <td>-0.03</td>\n",
              "      <td>0.480</td>\n",
              "      <td>0.210</td>\n",
              "      <td>-0.260</td>\n",
              "      <td>-0.110</td>\n",
              "      <td>0.240</td>\n",
              "      <td>-0.260</td>\n",
              "      <td>-0.060</td>\n",
              "      <td>-0.500</td>\n",
              "      <td>-0.060</td>\n",
              "      <td>-0.230</td>\n",
              "      <td>0.720</td>\n",
              "      <td>-0.260</td>\n",
              "      <td>0.060</td>\n",
              "      <td>-0.120</td>\n",
              "      <td>0.090</td>\n",
              "      <td>0.29</td>\n",
              "      <td>0.250</td>\n",
              "      <td>-0.320</td>\n",
              "      <td>0.14</td>\n",
              "      <td>0.39</td>\n",
              "      <td>0.230</td>\n",
              "      <td>-0.210</td>\n",
              "      <td>0.950</td>\n",
              "      <td>0.070</td>\n",
              "      <td>0.530</td>\n",
              "      <td>-0.060</td>\n",
              "      <td>1.040</td>\n",
              "      <td>-0.810</td>\n",
              "      <td>-0.450</td>\n",
              "    </tr>\n",
              "    <tr>\n",
              "      <th>210</th>\n",
              "      <td>-0.44</td>\n",
              "      <td>0.130</td>\n",
              "      <td>0.03</td>\n",
              "      <td>-0.430</td>\n",
              "      <td>-0.090</td>\n",
              "      <td>0.270</td>\n",
              "      <td>0.320</td>\n",
              "      <td>0.110</td>\n",
              "      <td>-0.300</td>\n",
              "      <td>0.87</td>\n",
              "      <td>0.080</td>\n",
              "      <td>-0.250</td>\n",
              "      <td>-0.080</td>\n",
              "      <td>0.170</td>\n",
              "      <td>-0.450</td>\n",
              "      <td>-0.080</td>\n",
              "      <td>-0.37</td>\n",
              "      <td>-0.080</td>\n",
              "      <td>-0.850</td>\n",
              "      <td>-0.320</td>\n",
              "      <td>-0.240</td>\n",
              "      <td>-0.470</td>\n",
              "      <td>-0.170</td>\n",
              "      <td>-0.81</td>\n",
              "      <td>-0.920</td>\n",
              "      <td>0.340</td>\n",
              "      <td>-0.100</td>\n",
              "      <td>0.060</td>\n",
              "      <td>-0.100</td>\n",
              "      <td>-0.26</td>\n",
              "      <td>-0.600</td>\n",
              "      <td>0.130</td>\n",
              "      <td>0.110</td>\n",
              "      <td>-0.040</td>\n",
              "      <td>0.290</td>\n",
              "      <td>0.140</td>\n",
              "      <td>-0.610</td>\n",
              "      <td>0.230</td>\n",
              "      <td>-0.350</td>\n",
              "      <td>-2.460</td>\n",
              "      <td>...</td>\n",
              "      <td>-0.090</td>\n",
              "      <td>0.250</td>\n",
              "      <td>-0.590</td>\n",
              "      <td>-0.390</td>\n",
              "      <td>0.360</td>\n",
              "      <td>0.230</td>\n",
              "      <td>1.030</td>\n",
              "      <td>-0.380</td>\n",
              "      <td>-0.50</td>\n",
              "      <td>-0.070</td>\n",
              "      <td>0.00</td>\n",
              "      <td>-0.180</td>\n",
              "      <td>0.350</td>\n",
              "      <td>0.420</td>\n",
              "      <td>-0.500</td>\n",
              "      <td>-0.320</td>\n",
              "      <td>0.010</td>\n",
              "      <td>0.210</td>\n",
              "      <td>0.490</td>\n",
              "      <td>-0.130</td>\n",
              "      <td>-0.500</td>\n",
              "      <td>-0.160</td>\n",
              "      <td>0.090</td>\n",
              "      <td>-0.170</td>\n",
              "      <td>0.120</td>\n",
              "      <td>-0.080</td>\n",
              "      <td>-0.01</td>\n",
              "      <td>0.220</td>\n",
              "      <td>-0.240</td>\n",
              "      <td>0.03</td>\n",
              "      <td>-0.22</td>\n",
              "      <td>-0.400</td>\n",
              "      <td>-0.280</td>\n",
              "      <td>-0.350</td>\n",
              "      <td>0.080</td>\n",
              "      <td>-0.170</td>\n",
              "      <td>0.130</td>\n",
              "      <td>-0.320</td>\n",
              "      <td>-0.340</td>\n",
              "      <td>-0.310</td>\n",
              "    </tr>\n",
              "    <tr>\n",
              "      <th>220</th>\n",
              "      <td>0.31</td>\n",
              "      <td>-0.060</td>\n",
              "      <td>-0.26</td>\n",
              "      <td>0.800</td>\n",
              "      <td>1.030</td>\n",
              "      <td>-0.500</td>\n",
              "      <td>0.230</td>\n",
              "      <td>-0.050</td>\n",
              "      <td>0.360</td>\n",
              "      <td>-0.24</td>\n",
              "      <td>-0.110</td>\n",
              "      <td>0.530</td>\n",
              "      <td>0.020</td>\n",
              "      <td>0.270</td>\n",
              "      <td>0.530</td>\n",
              "      <td>-0.100</td>\n",
              "      <td>-0.03</td>\n",
              "      <td>0.220</td>\n",
              "      <td>-1.060</td>\n",
              "      <td>0.250</td>\n",
              "      <td>0.740</td>\n",
              "      <td>0.540</td>\n",
              "      <td>-0.350</td>\n",
              "      <td>0.31</td>\n",
              "      <td>0.380</td>\n",
              "      <td>0.870</td>\n",
              "      <td>0.750</td>\n",
              "      <td>-0.440</td>\n",
              "      <td>-0.470</td>\n",
              "      <td>0.66</td>\n",
              "      <td>0.050</td>\n",
              "      <td>-0.130</td>\n",
              "      <td>-0.020</td>\n",
              "      <td>0.440</td>\n",
              "      <td>-0.520</td>\n",
              "      <td>-0.120</td>\n",
              "      <td>0.280</td>\n",
              "      <td>-0.300</td>\n",
              "      <td>0.520</td>\n",
              "      <td>0.690</td>\n",
              "      <td>...</td>\n",
              "      <td>0.330</td>\n",
              "      <td>-0.280</td>\n",
              "      <td>0.640</td>\n",
              "      <td>0.190</td>\n",
              "      <td>-0.260</td>\n",
              "      <td>0.920</td>\n",
              "      <td>0.030</td>\n",
              "      <td>-0.240</td>\n",
              "      <td>-0.04</td>\n",
              "      <td>0.130</td>\n",
              "      <td>0.17</td>\n",
              "      <td>0.690</td>\n",
              "      <td>-0.010</td>\n",
              "      <td>-0.240</td>\n",
              "      <td>-0.170</td>\n",
              "      <td>0.000</td>\n",
              "      <td>-0.520</td>\n",
              "      <td>-0.310</td>\n",
              "      <td>-1.160</td>\n",
              "      <td>-0.340</td>\n",
              "      <td>-0.570</td>\n",
              "      <td>0.630</td>\n",
              "      <td>-0.260</td>\n",
              "      <td>-0.010</td>\n",
              "      <td>-0.640</td>\n",
              "      <td>-0.180</td>\n",
              "      <td>-0.42</td>\n",
              "      <td>-0.570</td>\n",
              "      <td>0.280</td>\n",
              "      <td>0.22</td>\n",
              "      <td>0.03</td>\n",
              "      <td>0.780</td>\n",
              "      <td>0.130</td>\n",
              "      <td>1.190</td>\n",
              "      <td>-0.290</td>\n",
              "      <td>0.590</td>\n",
              "      <td>-0.440</td>\n",
              "      <td>0.800</td>\n",
              "      <td>-1.210</td>\n",
              "      <td>-0.390</td>\n",
              "    </tr>\n",
              "    <tr>\n",
              "      <th>230</th>\n",
              "      <td>0.03</td>\n",
              "      <td>-0.260</td>\n",
              "      <td>-0.34</td>\n",
              "      <td>-0.470</td>\n",
              "      <td>0.080</td>\n",
              "      <td>-0.470</td>\n",
              "      <td>0.190</td>\n",
              "      <td>0.340</td>\n",
              "      <td>-0.260</td>\n",
              "      <td>0.22</td>\n",
              "      <td>-0.190</td>\n",
              "      <td>0.050</td>\n",
              "      <td>0.060</td>\n",
              "      <td>0.320</td>\n",
              "      <td>0.380</td>\n",
              "      <td>-0.340</td>\n",
              "      <td>-0.75</td>\n",
              "      <td>-0.130</td>\n",
              "      <td>-0.340</td>\n",
              "      <td>0.590</td>\n",
              "      <td>-0.080</td>\n",
              "      <td>-0.230</td>\n",
              "      <td>0.210</td>\n",
              "      <td>-0.34</td>\n",
              "      <td>0.470</td>\n",
              "      <td>-0.360</td>\n",
              "      <td>-0.230</td>\n",
              "      <td>-1.150</td>\n",
              "      <td>0.030</td>\n",
              "      <td>0.10</td>\n",
              "      <td>-0.160</td>\n",
              "      <td>-0.250</td>\n",
              "      <td>0.170</td>\n",
              "      <td>0.070</td>\n",
              "      <td>0.290</td>\n",
              "      <td>0.410</td>\n",
              "      <td>-0.220</td>\n",
              "      <td>0.010</td>\n",
              "      <td>-0.130</td>\n",
              "      <td>0.970</td>\n",
              "      <td>...</td>\n",
              "      <td>0.460</td>\n",
              "      <td>0.330</td>\n",
              "      <td>0.120</td>\n",
              "      <td>-0.100</td>\n",
              "      <td>-0.380</td>\n",
              "      <td>-0.050</td>\n",
              "      <td>0.440</td>\n",
              "      <td>-1.420</td>\n",
              "      <td>0.13</td>\n",
              "      <td>0.160</td>\n",
              "      <td>0.45</td>\n",
              "      <td>0.380</td>\n",
              "      <td>-0.560</td>\n",
              "      <td>-0.260</td>\n",
              "      <td>0.250</td>\n",
              "      <td>0.450</td>\n",
              "      <td>0.190</td>\n",
              "      <td>-0.400</td>\n",
              "      <td>-0.440</td>\n",
              "      <td>-0.700</td>\n",
              "      <td>-0.630</td>\n",
              "      <td>-0.640</td>\n",
              "      <td>-0.830</td>\n",
              "      <td>-0.210</td>\n",
              "      <td>-0.350</td>\n",
              "      <td>0.160</td>\n",
              "      <td>-0.95</td>\n",
              "      <td>-1.710</td>\n",
              "      <td>0.020</td>\n",
              "      <td>0.14</td>\n",
              "      <td>-0.24</td>\n",
              "      <td>0.780</td>\n",
              "      <td>0.400</td>\n",
              "      <td>0.560</td>\n",
              "      <td>-1.290</td>\n",
              "      <td>-0.960</td>\n",
              "      <td>-1.030</td>\n",
              "      <td>-0.130</td>\n",
              "      <td>-1.360</td>\n",
              "      <td>-0.220</td>\n",
              "    </tr>\n",
              "    <tr>\n",
              "      <th>240</th>\n",
              "      <td>0.57</td>\n",
              "      <td>-0.100</td>\n",
              "      <td>-0.34</td>\n",
              "      <td>1.010</td>\n",
              "      <td>0.570</td>\n",
              "      <td>-0.830</td>\n",
              "      <td>-0.290</td>\n",
              "      <td>-0.410</td>\n",
              "      <td>0.110</td>\n",
              "      <td>-0.44</td>\n",
              "      <td>-0.360</td>\n",
              "      <td>0.310</td>\n",
              "      <td>-0.150</td>\n",
              "      <td>0.060</td>\n",
              "      <td>0.660</td>\n",
              "      <td>-0.240</td>\n",
              "      <td>0.42</td>\n",
              "      <td>0.240</td>\n",
              "      <td>-0.090</td>\n",
              "      <td>-0.040</td>\n",
              "      <td>0.600</td>\n",
              "      <td>0.640</td>\n",
              "      <td>-0.190</td>\n",
              "      <td>0.30</td>\n",
              "      <td>0.250</td>\n",
              "      <td>0.760</td>\n",
              "      <td>0.350</td>\n",
              "      <td>-0.830</td>\n",
              "      <td>0.210</td>\n",
              "      <td>0.54</td>\n",
              "      <td>0.690</td>\n",
              "      <td>0.070</td>\n",
              "      <td>0.790</td>\n",
              "      <td>0.380</td>\n",
              "      <td>0.160</td>\n",
              "      <td>0.430</td>\n",
              "      <td>0.340</td>\n",
              "      <td>0.220</td>\n",
              "      <td>0.530</td>\n",
              "      <td>0.730</td>\n",
              "      <td>...</td>\n",
              "      <td>0.640</td>\n",
              "      <td>0.880</td>\n",
              "      <td>0.790</td>\n",
              "      <td>0.360</td>\n",
              "      <td>0.340</td>\n",
              "      <td>0.350</td>\n",
              "      <td>0.560</td>\n",
              "      <td>0.030</td>\n",
              "      <td>0.12</td>\n",
              "      <td>0.380</td>\n",
              "      <td>0.08</td>\n",
              "      <td>0.630</td>\n",
              "      <td>-0.070</td>\n",
              "      <td>-0.120</td>\n",
              "      <td>0.720</td>\n",
              "      <td>0.290</td>\n",
              "      <td>-0.110</td>\n",
              "      <td>0.160</td>\n",
              "      <td>-0.470</td>\n",
              "      <td>0.170</td>\n",
              "      <td>-0.130</td>\n",
              "      <td>0.430</td>\n",
              "      <td>0.140</td>\n",
              "      <td>0.330</td>\n",
              "      <td>-0.250</td>\n",
              "      <td>0.110</td>\n",
              "      <td>0.52</td>\n",
              "      <td>-0.050</td>\n",
              "      <td>0.640</td>\n",
              "      <td>-0.60</td>\n",
              "      <td>0.38</td>\n",
              "      <td>0.940</td>\n",
              "      <td>0.850</td>\n",
              "      <td>0.520</td>\n",
              "      <td>0.260</td>\n",
              "      <td>0.400</td>\n",
              "      <td>0.140</td>\n",
              "      <td>0.840</td>\n",
              "      <td>-0.120</td>\n",
              "      <td>-0.080</td>\n",
              "    </tr>\n",
              "    <tr>\n",
              "      <th>250</th>\n",
              "      <td>0.00</td>\n",
              "      <td>0.270</td>\n",
              "      <td>0.25</td>\n",
              "      <td>-0.360</td>\n",
              "      <td>-0.260</td>\n",
              "      <td>0.050</td>\n",
              "      <td>-0.020</td>\n",
              "      <td>0.520</td>\n",
              "      <td>-0.500</td>\n",
              "      <td>0.84</td>\n",
              "      <td>-0.020</td>\n",
              "      <td>-0.250</td>\n",
              "      <td>0.170</td>\n",
              "      <td>0.200</td>\n",
              "      <td>0.060</td>\n",
              "      <td>-0.130</td>\n",
              "      <td>-0.13</td>\n",
              "      <td>-0.180</td>\n",
              "      <td>0.790</td>\n",
              "      <td>-0.230</td>\n",
              "      <td>-1.540</td>\n",
              "      <td>-0.250</td>\n",
              "      <td>0.310</td>\n",
              "      <td>-0.41</td>\n",
              "      <td>-0.130</td>\n",
              "      <td>-0.680</td>\n",
              "      <td>-0.760</td>\n",
              "      <td>-0.810</td>\n",
              "      <td>0.000</td>\n",
              "      <td>0.03</td>\n",
              "      <td>-0.550</td>\n",
              "      <td>-0.730</td>\n",
              "      <td>0.220</td>\n",
              "      <td>-0.100</td>\n",
              "      <td>0.260</td>\n",
              "      <td>-0.270</td>\n",
              "      <td>-0.580</td>\n",
              "      <td>0.500</td>\n",
              "      <td>-0.180</td>\n",
              "      <td>1.080</td>\n",
              "      <td>...</td>\n",
              "      <td>0.350</td>\n",
              "      <td>0.240</td>\n",
              "      <td>-0.440</td>\n",
              "      <td>-0.160</td>\n",
              "      <td>0.280</td>\n",
              "      <td>-0.730</td>\n",
              "      <td>1.600</td>\n",
              "      <td>-0.520</td>\n",
              "      <td>-0.28</td>\n",
              "      <td>-0.060</td>\n",
              "      <td>-0.02</td>\n",
              "      <td>-0.310</td>\n",
              "      <td>-0.100</td>\n",
              "      <td>0.320</td>\n",
              "      <td>0.270</td>\n",
              "      <td>-0.020</td>\n",
              "      <td>0.150</td>\n",
              "      <td>0.140</td>\n",
              "      <td>1.030</td>\n",
              "      <td>0.600</td>\n",
              "      <td>0.680</td>\n",
              "      <td>-0.410</td>\n",
              "      <td>0.240</td>\n",
              "      <td>0.240</td>\n",
              "      <td>0.360</td>\n",
              "      <td>0.170</td>\n",
              "      <td>-0.17</td>\n",
              "      <td>0.040</td>\n",
              "      <td>0.230</td>\n",
              "      <td>0.25</td>\n",
              "      <td>-0.34</td>\n",
              "      <td>-0.340</td>\n",
              "      <td>0.130</td>\n",
              "      <td>-0.740</td>\n",
              "      <td>-0.140</td>\n",
              "      <td>-0.230</td>\n",
              "      <td>0.300</td>\n",
              "      <td>-0.390</td>\n",
              "      <td>0.690</td>\n",
              "      <td>0.650</td>\n",
              "    </tr>\n",
              "    <tr>\n",
              "      <th>260</th>\n",
              "      <td>0.01</td>\n",
              "      <td>0.235</td>\n",
              "      <td>0.19</td>\n",
              "      <td>-0.405</td>\n",
              "      <td>-0.310</td>\n",
              "      <td>-0.070</td>\n",
              "      <td>-0.045</td>\n",
              "      <td>0.405</td>\n",
              "      <td>-0.580</td>\n",
              "      <td>0.77</td>\n",
              "      <td>-0.040</td>\n",
              "      <td>-0.270</td>\n",
              "      <td>0.155</td>\n",
              "      <td>0.140</td>\n",
              "      <td>0.005</td>\n",
              "      <td>-0.130</td>\n",
              "      <td>-0.23</td>\n",
              "      <td>-0.115</td>\n",
              "      <td>0.695</td>\n",
              "      <td>-0.150</td>\n",
              "      <td>-0.855</td>\n",
              "      <td>-0.225</td>\n",
              "      <td>0.095</td>\n",
              "      <td>-0.43</td>\n",
              "      <td>0.005</td>\n",
              "      <td>-0.245</td>\n",
              "      <td>-0.505</td>\n",
              "      <td>-0.500</td>\n",
              "      <td>0.065</td>\n",
              "      <td>-0.08</td>\n",
              "      <td>-0.355</td>\n",
              "      <td>-0.555</td>\n",
              "      <td>0.200</td>\n",
              "      <td>-0.015</td>\n",
              "      <td>0.235</td>\n",
              "      <td>-0.210</td>\n",
              "      <td>-0.540</td>\n",
              "      <td>0.440</td>\n",
              "      <td>-0.175</td>\n",
              "      <td>0.940</td>\n",
              "      <td>...</td>\n",
              "      <td>0.100</td>\n",
              "      <td>0.375</td>\n",
              "      <td>-0.450</td>\n",
              "      <td>-0.125</td>\n",
              "      <td>0.230</td>\n",
              "      <td>-0.825</td>\n",
              "      <td>1.415</td>\n",
              "      <td>-0.510</td>\n",
              "      <td>-0.40</td>\n",
              "      <td>-0.165</td>\n",
              "      <td>-0.21</td>\n",
              "      <td>-0.400</td>\n",
              "      <td>-0.090</td>\n",
              "      <td>0.340</td>\n",
              "      <td>0.265</td>\n",
              "      <td>0.035</td>\n",
              "      <td>0.045</td>\n",
              "      <td>0.090</td>\n",
              "      <td>0.795</td>\n",
              "      <td>0.515</td>\n",
              "      <td>0.475</td>\n",
              "      <td>-0.340</td>\n",
              "      <td>0.155</td>\n",
              "      <td>0.125</td>\n",
              "      <td>0.275</td>\n",
              "      <td>0.265</td>\n",
              "      <td>-0.17</td>\n",
              "      <td>0.025</td>\n",
              "      <td>0.235</td>\n",
              "      <td>0.16</td>\n",
              "      <td>-0.28</td>\n",
              "      <td>-0.360</td>\n",
              "      <td>0.145</td>\n",
              "      <td>-0.605</td>\n",
              "      <td>-0.175</td>\n",
              "      <td>-0.325</td>\n",
              "      <td>0.250</td>\n",
              "      <td>-0.415</td>\n",
              "      <td>0.555</td>\n",
              "      <td>0.520</td>\n",
              "    </tr>\n",
              "  </tbody>\n",
              "</table>\n",
              "<p>23 rows × 4381 columns</p>\n",
              "</div>"
            ],
            "text/plain": [
              "time  YAL001C  YAL014C  YAL016W  YAL020C  ...  YPR199C  YPR201W  YPR203W  YPR204W\n",
              "40        NaN    0.215     0.15   -0.350  ...    0.155   -0.255    0.570    0.405\n",
              "50      -0.23    0.090     0.15   -0.280  ...    0.190   -0.360    0.120    0.170\n",
              "60      -0.10    0.025     0.22   -0.215  ...    0.235   -0.300   -0.070   -0.045\n",
              "70       0.03   -0.040     0.29   -0.150  ...    0.280   -0.240   -0.260   -0.260\n",
              "80      -0.04   -0.040    -0.10    0.160  ...   -0.260    1.300   -0.440   -0.600\n",
              "90      -0.12   -0.020     0.15   -0.120  ...    0.210   -0.070   -0.210   -0.090\n",
              "100     -0.28   -0.510    -0.73    0.260  ...   -0.400    0.290   -1.080   -0.850\n",
              "110     -0.44   -0.080     0.19    0.000  ...    0.340   -0.200    0.390    0.170\n",
              "120     -0.09    0.000    -0.15    0.130  ...   -0.800    0.250   -0.170   -0.050\n",
              "130      0.12    0.460     0.29   -0.200  ...    0.340   -0.470    1.610    1.260\n",
              "140      0.06   -0.190    -0.08   -0.070  ...   -0.250    0.230    1.120    0.670\n",
              "150     -0.04    0.040     0.16   -0.050  ...    0.250   -1.200    1.110    0.790\n",
              "160      0.31    0.180    -0.05    0.430  ...   -0.380    0.120    0.290    0.190\n",
              "170      0.59   -0.300     0.12    0.070  ...    0.340   -0.810    0.120    0.170\n",
              "180      0.34   -0.380    -0.17    0.610  ...    0.150    0.890   -0.960   -1.900\n",
              "190     -0.28    0.070     0.11   -0.200  ...    0.300    0.070   -0.310   -0.210\n",
              "200     -0.09   -0.040    -0.15    0.490  ...   -0.060    1.040   -0.810   -0.450\n",
              "210     -0.44    0.130     0.03   -0.430  ...    0.130   -0.320   -0.340   -0.310\n",
              "220      0.31   -0.060    -0.26    0.800  ...   -0.440    0.800   -1.210   -0.390\n",
              "230      0.03   -0.260    -0.34   -0.470  ...   -1.030   -0.130   -1.360   -0.220\n",
              "240      0.57   -0.100    -0.34    1.010  ...    0.140    0.840   -0.120   -0.080\n",
              "250      0.00    0.270     0.25   -0.360  ...    0.300   -0.390    0.690    0.650\n",
              "260      0.01    0.235     0.19   -0.405  ...    0.250   -0.415    0.555    0.520\n",
              "\n",
              "[23 rows x 4381 columns]"
            ]
          },
          "metadata": {
            "tags": []
          },
          "execution_count": 72
        }
      ]
    },
    {
      "cell_type": "code",
      "metadata": {
        "id": "kC4MrWHDgUmj",
        "colab": {
          "base_uri": "https://localhost:8080/"
        },
        "outputId": "6a08afeb-fc88-4389-8925-04f948ffeac0"
      },
      "source": [
        "df_T.iloc[0,1]"
      ],
      "execution_count": null,
      "outputs": [
        {
          "output_type": "execute_result",
          "data": {
            "text/plain": [
              "0.215"
            ]
          },
          "metadata": {
            "tags": []
          },
          "execution_count": 73
        }
      ]
    },
    {
      "cell_type": "code",
      "metadata": {
        "colab": {
          "base_uri": "https://localhost:8080/",
          "height": 282
        },
        "id": "uuSSYnG9498S",
        "outputId": "71c443d4-c987-45fc-da7c-9e74255ff456"
      },
      "source": [
        "df_T['YAL046C'].plot()"
      ],
      "execution_count": null,
      "outputs": [
        {
          "output_type": "execute_result",
          "data": {
            "text/plain": [
              "<matplotlib.axes._subplots.AxesSubplot at 0x7f5e4625f850>"
            ]
          },
          "metadata": {
            "tags": []
          },
          "execution_count": 74
        },
        {
          "output_type": "display_data",
          "data": {
            "image/png": "[encoded data removed]",
            "text/plain": [
              "<Figure size 432x288 with 1 Axes>"
            ]
          },
          "metadata": {
            "tags": [],
            "needs_background": "light"
          }
        }
      ]
    },
    {
      "cell_type": "code",
      "metadata": {
        "colab": {
          "base_uri": "https://localhost:8080/",
          "height": 282
        },
        "id": "yJzsDK-SmW6b",
        "outputId": "dd5bef76-05dc-4db1-dab4-7e01dd753d4b"
      },
      "source": [
        "df_T[['YAL001C','YAL014C']].plot()"
      ],
      "execution_count": null,
      "outputs": [
        {
          "output_type": "execute_result",
          "data": {
            "text/plain": [
              "<matplotlib.axes._subplots.AxesSubplot at 0x7f5e4619d7d0>"
            ]
          },
          "metadata": {
            "tags": []
          },
          "execution_count": 75
        },
        {
          "output_type": "display_data",
          "data": {
            "image/png": "[encoded data removed]",
            "text/plain": [
              "<Figure size 432x288 with 1 Axes>"
            ]
          },
          "metadata": {
            "tags": [],
            "needs_background": "light"
          }
        }
      ]
    },
    {
      "cell_type": "code",
      "metadata": {
        "colab": {
          "base_uri": "https://localhost:8080/",
          "height": 408
        },
        "id": "6I3rfb7C5Zxj",
        "outputId": "aeb3d45c-c7e2-4967-9aa6-5b9753a63f06"
      },
      "source": [
        "df_T.plot() #não rodou porque são muitos dados!"
      ],
      "execution_count": null,
      "outputs": [
        {
          "output_type": "execute_result",
          "data": {
            "text/plain": [
              "<matplotlib.axes._subplots.AxesSubplot at 0x7f5e461bf710>"
            ]
          },
          "metadata": {
            "tags": []
          },
          "execution_count": 76
        },
        {
          "output_type": "error",
          "ename": "ValueError",
          "evalue": "ignored",
          "traceback": [
            "\u001b[0;31m---------------------------------------------------------------------------\u001b[0m",
            "\u001b[0;31mValueError\u001b[0m                                Traceback (most recent call last)",
            "\u001b[0;32m/usr/local/lib/python3.7/dist-packages/IPython/core/formatters.py\u001b[0m in \u001b[0;36m__call__\u001b[0;34m(self, obj)\u001b[0m\n\u001b[1;32m    332\u001b[0m                 \u001b[0;32mpass\u001b[0m\u001b[0;34m\u001b[0m\u001b[0;34m\u001b[0m\u001b[0m\n\u001b[1;32m    333\u001b[0m             \u001b[0;32melse\u001b[0m\u001b[0;34m:\u001b[0m\u001b[0;34m\u001b[0m\u001b[0;34m\u001b[0m\u001b[0m\n\u001b[0;32m--> 334\u001b[0;31m                 \u001b[0;32mreturn\u001b[0m \u001b[0mprinter\u001b[0m\u001b[0;34m(\u001b[0m\u001b[0mobj\u001b[0m\u001b[0;34m)\u001b[0m\u001b[0;34m\u001b[0m\u001b[0;34m\u001b[0m\u001b[0m\n\u001b[0m\u001b[1;32m    335\u001b[0m             \u001b[0;31m# Finally look for special method names\u001b[0m\u001b[0;34m\u001b[0m\u001b[0;34m\u001b[0m\u001b[0;34m\u001b[0m\u001b[0m\n\u001b[1;32m    336\u001b[0m             \u001b[0mmethod\u001b[0m \u001b[0;34m=\u001b[0m \u001b[0mget_real_method\u001b[0m\u001b[0;34m(\u001b[0m\u001b[0mobj\u001b[0m\u001b[0;34m,\u001b[0m \u001b[0mself\u001b[0m\u001b[0;34m.\u001b[0m\u001b[0mprint_method\u001b[0m\u001b[0;34m)\u001b[0m\u001b[0;34m\u001b[0m\u001b[0;34m\u001b[0m\u001b[0m\n",
            "\u001b[0;32m/usr/local/lib/python3.7/dist-packages/IPython/core/pylabtools.py\u001b[0m in \u001b[0;36m<lambda>\u001b[0;34m(fig)\u001b[0m\n\u001b[1;32m    239\u001b[0m \u001b[0;34m\u001b[0m\u001b[0m\n\u001b[1;32m    240\u001b[0m     \u001b[0;32mif\u001b[0m \u001b[0;34m'png'\u001b[0m \u001b[0;32min\u001b[0m \u001b[0mformats\u001b[0m\u001b[0;34m:\u001b[0m\u001b[0;34m\u001b[0m\u001b[0;34m\u001b[0m\u001b[0m\n\u001b[0;32m--> 241\u001b[0;31m         \u001b[0mpng_formatter\u001b[0m\u001b[0;34m.\u001b[0m\u001b[0mfor_type\u001b[0m\u001b[0;34m(\u001b[0m\u001b[0mFigure\u001b[0m\u001b[0;34m,\u001b[0m \u001b[0;32mlambda\u001b[0m \u001b[0mfig\u001b[0m\u001b[0;34m:\u001b[0m \u001b[0mprint_figure\u001b[0m\u001b[0;34m(\u001b[0m\u001b[0mfig\u001b[0m\u001b[0;34m,\u001b[0m \u001b[0;34m'png'\u001b[0m\u001b[0;34m,\u001b[0m \u001b[0;34m**\u001b[0m\u001b[0mkwargs\u001b[0m\u001b[0;34m)\u001b[0m\u001b[0;34m)\u001b[0m\u001b[0;34m\u001b[0m\u001b[0;34m\u001b[0m\u001b[0m\n\u001b[0m\u001b[1;32m    242\u001b[0m     \u001b[0;32mif\u001b[0m \u001b[0;34m'retina'\u001b[0m \u001b[0;32min\u001b[0m \u001b[0mformats\u001b[0m \u001b[0;32mor\u001b[0m \u001b[0;34m'png2x'\u001b[0m \u001b[0;32min\u001b[0m \u001b[0mformats\u001b[0m\u001b[0;34m:\u001b[0m\u001b[0;34m\u001b[0m\u001b[0;34m\u001b[0m\u001b[0m\n\u001b[1;32m    243\u001b[0m         \u001b[0mpng_formatter\u001b[0m\u001b[0;34m.\u001b[0m\u001b[0mfor_type\u001b[0m\u001b[0;34m(\u001b[0m\u001b[0mFigure\u001b[0m\u001b[0;34m,\u001b[0m \u001b[0;32mlambda\u001b[0m \u001b[0mfig\u001b[0m\u001b[0;34m:\u001b[0m \u001b[0mretina_figure\u001b[0m\u001b[0;34m(\u001b[0m\u001b[0mfig\u001b[0m\u001b[0;34m,\u001b[0m \u001b[0;34m**\u001b[0m\u001b[0mkwargs\u001b[0m\u001b[0;34m)\u001b[0m\u001b[0;34m)\u001b[0m\u001b[0;34m\u001b[0m\u001b[0;34m\u001b[0m\u001b[0m\n",
            "\u001b[0;32m/usr/local/lib/python3.7/dist-packages/IPython/core/pylabtools.py\u001b[0m in \u001b[0;36mprint_figure\u001b[0;34m(fig, fmt, bbox_inches, **kwargs)\u001b[0m\n\u001b[1;32m    123\u001b[0m \u001b[0;34m\u001b[0m\u001b[0m\n\u001b[1;32m    124\u001b[0m     \u001b[0mbytes_io\u001b[0m \u001b[0;34m=\u001b[0m \u001b[0mBytesIO\u001b[0m\u001b[0;34m(\u001b[0m\u001b[0;34m)\u001b[0m\u001b[0;34m\u001b[0m\u001b[0;34m\u001b[0m\u001b[0m\n\u001b[0;32m--> 125\u001b[0;31m     \u001b[0mfig\u001b[0m\u001b[0;34m.\u001b[0m\u001b[0mcanvas\u001b[0m\u001b[0;34m.\u001b[0m\u001b[0mprint_figure\u001b[0m\u001b[0;34m(\u001b[0m\u001b[0mbytes_io\u001b[0m\u001b[0;34m,\u001b[0m \u001b[0;34m**\u001b[0m\u001b[0mkw\u001b[0m\u001b[0;34m)\u001b[0m\u001b[0;34m\u001b[0m\u001b[0;34m\u001b[0m\u001b[0m\n\u001b[0m\u001b[1;32m    126\u001b[0m     \u001b[0mdata\u001b[0m \u001b[0;34m=\u001b[0m \u001b[0mbytes_io\u001b[0m\u001b[0;34m.\u001b[0m\u001b[0mgetvalue\u001b[0m\u001b[0;34m(\u001b[0m\u001b[0;34m)\u001b[0m\u001b[0;34m\u001b[0m\u001b[0;34m\u001b[0m\u001b[0m\n\u001b[1;32m    127\u001b[0m     \u001b[0;32mif\u001b[0m \u001b[0mfmt\u001b[0m \u001b[0;34m==\u001b[0m \u001b[0;34m'svg'\u001b[0m\u001b[0;34m:\u001b[0m\u001b[0;34m\u001b[0m\u001b[0;34m\u001b[0m\u001b[0m\n",
            "\u001b[0;32m/usr/local/lib/python3.7/dist-packages/matplotlib/backend_bases.py\u001b[0m in \u001b[0;36mprint_figure\u001b[0;34m(self, filename, dpi, facecolor, edgecolor, orientation, format, bbox_inches, **kwargs)\u001b[0m\n\u001b[1;32m   2124\u001b[0m                     \u001b[0morientation\u001b[0m\u001b[0;34m=\u001b[0m\u001b[0morientation\u001b[0m\u001b[0;34m,\u001b[0m\u001b[0;34m\u001b[0m\u001b[0;34m\u001b[0m\u001b[0m\n\u001b[1;32m   2125\u001b[0m                     \u001b[0mbbox_inches_restore\u001b[0m\u001b[0;34m=\u001b[0m\u001b[0m_bbox_inches_restore\u001b[0m\u001b[0;34m,\u001b[0m\u001b[0;34m\u001b[0m\u001b[0;34m\u001b[0m\u001b[0m\n\u001b[0;32m-> 2126\u001b[0;31m                     **kwargs)\n\u001b[0m\u001b[1;32m   2127\u001b[0m             \u001b[0;32mfinally\u001b[0m\u001b[0;34m:\u001b[0m\u001b[0;34m\u001b[0m\u001b[0;34m\u001b[0m\u001b[0m\n\u001b[1;32m   2128\u001b[0m                 \u001b[0;32mif\u001b[0m \u001b[0mbbox_inches\u001b[0m \u001b[0;32mand\u001b[0m \u001b[0mrestore_bbox\u001b[0m\u001b[0;34m:\u001b[0m\u001b[0;34m\u001b[0m\u001b[0;34m\u001b[0m\u001b[0m\n",
            "\u001b[0;32m/usr/local/lib/python3.7/dist-packages/matplotlib/backends/backend_agg.py\u001b[0m in \u001b[0;36mprint_png\u001b[0;34m(self, filename_or_obj, metadata, pil_kwargs, *args, **kwargs)\u001b[0m\n\u001b[1;32m    512\u001b[0m         }\n\u001b[1;32m    513\u001b[0m \u001b[0;34m\u001b[0m\u001b[0m\n\u001b[0;32m--> 514\u001b[0;31m         \u001b[0mFigureCanvasAgg\u001b[0m\u001b[0;34m.\u001b[0m\u001b[0mdraw\u001b[0m\u001b[0;34m(\u001b[0m\u001b[0mself\u001b[0m\u001b[0;34m)\u001b[0m\u001b[0;34m\u001b[0m\u001b[0;34m\u001b[0m\u001b[0m\n\u001b[0m\u001b[1;32m    515\u001b[0m         \u001b[0;32mif\u001b[0m \u001b[0mpil_kwargs\u001b[0m \u001b[0;32mis\u001b[0m \u001b[0;32mnot\u001b[0m \u001b[0;32mNone\u001b[0m\u001b[0;34m:\u001b[0m\u001b[0;34m\u001b[0m\u001b[0;34m\u001b[0m\u001b[0m\n\u001b[1;32m    516\u001b[0m             \u001b[0;32mfrom\u001b[0m \u001b[0mPIL\u001b[0m \u001b[0;32mimport\u001b[0m \u001b[0mImage\u001b[0m\u001b[0;34m\u001b[0m\u001b[0;34m\u001b[0m\u001b[0m\n",
            "\u001b[0;32m/usr/local/lib/python3.7/dist-packages/matplotlib/backends/backend_agg.py\u001b[0m in \u001b[0;36mdraw\u001b[0;34m(self)\u001b[0m\n\u001b[1;32m    386\u001b[0m         \u001b[0mDraw\u001b[0m \u001b[0mthe\u001b[0m \u001b[0mfigure\u001b[0m \u001b[0musing\u001b[0m \u001b[0mthe\u001b[0m \u001b[0mrenderer\u001b[0m\u001b[0;34m.\u001b[0m\u001b[0;34m\u001b[0m\u001b[0;34m\u001b[0m\u001b[0m\n\u001b[1;32m    387\u001b[0m         \"\"\"\n\u001b[0;32m--> 388\u001b[0;31m         \u001b[0mself\u001b[0m\u001b[0;34m.\u001b[0m\u001b[0mrenderer\u001b[0m \u001b[0;34m=\u001b[0m \u001b[0mself\u001b[0m\u001b[0;34m.\u001b[0m\u001b[0mget_renderer\u001b[0m\u001b[0;34m(\u001b[0m\u001b[0mcleared\u001b[0m\u001b[0;34m=\u001b[0m\u001b[0;32mTrue\u001b[0m\u001b[0;34m)\u001b[0m\u001b[0;34m\u001b[0m\u001b[0;34m\u001b[0m\u001b[0m\n\u001b[0m\u001b[1;32m    389\u001b[0m         \u001b[0;31m# Acquire a lock on the shared font cache.\u001b[0m\u001b[0;34m\u001b[0m\u001b[0;34m\u001b[0m\u001b[0;34m\u001b[0m\u001b[0m\n\u001b[1;32m    390\u001b[0m         \u001b[0;32mwith\u001b[0m \u001b[0mRendererAgg\u001b[0m\u001b[0;34m.\u001b[0m\u001b[0mlock\u001b[0m\u001b[0;34m,\u001b[0m\u001b[0;31m \u001b[0m\u001b[0;31m\\\u001b[0m\u001b[0;34m\u001b[0m\u001b[0;34m\u001b[0m\u001b[0m\n",
            "\u001b[0;32m/usr/local/lib/python3.7/dist-packages/matplotlib/backends/backend_agg.py\u001b[0m in \u001b[0;36mget_renderer\u001b[0;34m(self, cleared)\u001b[0m\n\u001b[1;32m    402\u001b[0m                           and getattr(self, \"_lastKey\", None) == key)\n\u001b[1;32m    403\u001b[0m         \u001b[0;32mif\u001b[0m \u001b[0;32mnot\u001b[0m \u001b[0mreuse_renderer\u001b[0m\u001b[0;34m:\u001b[0m\u001b[0;34m\u001b[0m\u001b[0;34m\u001b[0m\u001b[0m\n\u001b[0;32m--> 404\u001b[0;31m             \u001b[0mself\u001b[0m\u001b[0;34m.\u001b[0m\u001b[0mrenderer\u001b[0m \u001b[0;34m=\u001b[0m \u001b[0mRendererAgg\u001b[0m\u001b[0;34m(\u001b[0m\u001b[0mw\u001b[0m\u001b[0;34m,\u001b[0m \u001b[0mh\u001b[0m\u001b[0;34m,\u001b[0m \u001b[0mself\u001b[0m\u001b[0;34m.\u001b[0m\u001b[0mfigure\u001b[0m\u001b[0;34m.\u001b[0m\u001b[0mdpi\u001b[0m\u001b[0;34m)\u001b[0m\u001b[0;34m\u001b[0m\u001b[0;34m\u001b[0m\u001b[0m\n\u001b[0m\u001b[1;32m    405\u001b[0m             \u001b[0mself\u001b[0m\u001b[0;34m.\u001b[0m\u001b[0m_lastKey\u001b[0m \u001b[0;34m=\u001b[0m \u001b[0mkey\u001b[0m\u001b[0;34m\u001b[0m\u001b[0;34m\u001b[0m\u001b[0m\n\u001b[1;32m    406\u001b[0m         \u001b[0;32melif\u001b[0m \u001b[0mcleared\u001b[0m\u001b[0;34m:\u001b[0m\u001b[0;34m\u001b[0m\u001b[0;34m\u001b[0m\u001b[0m\n",
            "\u001b[0;32m/usr/local/lib/python3.7/dist-packages/matplotlib/backends/backend_agg.py\u001b[0m in \u001b[0;36m__init__\u001b[0;34m(self, width, height, dpi)\u001b[0m\n\u001b[1;32m     90\u001b[0m         \u001b[0mself\u001b[0m\u001b[0;34m.\u001b[0m\u001b[0mwidth\u001b[0m \u001b[0;34m=\u001b[0m \u001b[0mwidth\u001b[0m\u001b[0;34m\u001b[0m\u001b[0;34m\u001b[0m\u001b[0m\n\u001b[1;32m     91\u001b[0m         \u001b[0mself\u001b[0m\u001b[0;34m.\u001b[0m\u001b[0mheight\u001b[0m \u001b[0;34m=\u001b[0m \u001b[0mheight\u001b[0m\u001b[0;34m\u001b[0m\u001b[0;34m\u001b[0m\u001b[0m\n\u001b[0;32m---> 92\u001b[0;31m         \u001b[0mself\u001b[0m\u001b[0;34m.\u001b[0m\u001b[0m_renderer\u001b[0m \u001b[0;34m=\u001b[0m \u001b[0m_RendererAgg\u001b[0m\u001b[0;34m(\u001b[0m\u001b[0mint\u001b[0m\u001b[0;34m(\u001b[0m\u001b[0mwidth\u001b[0m\u001b[0;34m)\u001b[0m\u001b[0;34m,\u001b[0m \u001b[0mint\u001b[0m\u001b[0;34m(\u001b[0m\u001b[0mheight\u001b[0m\u001b[0;34m)\u001b[0m\u001b[0;34m,\u001b[0m \u001b[0mdpi\u001b[0m\u001b[0;34m)\u001b[0m\u001b[0;34m\u001b[0m\u001b[0;34m\u001b[0m\u001b[0m\n\u001b[0m\u001b[1;32m     93\u001b[0m         \u001b[0mself\u001b[0m\u001b[0;34m.\u001b[0m\u001b[0m_filter_renderers\u001b[0m \u001b[0;34m=\u001b[0m \u001b[0;34m[\u001b[0m\u001b[0;34m]\u001b[0m\u001b[0;34m\u001b[0m\u001b[0;34m\u001b[0m\u001b[0m\n\u001b[1;32m     94\u001b[0m \u001b[0;34m\u001b[0m\u001b[0m\n",
            "\u001b[0;31mValueError\u001b[0m: Image size of 370x65752 pixels is too large. It must be less than 2^16 in each direction."
          ]
        },
        {
          "output_type": "display_data",
          "data": {
            "text/plain": [
              "<Figure size 432x288 with 1 Axes>"
            ]
          },
          "metadata": {
            "tags": [],
            "needs_background": "light"
          }
        }
      ]
    },
    {
      "cell_type": "code",
      "metadata": {
        "colab": {
          "base_uri": "https://localhost:8080/",
          "height": 296
        },
        "id": "Y9obojyrn2YR",
        "outputId": "6263d2de-07a3-41d6-8278-dc36a7b1e85c"
      },
      "source": [
        "df_T.plot.scatter(x=\"YAL001C\", y=\"YAL014C\", alpha=0.5 ) #é uma coluna x coluna = para saber se existe uma correlação linear - um atributo x outro atributo"
      ],
      "execution_count": null,
      "outputs": [
        {
          "output_type": "execute_result",
          "data": {
            "text/plain": [
              "<matplotlib.axes._subplots.AxesSubplot at 0x7f5e3d703890>"
            ]
          },
          "metadata": {
            "tags": []
          },
          "execution_count": 77
        },
        {
          "output_type": "display_data",
          "data": {
            "image/png": "[encoded data removed]",
            "text/plain": [
              "<Figure size 432x288 with 1 Axes>"
            ]
          },
          "metadata": {
            "tags": [],
            "needs_background": "light"
          }
        }
      ]
    },
    {
      "cell_type": "code",
      "metadata": {
        "colab": {
          "base_uri": "https://localhost:8080/"
        },
        "id": "r0BjdNnIIwgS",
        "outputId": "201aae4e-1c55-4cb3-f786-97f4cc9818d6"
      },
      "source": [
        "df_T.columns\n"
      ],
      "execution_count": null,
      "outputs": [
        {
          "output_type": "execute_result",
          "data": {
            "text/plain": [
              "Index(['YAL001C', 'YAL014C', 'YAL016W', 'YAL020C', 'YAL022C', 'YAL036C',\n",
              "       'YAL038W', 'YAL039C', 'YAL040C', 'YAL044C',\n",
              "       ...\n",
              "       'YPR189W', 'YPR191W', 'YPR193C', 'YPR194C', 'YPR197C', 'YPR198W',\n",
              "       'YPR199C', 'YPR201W', 'YPR203W', 'YPR204W'],\n",
              "      dtype='object', name='time', length=4381)"
            ]
          },
          "metadata": {
            "tags": []
          },
          "execution_count": 78
        }
      ]
    },
    {
      "cell_type": "code",
      "metadata": {
        "id": "v9G5MkgX0sbo"
      },
      "source": [
        "#df_T['YAL020C'].map(type)"
      ],
      "execution_count": null,
      "outputs": []
    },
    {
      "cell_type": "code",
      "metadata": {
        "colab": {
          "base_uri": "https://localhost:8080/",
          "height": 235
        },
        "id": "4ngAUwCJK7l5",
        "outputId": "f8f20620-dceb-4f9b-894b-c60d65901940"
      },
      "source": [
        "df_T[['YAL001C','YAL022C','YAL016W','YAL020C','YAL014C']].corr() #visualizar correlação: quanto mais próximo de 1, mais relação tem - valores variam entre -1 e 1"
      ],
      "execution_count": null,
      "outputs": [
        {
          "output_type": "execute_result",
          "data": {
            "text/html": [
              "<div>\n",
              "<style scoped>\n",
              "    .dataframe tbody tr th:only-of-type {\n",
              "        vertical-align: middle;\n",
              "    }\n",
              "\n",
              "    .dataframe tbody tr th {\n",
              "        vertical-align: top;\n",
              "    }\n",
              "\n",
              "    .dataframe thead th {\n",
              "        text-align: right;\n",
              "    }\n",
              "</style>\n",
              "<table border=\"1\" class=\"dataframe\">\n",
              "  <thead>\n",
              "    <tr style=\"text-align: right;\">\n",
              "      <th>time</th>\n",
              "      <th>YAL001C</th>\n",
              "      <th>YAL022C</th>\n",
              "      <th>YAL016W</th>\n",
              "      <th>YAL020C</th>\n",
              "      <th>YAL014C</th>\n",
              "    </tr>\n",
              "    <tr>\n",
              "      <th>time</th>\n",
              "      <th></th>\n",
              "      <th></th>\n",
              "      <th></th>\n",
              "      <th></th>\n",
              "      <th></th>\n",
              "    </tr>\n",
              "  </thead>\n",
              "  <tbody>\n",
              "    <tr>\n",
              "      <th>YAL001C</th>\n",
              "      <td>1.000000</td>\n",
              "      <td>0.088966</td>\n",
              "      <td>-0.144987</td>\n",
              "      <td>0.568745</td>\n",
              "      <td>-0.154755</td>\n",
              "    </tr>\n",
              "    <tr>\n",
              "      <th>YAL022C</th>\n",
              "      <td>0.088966</td>\n",
              "      <td>1.000000</td>\n",
              "      <td>-0.605068</td>\n",
              "      <td>0.547778</td>\n",
              "      <td>-0.178814</td>\n",
              "    </tr>\n",
              "    <tr>\n",
              "      <th>YAL016W</th>\n",
              "      <td>-0.144987</td>\n",
              "      <td>-0.605068</td>\n",
              "      <td>1.000000</td>\n",
              "      <td>-0.564937</td>\n",
              "      <td>0.686653</td>\n",
              "    </tr>\n",
              "    <tr>\n",
              "      <th>YAL020C</th>\n",
              "      <td>0.568745</td>\n",
              "      <td>0.547778</td>\n",
              "      <td>-0.564937</td>\n",
              "      <td>1.000000</td>\n",
              "      <td>-0.402450</td>\n",
              "    </tr>\n",
              "    <tr>\n",
              "      <th>YAL014C</th>\n",
              "      <td>-0.154755</td>\n",
              "      <td>-0.178814</td>\n",
              "      <td>0.686653</td>\n",
              "      <td>-0.402450</td>\n",
              "      <td>1.000000</td>\n",
              "    </tr>\n",
              "  </tbody>\n",
              "</table>\n",
              "</div>"
            ],
            "text/plain": [
              "time      YAL001C   YAL022C   YAL016W   YAL020C   YAL014C\n",
              "time                                                     \n",
              "YAL001C  1.000000  0.088966 -0.144987  0.568745 -0.154755\n",
              "YAL022C  0.088966  1.000000 -0.605068  0.547778 -0.178814\n",
              "YAL016W -0.144987 -0.605068  1.000000 -0.564937  0.686653\n",
              "YAL020C  0.568745  0.547778 -0.564937  1.000000 -0.402450\n",
              "YAL014C -0.154755 -0.178814  0.686653 -0.402450  1.000000"
            ]
          },
          "metadata": {
            "tags": []
          },
          "execution_count": 80
        }
      ]
    },
    {
      "cell_type": "code",
      "metadata": {
        "colab": {
          "base_uri": "https://localhost:8080/",
          "height": 142
        },
        "id": "Bq2PFqmT3Mkh",
        "outputId": "cd3278a1-8176-45df-d00d-e415686d47c4"
      },
      "source": [
        "df_T[['YAL001C','YAL022C']].corr()"
      ],
      "execution_count": null,
      "outputs": [
        {
          "output_type": "execute_result",
          "data": {
            "text/html": [
              "<div>\n",
              "<style scoped>\n",
              "    .dataframe tbody tr th:only-of-type {\n",
              "        vertical-align: middle;\n",
              "    }\n",
              "\n",
              "    .dataframe tbody tr th {\n",
              "        vertical-align: top;\n",
              "    }\n",
              "\n",
              "    .dataframe thead th {\n",
              "        text-align: right;\n",
              "    }\n",
              "</style>\n",
              "<table border=\"1\" class=\"dataframe\">\n",
              "  <thead>\n",
              "    <tr style=\"text-align: right;\">\n",
              "      <th>time</th>\n",
              "      <th>YAL001C</th>\n",
              "      <th>YAL022C</th>\n",
              "    </tr>\n",
              "    <tr>\n",
              "      <th>time</th>\n",
              "      <th></th>\n",
              "      <th></th>\n",
              "    </tr>\n",
              "  </thead>\n",
              "  <tbody>\n",
              "    <tr>\n",
              "      <th>YAL001C</th>\n",
              "      <td>1.000000</td>\n",
              "      <td>0.088966</td>\n",
              "    </tr>\n",
              "    <tr>\n",
              "      <th>YAL022C</th>\n",
              "      <td>0.088966</td>\n",
              "      <td>1.000000</td>\n",
              "    </tr>\n",
              "  </tbody>\n",
              "</table>\n",
              "</div>"
            ],
            "text/plain": [
              "time      YAL001C   YAL022C\n",
              "time                       \n",
              "YAL001C  1.000000  0.088966\n",
              "YAL022C  0.088966  1.000000"
            ]
          },
          "metadata": {
            "tags": []
          },
          "execution_count": 81
        }
      ]
    },
    {
      "cell_type": "code",
      "metadata": {
        "id": "hyayZIxw_mh4"
      },
      "source": [
        "A = df_T[['YAL001C','YAL022C','YAL016W','YAL020C','YAL014C']].corr()"
      ],
      "execution_count": null,
      "outputs": []
    },
    {
      "cell_type": "code",
      "metadata": {
        "colab": {
          "base_uri": "https://localhost:8080/",
          "height": 421
        },
        "id": "urJOqV6AAEx0",
        "outputId": "f2bf05c8-02b0-41dd-8f86-e5afe80b0f00"
      },
      "source": [
        "C = A[A.values > 0.5]\n",
        "C"
      ],
      "execution_count": null,
      "outputs": [
        {
          "output_type": "execute_result",
          "data": {
            "text/html": [
              "<div>\n",
              "<style scoped>\n",
              "    .dataframe tbody tr th:only-of-type {\n",
              "        vertical-align: middle;\n",
              "    }\n",
              "\n",
              "    .dataframe tbody tr th {\n",
              "        vertical-align: top;\n",
              "    }\n",
              "\n",
              "    .dataframe thead th {\n",
              "        text-align: right;\n",
              "    }\n",
              "</style>\n",
              "<table border=\"1\" class=\"dataframe\">\n",
              "  <thead>\n",
              "    <tr style=\"text-align: right;\">\n",
              "      <th>time</th>\n",
              "      <th>YAL001C</th>\n",
              "      <th>YAL022C</th>\n",
              "      <th>YAL016W</th>\n",
              "      <th>YAL020C</th>\n",
              "      <th>YAL014C</th>\n",
              "    </tr>\n",
              "    <tr>\n",
              "      <th>time</th>\n",
              "      <th></th>\n",
              "      <th></th>\n",
              "      <th></th>\n",
              "      <th></th>\n",
              "      <th></th>\n",
              "    </tr>\n",
              "  </thead>\n",
              "  <tbody>\n",
              "    <tr>\n",
              "      <th>YAL001C</th>\n",
              "      <td>1.000000</td>\n",
              "      <td>0.088966</td>\n",
              "      <td>-0.144987</td>\n",
              "      <td>0.568745</td>\n",
              "      <td>-0.154755</td>\n",
              "    </tr>\n",
              "    <tr>\n",
              "      <th>YAL001C</th>\n",
              "      <td>1.000000</td>\n",
              "      <td>0.088966</td>\n",
              "      <td>-0.144987</td>\n",
              "      <td>0.568745</td>\n",
              "      <td>-0.154755</td>\n",
              "    </tr>\n",
              "    <tr>\n",
              "      <th>YAL022C</th>\n",
              "      <td>0.088966</td>\n",
              "      <td>1.000000</td>\n",
              "      <td>-0.605068</td>\n",
              "      <td>0.547778</td>\n",
              "      <td>-0.178814</td>\n",
              "    </tr>\n",
              "    <tr>\n",
              "      <th>YAL022C</th>\n",
              "      <td>0.088966</td>\n",
              "      <td>1.000000</td>\n",
              "      <td>-0.605068</td>\n",
              "      <td>0.547778</td>\n",
              "      <td>-0.178814</td>\n",
              "    </tr>\n",
              "    <tr>\n",
              "      <th>YAL016W</th>\n",
              "      <td>-0.144987</td>\n",
              "      <td>-0.605068</td>\n",
              "      <td>1.000000</td>\n",
              "      <td>-0.564937</td>\n",
              "      <td>0.686653</td>\n",
              "    </tr>\n",
              "    <tr>\n",
              "      <th>YAL016W</th>\n",
              "      <td>-0.144987</td>\n",
              "      <td>-0.605068</td>\n",
              "      <td>1.000000</td>\n",
              "      <td>-0.564937</td>\n",
              "      <td>0.686653</td>\n",
              "    </tr>\n",
              "    <tr>\n",
              "      <th>YAL020C</th>\n",
              "      <td>0.568745</td>\n",
              "      <td>0.547778</td>\n",
              "      <td>-0.564937</td>\n",
              "      <td>1.000000</td>\n",
              "      <td>-0.402450</td>\n",
              "    </tr>\n",
              "    <tr>\n",
              "      <th>YAL020C</th>\n",
              "      <td>0.568745</td>\n",
              "      <td>0.547778</td>\n",
              "      <td>-0.564937</td>\n",
              "      <td>1.000000</td>\n",
              "      <td>-0.402450</td>\n",
              "    </tr>\n",
              "    <tr>\n",
              "      <th>YAL020C</th>\n",
              "      <td>0.568745</td>\n",
              "      <td>0.547778</td>\n",
              "      <td>-0.564937</td>\n",
              "      <td>1.000000</td>\n",
              "      <td>-0.402450</td>\n",
              "    </tr>\n",
              "    <tr>\n",
              "      <th>YAL014C</th>\n",
              "      <td>-0.154755</td>\n",
              "      <td>-0.178814</td>\n",
              "      <td>0.686653</td>\n",
              "      <td>-0.402450</td>\n",
              "      <td>1.000000</td>\n",
              "    </tr>\n",
              "    <tr>\n",
              "      <th>YAL014C</th>\n",
              "      <td>-0.154755</td>\n",
              "      <td>-0.178814</td>\n",
              "      <td>0.686653</td>\n",
              "      <td>-0.402450</td>\n",
              "      <td>1.000000</td>\n",
              "    </tr>\n",
              "  </tbody>\n",
              "</table>\n",
              "</div>"
            ],
            "text/plain": [
              "time      YAL001C   YAL022C   YAL016W   YAL020C   YAL014C\n",
              "time                                                     \n",
              "YAL001C  1.000000  0.088966 -0.144987  0.568745 -0.154755\n",
              "YAL001C  1.000000  0.088966 -0.144987  0.568745 -0.154755\n",
              "YAL022C  0.088966  1.000000 -0.605068  0.547778 -0.178814\n",
              "YAL022C  0.088966  1.000000 -0.605068  0.547778 -0.178814\n",
              "YAL016W -0.144987 -0.605068  1.000000 -0.564937  0.686653\n",
              "YAL016W -0.144987 -0.605068  1.000000 -0.564937  0.686653\n",
              "YAL020C  0.568745  0.547778 -0.564937  1.000000 -0.402450\n",
              "YAL020C  0.568745  0.547778 -0.564937  1.000000 -0.402450\n",
              "YAL020C  0.568745  0.547778 -0.564937  1.000000 -0.402450\n",
              "YAL014C -0.154755 -0.178814  0.686653 -0.402450  1.000000\n",
              "YAL014C -0.154755 -0.178814  0.686653 -0.402450  1.000000"
            ]
          },
          "metadata": {
            "tags": []
          },
          "execution_count": 83
        }
      ]
    },
    {
      "cell_type": "code",
      "metadata": {
        "colab": {
          "base_uri": "https://localhost:8080/",
          "height": 626
        },
        "id": "Mi__dtZXJ2wY",
        "outputId": "960e637e-f9f2-43a0-ca4a-4a8422ce563b"
      },
      "source": [
        "import seaborn as sns\n",
        "import matplotlib.pyplot as plt\n",
        "plt.figure(figsize=(12,10))\n",
        "sns.heatmap(df_T[['YAL001C','YAL022C','YAL016W','YAL020C','YAL014C']].corr().round(3))\n"
      ],
      "execution_count": null,
      "outputs": [
        {
          "output_type": "execute_result",
          "data": {
            "text/plain": [
              "<matplotlib.axes._subplots.AxesSubplot at 0x7f5e2f866fd0>"
            ]
          },
          "metadata": {
            "tags": []
          },
          "execution_count": 84
        },
        {
          "output_type": "display_data",
          "data": {
            "image/png": "[encoded data removed]",
            "text/plain": [
              "<Figure size 864x720 with 2 Axes>"
            ]
          },
          "metadata": {
            "tags": [],
            "needs_background": "light"
          }
        }
      ]
    },
    {
      "cell_type": "code",
      "metadata": {
        "id": "86AjSIiJt58h"
      },
      "source": [
        "df = pd.DataFrame(dict(age=[5, 6, np.NaN],born=[pd.NaT, pd.Timestamp('1939-05-27'),pd.Timestamp('1940-04-25')],\n",
        "               name=['Alfred', 'Batman', ''],\n",
        "                  toy=[None, 'Batmobile', 'Joker']))"
      ],
      "execution_count": null,
      "outputs": []
    },
    {
      "cell_type": "code",
      "metadata": {
        "colab": {
          "base_uri": "https://localhost:8080/",
          "height": 142
        },
        "id": "C-QpVaVKzw49",
        "outputId": "ec125b63-bdf8-41e2-f057-9ce13a4b4bc5"
      },
      "source": [
        "df"
      ],
      "execution_count": null,
      "outputs": [
        {
          "output_type": "execute_result",
          "data": {
            "text/html": [
              "<div>\n",
              "<style scoped>\n",
              "    .dataframe tbody tr th:only-of-type {\n",
              "        vertical-align: middle;\n",
              "    }\n",
              "\n",
              "    .dataframe tbody tr th {\n",
              "        vertical-align: top;\n",
              "    }\n",
              "\n",
              "    .dataframe thead th {\n",
              "        text-align: right;\n",
              "    }\n",
              "</style>\n",
              "<table border=\"1\" class=\"dataframe\">\n",
              "  <thead>\n",
              "    <tr style=\"text-align: right;\">\n",
              "      <th></th>\n",
              "      <th>age</th>\n",
              "      <th>born</th>\n",
              "      <th>name</th>\n",
              "      <th>toy</th>\n",
              "    </tr>\n",
              "  </thead>\n",
              "  <tbody>\n",
              "    <tr>\n",
              "      <th>0</th>\n",
              "      <td>5.0</td>\n",
              "      <td>NaT</td>\n",
              "      <td>Alfred</td>\n",
              "      <td>None</td>\n",
              "    </tr>\n",
              "    <tr>\n",
              "      <th>1</th>\n",
              "      <td>6.0</td>\n",
              "      <td>1939-05-27</td>\n",
              "      <td>Batman</td>\n",
              "      <td>Batmobile</td>\n",
              "    </tr>\n",
              "    <tr>\n",
              "      <th>2</th>\n",
              "      <td>NaN</td>\n",
              "      <td>1940-04-25</td>\n",
              "      <td></td>\n",
              "      <td>Joker</td>\n",
              "    </tr>\n",
              "  </tbody>\n",
              "</table>\n",
              "</div>"
            ],
            "text/plain": [
              "   age       born    name        toy\n",
              "0  5.0        NaT  Alfred       None\n",
              "1  6.0 1939-05-27  Batman  Batmobile\n",
              "2  NaN 1940-04-25              Joker"
            ]
          },
          "metadata": {
            "tags": []
          },
          "execution_count": 86
        }
      ]
    },
    {
      "cell_type": "code",
      "metadata": {
        "colab": {
          "base_uri": "https://localhost:8080/"
        },
        "id": "A7V5rj-l2ZBW",
        "outputId": "577de418-e242-4a49-9540-d3e3f0d191e5"
      },
      "source": [
        "A = df['age']\n",
        "A\n",
        "B = A/2\n",
        "B"
      ],
      "execution_count": null,
      "outputs": [
        {
          "output_type": "execute_result",
          "data": {
            "text/plain": [
              "0    2.5\n",
              "1    3.0\n",
              "2    NaN\n",
              "Name: age, dtype: float64"
            ]
          },
          "metadata": {
            "tags": []
          },
          "execution_count": 87
        }
      ]
    },
    {
      "cell_type": "code",
      "metadata": {
        "colab": {
          "base_uri": "https://localhost:8080/",
          "height": 142
        },
        "id": "aJDokQH2uHQZ",
        "outputId": "dbbb4509-56ed-4f91-ddf5-a3a43410c6a9"
      },
      "source": [
        "df.isna()"
      ],
      "execution_count": null,
      "outputs": [
        {
          "output_type": "execute_result",
          "data": {
            "text/html": [
              "<div>\n",
              "<style scoped>\n",
              "    .dataframe tbody tr th:only-of-type {\n",
              "        vertical-align: middle;\n",
              "    }\n",
              "\n",
              "    .dataframe tbody tr th {\n",
              "        vertical-align: top;\n",
              "    }\n",
              "\n",
              "    .dataframe thead th {\n",
              "        text-align: right;\n",
              "    }\n",
              "</style>\n",
              "<table border=\"1\" class=\"dataframe\">\n",
              "  <thead>\n",
              "    <tr style=\"text-align: right;\">\n",
              "      <th></th>\n",
              "      <th>age</th>\n",
              "      <th>born</th>\n",
              "      <th>name</th>\n",
              "      <th>toy</th>\n",
              "    </tr>\n",
              "  </thead>\n",
              "  <tbody>\n",
              "    <tr>\n",
              "      <th>0</th>\n",
              "      <td>False</td>\n",
              "      <td>True</td>\n",
              "      <td>False</td>\n",
              "      <td>True</td>\n",
              "    </tr>\n",
              "    <tr>\n",
              "      <th>1</th>\n",
              "      <td>False</td>\n",
              "      <td>False</td>\n",
              "      <td>False</td>\n",
              "      <td>False</td>\n",
              "    </tr>\n",
              "    <tr>\n",
              "      <th>2</th>\n",
              "      <td>True</td>\n",
              "      <td>False</td>\n",
              "      <td>False</td>\n",
              "      <td>False</td>\n",
              "    </tr>\n",
              "  </tbody>\n",
              "</table>\n",
              "</div>"
            ],
            "text/plain": [
              "     age   born   name    toy\n",
              "0  False   True  False   True\n",
              "1  False  False  False  False\n",
              "2   True  False  False  False"
            ]
          },
          "metadata": {
            "tags": []
          },
          "execution_count": 88
        }
      ]
    },
    {
      "cell_type": "code",
      "metadata": {
        "colab": {
          "base_uri": "https://localhost:8080/",
          "height": 282
        },
        "id": "pucBmWgzemtq",
        "outputId": "d6508c5b-df22-4a97-b819-0f5df64ec4a6"
      },
      "source": [
        "plt.scatter(df_T['YAL014C'],df_T['YAL001C'])"
      ],
      "execution_count": null,
      "outputs": [
        {
          "output_type": "execute_result",
          "data": {
            "text/plain": [
              "<matplotlib.collections.PathCollection at 0x7f5e2f866c10>"
            ]
          },
          "metadata": {
            "tags": []
          },
          "execution_count": 89
        },
        {
          "output_type": "display_data",
          "data": {
            "image/png": "[encoded data removed]",
            "text/plain": [
              "<Figure size 432x288 with 1 Axes>"
            ]
          },
          "metadata": {
            "tags": [],
            "needs_background": "light"
          }
        }
      ]
    },
    {
      "cell_type": "code",
      "metadata": {
        "id": "Iea8ibhFKCNW"
      },
      "source": [
        ""
      ],
      "execution_count": null,
      "outputs": []
    },
    {
      "cell_type": "markdown",
      "metadata": {
        "id": "CGykl38QQRep"
      },
      "source": [
        "####Tópicos vistos:\n",
        "\n",
        "- read_csv\n",
        "- head()\n",
        "- tail()\n",
        "- describe()\n",
        "- info()\n",
        "- dtype()\n",
        "- map(type)\n",
        "- isna() verificar se existem valores nulos no dataframe\n",
        "- dropna() tira as linhas com alguma nulidade\n",
        "- duplicated() verifica antes de dar o drop\n",
        "- unique() verifica se tem valores duplicados\n",
        "- .loc[index, 'nome da coluna']\n",
        "- .iloc[idx, idy]\n",
        "- groupby()\n",
        "- plot.bar; plot.sccater\n",
        "- corr() correlação"
      ]
    }
  ]
}
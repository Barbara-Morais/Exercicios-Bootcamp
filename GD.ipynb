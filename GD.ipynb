{
  "nbformat": 4,
  "nbformat_minor": 0,
  "metadata": {
    "colab": {
      "name": "GD.ipynb",
      "provenance": [],
      "collapsed_sections": [],
      "include_colab_link": true
    },
    "kernelspec": {
      "name": "python3",
      "display_name": "Python 3"
    },
    "language_info": {
      "name": "python"
    }
  },
  "cells": [
    {
      "cell_type": "markdown",
      "metadata": {
        "id": "view-in-github",
        "colab_type": "text"
      },
      "source": [
        "<a href=\"https://colab.research.google.com/github/Barbara-Morais/Exercicios-Bootcamp/blob/main/GD.ipynb\" target=\"_parent\"><img src=\"https://colab.research.google.com/assets/colab-badge.svg\" alt=\"Open In Colab\"/></a>"
      ]
    },
    {
      "cell_type": "code",
      "metadata": {
        "id": "YIGPnxBo35NP"
      },
      "source": [
        "import numpy as np\n",
        "import matplotlib.pyplot as plt\n"
      ],
      "execution_count": null,
      "outputs": []
    },
    {
      "cell_type": "code",
      "metadata": {
        "id": "aILrkncGgToO"
      },
      "source": [
        "x= np.arange(0,3,0.01)"
      ],
      "execution_count": null,
      "outputs": []
    },
    {
      "cell_type": "code",
      "metadata": {
        "id": "xI9dKBy_g-Oj"
      },
      "source": [
        "y = x**4 -3*x**3 +2 "
      ],
      "execution_count": null,
      "outputs": []
    },
    {
      "cell_type": "code",
      "metadata": {
        "colab": {
          "base_uri": "https://localhost:8080/",
          "height": 282
        },
        "id": "TdrCzy9mhF4z",
        "outputId": "de49ab6a-dfeb-400e-999f-365fdcb94202"
      },
      "source": [
        "plt.plot(x,y)\n",
        "plt.grid()\n",
        "plt.axhline(y=0, color=\"black\", linestyle=\"--\")\n",
        "plt.axvline(x=2.25, color=\"black\", linestyle=\"--\")"
      ],
      "execution_count": null,
      "outputs": [
        {
          "output_type": "execute_result",
          "data": {
            "text/plain": [
              "<matplotlib.lines.Line2D at 0x7f1e68b4ddd0>"
            ]
          },
          "metadata": {},
          "execution_count": 4
        },
        {
          "output_type": "display_data",
          "data": {
            "image/png": "[encoded data removed]",
            "text/plain": [
              "<Figure size 432x288 with 1 Axes>"
            ]
          },
          "metadata": {
            "needs_background": "light"
          }
        }
      ]
    },
    {
      "cell_type": "code",
      "metadata": {
        "id": "jcUSnGu1ghan"
      },
      "source": [
        "y_prime = 4*x**3 - 9*x**2"
      ],
      "execution_count": null,
      "outputs": []
    },
    {
      "cell_type": "code",
      "metadata": {
        "colab": {
          "base_uri": "https://localhost:8080/",
          "height": 282
        },
        "id": "hUDH2MOggpY_",
        "outputId": "0c146c75-1a84-441c-84e4-7264cb118b06"
      },
      "source": [
        "plt.plot(x,y_prime)\n",
        "plt.grid()\n",
        "plt.axhline(y=0, color=\"black\", linestyle=\"--\")\n",
        "plt.axvline(x=2.25, color=\"black\", linestyle=\"--\")"
      ],
      "execution_count": null,
      "outputs": [
        {
          "output_type": "execute_result",
          "data": {
            "text/plain": [
              "<matplotlib.lines.Line2D at 0x7f1e6c5f00d0>"
            ]
          },
          "metadata": {},
          "execution_count": 6
        },
        {
          "output_type": "display_data",
          "data": {
            "image/png": "[encoded data removed]",
            "text/plain": [
              "<Figure size 432x288 with 1 Axes>"
            ]
          },
          "metadata": {
            "needs_background": "light"
          }
        }
      ]
    },
    {
      "cell_type": "code",
      "metadata": {
        "colab": {
          "base_uri": "https://localhost:8080/"
        },
        "id": "hPHpyqTXcf8z",
        "outputId": "bed3e053-b5ec-4e7c-eaef-98113f2b156f"
      },
      "source": [
        "x_old=0\n",
        "x_new=6\n",
        "eps = 0.01\n",
        "precision = 0.00001\n",
        "def f_prime(x): \n",
        "  return 4*x**3 - 9*x**2\n",
        "\n",
        "while abs(x_new-x_old) > precision: \n",
        " \n",
        "  x_old=x_new\n",
        "  x_new=x_old - eps*f_prime(x_old)\n",
        "  print(x_new)\n",
        " \n"
      ],
      "execution_count": null,
      "outputs": [
        {
          "output_type": "stream",
          "name": "stdout",
          "text": [
            "0.5999999999999996\n",
            "0.6237599999999996\n",
            "0.6490692731402646\n",
            "0.6760475763767438\n",
            "0.704821965498881\n",
            "0.7355261366038248\n",
            "0.7682992721113444\n",
            "0.8032842278686305\n",
            "0.840624861847519\n",
            "0.8804622684298664\n",
            "0.9229296507309586\n",
            "0.9681455460305634\n",
            "1.016205130521792\n",
            "1.067169389942697\n",
            "1.1210520795330405\n",
            "1.1778046421472836\n",
            "1.237299637824332\n",
            "1.2993137782331108\n",
            "1.3635123370474889\n",
            "1.429437442158506\n",
            "1.4965033788967752\n",
            "1.5640022802344904\n",
            "1.6311231270849003\n",
            "1.6969855549473505\n",
            "1.7606875094969714\n",
            "1.821362659674955\n",
            "1.8782404675959476\n",
            "1.930700009196379\n",
            "1.9783089472809865\n",
            "2.0208417065692057\n",
            "2.0582751831448975\n",
            "2.090764845528107\n",
            "2.118607415721545\n",
            "2.1421976265432066\n",
            "2.1619858762300224\n",
            "2.178441640823547\n",
            "2.1920251576443675\n",
            "2.203167862727841\n",
            "2.2122606942724694\n",
            "2.2196486877629633\n",
            "2.2256301304909205\n",
            "2.2304587076907274\n",
            "2.234347382687595\n",
            "2.2374730902946083\n",
            "2.239981621916576\n",
            "2.2419923174775156\n",
            "2.243602351591089\n",
            "2.2448905184851697\n",
            "2.2459204946033684\n",
            "2.2467436015363202\n",
            "2.2474011148628947\n",
            "2.2479261740485823\n",
            "2.2483453500247714\n",
            "2.2486799240099864\n",
            "2.2489469258218673\n",
            "2.2491599737759116\n",
            "2.2493299520940697\n",
            "2.249465555993498\n",
            "2.24957372949745\n",
            "2.249660016570137\n",
            "2.2497288424102844\n",
            "2.24978373858824\n",
            "2.2498275231061067\n",
            "2.249862444322635\n",
            "2.249890295941524\n",
            "2.2499125088471215\n",
            "2.24993022442776\n",
            "2.249944353104799\n",
            "2.2499556210437\n",
            "2.2499646074278457\n"
          ]
        }
      ]
    },
    {
      "cell_type": "code",
      "metadata": {
        "id": "oNCaM3K-L36J"
      },
      "source": [
        "import numpy as np"
      ],
      "execution_count": null,
      "outputs": []
    },
    {
      "cell_type": "code",
      "metadata": {
        "id": "QmbvBQR1L7Ib"
      },
      "source": [
        "a = np.array([[1, 1], [2, 2], [3, 3]])"
      ],
      "execution_count": null,
      "outputs": []
    },
    {
      "cell_type": "code",
      "metadata": {
        "colab": {
          "base_uri": "https://localhost:8080/"
        },
        "id": "ABWUQaSsMkB6",
        "outputId": "b2ea5c2e-6b78-43d6-e0d1-cfe74765efe7"
      },
      "source": [
        "a"
      ],
      "execution_count": null,
      "outputs": [
        {
          "output_type": "execute_result",
          "data": {
            "text/plain": [
              "array([[1, 1],\n",
              "       [2, 2],\n",
              "       [3, 3]])"
            ]
          },
          "metadata": {},
          "execution_count": 10
        }
      ]
    },
    {
      "cell_type": "code",
      "metadata": {
        "colab": {
          "base_uri": "https://localhost:8080/"
        },
        "id": "zuHNymTBMlK1",
        "outputId": "5de46b91-e3b9-4895-86cd-95f9bf0b7378"
      },
      "source": [
        "np.insert(a, 1, 5)"
      ],
      "execution_count": null,
      "outputs": [
        {
          "output_type": "execute_result",
          "data": {
            "text/plain": [
              "array([1, 5, 1, 2, 2, 3, 3])"
            ]
          },
          "metadata": {},
          "execution_count": 11
        }
      ]
    },
    {
      "cell_type": "code",
      "metadata": {
        "colab": {
          "base_uri": "https://localhost:8080/"
        },
        "id": "P8mm36hWMui-",
        "outputId": "54facf20-66fe-424f-a962-320df5c15c33"
      },
      "source": [
        "a"
      ],
      "execution_count": null,
      "outputs": [
        {
          "output_type": "execute_result",
          "data": {
            "text/plain": [
              "array([[1, 1],\n",
              "       [2, 2],\n",
              "       [3, 3]])"
            ]
          },
          "metadata": {},
          "execution_count": 12
        }
      ]
    }
  ]
}
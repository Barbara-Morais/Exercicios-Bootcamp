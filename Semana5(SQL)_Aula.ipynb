{
  "nbformat": 4,
  "nbformat_minor": 0,
  "metadata": {
    "kernelspec": {
      "display_name": "Python 3",
      "language": "python",
      "name": "python3"
    },
    "language_info": {
      "codemirror_mode": {
        "name": "ipython",
        "version": 3
      },
      "file_extension": ".py",
      "mimetype": "text/x-python",
      "name": "python",
      "nbconvert_exporter": "python",
      "pygments_lexer": "ipython3",
      "version": "3.8.5"
    },
    "colab": {
      "name": "Copy of Semana5(SQL)-Aula.ipynb",
      "provenance": [],
      "collapsed_sections": []
    }
  },
  "cells": [
    {
      "cell_type": "code",
      "metadata": {
        "id": "l55MLDXXIhGk"
      },
      "source": [
        "import sqlite3\n",
        "engine = sqlite3.connect('sql4.db')"
      ],
      "execution_count": 1,
      "outputs": []
    },
    {
      "cell_type": "code",
      "metadata": {
        "id": "50oV2Ru7IhGo",
        "colab": {
          "base_uri": "https://localhost:8080/"
        },
        "outputId": "8c4b65fc-d54e-48c8-9448-1f261b9be78b"
      },
      "source": [
        "cursor = engine.cursor()\n",
        "\n",
        "cursor.execute(\"PRAGMA foreign_keys = ON\").fetchall()\n",
        "\n",
        "### cursor.execute(\"PRAGMA foreign_keys\").fetchall()\n",
        "\n",
        "### fetchall - método que retorna "
      ],
      "execution_count": 2,
      "outputs": [
        {
          "output_type": "execute_result",
          "data": {
            "text/plain": [
              "[]"
            ]
          },
          "metadata": {},
          "execution_count": 2
        }
      ]
    },
    {
      "cell_type": "markdown",
      "metadata": {
        "id": "64fOnJK2IhGp"
      },
      "source": [
        "### Syntax:\n",
        "### \"CREATE [TEMP | TEMPORARY] TABLE table-name (\n",
        "### column-def[, column-def]\n",
        "### [,constraint]);\n",
        "\n",
        "### column-def:\n",
        "### name [type] [[CONSTRAINT name] column-constraint]\""
      ]
    },
    {
      "cell_type": "code",
      "metadata": {
        "id": "bv7n4Y61IhGq"
      },
      "source": [
        "sql_create_projects_table = 'CREATE TABLE IF NOT EXISTS projects (\\\n",
        "                                        id integer PRIMARY KEY,\\\n",
        "                                        name text NOT NULL,\\\n",
        "                                        begin_date text,\\\n",
        "                                        end_date text\\\n",
        "                                    )'"
      ],
      "execution_count": 3,
      "outputs": []
    },
    {
      "cell_type": "code",
      "metadata": {
        "id": "viTkVI2yIhGr"
      },
      "source": [
        "sql_create_tasks_table = \"\"\"CREATE TABLE IF NOT EXISTS tasks (\n",
        "                                    id integer PRIMARY KEY,\n",
        "                                    name text NOT NULL,\n",
        "                                    priority integer,\n",
        "                                    status_id integer NOT NULL,\n",
        "                                    project_id integer NOT NULL REFERENCES projects (id),\n",
        "                                    begin_date text NOT NULL,\n",
        "                                    end_date text NOT NULL\n",
        "                                );\"\"\"\n",
        "# StudentId INT REFERENCES Student (StudentId)\n",
        "#FOREIGN KEY (project_id) REFERENCES projects (id)"
      ],
      "execution_count": 4,
      "outputs": []
    },
    {
      "cell_type": "code",
      "metadata": {
        "colab": {
          "base_uri": "https://localhost:8080/"
        },
        "id": "NLtiyVQxIhGs",
        "outputId": "e6d12106-72f2-4462-840f-4f281db912be"
      },
      "source": [
        "### Command execute #####\n",
        "cursor.execute(sql_create_projects_table)"
      ],
      "execution_count": 5,
      "outputs": [
        {
          "output_type": "execute_result",
          "data": {
            "text/plain": [
              "<sqlite3.Cursor at 0x7f5374804e30>"
            ]
          },
          "metadata": {},
          "execution_count": 5
        }
      ]
    },
    {
      "cell_type": "code",
      "metadata": {
        "id": "nBq8e7_XJYCw"
      },
      "source": [
        "#### Commit #####\n",
        "engine.commit()"
      ],
      "execution_count": 6,
      "outputs": []
    },
    {
      "cell_type": "code",
      "metadata": {
        "colab": {
          "base_uri": "https://localhost:8080/"
        },
        "id": "dlln8wo_uqsV",
        "outputId": "3c1330b5-9feb-40d9-b60b-733e2d40bbda"
      },
      "source": [
        "cursor.execute(\"PRAGMA table_info(projects)\").fetchall()"
      ],
      "execution_count": 7,
      "outputs": [
        {
          "output_type": "execute_result",
          "data": {
            "text/plain": [
              "[(0, 'id', 'integer', 0, None, 1),\n",
              " (1, 'name', 'text', 1, None, 0),\n",
              " (2, 'begin_date', 'text', 0, None, 0),\n",
              " (3, 'end_date', 'text', 0, None, 0)]"
            ]
          },
          "metadata": {},
          "execution_count": 7
        }
      ]
    },
    {
      "cell_type": "code",
      "metadata": {
        "colab": {
          "base_uri": "https://localhost:8080/"
        },
        "id": "Z110OBzPuzUT",
        "outputId": "0a5897e0-2bd2-4d04-c89b-9d61bf1e36a2"
      },
      "source": [
        "data = cursor.execute('PRAGMA table_info(projects)').fetchall()\n",
        "type(data)"
      ],
      "execution_count": 8,
      "outputs": [
        {
          "output_type": "execute_result",
          "data": {
            "text/plain": [
              "list"
            ]
          },
          "metadata": {},
          "execution_count": 8
        }
      ]
    },
    {
      "cell_type": "code",
      "metadata": {
        "colab": {
          "base_uri": "https://localhost:8080/"
        },
        "id": "2KPmWkn8vYd1",
        "outputId": "5c0cddb4-d2b3-4092-c3a4-e9555fd53e07"
      },
      "source": [
        "data = cursor.execute('PRAGMA table_info(projects)').fetchall()\n",
        "type(data[0]) #cada posição da lista é uma tupla"
      ],
      "execution_count": 9,
      "outputs": [
        {
          "output_type": "execute_result",
          "data": {
            "text/plain": [
              "tuple"
            ]
          },
          "metadata": {},
          "execution_count": 9
        }
      ]
    },
    {
      "cell_type": "code",
      "metadata": {
        "colab": {
          "base_uri": "https://localhost:8080/"
        },
        "id": "Jj-eUXCGvgYU",
        "outputId": "5d002f55-d484-4fda-bf6d-d790f24f5a63"
      },
      "source": [
        "data = cursor.execute('PRAGMA table_info(projects)').fetchall()\n",
        "type(data[0])\n",
        "for d in data:\n",
        "  print(d[0],d[1],d[2])"
      ],
      "execution_count": 10,
      "outputs": [
        {
          "output_type": "stream",
          "text": [
            "0 id integer\n",
            "1 name text\n",
            "2 begin_date text\n",
            "3 end_date text\n"
          ],
          "name": "stdout"
        }
      ]
    },
    {
      "cell_type": "code",
      "metadata": {
        "colab": {
          "base_uri": "https://localhost:8080/"
        },
        "id": "6uI_u1u9IhGs",
        "outputId": "2f66f687-834b-4108-99db-db7dd2084d58"
      },
      "source": [
        "cursor.execute(sql_create_tasks_table)"
      ],
      "execution_count": 11,
      "outputs": [
        {
          "output_type": "execute_result",
          "data": {
            "text/plain": [
              "<sqlite3.Cursor at 0x7f5374804e30>"
            ]
          },
          "metadata": {},
          "execution_count": 11
        }
      ]
    },
    {
      "cell_type": "code",
      "metadata": {
        "id": "Jz170pfkIhGt",
        "colab": {
          "base_uri": "https://localhost:8080/"
        },
        "outputId": "6782380e-170d-465d-fb8d-2a92346ef350"
      },
      "source": [
        "#### Types de cada atributo da Tabela ####### \n",
        "#### Comando PRAGMA table_info(\"Nome da tabela\") \n",
        "sql_info = 'PRAGMA table_info (tasks)'\n",
        "data = cursor.execute(sql_info).fetchall()\n",
        "for d in data:\n",
        "  print(d[0],d[1],d[2])"
      ],
      "execution_count": 12,
      "outputs": [
        {
          "output_type": "stream",
          "text": [
            "0 id integer\n",
            "1 name text\n",
            "2 priority integer\n",
            "3 status_id integer\n",
            "4 project_id integer\n",
            "5 begin_date text\n",
            "6 end_date text\n"
          ],
          "name": "stdout"
        }
      ]
    },
    {
      "cell_type": "code",
      "metadata": {
        "id": "gD_3nExVIhGu"
      },
      "source": [
        ""
      ],
      "execution_count": 12,
      "outputs": []
    },
    {
      "cell_type": "markdown",
      "metadata": {
        "id": "FYbhVfN9IhGv"
      },
      "source": [
        "## SYNTAX (INSERT): \n",
        "\n",
        "### \"INSERT [OR conflict-algorithm]\n",
        "### INTO [database-name .] table-name [(column-list)]\n",
        "### VALUES (value-list)\""
      ]
    },
    {
      "cell_type": "code",
      "metadata": {
        "id": "lhtrlZPKM5uJ"
      },
      "source": [
        ""
      ],
      "execution_count": 12,
      "outputs": []
    },
    {
      "cell_type": "code",
      "metadata": {
        "id": "1azRxaM0IhGw"
      },
      "source": [
        "### Comando Insert ##### \n",
        "### INSERT INTO table VALUES () \n",
        "### INSERT INTO table (columns) VALUES () \n"
      ],
      "execution_count": 13,
      "outputs": []
    },
    {
      "cell_type": "code",
      "metadata": {
        "colab": {
          "base_uri": "https://localhost:8080/"
        },
        "id": "5Os4ly-By451",
        "outputId": "33b3644b-472b-4162-953a-bd4852e7ebf6"
      },
      "source": [
        "sql_insert = 'INSERT INTO projects VALUES(20, \"PROJETO_01\", \"2021-07-18\", \" \")'\n",
        "cursor.execute(sql_insert)"
      ],
      "execution_count": 14,
      "outputs": [
        {
          "output_type": "execute_result",
          "data": {
            "text/plain": [
              "<sqlite3.Cursor at 0x7f5374804e30>"
            ]
          },
          "metadata": {},
          "execution_count": 14
        }
      ]
    },
    {
      "cell_type": "code",
      "metadata": {
        "id": "rd1pkzihIhGw"
      },
      "source": [
        "engine.commit()"
      ],
      "execution_count": 15,
      "outputs": []
    },
    {
      "cell_type": "code",
      "metadata": {
        "id": "JTuA3KPGNoFA"
      },
      "source": [
        "sql_insert2 = 'INSERT INTO projects (name, begin_date, end_date) VALUES(\"PROJETO_02\", \" \", \" \") '\n",
        "cursor.execute(sql_insert2)\n",
        "engine.commit()"
      ],
      "execution_count": 16,
      "outputs": []
    },
    {
      "cell_type": "code",
      "metadata": {
        "id": "geo7xvqO2lw9"
      },
      "source": [
        "sql_insert3 = 'INSERT INTO projects (name) VALUES(\"PROJETO_03\") '\n",
        "cursor.execute(sql_insert3)\n",
        "engine.commit()"
      ],
      "execution_count": 17,
      "outputs": []
    },
    {
      "cell_type": "code",
      "metadata": {
        "colab": {
          "base_uri": "https://localhost:8080/"
        },
        "id": "oS8PioJ7NJvu",
        "outputId": "4950d1ab-028b-4860-8b23-b9ffbc8a711c"
      },
      "source": [
        " #### Comando SELECT #####\n",
        " ###. SELECT * FROM table #####\n",
        "data = cursor.execute('SELECT * FROM projects ').fetchall()\n",
        "for row in data: \n",
        "  print(row)"
      ],
      "execution_count": 18,
      "outputs": [
        {
          "output_type": "stream",
          "text": [
            "(20, 'PROJETO_01', '2021-07-18', ' ')\n",
            "(21, 'PROJETO_02', ' ', ' ')\n",
            "(22, 'PROJETO_03', None, None)\n"
          ],
          "name": "stdout"
        }
      ]
    },
    {
      "cell_type": "code",
      "metadata": {
        "id": "jtNTUnSoIhGx"
      },
      "source": [
        "### INSERT values into Task ###### \n",
        "sql_insert3 = 'INSERT INTO tasks VALUES(100, \"tarefa_01\", 0, 20, 22, \" \", \" \") '\n",
        "cursor.execute(sql_insert3)\n",
        "engine.commit()"
      ],
      "execution_count": 19,
      "outputs": []
    },
    {
      "cell_type": "code",
      "metadata": {
        "id": "JqtklZ__IhGy",
        "colab": {
          "base_uri": "https://localhost:8080/"
        },
        "outputId": "2a3d5418-638c-4498-f5d3-e589be92dd9e"
      },
      "source": [
        "### LER os valores inseridos #######\n",
        "cursor.execute('SELECT * FROM tasks').fetchall()"
      ],
      "execution_count": 20,
      "outputs": [
        {
          "output_type": "execute_result",
          "data": {
            "text/plain": [
              "[(100, 'tarefa_01', 0, 20, 22, ' ', ' ')]"
            ]
          },
          "metadata": {},
          "execution_count": 20
        }
      ]
    },
    {
      "cell_type": "markdown",
      "metadata": {
        "id": "4TJoy_GPIhGw"
      },
      "source": [
        "## SYNTAX (SELECT): \n",
        "\n",
        "### SELECT [ALL | DISTINCT] result [FROM table-list]\n",
        "### [WHERE expr]\n",
        "### [GROUP BY expr-list]\n",
        "### [HAVING expr]\n",
        "### [compound-op select]*\n",
        "### [ORDER BY sort-expr-list]\n",
        "### [LIMIT integer [(OFFSET|,) integer]]"
      ]
    },
    {
      "cell_type": "code",
      "metadata": {
        "colab": {
          "base_uri": "https://localhost:8080/"
        },
        "id": "K9-AeGTxIhGz",
        "outputId": "227510ff-69c2-4da4-cc6b-b0bda38a5b2a"
      },
      "source": [
        "### CREATE TABLE EMP and DEPTO #######\n",
        "cursor.execute('''CREATE TABLE IF NOT EXISTS EMP (EMPNO int, ENAME text, JOB text, MGR int, HIREDATE date, SAL real,COMM int, DEPTNO int)''')"
      ],
      "execution_count": 21,
      "outputs": [
        {
          "output_type": "execute_result",
          "data": {
            "text/plain": [
              "<sqlite3.Cursor at 0x7f5374804e30>"
            ]
          },
          "metadata": {},
          "execution_count": 21
        }
      ]
    },
    {
      "cell_type": "code",
      "metadata": {
        "colab": {
          "base_uri": "https://localhost:8080/"
        },
        "id": "m8UTWA7iIhGz",
        "outputId": "29720fb2-dcb0-4524-ed1a-e3506361a843"
      },
      "source": [
        "data = cursor.execute(\"PRAGMA table_info(EMP)\").fetchall()\n",
        "for d in data:\n",
        "    print (d[0], d[1], d[2])"
      ],
      "execution_count": 22,
      "outputs": [
        {
          "output_type": "stream",
          "text": [
            "0 EMPNO int\n",
            "1 ENAME text\n",
            "2 JOB text\n",
            "3 MGR int\n",
            "4 HIREDATE date\n",
            "5 SAL real\n",
            "6 COMM int\n",
            "7 DEPTNO int\n"
          ],
          "name": "stdout"
        }
      ]
    },
    {
      "cell_type": "code",
      "metadata": {
        "id": "Vp9QmCggIhG0"
      },
      "source": [
        " employes = [(7369, 'SMITH',  'CLERK', 7902, '2005-12-11', 800, 150 , 20),\n",
        " (7499, 'ALLEN',  'SALESMAN', 7698, '2006-02-23',1600, 300, 30),\n",
        " (7521, 'WARD', 'SALESMAN', 7698,'2006-02-26', 1250, 500, 30),\n",
        " (7566, 'JONES','MANAGER', 7839,'2006-04-02', 2975, 520, 20),            \n",
        " (7654, 'MARTIN','SALESMAN', 7698,'2006-09-28', 1400, 420, 30),\n",
        " (7698, 'BLAKE','MANAGER', 7839,'2006-05-1', 2850, 600, 30),\n",
        " (7782, 'CLARK', 'MANAGER', 7839, '2006-06-09',2450, 580,10),\n",
        " (7788, 'SCOTT', 'ANALYST', 7566,'2007-12-09',3000,640,20),\n",
        " (7839, 'KING','PRESIDENT','', '2006-11-17',5000,0,10),\n",
        " (7844, 'TURNER', 'SALESMAN',7698,'2006-09-13',1500,0,30),\n",
        " (7876, 'ADAMS', 'CLERK',7788, '2008-01-12',1100,50,20),\n",
        " (7900, 'JAMES', 'CLERK',7698, '2006-12-03',950,40,30),\n",
        " (7902, 'FORD', 'ANALYST',7566,'2006-12-03',3000,10,20),\n",
        " (7934, 'MILLER','CLERK',7782,'2007-01-23',1300,\"\",10)]"
      ],
      "execution_count": 23,
      "outputs": []
    },
    {
      "cell_type": "code",
      "metadata": {
        "colab": {
          "base_uri": "https://localhost:8080/"
        },
        "id": "wjT5Q9ZYRz5a",
        "outputId": "0cdd5d8e-ddef-438f-ddf7-f1e38c3e6c95"
      },
      "source": [
        "type(employes[0])"
      ],
      "execution_count": 24,
      "outputs": [
        {
          "output_type": "execute_result",
          "data": {
            "text/plain": [
              "tuple"
            ]
          },
          "metadata": {},
          "execution_count": 24
        }
      ]
    },
    {
      "cell_type": "code",
      "metadata": {
        "id": "qm0TR7boIhG0"
      },
      "source": [
        "cursor.executemany('INSERT INTO EMP VALUES (?,?,?,?,?,?,?,?)', employes)\n",
        "engine.commit()"
      ],
      "execution_count": 25,
      "outputs": []
    },
    {
      "cell_type": "code",
      "metadata": {
        "id": "bdqhHgt7IhG0",
        "colab": {
          "base_uri": "https://localhost:8080/"
        },
        "outputId": "845b61b2-e3e3-4a8b-ae53-9122e4e6da6f"
      },
      "source": [
        "#### READ THE CONTENTS OF EMP TABLE \n",
        "cursor.execute('SELECT * FROM EMP').fetchall()"
      ],
      "execution_count": 26,
      "outputs": [
        {
          "output_type": "execute_result",
          "data": {
            "text/plain": [
              "[(7369, 'SMITH', 'CLERK', 7902, '2005-12-11', 800.0, 150, 20),\n",
              " (7499, 'ALLEN', 'SALESMAN', 7698, '2006-02-23', 1600.0, 300, 30),\n",
              " (7521, 'WARD', 'SALESMAN', 7698, '2006-02-26', 1250.0, 500, 30),\n",
              " (7566, 'JONES', 'MANAGER', 7839, '2006-04-02', 2975.0, 520, 20),\n",
              " (7654, 'MARTIN', 'SALESMAN', 7698, '2006-09-28', 1400.0, 420, 30),\n",
              " (7698, 'BLAKE', 'MANAGER', 7839, '2006-05-1', 2850.0, 600, 30),\n",
              " (7782, 'CLARK', 'MANAGER', 7839, '2006-06-09', 2450.0, 580, 10),\n",
              " (7788, 'SCOTT', 'ANALYST', 7566, '2007-12-09', 3000.0, 640, 20),\n",
              " (7839, 'KING', 'PRESIDENT', '', '2006-11-17', 5000.0, 0, 10),\n",
              " (7844, 'TURNER', 'SALESMAN', 7698, '2006-09-13', 1500.0, 0, 30),\n",
              " (7876, 'ADAMS', 'CLERK', 7788, '2008-01-12', 1100.0, 50, 20),\n",
              " (7900, 'JAMES', 'CLERK', 7698, '2006-12-03', 950.0, 40, 30),\n",
              " (7902, 'FORD', 'ANALYST', 7566, '2006-12-03', 3000.0, 10, 20),\n",
              " (7934, 'MILLER', 'CLERK', 7782, '2007-01-23', 1300.0, '', 10)]"
            ]
          },
          "metadata": {},
          "execution_count": 26
        }
      ]
    },
    {
      "cell_type": "code",
      "metadata": {
        "colab": {
          "base_uri": "https://localhost:8080/"
        },
        "id": "6Tk2kjqoIhG1",
        "outputId": "d74ce686-a78b-4a6b-9a0b-a38cd66e0a00"
      },
      "source": [
        "cursor.execute('''CREATE TABLE DEPT\n",
        "             (DEPTNO int not null, DNAME  text, LOC text)''')"
      ],
      "execution_count": 27,
      "outputs": [
        {
          "output_type": "execute_result",
          "data": {
            "text/plain": [
              "<sqlite3.Cursor at 0x7f5374804e30>"
            ]
          },
          "metadata": {},
          "execution_count": 27
        }
      ]
    },
    {
      "cell_type": "code",
      "metadata": {
        "id": "7xDaoNc2IhG1"
      },
      "source": [
        "depts = [(10,'ACCOUNTING','NEW YORK'),\n",
        "         (20,'RESEARCH','DALLAS'),\n",
        "         (30,'SALES','CHICAGO'),\n",
        "         (40,'OPERATIONS','BOSTON')] \n"
      ],
      "execution_count": 28,
      "outputs": []
    },
    {
      "cell_type": "code",
      "metadata": {
        "colab": {
          "base_uri": "https://localhost:8080/"
        },
        "id": "eEKpnssnIhG1",
        "outputId": "9eb7874d-5472-49f1-c901-de51b155a36f"
      },
      "source": [
        "type(depts)"
      ],
      "execution_count": 29,
      "outputs": [
        {
          "output_type": "execute_result",
          "data": {
            "text/plain": [
              "list"
            ]
          },
          "metadata": {},
          "execution_count": 29
        }
      ]
    },
    {
      "cell_type": "code",
      "metadata": {
        "colab": {
          "base_uri": "https://localhost:8080/"
        },
        "id": "GmeeHP-yIhG1",
        "outputId": "298050d9-2641-4ab7-8f9b-39205f531ce6"
      },
      "source": [
        "cursor.executemany('INSERT INTO DEPT VALUES (?,?,?)', depts)"
      ],
      "execution_count": 30,
      "outputs": [
        {
          "output_type": "execute_result",
          "data": {
            "text/plain": [
              "<sqlite3.Cursor at 0x7f5374804e30>"
            ]
          },
          "metadata": {},
          "execution_count": 30
        }
      ]
    },
    {
      "cell_type": "code",
      "metadata": {
        "colab": {
          "base_uri": "https://localhost:8080/"
        },
        "id": "VxqhJknPIhG2",
        "outputId": "48967537-28be-43b5-fcc1-57d4398a4c6f"
      },
      "source": [
        "cursor.execute('SELECT * FROM DEPT').fetchall()"
      ],
      "execution_count": 31,
      "outputs": [
        {
          "output_type": "execute_result",
          "data": {
            "text/plain": [
              "[(10, 'ACCOUNTING', 'NEW YORK'),\n",
              " (20, 'RESEARCH', 'DALLAS'),\n",
              " (30, 'SALES', 'CHICAGO'),\n",
              " (40, 'OPERATIONS', 'BOSTON')]"
            ]
          },
          "metadata": {},
          "execution_count": 31
        }
      ]
    },
    {
      "cell_type": "code",
      "metadata": {
        "colab": {
          "base_uri": "https://localhost:8080/"
        },
        "id": "JSKl9QAxIhG2",
        "outputId": "25483959-1a41-45c1-c97e-c03493f7971b"
      },
      "source": [
        "### SELECT - Filtrando por atributos (Colunas) ##### \n",
        "\n",
        "data = cursor.execute('select ename as NAME, job as JOB_A from emp').fetchall()\n",
        "print(cursor.description[0][0],\"     \",cursor.description[1][0])\n",
        "#for x in cursor.description: \n",
        "#    print(x[0])\n",
        "for row in data: \n",
        "  print(row)\n"
      ],
      "execution_count": 32,
      "outputs": [
        {
          "output_type": "stream",
          "text": [
            "NAME       JOB_A\n",
            "('SMITH', 'CLERK')\n",
            "('ALLEN', 'SALESMAN')\n",
            "('WARD', 'SALESMAN')\n",
            "('JONES', 'MANAGER')\n",
            "('MARTIN', 'SALESMAN')\n",
            "('BLAKE', 'MANAGER')\n",
            "('CLARK', 'MANAGER')\n",
            "('SCOTT', 'ANALYST')\n",
            "('KING', 'PRESIDENT')\n",
            "('TURNER', 'SALESMAN')\n",
            "('ADAMS', 'CLERK')\n",
            "('JAMES', 'CLERK')\n",
            "('FORD', 'ANALYST')\n",
            "('MILLER', 'CLERK')\n"
          ],
          "name": "stdout"
        }
      ]
    },
    {
      "cell_type": "code",
      "metadata": {
        "colab": {
          "base_uri": "https://localhost:8080/"
        },
        "id": "Nq_9G54N1Oeq",
        "outputId": "1ee7f88f-619b-46f7-8ac8-2ad50745e5a2"
      },
      "source": [
        "cursor.description"
      ],
      "execution_count": 33,
      "outputs": [
        {
          "output_type": "execute_result",
          "data": {
            "text/plain": [
              "(('NAME', None, None, None, None, None, None),\n",
              " ('JOB_A', None, None, None, None, None, None))"
            ]
          },
          "metadata": {},
          "execution_count": 33
        }
      ]
    },
    {
      "cell_type": "code",
      "metadata": {
        "id": "6tsfGH5XIhG2"
      },
      "source": [
        "### Retrieving a Subset of Rows from a Table #### \n",
        "#### SELECT xxxx FROM TABLE Where clause ####"
      ],
      "execution_count": 34,
      "outputs": []
    },
    {
      "cell_type": "code",
      "metadata": {
        "colab": {
          "base_uri": "https://localhost:8080/"
        },
        "id": "NswQv1db19w8",
        "outputId": "68c4b4a5-f8b4-41f2-cab6-069caf9ae5ac"
      },
      "source": [
        "sql_select = 'SELECT ename FROM emp WHERE deptno < 30'\n",
        "cursor.execute(sql_select).fetchall()"
      ],
      "execution_count": 35,
      "outputs": [
        {
          "output_type": "execute_result",
          "data": {
            "text/plain": [
              "[('SMITH',),\n",
              " ('JONES',),\n",
              " ('CLARK',),\n",
              " ('SCOTT',),\n",
              " ('KING',),\n",
              " ('ADAMS',),\n",
              " ('FORD',),\n",
              " ('MILLER',)]"
            ]
          },
          "metadata": {},
          "execution_count": 35
        }
      ]
    },
    {
      "cell_type": "code",
      "metadata": {
        "id": "gjqmnUo2REJQ"
      },
      "source": [
        "### Ex 2 - Count ###3"
      ],
      "execution_count": 36,
      "outputs": []
    },
    {
      "cell_type": "code",
      "metadata": {
        "colab": {
          "base_uri": "https://localhost:8080/"
        },
        "id": "TpA3EtRX3CBi",
        "outputId": "640f6116-9173-4315-a2fa-cbb50b2f4677"
      },
      "source": [
        "sql_selectCount = 'SELECT count(deptno) FROM emp WHERE deptno = 20'\n",
        "cursor.execute(sql_selectCount).fetchall()"
      ],
      "execution_count": 37,
      "outputs": [
        {
          "output_type": "execute_result",
          "data": {
            "text/plain": [
              "[(5,)]"
            ]
          },
          "metadata": {},
          "execution_count": 37
        }
      ]
    },
    {
      "cell_type": "code",
      "metadata": {
        "colab": {
          "base_uri": "https://localhost:8080/"
        },
        "id": "BjN8qwZB43xk",
        "outputId": "a4869dfa-ba8a-49ed-822d-401f0fd9bcf0"
      },
      "source": [
        "sql_selectAVG = 'SELECT avg(sal) FROM emp'\n",
        "cursor.execute(sql_selectAVG).fetchall()"
      ],
      "execution_count": 38,
      "outputs": [
        {
          "output_type": "execute_result",
          "data": {
            "text/plain": [
              "[(2083.9285714285716,)]"
            ]
          },
          "metadata": {},
          "execution_count": 38
        }
      ]
    },
    {
      "cell_type": "code",
      "metadata": {
        "colab": {
          "base_uri": "https://localhost:8080/"
        },
        "id": "PIT8g9VY5Mmx",
        "outputId": "c4b3073b-fa55-4e79-c865-3b6ca2e91ea6"
      },
      "source": [
        "sql_selectAVG = 'SELECT avg(sal) FROM emp WHERE job = \"SALESMAN\"'\n",
        "cursor.execute(sql_selectAVG).fetchall()"
      ],
      "execution_count": 39,
      "outputs": [
        {
          "output_type": "execute_result",
          "data": {
            "text/plain": [
              "[(1437.5,)]"
            ]
          },
          "metadata": {},
          "execution_count": 39
        }
      ]
    },
    {
      "cell_type": "code",
      "metadata": {
        "id": "1LWuvDyF55yG"
      },
      "source": [
        "### emp.groupby('sal').mean() ###"
      ],
      "execution_count": 40,
      "outputs": []
    },
    {
      "cell_type": "code",
      "metadata": {
        "id": "YVzZbkQlyZ3I"
      },
      "source": [
        "### Ex 3 - DISTINCT ###"
      ],
      "execution_count": 41,
      "outputs": []
    },
    {
      "cell_type": "code",
      "metadata": {
        "colab": {
          "base_uri": "https://localhost:8080/"
        },
        "id": "UjLOntcuyccr",
        "outputId": "1a0f1285-14f5-483e-b9bf-88a0641c937a"
      },
      "source": [
        "sql_distinct = 'SELECT DISTINCT job FROM emp'\n",
        "cursor.execute(sql_distinct).fetchall()"
      ],
      "execution_count": 42,
      "outputs": [
        {
          "output_type": "execute_result",
          "data": {
            "text/plain": [
              "[('CLERK',), ('SALESMAN',), ('MANAGER',), ('ANALYST',), ('PRESIDENT',)]"
            ]
          },
          "metadata": {},
          "execution_count": 42
        }
      ]
    },
    {
      "cell_type": "code",
      "metadata": {
        "id": "fOKDPQ8mydFw"
      },
      "source": [
        ""
      ],
      "execution_count": 42,
      "outputs": []
    },
    {
      "cell_type": "markdown",
      "metadata": {
        "id": "altE3ul3yfLM"
      },
      "source": [
        "### SYNTAX (UPDATE): \n",
        "\n",
        "### UPDATE table_name SET column_name=new_value [, ...] WHERE expression"
      ]
    },
    {
      "cell_type": "code",
      "metadata": {
        "id": "ig_XM4nUyh_6"
      },
      "source": [
        "### Modificar salário ->. sal = 1.10*sal para o departamento 20##### "
      ],
      "execution_count": 43,
      "outputs": []
    },
    {
      "cell_type": "code",
      "metadata": {
        "colab": {
          "base_uri": "https://localhost:8080/"
        },
        "id": "GAulldZF723d",
        "outputId": "754a572c-526e-4910-859a-416c1db75bdf"
      },
      "source": [
        "sql_update = 'UPDATE emp SET sal = 1.10*sal WHERE deptno = 20'\n",
        "cursor.execute (sql_update).fetchall()"
      ],
      "execution_count": 44,
      "outputs": [
        {
          "output_type": "execute_result",
          "data": {
            "text/plain": [
              "[]"
            ]
          },
          "metadata": {},
          "execution_count": 44
        }
      ]
    },
    {
      "cell_type": "code",
      "metadata": {
        "colab": {
          "base_uri": "https://localhost:8080/"
        },
        "id": "8QnAlm2Q89uz",
        "outputId": "4416014e-7f55-471b-8423-87c8c6b16a7b"
      },
      "source": [
        "cursor.execute('SELECT sal FROM emp WHERE deptno = 20').fetchall()"
      ],
      "execution_count": 45,
      "outputs": [
        {
          "output_type": "execute_result",
          "data": {
            "text/plain": [
              "[(880.0000000000001,),\n",
              " (3272.5000000000005,),\n",
              " (3300.0000000000005,),\n",
              " (1210.0,),\n",
              " (3300.0000000000005,)]"
            ]
          },
          "metadata": {},
          "execution_count": 45
        }
      ]
    },
    {
      "cell_type": "code",
      "metadata": {
        "id": "q8CDgqyKymjV"
      },
      "source": [
        "#### Using Conditional Logic in a SELECT Statement #### \n",
        "### CASE WHEN condição (sal<=2000) THEN faz alguma ação (\"UNDERPAID\")\n",
        "### WHEN outra condição xxx THEN uma outra ação\n",
        "### ELSE executa última ação\n",
        "### END fecha a cláusula do case"
      ],
      "execution_count": 46,
      "outputs": []
    },
    {
      "cell_type": "code",
      "metadata": {
        "colab": {
          "base_uri": "https://localhost:8080/"
        },
        "id": "QfOX32yW9QS_",
        "outputId": "95ea2aeb-ee4a-4140-d2b2-65928e421c2a"
      },
      "source": [
        "cursor.execute ('SELECT ename, sal, CASE WHEN sal <= 2000 then \"UNDERPAID\"\\\n",
        "                WHEN sal >= 4000 THEN \"OVERPAID\"\\\n",
        "                ELSE \"OK\" END as status from emp').fetchall()"
      ],
      "execution_count": 47,
      "outputs": [
        {
          "output_type": "execute_result",
          "data": {
            "text/plain": [
              "[('SMITH', 880.0000000000001, 'UNDERPAID'),\n",
              " ('ALLEN', 1600.0, 'UNDERPAID'),\n",
              " ('WARD', 1250.0, 'UNDERPAID'),\n",
              " ('JONES', 3272.5000000000005, 'OK'),\n",
              " ('MARTIN', 1400.0, 'UNDERPAID'),\n",
              " ('BLAKE', 2850.0, 'OK'),\n",
              " ('CLARK', 2450.0, 'OK'),\n",
              " ('SCOTT', 3300.0000000000005, 'OK'),\n",
              " ('KING', 5000.0, 'OVERPAID'),\n",
              " ('TURNER', 1500.0, 'UNDERPAID'),\n",
              " ('ADAMS', 1210.0, 'UNDERPAID'),\n",
              " ('JAMES', 950.0, 'UNDERPAID'),\n",
              " ('FORD', 3300.0000000000005, 'OK'),\n",
              " ('MILLER', 1300.0, 'UNDERPAID')]"
            ]
          },
          "metadata": {},
          "execution_count": 47
        }
      ]
    },
    {
      "cell_type": "code",
      "metadata": {
        "id": "Q06OPYiQyomn"
      },
      "source": [
        "### Limiting the Number of Rows Returned #### "
      ],
      "execution_count": 48,
      "outputs": []
    },
    {
      "cell_type": "code",
      "metadata": {
        "colab": {
          "base_uri": "https://localhost:8080/"
        },
        "id": "Ie3k-dgW-aAm",
        "outputId": "f2d5091a-cf2f-4ca2-e117-3ad45a1c63be"
      },
      "source": [
        "sql_selectLIMIT = 'SELECT * FROM emp LIMIT 15'\n",
        "cursor.execute(sql_selectLIMIT).fetchall()"
      ],
      "execution_count": 49,
      "outputs": [
        {
          "output_type": "execute_result",
          "data": {
            "text/plain": [
              "[(7369, 'SMITH', 'CLERK', 7902, '2005-12-11', 880.0000000000001, 150, 20),\n",
              " (7499, 'ALLEN', 'SALESMAN', 7698, '2006-02-23', 1600.0, 300, 30),\n",
              " (7521, 'WARD', 'SALESMAN', 7698, '2006-02-26', 1250.0, 500, 30),\n",
              " (7566, 'JONES', 'MANAGER', 7839, '2006-04-02', 3272.5000000000005, 520, 20),\n",
              " (7654, 'MARTIN', 'SALESMAN', 7698, '2006-09-28', 1400.0, 420, 30),\n",
              " (7698, 'BLAKE', 'MANAGER', 7839, '2006-05-1', 2850.0, 600, 30),\n",
              " (7782, 'CLARK', 'MANAGER', 7839, '2006-06-09', 2450.0, 580, 10),\n",
              " (7788, 'SCOTT', 'ANALYST', 7566, '2007-12-09', 3300.0000000000005, 640, 20),\n",
              " (7839, 'KING', 'PRESIDENT', '', '2006-11-17', 5000.0, 0, 10),\n",
              " (7844, 'TURNER', 'SALESMAN', 7698, '2006-09-13', 1500.0, 0, 30),\n",
              " (7876, 'ADAMS', 'CLERK', 7788, '2008-01-12', 1210.0, 50, 20),\n",
              " (7900, 'JAMES', 'CLERK', 7698, '2006-12-03', 950.0, 40, 30),\n",
              " (7902, 'FORD', 'ANALYST', 7566, '2006-12-03', 3300.0000000000005, 10, 20),\n",
              " (7934, 'MILLER', 'CLERK', 7782, '2007-01-23', 1300.0, '', 10)]"
            ]
          },
          "metadata": {},
          "execution_count": 49
        }
      ]
    },
    {
      "cell_type": "code",
      "metadata": {
        "id": "ITriEgzWyqeS"
      },
      "source": [
        "### Returning Valores aleatórios #####"
      ],
      "execution_count": 50,
      "outputs": []
    },
    {
      "cell_type": "code",
      "metadata": {
        "colab": {
          "base_uri": "https://localhost:8080/"
        },
        "id": "n0bphBg-ysx1",
        "outputId": "dc8246dd-7df5-4190-e8e5-069cc52c2ffc"
      },
      "source": [
        "sql_selectRandom = 'SELECT ename, job FROM emp ORDER BY random() LIMIT 5'\n",
        "cursor.execute(sql_selectRandom).fetchall()"
      ],
      "execution_count": 51,
      "outputs": [
        {
          "output_type": "execute_result",
          "data": {
            "text/plain": [
              "[('MILLER', 'CLERK'),\n",
              " ('ALLEN', 'SALESMAN'),\n",
              " ('SMITH', 'CLERK'),\n",
              " ('TURNER', 'SALESMAN'),\n",
              " ('SCOTT', 'ANALYST')]"
            ]
          },
          "metadata": {},
          "execution_count": 51
        }
      ]
    },
    {
      "cell_type": "code",
      "metadata": {
        "id": "pxSzcBP0yywK"
      },
      "source": [
        "## Searching for Patterns ####\n",
        "## Ex1 - range"
      ],
      "execution_count": 52,
      "outputs": []
    },
    {
      "cell_type": "code",
      "metadata": {
        "colab": {
          "base_uri": "https://localhost:8080/"
        },
        "id": "w5_9X-uG6YjW",
        "outputId": "fede9319-81e9-44eb-8faa-eb63ddc7a7eb"
      },
      "source": [
        "sql_selectIn = 'SELECT ename, job FROM emp WHERE deptno IN (10,20)'\n",
        "cursor.execute(sql_selectIn).fetchall()"
      ],
      "execution_count": 53,
      "outputs": [
        {
          "output_type": "execute_result",
          "data": {
            "text/plain": [
              "[('SMITH', 'CLERK'),\n",
              " ('JONES', 'MANAGER'),\n",
              " ('CLARK', 'MANAGER'),\n",
              " ('SCOTT', 'ANALYST'),\n",
              " ('KING', 'PRESIDENT'),\n",
              " ('ADAMS', 'CLERK'),\n",
              " ('FORD', 'ANALYST'),\n",
              " ('MILLER', 'CLERK')]"
            ]
          },
          "metadata": {},
          "execution_count": 53
        }
      ]
    },
    {
      "cell_type": "code",
      "metadata": {
        "id": "GWSgQz01y00P"
      },
      "source": [
        "## Searching for Patterns ####\n",
        "## Ex2 - substring ##### "
      ],
      "execution_count": 54,
      "outputs": []
    },
    {
      "cell_type": "code",
      "metadata": {
        "id": "bcWZu8rQy4w2",
        "colab": {
          "base_uri": "https://localhost:8080/"
        },
        "outputId": "f194cd35-3727-489c-c57c-83b538240620"
      },
      "source": [
        "sql_selectLIKE = 'SELECT ename, job FROM emp WHERE deptno IN (10,20) AND (ename LIKE \"%I%\" OR job LIKE \"%ER%\")'\n",
        "cursor.execute(sql_selectLIKE).fetchall()"
      ],
      "execution_count": 55,
      "outputs": [
        {
          "output_type": "execute_result",
          "data": {
            "text/plain": [
              "[('SMITH', 'CLERK'),\n",
              " ('JONES', 'MANAGER'),\n",
              " ('CLARK', 'MANAGER'),\n",
              " ('KING', 'PRESIDENT'),\n",
              " ('ADAMS', 'CLERK'),\n",
              " ('MILLER', 'CLERK')]"
            ]
          },
          "metadata": {},
          "execution_count": 55
        }
      ]
    },
    {
      "cell_type": "code",
      "metadata": {
        "colab": {
          "base_uri": "https://localhost:8080/"
        },
        "id": "mRBEUFi1--G3",
        "outputId": "588e95c2-65f3-46b5-c2ce-9b0ec7f57b81"
      },
      "source": [
        "sql_selectLIKE = 'SELECT ename, job FROM emp WHERE deptno IN (10,20) AND (ename LIKE \"%I%\" AND job LIKE \"%ER%\")'\n",
        "cursor.execute(sql_selectLIKE).fetchall()"
      ],
      "execution_count": 56,
      "outputs": [
        {
          "output_type": "execute_result",
          "data": {
            "text/plain": [
              "[('SMITH', 'CLERK'), ('MILLER', 'CLERK')]"
            ]
          },
          "metadata": {},
          "execution_count": 56
        }
      ]
    },
    {
      "cell_type": "code",
      "metadata": {
        "colab": {
          "base_uri": "https://localhost:8080/"
        },
        "id": "RmdUorrn_2gw",
        "outputId": "4dac01c9-0243-410d-89ca-148bbb9daf1a"
      },
      "source": [
        "sql_selectLIKE = 'SELECT ename, job FROM emp WHERE deptno IN (10,20) AND (job LIKE \"%AN%\")'\n",
        "cursor.execute(sql_selectLIKE).fetchall()"
      ],
      "execution_count": 57,
      "outputs": [
        {
          "output_type": "execute_result",
          "data": {
            "text/plain": [
              "[('JONES', 'MANAGER'),\n",
              " ('CLARK', 'MANAGER'),\n",
              " ('SCOTT', 'ANALYST'),\n",
              " ('FORD', 'ANALYST')]"
            ]
          },
          "metadata": {},
          "execution_count": 57
        }
      ]
    },
    {
      "cell_type": "markdown",
      "metadata": {
        "id": "9EQa5PdxAMjN"
      },
      "source": [
        "#### %% - pesquisa em qualquer posição\n",
        "\n",
        "#### %x - pesquisa no final\n",
        "\n",
        "#### x% - pesquisa no início"
      ]
    },
    {
      "cell_type": "code",
      "metadata": {
        "id": "1R823r1ry5QZ",
        "colab": {
          "base_uri": "https://localhost:8080/"
        },
        "outputId": "aedc33df-cd29-489b-d84b-06dbda70191e"
      },
      "source": [
        "#### Order by ### \n",
        "### Ascendent ###\n",
        "#sql_selectORDERBY = 'SELECT ename,job,sal FROM emp WHERE deptno IN (10,20) ORDER BY sal ASC'\n",
        "sql_selectORDERBY = 'SELECT ename,job,sal FROM emp WHERE deptno IN (10,20) ORDER BY sal DESC'\n",
        "cursor.execute(sql_selectORDERBY).fetchall()"
      ],
      "execution_count": 58,
      "outputs": [
        {
          "output_type": "execute_result",
          "data": {
            "text/plain": [
              "[('KING', 'PRESIDENT', 5000.0),\n",
              " ('SCOTT', 'ANALYST', 3300.0000000000005),\n",
              " ('FORD', 'ANALYST', 3300.0000000000005),\n",
              " ('JONES', 'MANAGER', 3272.5000000000005),\n",
              " ('CLARK', 'MANAGER', 2450.0),\n",
              " ('MILLER', 'CLERK', 1300.0),\n",
              " ('ADAMS', 'CLERK', 1210.0),\n",
              " ('SMITH', 'CLERK', 880.0000000000001)]"
            ]
          },
          "metadata": {},
          "execution_count": 58
        }
      ]
    },
    {
      "cell_type": "code",
      "metadata": {
        "id": "PrMddwriy_HE"
      },
      "source": [
        "### Achar datas a partir de 2000 ###"
      ],
      "execution_count": 59,
      "outputs": []
    },
    {
      "cell_type": "code",
      "metadata": {
        "id": "nAR3PeU8y8z0",
        "colab": {
          "base_uri": "https://localhost:8080/"
        },
        "outputId": "5cb76f70-c538-4f8f-881c-fde653b0fc07"
      },
      "source": [
        "sql_selectHIREDATE = 'SELECT hiredate FROM emp WHERE hiredate LIKE \"20%\"'\n",
        "cursor.execute(sql_selectHIREDATE).fetchall()"
      ],
      "execution_count": 60,
      "outputs": [
        {
          "output_type": "execute_result",
          "data": {
            "text/plain": [
              "[('2005-12-11',),\n",
              " ('2006-02-23',),\n",
              " ('2006-02-26',),\n",
              " ('2006-04-02',),\n",
              " ('2006-09-28',),\n",
              " ('2006-05-1',),\n",
              " ('2006-06-09',),\n",
              " ('2007-12-09',),\n",
              " ('2006-11-17',),\n",
              " ('2006-09-13',),\n",
              " ('2008-01-12',),\n",
              " ('2006-12-03',),\n",
              " ('2006-12-03',),\n",
              " ('2007-01-23',)]"
            ]
          },
          "metadata": {},
          "execution_count": 60
        }
      ]
    },
    {
      "cell_type": "code",
      "metadata": {
        "id": "C24x7y4azCnO"
      },
      "source": [
        "#### ORDER BY SUBSTRING ##### \n",
        "### substr( string, start, length ) ##### \n",
        "\n",
        "### length(str) - retorna o tamanho da string = número de caracteres\n",
        "### length(Nicolly) = 7 ; lly - substring(Nicolly,3,2) = co"
      ],
      "execution_count": 61,
      "outputs": []
    },
    {
      "cell_type": "code",
      "metadata": {
        "id": "u6BYFs7LzFNx",
        "colab": {
          "base_uri": "https://localhost:8080/"
        },
        "outputId": "3748cdc1-b501-4f25-fbdc-250eb70c1067"
      },
      "source": [
        "select_order_by_substring = 'SELECT ename FROM emp ORDER BY ename ASC'\n",
        "cursor.execute(select_order_by_substring).fetchall()"
      ],
      "execution_count": 62,
      "outputs": [
        {
          "output_type": "execute_result",
          "data": {
            "text/plain": [
              "[('ADAMS',),\n",
              " ('ALLEN',),\n",
              " ('BLAKE',),\n",
              " ('CLARK',),\n",
              " ('FORD',),\n",
              " ('JAMES',),\n",
              " ('JONES',),\n",
              " ('KING',),\n",
              " ('MARTIN',),\n",
              " ('MILLER',),\n",
              " ('SCOTT',),\n",
              " ('SMITH',),\n",
              " ('TURNER',),\n",
              " ('WARD',)]"
            ]
          },
          "metadata": {},
          "execution_count": 62
        }
      ]
    },
    {
      "cell_type": "code",
      "metadata": {
        "colab": {
          "base_uri": "https://localhost:8080/"
        },
        "id": "JNnhchchEk_G",
        "outputId": "9b41e752-8525-4301-a43f-40e517bdc127"
      },
      "source": [
        "select_order_by_substring = 'SELECT ename FROM emp ORDER BY substr(ename, 2, 3)'\n",
        "cursor.execute(select_order_by_substring).fetchall()"
      ],
      "execution_count": 63,
      "outputs": [
        {
          "output_type": "execute_result",
          "data": {
            "text/plain": [
              "[('JAMES',),\n",
              " ('WARD',),\n",
              " ('MARTIN',),\n",
              " ('SCOTT',),\n",
              " ('ADAMS',),\n",
              " ('MILLER',),\n",
              " ('KING',),\n",
              " ('BLAKE',),\n",
              " ('CLARK',),\n",
              " ('ALLEN',),\n",
              " ('SMITH',),\n",
              " ('JONES',),\n",
              " ('FORD',),\n",
              " ('TURNER',)]"
            ]
          },
          "metadata": {},
          "execution_count": 63
        }
      ]
    },
    {
      "cell_type": "code",
      "metadata": {
        "id": "9y79UlsHzFmg"
      },
      "source": [
        "### selecionar nomes terminando com RK ou TH"
      ],
      "execution_count": 64,
      "outputs": []
    },
    {
      "cell_type": "code",
      "metadata": {
        "id": "E5QKgRKUzH82",
        "colab": {
          "base_uri": "https://localhost:8080/"
        },
        "outputId": "934fce42-1233-4f5f-f39e-de5f4ca7c5c8"
      },
      "source": [
        "sql_substring = 'SELECT ename FROM emp WHERE substr(ename, length(ename)-1) IN (\"TH\", \"RK\")'\n",
        "cursor.execute(sql_substring).fetchall()"
      ],
      "execution_count": 65,
      "outputs": [
        {
          "output_type": "execute_result",
          "data": {
            "text/plain": [
              "[('SMITH',), ('CLARK',)]"
            ]
          },
          "metadata": {},
          "execution_count": 65
        }
      ]
    },
    {
      "cell_type": "code",
      "metadata": {
        "colab": {
          "base_uri": "https://localhost:8080/"
        },
        "id": "tGijoLnuWEFn",
        "outputId": "341eff16-f5b6-424d-daea-055d579d1c75"
      },
      "source": [
        "sql_cast = 'SELECT CAST(hiredate as datetime) FROM emp'\n",
        "data = cursor.execute(sql_cast).fetchall()\n",
        "for row in data: \n",
        "  print(row)"
      ],
      "execution_count": 85,
      "outputs": [
        {
          "output_type": "stream",
          "text": [
            "(2005,)\n",
            "(2006,)\n",
            "(2006,)\n",
            "(2006,)\n",
            "(2006,)\n",
            "(2006,)\n",
            "(2006,)\n",
            "(2007,)\n",
            "(2006,)\n",
            "(2006,)\n",
            "(2008,)\n",
            "(2006,)\n",
            "(2006,)\n",
            "(2007,)\n",
            "(8,)\n"
          ],
          "name": "stdout"
        }
      ]
    },
    {
      "cell_type": "code",
      "metadata": {
        "colab": {
          "base_uri": "https://localhost:8080/"
        },
        "id": "wwQwMOOlWoOu",
        "outputId": "6bffd460-0c66-47d7-827b-ef87a09138fd"
      },
      "source": [
        "type(data[0][0])"
      ],
      "execution_count": 86,
      "outputs": [
        {
          "output_type": "execute_result",
          "data": {
            "text/plain": [
              "int"
            ]
          },
          "metadata": {},
          "execution_count": 86
        }
      ]
    },
    {
      "cell_type": "code",
      "metadata": {
        "id": "fT7L0sXizHtr"
      },
      "source": [
        "#### SELECT \n",
        "###. group by using native functions - COUNT and AVG\n",
        "###  O que quero selecionar (atributos) \n",
        "### Por quem quero agrupar "
      ],
      "execution_count": 66,
      "outputs": []
    },
    {
      "cell_type": "code",
      "metadata": {
        "id": "xvbl-hPyzLI2",
        "colab": {
          "base_uri": "https://localhost:8080/"
        },
        "outputId": "f3430451-09fa-4226-8c23-acc6928a07ec"
      },
      "source": [
        "sql_groupby = 'SELECT job, COUNT (job) FROM emp GROUP BY job'\n",
        "cursor.execute(sql_groupby).fetchall()"
      ],
      "execution_count": 67,
      "outputs": [
        {
          "output_type": "execute_result",
          "data": {
            "text/plain": [
              "[('ANALYST', 2),\n",
              " ('CLERK', 4),\n",
              " ('MANAGER', 3),\n",
              " ('PRESIDENT', 1),\n",
              " ('SALESMAN', 4)]"
            ]
          },
          "metadata": {},
          "execution_count": 67
        }
      ]
    },
    {
      "cell_type": "markdown",
      "metadata": {
        "id": "uhRGqZCzzOFL"
      },
      "source": [
        "### Quero obter o resultado abaixo, no entanto os atributos são de colunas diferentes\n",
        "\n",
        " \n",
        "ENAME       LOC\\\n",
        "----------  ----------\\\n",
        "CLARK        NEW YORK\\\n",
        "KING         NEW YORK\\\n",
        "MILLER       NEW YORK"
      ]
    },
    {
      "cell_type": "code",
      "metadata": {
        "colab": {
          "base_uri": "https://localhost:8080/"
        },
        "id": "oNWB9e4pNR4h",
        "outputId": "51e7fd72-13a5-4928-d237-a2f85a36b3d9"
      },
      "source": [
        "cursor.execute('PRAGMA table_info(dept)').fetchall()"
      ],
      "execution_count": 68,
      "outputs": [
        {
          "output_type": "execute_result",
          "data": {
            "text/plain": [
              "[(0, 'DEPTNO', 'int', 1, None, 0),\n",
              " (1, 'DNAME', 'text', 0, None, 0),\n",
              " (2, 'LOC', 'text', 0, None, 0)]"
            ]
          },
          "metadata": {},
          "execution_count": 68
        }
      ]
    },
    {
      "cell_type": "markdown",
      "metadata": {
        "id": "aeO0ibIZXB2d"
      },
      "source": [
        "![download1.png](data:image/png;base64,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)"
      ]
    },
    {
      "cell_type": "code",
      "metadata": {
        "id": "kHFFMu5fzQWx"
      },
      "source": [
        "### Selecionar todos os infos dos empregados e departamentos - mesmo departamentos_ID"
      ],
      "execution_count": 69,
      "outputs": []
    },
    {
      "cell_type": "code",
      "metadata": {
        "id": "sqqPOTTpzTg2",
        "colab": {
          "base_uri": "https://localhost:8080/"
        },
        "outputId": "8b146f35-b98e-42df-b0cf-0436c47683cf"
      },
      "source": [
        "sql_ImplicitJoin = 'SELECT ename, loc FROM emp, dept WHERE emp.deptno = dept.deptno'\n",
        "cursor.execute(sql_ImplicitJoin).fetchall()"
      ],
      "execution_count": 70,
      "outputs": [
        {
          "output_type": "execute_result",
          "data": {
            "text/plain": [
              "[('SMITH', 'DALLAS'),\n",
              " ('ALLEN', 'CHICAGO'),\n",
              " ('WARD', 'CHICAGO'),\n",
              " ('JONES', 'DALLAS'),\n",
              " ('MARTIN', 'CHICAGO'),\n",
              " ('BLAKE', 'CHICAGO'),\n",
              " ('CLARK', 'NEW YORK'),\n",
              " ('SCOTT', 'DALLAS'),\n",
              " ('KING', 'NEW YORK'),\n",
              " ('TURNER', 'CHICAGO'),\n",
              " ('ADAMS', 'DALLAS'),\n",
              " ('JAMES', 'CHICAGO'),\n",
              " ('FORD', 'DALLAS'),\n",
              " ('MILLER', 'NEW YORK')]"
            ]
          },
          "metadata": {},
          "execution_count": 70
        }
      ]
    },
    {
      "cell_type": "code",
      "metadata": {
        "id": "72XC2aSczTIn"
      },
      "source": [
        "### Selecionar somente os Nomes dos empregados e os nomes dos departamentos "
      ],
      "execution_count": 71,
      "outputs": []
    },
    {
      "cell_type": "code",
      "metadata": {
        "id": "BH-zwN16MlPQ",
        "colab": {
          "base_uri": "https://localhost:8080/"
        },
        "outputId": "b32490ef-a04e-45ba-dace-92fd2ff839c7"
      },
      "source": [
        "sql_ImplicitJoin2 = 'SELECT ename, dname FROM emp, dept WHERE emp.deptno = dept.deptno'\n",
        "cursor.execute(sql_ImplicitJoin2).fetchall()"
      ],
      "execution_count": 76,
      "outputs": [
        {
          "output_type": "execute_result",
          "data": {
            "text/plain": [
              "[('SMITH', 'RESEARCH'),\n",
              " ('ALLEN', 'SALES'),\n",
              " ('WARD', 'SALES'),\n",
              " ('JONES', 'RESEARCH'),\n",
              " ('MARTIN', 'SALES'),\n",
              " ('BLAKE', 'SALES'),\n",
              " ('CLARK', 'ACCOUNTING'),\n",
              " ('SCOTT', 'RESEARCH'),\n",
              " ('KING', 'ACCOUNTING'),\n",
              " ('TURNER', 'SALES'),\n",
              " ('ADAMS', 'RESEARCH'),\n",
              " ('JAMES', 'SALES'),\n",
              " ('FORD', 'RESEARCH'),\n",
              " ('MILLER', 'ACCOUNTING')]"
            ]
          },
          "metadata": {},
          "execution_count": 76
        }
      ]
    },
    {
      "cell_type": "code",
      "metadata": {
        "colab": {
          "base_uri": "https://localhost:8080/"
        },
        "id": "UX2GyMbWHYb4",
        "outputId": "ddb88d6c-e530-4ab7-d86e-46658288fd9d"
      },
      "source": [
        "sql_ImplicitJoin3 = 'SELECT e.ename, d.dname FROM emp e, dept d WHERE e.deptno = d.deptno'\n",
        "cursor.execute(sql_ImplicitJoin3).fetchall()"
      ],
      "execution_count": 77,
      "outputs": [
        {
          "output_type": "execute_result",
          "data": {
            "text/plain": [
              "[('SMITH', 'RESEARCH'),\n",
              " ('ALLEN', 'SALES'),\n",
              " ('WARD', 'SALES'),\n",
              " ('JONES', 'RESEARCH'),\n",
              " ('MARTIN', 'SALES'),\n",
              " ('BLAKE', 'SALES'),\n",
              " ('CLARK', 'ACCOUNTING'),\n",
              " ('SCOTT', 'RESEARCH'),\n",
              " ('KING', 'ACCOUNTING'),\n",
              " ('TURNER', 'SALES'),\n",
              " ('ADAMS', 'RESEARCH'),\n",
              " ('JAMES', 'SALES'),\n",
              " ('FORD', 'RESEARCH'),\n",
              " ('MILLER', 'ACCOUNTING')]"
            ]
          },
          "metadata": {},
          "execution_count": 77
        }
      ]
    },
    {
      "cell_type": "code",
      "metadata": {
        "id": "2NM4eKB5Mk7m"
      },
      "source": [
        "#### INNER JOIN ##### \n",
        "###  In SQLite, the INNER JOIN selects all rows from both participating tables \n",
        "##   to appear in the result if and only if both tables meet the conditions specified \n",
        "##  in the ON clause\n",
        "## SELECT [result] from Tables [clausla de condicao ou comparacao]\n",
        "## SELECT [results] from [1a Tabela] INNER JOIN [2a Tabela] ON [condicao de JOIN]"
      ],
      "execution_count": 72,
      "outputs": []
    },
    {
      "cell_type": "code",
      "metadata": {
        "id": "IYM4gA50MmzL",
        "colab": {
          "base_uri": "https://localhost:8080/"
        },
        "outputId": "dac8d549-331a-4355-990d-4b0aa0693803"
      },
      "source": [
        "sql_InnerJoin = 'SELECT e.ename, d.dname FROM emp e INNER JOIN dept d ON e.deptno = d.deptno'\n",
        "cursor.execute(sql_InnerJoin).fetchall()"
      ],
      "execution_count": 78,
      "outputs": [
        {
          "output_type": "execute_result",
          "data": {
            "text/plain": [
              "[('SMITH', 'RESEARCH'),\n",
              " ('ALLEN', 'SALES'),\n",
              " ('WARD', 'SALES'),\n",
              " ('JONES', 'RESEARCH'),\n",
              " ('MARTIN', 'SALES'),\n",
              " ('BLAKE', 'SALES'),\n",
              " ('CLARK', 'ACCOUNTING'),\n",
              " ('SCOTT', 'RESEARCH'),\n",
              " ('KING', 'ACCOUNTING'),\n",
              " ('TURNER', 'SALES'),\n",
              " ('ADAMS', 'RESEARCH'),\n",
              " ('JAMES', 'SALES'),\n",
              " ('FORD', 'RESEARCH'),\n",
              " ('MILLER', 'ACCOUNTING')]"
            ]
          },
          "metadata": {},
          "execution_count": 78
        }
      ]
    },
    {
      "cell_type": "code",
      "metadata": {
        "colab": {
          "base_uri": "https://localhost:8080/"
        },
        "id": "rkvCVEMhQsB2",
        "outputId": "042615b0-a64b-4795-ef35-a59934e8a190"
      },
      "source": [
        "cursor.execute('PRAGMA table_info(emp)').fetchall()"
      ],
      "execution_count": 82,
      "outputs": [
        {
          "output_type": "execute_result",
          "data": {
            "text/plain": [
              "[(0, 'EMPNO', 'int', 0, None, 0),\n",
              " (1, 'ENAME', 'text', 0, None, 0),\n",
              " (2, 'JOB', 'text', 0, None, 0),\n",
              " (3, 'MGR', 'int', 0, None, 0),\n",
              " (4, 'HIREDATE', 'date', 0, None, 0),\n",
              " (5, 'SAL', 'real', 0, None, 0),\n",
              " (6, 'COMM', 'int', 0, None, 0),\n",
              " (7, 'DEPTNO', 'int', 0, None, 0)]"
            ]
          },
          "metadata": {},
          "execution_count": 82
        }
      ]
    },
    {
      "cell_type": "code",
      "metadata": {
        "id": "9jj-kX4dMmky"
      },
      "source": [
        "### INSERT  PARA TESTAR LEFT OUTER####"
      ],
      "execution_count": 73,
      "outputs": []
    },
    {
      "cell_type": "code",
      "metadata": {
        "id": "85DT1DhzMpXx"
      },
      "source": [
        "sql_insert4 = 'INSERT INTO emp VALUES (20501, \"CHARLES\", \"ANALYST\", 2900, \"08-20-2021\", 2000, 10, 50)'"
      ],
      "execution_count": 79,
      "outputs": []
    },
    {
      "cell_type": "code",
      "metadata": {
        "colab": {
          "base_uri": "https://localhost:8080/"
        },
        "id": "doQKoE9JOqS_",
        "outputId": "44c79dff-ee9c-4c01-f435-d9bbe324d064"
      },
      "source": [
        "cursor.execute(sql_insert4)\n",
        "cursor.execute('SELECT * FROM emp WHERE empno = 20501').fetchall()"
      ],
      "execution_count": 80,
      "outputs": [
        {
          "output_type": "execute_result",
          "data": {
            "text/plain": [
              "[(20501, 'CHARLES', 'ANALYST', 2900, '08-20-2021', 2000.0, 10, 50)]"
            ]
          },
          "metadata": {},
          "execution_count": 80
        }
      ]
    },
    {
      "cell_type": "code",
      "metadata": {
        "id": "DVrVjsk9MpND"
      },
      "source": [
        "#### LEFT OUTER JOIN #### \n",
        "###  The Left Join or Left Outer Join operation takes two relations, A and B, and returns\n",
        "###  the inner join of A and B along with the unmatched rows of A\n",
        "## SELECT [results] from [1a Tabela] LEFT JOIN [2a Tabela] ON [condicao de JOIN]"
      ],
      "execution_count": 74,
      "outputs": []
    },
    {
      "cell_type": "code",
      "metadata": {
        "id": "oSSqO-lsMrot",
        "colab": {
          "base_uri": "https://localhost:8080/"
        },
        "outputId": "8251ea2f-624c-4ccf-c239-f6205f39362e"
      },
      "source": [
        "sql_LeftJoin = 'SELECT e.ename, d.dname FROM emp e LEFT JOIN dept d ON e.deptno = d.deptno'\n",
        "cursor.execute(sql_LeftJoin).fetchall()"
      ],
      "execution_count": 81,
      "outputs": [
        {
          "output_type": "execute_result",
          "data": {
            "text/plain": [
              "[('SMITH', 'RESEARCH'),\n",
              " ('ALLEN', 'SALES'),\n",
              " ('WARD', 'SALES'),\n",
              " ('JONES', 'RESEARCH'),\n",
              " ('MARTIN', 'SALES'),\n",
              " ('BLAKE', 'SALES'),\n",
              " ('CLARK', 'ACCOUNTING'),\n",
              " ('SCOTT', 'RESEARCH'),\n",
              " ('KING', 'ACCOUNTING'),\n",
              " ('TURNER', 'SALES'),\n",
              " ('ADAMS', 'RESEARCH'),\n",
              " ('JAMES', 'SALES'),\n",
              " ('FORD', 'RESEARCH'),\n",
              " ('MILLER', 'ACCOUNTING'),\n",
              " ('CHARLES', None)]"
            ]
          },
          "metadata": {},
          "execution_count": 81
        }
      ]
    },
    {
      "cell_type": "code",
      "metadata": {
        "id": "TMqQd5bqMrY5"
      },
      "source": [
        "#### CROSS JOIN or CARTESIAN JOIN ####     \n",
        "###  The Cartesian join is one of the fundamental relational operations. \n",
        "###  It is a kind of join that results in the combination of all rows from the \n",
        "##   first table with all rows in the second.\n",
        "## SELECT [results] from [1a Tabela] CROSS JOIN [2a Tabela]"
      ],
      "execution_count": 75,
      "outputs": []
    },
    {
      "cell_type": "markdown",
      "metadata": {
        "id": "kzdr2kZ0XRGw"
      },
      "source": [
        "![image.png](data:image/png;base64,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)"
      ]
    },
    {
      "cell_type": "code",
      "metadata": {
        "colab": {
          "base_uri": "https://localhost:8080/"
        },
        "id": "1nkKJl3pPKh7",
        "outputId": "2d9b2966-d6be-4169-84d1-a87d8a6a028e"
      },
      "source": [
        "sql_CrossJoin = 'SELECT * FROM emp CROSS JOIN dept'\n",
        "data = cursor.execute(sql_CrossJoin).fetchall()\n",
        "for row in data:\n",
        "  print(row)"
      ],
      "execution_count": 84,
      "outputs": [
        {
          "output_type": "stream",
          "text": [
            "(7369, 'SMITH', 'CLERK', 7902, '2005-12-11', 880.0000000000001, 150, 20, 10, 'ACCOUNTING', 'NEW YORK')\n",
            "(7369, 'SMITH', 'CLERK', 7902, '2005-12-11', 880.0000000000001, 150, 20, 20, 'RESEARCH', 'DALLAS')\n",
            "(7369, 'SMITH', 'CLERK', 7902, '2005-12-11', 880.0000000000001, 150, 20, 30, 'SALES', 'CHICAGO')\n",
            "(7369, 'SMITH', 'CLERK', 7902, '2005-12-11', 880.0000000000001, 150, 20, 40, 'OPERATIONS', 'BOSTON')\n",
            "(7499, 'ALLEN', 'SALESMAN', 7698, '2006-02-23', 1600.0, 300, 30, 10, 'ACCOUNTING', 'NEW YORK')\n",
            "(7499, 'ALLEN', 'SALESMAN', 7698, '2006-02-23', 1600.0, 300, 30, 20, 'RESEARCH', 'DALLAS')\n",
            "(7499, 'ALLEN', 'SALESMAN', 7698, '2006-02-23', 1600.0, 300, 30, 30, 'SALES', 'CHICAGO')\n",
            "(7499, 'ALLEN', 'SALESMAN', 7698, '2006-02-23', 1600.0, 300, 30, 40, 'OPERATIONS', 'BOSTON')\n",
            "(7521, 'WARD', 'SALESMAN', 7698, '2006-02-26', 1250.0, 500, 30, 10, 'ACCOUNTING', 'NEW YORK')\n",
            "(7521, 'WARD', 'SALESMAN', 7698, '2006-02-26', 1250.0, 500, 30, 20, 'RESEARCH', 'DALLAS')\n",
            "(7521, 'WARD', 'SALESMAN', 7698, '2006-02-26', 1250.0, 500, 30, 30, 'SALES', 'CHICAGO')\n",
            "(7521, 'WARD', 'SALESMAN', 7698, '2006-02-26', 1250.0, 500, 30, 40, 'OPERATIONS', 'BOSTON')\n",
            "(7566, 'JONES', 'MANAGER', 7839, '2006-04-02', 3272.5000000000005, 520, 20, 10, 'ACCOUNTING', 'NEW YORK')\n",
            "(7566, 'JONES', 'MANAGER', 7839, '2006-04-02', 3272.5000000000005, 520, 20, 20, 'RESEARCH', 'DALLAS')\n",
            "(7566, 'JONES', 'MANAGER', 7839, '2006-04-02', 3272.5000000000005, 520, 20, 30, 'SALES', 'CHICAGO')\n",
            "(7566, 'JONES', 'MANAGER', 7839, '2006-04-02', 3272.5000000000005, 520, 20, 40, 'OPERATIONS', 'BOSTON')\n",
            "(7654, 'MARTIN', 'SALESMAN', 7698, '2006-09-28', 1400.0, 420, 30, 10, 'ACCOUNTING', 'NEW YORK')\n",
            "(7654, 'MARTIN', 'SALESMAN', 7698, '2006-09-28', 1400.0, 420, 30, 20, 'RESEARCH', 'DALLAS')\n",
            "(7654, 'MARTIN', 'SALESMAN', 7698, '2006-09-28', 1400.0, 420, 30, 30, 'SALES', 'CHICAGO')\n",
            "(7654, 'MARTIN', 'SALESMAN', 7698, '2006-09-28', 1400.0, 420, 30, 40, 'OPERATIONS', 'BOSTON')\n",
            "(7698, 'BLAKE', 'MANAGER', 7839, '2006-05-1', 2850.0, 600, 30, 10, 'ACCOUNTING', 'NEW YORK')\n",
            "(7698, 'BLAKE', 'MANAGER', 7839, '2006-05-1', 2850.0, 600, 30, 20, 'RESEARCH', 'DALLAS')\n",
            "(7698, 'BLAKE', 'MANAGER', 7839, '2006-05-1', 2850.0, 600, 30, 30, 'SALES', 'CHICAGO')\n",
            "(7698, 'BLAKE', 'MANAGER', 7839, '2006-05-1', 2850.0, 600, 30, 40, 'OPERATIONS', 'BOSTON')\n",
            "(7782, 'CLARK', 'MANAGER', 7839, '2006-06-09', 2450.0, 580, 10, 10, 'ACCOUNTING', 'NEW YORK')\n",
            "(7782, 'CLARK', 'MANAGER', 7839, '2006-06-09', 2450.0, 580, 10, 20, 'RESEARCH', 'DALLAS')\n",
            "(7782, 'CLARK', 'MANAGER', 7839, '2006-06-09', 2450.0, 580, 10, 30, 'SALES', 'CHICAGO')\n",
            "(7782, 'CLARK', 'MANAGER', 7839, '2006-06-09', 2450.0, 580, 10, 40, 'OPERATIONS', 'BOSTON')\n",
            "(7788, 'SCOTT', 'ANALYST', 7566, '2007-12-09', 3300.0000000000005, 640, 20, 10, 'ACCOUNTING', 'NEW YORK')\n",
            "(7788, 'SCOTT', 'ANALYST', 7566, '2007-12-09', 3300.0000000000005, 640, 20, 20, 'RESEARCH', 'DALLAS')\n",
            "(7788, 'SCOTT', 'ANALYST', 7566, '2007-12-09', 3300.0000000000005, 640, 20, 30, 'SALES', 'CHICAGO')\n",
            "(7788, 'SCOTT', 'ANALYST', 7566, '2007-12-09', 3300.0000000000005, 640, 20, 40, 'OPERATIONS', 'BOSTON')\n",
            "(7839, 'KING', 'PRESIDENT', '', '2006-11-17', 5000.0, 0, 10, 10, 'ACCOUNTING', 'NEW YORK')\n",
            "(7839, 'KING', 'PRESIDENT', '', '2006-11-17', 5000.0, 0, 10, 20, 'RESEARCH', 'DALLAS')\n",
            "(7839, 'KING', 'PRESIDENT', '', '2006-11-17', 5000.0, 0, 10, 30, 'SALES', 'CHICAGO')\n",
            "(7839, 'KING', 'PRESIDENT', '', '2006-11-17', 5000.0, 0, 10, 40, 'OPERATIONS', 'BOSTON')\n",
            "(7844, 'TURNER', 'SALESMAN', 7698, '2006-09-13', 1500.0, 0, 30, 10, 'ACCOUNTING', 'NEW YORK')\n",
            "(7844, 'TURNER', 'SALESMAN', 7698, '2006-09-13', 1500.0, 0, 30, 20, 'RESEARCH', 'DALLAS')\n",
            "(7844, 'TURNER', 'SALESMAN', 7698, '2006-09-13', 1500.0, 0, 30, 30, 'SALES', 'CHICAGO')\n",
            "(7844, 'TURNER', 'SALESMAN', 7698, '2006-09-13', 1500.0, 0, 30, 40, 'OPERATIONS', 'BOSTON')\n",
            "(7876, 'ADAMS', 'CLERK', 7788, '2008-01-12', 1210.0, 50, 20, 10, 'ACCOUNTING', 'NEW YORK')\n",
            "(7876, 'ADAMS', 'CLERK', 7788, '2008-01-12', 1210.0, 50, 20, 20, 'RESEARCH', 'DALLAS')\n",
            "(7876, 'ADAMS', 'CLERK', 7788, '2008-01-12', 1210.0, 50, 20, 30, 'SALES', 'CHICAGO')\n",
            "(7876, 'ADAMS', 'CLERK', 7788, '2008-01-12', 1210.0, 50, 20, 40, 'OPERATIONS', 'BOSTON')\n",
            "(7900, 'JAMES', 'CLERK', 7698, '2006-12-03', 950.0, 40, 30, 10, 'ACCOUNTING', 'NEW YORK')\n",
            "(7900, 'JAMES', 'CLERK', 7698, '2006-12-03', 950.0, 40, 30, 20, 'RESEARCH', 'DALLAS')\n",
            "(7900, 'JAMES', 'CLERK', 7698, '2006-12-03', 950.0, 40, 30, 30, 'SALES', 'CHICAGO')\n",
            "(7900, 'JAMES', 'CLERK', 7698, '2006-12-03', 950.0, 40, 30, 40, 'OPERATIONS', 'BOSTON')\n",
            "(7902, 'FORD', 'ANALYST', 7566, '2006-12-03', 3300.0000000000005, 10, 20, 10, 'ACCOUNTING', 'NEW YORK')\n",
            "(7902, 'FORD', 'ANALYST', 7566, '2006-12-03', 3300.0000000000005, 10, 20, 20, 'RESEARCH', 'DALLAS')\n",
            "(7902, 'FORD', 'ANALYST', 7566, '2006-12-03', 3300.0000000000005, 10, 20, 30, 'SALES', 'CHICAGO')\n",
            "(7902, 'FORD', 'ANALYST', 7566, '2006-12-03', 3300.0000000000005, 10, 20, 40, 'OPERATIONS', 'BOSTON')\n",
            "(7934, 'MILLER', 'CLERK', 7782, '2007-01-23', 1300.0, '', 10, 10, 'ACCOUNTING', 'NEW YORK')\n",
            "(7934, 'MILLER', 'CLERK', 7782, '2007-01-23', 1300.0, '', 10, 20, 'RESEARCH', 'DALLAS')\n",
            "(7934, 'MILLER', 'CLERK', 7782, '2007-01-23', 1300.0, '', 10, 30, 'SALES', 'CHICAGO')\n",
            "(7934, 'MILLER', 'CLERK', 7782, '2007-01-23', 1300.0, '', 10, 40, 'OPERATIONS', 'BOSTON')\n",
            "(20501, 'CHARLES', 'ANALYST', 2900, '08-20-2021', 2000.0, 10, 50, 10, 'ACCOUNTING', 'NEW YORK')\n",
            "(20501, 'CHARLES', 'ANALYST', 2900, '08-20-2021', 2000.0, 10, 50, 20, 'RESEARCH', 'DALLAS')\n",
            "(20501, 'CHARLES', 'ANALYST', 2900, '08-20-2021', 2000.0, 10, 50, 30, 'SALES', 'CHICAGO')\n",
            "(20501, 'CHARLES', 'ANALYST', 2900, '08-20-2021', 2000.0, 10, 50, 40, 'OPERATIONS', 'BOSTON')\n"
          ],
          "name": "stdout"
        }
      ]
    }
  ]
}
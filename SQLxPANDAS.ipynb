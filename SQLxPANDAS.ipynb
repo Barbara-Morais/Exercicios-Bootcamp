{
  "nbformat": 4,
  "nbformat_minor": 0,
  "metadata": {
    "kernelspec": {
      "display_name": "Python 3",
      "language": "python",
      "name": "python3"
    },
    "language_info": {
      "codemirror_mode": {
        "name": "ipython",
        "version": 3
      },
      "file_extension": ".py",
      "mimetype": "text/x-python",
      "name": "python",
      "nbconvert_exporter": "python",
      "pygments_lexer": "ipython3",
      "version": "3.8.5"
    },
    "colab": {
      "name": "Copy of SQLxPANDAS.ipynb",
      "provenance": [],
      "collapsed_sections": []
    }
  },
  "cells": [
    {
      "cell_type": "code",
      "metadata": {
        "id": "QrEP1rIy-ehv"
      },
      "source": [
        "import pandas as pd\n",
        "import sqlite3 as sql"
      ],
      "execution_count": null,
      "outputs": []
    },
    {
      "cell_type": "code",
      "metadata": {
        "id": "qV0ePwo8-ehw"
      },
      "source": [
        "engine = sql.connect('temp1000.db')\n",
        "cursor= engine.cursor()"
      ],
      "execution_count": null,
      "outputs": []
    },
    {
      "cell_type": "code",
      "metadata": {
        "id": "dUHmKhz1-ehw"
      },
      "source": [
        "url = \"https://raw.github.com/pandas-dev/pandas/master/pandas/tests/io/data/csv/tips.csv\"\n",
        "tips = pd.read_csv(url)"
      ],
      "execution_count": null,
      "outputs": []
    },
    {
      "cell_type": "code",
      "metadata": {
        "id": "Wvn5QNaQ-ehx"
      },
      "source": [
        "tips.to_sql('tipsDB', con=engine)\n",
        "#faz a conexão com a minha \"máquina\" (vulgo, o data frame que eu criei)"
      ],
      "execution_count": null,
      "outputs": []
    },
    {
      "cell_type": "markdown",
      "metadata": {
        "id": "VBZytKX6BB0r"
      },
      "source": [
        "- Visualizar as 5 primeiras Linhas "
      ]
    },
    {
      "cell_type": "code",
      "metadata": {
        "id": "-qmdY4u7-ehx",
        "colab": {
          "base_uri": "https://localhost:8080/"
        },
        "outputId": "4f6361c3-ca80-4a4b-c1fd-085a06b7ef4b"
      },
      "source": [
        "### SQL #### \n",
        "sql_head = 'SELECT * FROM tipsDB LIMIT 5'\n",
        "cursor.execute(sql_head).fetchall()"
      ],
      "execution_count": null,
      "outputs": [
        {
          "output_type": "execute_result",
          "data": {
            "text/plain": [
              "[(0, 16.99, 1.01, 'Female', 'No', 'Sun', 'Dinner', 2),\n",
              " (1, 10.34, 1.66, 'Male', 'No', 'Sun', 'Dinner', 3),\n",
              " (2, 21.01, 3.5, 'Male', 'No', 'Sun', 'Dinner', 3),\n",
              " (3, 23.68, 3.31, 'Male', 'No', 'Sun', 'Dinner', 2),\n",
              " (4, 24.59, 3.61, 'Female', 'No', 'Sun', 'Dinner', 4)]"
            ]
          },
          "metadata": {},
          "execution_count": 5
        }
      ]
    },
    {
      "cell_type": "code",
      "metadata": {
        "id": "-kD-upEa-ehx",
        "colab": {
          "base_uri": "https://localhost:8080/",
          "height": 204
        },
        "outputId": "338848a8-fef9-4117-94b2-4d2f0879cdc3"
      },
      "source": [
        "### PANDAS ### \n",
        "tips.head()"
      ],
      "execution_count": null,
      "outputs": [
        {
          "output_type": "execute_result",
          "data": {
            "text/html": [
              "<div>\n",
              "<style scoped>\n",
              "    .dataframe tbody tr th:only-of-type {\n",
              "        vertical-align: middle;\n",
              "    }\n",
              "\n",
              "    .dataframe tbody tr th {\n",
              "        vertical-align: top;\n",
              "    }\n",
              "\n",
              "    .dataframe thead th {\n",
              "        text-align: right;\n",
              "    }\n",
              "</style>\n",
              "<table border=\"1\" class=\"dataframe\">\n",
              "  <thead>\n",
              "    <tr style=\"text-align: right;\">\n",
              "      <th></th>\n",
              "      <th>total_bill</th>\n",
              "      <th>tip</th>\n",
              "      <th>sex</th>\n",
              "      <th>smoker</th>\n",
              "      <th>day</th>\n",
              "      <th>time</th>\n",
              "      <th>size</th>\n",
              "    </tr>\n",
              "  </thead>\n",
              "  <tbody>\n",
              "    <tr>\n",
              "      <th>0</th>\n",
              "      <td>16.99</td>\n",
              "      <td>1.01</td>\n",
              "      <td>Female</td>\n",
              "      <td>No</td>\n",
              "      <td>Sun</td>\n",
              "      <td>Dinner</td>\n",
              "      <td>2</td>\n",
              "    </tr>\n",
              "    <tr>\n",
              "      <th>1</th>\n",
              "      <td>10.34</td>\n",
              "      <td>1.66</td>\n",
              "      <td>Male</td>\n",
              "      <td>No</td>\n",
              "      <td>Sun</td>\n",
              "      <td>Dinner</td>\n",
              "      <td>3</td>\n",
              "    </tr>\n",
              "    <tr>\n",
              "      <th>2</th>\n",
              "      <td>21.01</td>\n",
              "      <td>3.50</td>\n",
              "      <td>Male</td>\n",
              "      <td>No</td>\n",
              "      <td>Sun</td>\n",
              "      <td>Dinner</td>\n",
              "      <td>3</td>\n",
              "    </tr>\n",
              "    <tr>\n",
              "      <th>3</th>\n",
              "      <td>23.68</td>\n",
              "      <td>3.31</td>\n",
              "      <td>Male</td>\n",
              "      <td>No</td>\n",
              "      <td>Sun</td>\n",
              "      <td>Dinner</td>\n",
              "      <td>2</td>\n",
              "    </tr>\n",
              "    <tr>\n",
              "      <th>4</th>\n",
              "      <td>24.59</td>\n",
              "      <td>3.61</td>\n",
              "      <td>Female</td>\n",
              "      <td>No</td>\n",
              "      <td>Sun</td>\n",
              "      <td>Dinner</td>\n",
              "      <td>4</td>\n",
              "    </tr>\n",
              "  </tbody>\n",
              "</table>\n",
              "</div>"
            ],
            "text/plain": [
              "   total_bill   tip     sex smoker  day    time  size\n",
              "0       16.99  1.01  Female     No  Sun  Dinner     2\n",
              "1       10.34  1.66    Male     No  Sun  Dinner     3\n",
              "2       21.01  3.50    Male     No  Sun  Dinner     3\n",
              "3       23.68  3.31    Male     No  Sun  Dinner     2\n",
              "4       24.59  3.61  Female     No  Sun  Dinner     4"
            ]
          },
          "metadata": {},
          "execution_count": 6
        }
      ]
    },
    {
      "cell_type": "markdown",
      "metadata": {
        "id": "qV3meXLfBY2A"
      },
      "source": [
        "- Selecionar algumas Colunas \n",
        "\n",
        "- Total_bill, tip, smoker, time "
      ]
    },
    {
      "cell_type": "code",
      "metadata": {
        "id": "UAFgfUa5-ehy",
        "colab": {
          "base_uri": "https://localhost:8080/"
        },
        "outputId": "02a335a4-b21b-4098-d98d-8d01a6aa4495"
      },
      "source": [
        "### SQL ### \n",
        "sql_columns = 'SELECT total_bill, tip, smoker, time FROM tipsDB LIMIT 5'\n",
        "cursor.execute(sql_columns).fetchall()"
      ],
      "execution_count": null,
      "outputs": [
        {
          "output_type": "execute_result",
          "data": {
            "text/plain": [
              "[(16.99, 1.01, 'No', 'Dinner'),\n",
              " (10.34, 1.66, 'No', 'Dinner'),\n",
              " (21.01, 3.5, 'No', 'Dinner'),\n",
              " (23.68, 3.31, 'No', 'Dinner'),\n",
              " (24.59, 3.61, 'No', 'Dinner')]"
            ]
          },
          "metadata": {},
          "execution_count": 7
        }
      ]
    },
    {
      "cell_type": "code",
      "metadata": {
        "id": "gM8wjpDI-ehy",
        "colab": {
          "base_uri": "https://localhost:8080/"
        },
        "outputId": "5f231710-ecba-4479-bbcc-28ebd0d0cea5"
      },
      "source": [
        "### PANDAS #### \n",
        "#isso é retornar uma série, não um dataframe\n",
        "tips['total_bill']"
      ],
      "execution_count": null,
      "outputs": [
        {
          "output_type": "execute_result",
          "data": {
            "text/plain": [
              "0      16.99\n",
              "1      10.34\n",
              "2      21.01\n",
              "3      23.68\n",
              "4      24.59\n",
              "       ...  \n",
              "239    29.03\n",
              "240    27.18\n",
              "241    22.67\n",
              "242    17.82\n",
              "243    18.78\n",
              "Name: total_bill, Length: 244, dtype: float64"
            ]
          },
          "metadata": {},
          "execution_count": 8
        }
      ]
    },
    {
      "cell_type": "code",
      "metadata": {
        "colab": {
          "base_uri": "https://localhost:8080/",
          "height": 204
        },
        "id": "Wr5WnDlsohAp",
        "outputId": "c74a4a33-33e7-403a-a4e4-a3dceb4f9e0c"
      },
      "source": [
        "#para o dataframe, eu preciso de [] dentro de []\n",
        "tips[['total_bill', 'tip', 'smoker', 'time']].head()"
      ],
      "execution_count": null,
      "outputs": [
        {
          "output_type": "execute_result",
          "data": {
            "text/html": [
              "<div>\n",
              "<style scoped>\n",
              "    .dataframe tbody tr th:only-of-type {\n",
              "        vertical-align: middle;\n",
              "    }\n",
              "\n",
              "    .dataframe tbody tr th {\n",
              "        vertical-align: top;\n",
              "    }\n",
              "\n",
              "    .dataframe thead th {\n",
              "        text-align: right;\n",
              "    }\n",
              "</style>\n",
              "<table border=\"1\" class=\"dataframe\">\n",
              "  <thead>\n",
              "    <tr style=\"text-align: right;\">\n",
              "      <th></th>\n",
              "      <th>total_bill</th>\n",
              "      <th>tip</th>\n",
              "      <th>smoker</th>\n",
              "      <th>time</th>\n",
              "    </tr>\n",
              "  </thead>\n",
              "  <tbody>\n",
              "    <tr>\n",
              "      <th>0</th>\n",
              "      <td>16.99</td>\n",
              "      <td>1.01</td>\n",
              "      <td>No</td>\n",
              "      <td>Dinner</td>\n",
              "    </tr>\n",
              "    <tr>\n",
              "      <th>1</th>\n",
              "      <td>10.34</td>\n",
              "      <td>1.66</td>\n",
              "      <td>No</td>\n",
              "      <td>Dinner</td>\n",
              "    </tr>\n",
              "    <tr>\n",
              "      <th>2</th>\n",
              "      <td>21.01</td>\n",
              "      <td>3.50</td>\n",
              "      <td>No</td>\n",
              "      <td>Dinner</td>\n",
              "    </tr>\n",
              "    <tr>\n",
              "      <th>3</th>\n",
              "      <td>23.68</td>\n",
              "      <td>3.31</td>\n",
              "      <td>No</td>\n",
              "      <td>Dinner</td>\n",
              "    </tr>\n",
              "    <tr>\n",
              "      <th>4</th>\n",
              "      <td>24.59</td>\n",
              "      <td>3.61</td>\n",
              "      <td>No</td>\n",
              "      <td>Dinner</td>\n",
              "    </tr>\n",
              "  </tbody>\n",
              "</table>\n",
              "</div>"
            ],
            "text/plain": [
              "   total_bill   tip smoker    time\n",
              "0       16.99  1.01     No  Dinner\n",
              "1       10.34  1.66     No  Dinner\n",
              "2       21.01  3.50     No  Dinner\n",
              "3       23.68  3.31     No  Dinner\n",
              "4       24.59  3.61     No  Dinner"
            ]
          },
          "metadata": {},
          "execution_count": 9
        }
      ]
    },
    {
      "cell_type": "markdown",
      "metadata": {
        "id": "07Ctl5G5BuUQ"
      },
      "source": [
        " - Assign Nova Coluna \n",
        "\n",
        " - tip_rate = tip/total_bill "
      ]
    },
    {
      "cell_type": "code",
      "metadata": {
        "id": "8yYA8mn6-ehy",
        "colab": {
          "base_uri": "https://localhost:8080/"
        },
        "outputId": "bf2992fa-09b1-4c0c-83e4-568337bad88a"
      },
      "source": [
        "### SQL ####\n",
        "sql_assign = 'SELECT *, tip/total_bill as tip_rate FROM tipsDB LIMIT 5'\n",
        "cursor.execute(sql_assign).fetchall()\n",
        "\n",
        "cl_name = [] #buscando o nome das colunas\n",
        "for name in cursor.description:\n",
        "  cl_name.append(name[0])\n",
        "print(cl_name)\n",
        "\n",
        "for row in cursor.fetchall():\n",
        "  print(row)"
      ],
      "execution_count": null,
      "outputs": [
        {
          "output_type": "stream",
          "text": [
            "['index', 'total_bill', 'tip', 'sex', 'smoker', 'day', 'time', 'size', 'tip_rate']\n"
          ],
          "name": "stdout"
        }
      ]
    },
    {
      "cell_type": "code",
      "metadata": {
        "colab": {
          "base_uri": "https://localhost:8080/",
          "height": 204
        },
        "id": "U3sNR4xs-ehy",
        "outputId": "8ea90029-4cf3-418b-c40a-a27d078ae445"
      },
      "source": [
        "### PANDAS ### \n",
        "tips.assign(tip_rate=tips['tip']/tips['total_bill']).head()"
      ],
      "execution_count": null,
      "outputs": [
        {
          "output_type": "execute_result",
          "data": {
            "text/html": [
              "<div>\n",
              "<style scoped>\n",
              "    .dataframe tbody tr th:only-of-type {\n",
              "        vertical-align: middle;\n",
              "    }\n",
              "\n",
              "    .dataframe tbody tr th {\n",
              "        vertical-align: top;\n",
              "    }\n",
              "\n",
              "    .dataframe thead th {\n",
              "        text-align: right;\n",
              "    }\n",
              "</style>\n",
              "<table border=\"1\" class=\"dataframe\">\n",
              "  <thead>\n",
              "    <tr style=\"text-align: right;\">\n",
              "      <th></th>\n",
              "      <th>total_bill</th>\n",
              "      <th>tip</th>\n",
              "      <th>sex</th>\n",
              "      <th>smoker</th>\n",
              "      <th>day</th>\n",
              "      <th>time</th>\n",
              "      <th>size</th>\n",
              "      <th>tip_rate</th>\n",
              "    </tr>\n",
              "  </thead>\n",
              "  <tbody>\n",
              "    <tr>\n",
              "      <th>0</th>\n",
              "      <td>16.99</td>\n",
              "      <td>1.01</td>\n",
              "      <td>Female</td>\n",
              "      <td>No</td>\n",
              "      <td>Sun</td>\n",
              "      <td>Dinner</td>\n",
              "      <td>2</td>\n",
              "      <td>0.059447</td>\n",
              "    </tr>\n",
              "    <tr>\n",
              "      <th>1</th>\n",
              "      <td>10.34</td>\n",
              "      <td>1.66</td>\n",
              "      <td>Male</td>\n",
              "      <td>No</td>\n",
              "      <td>Sun</td>\n",
              "      <td>Dinner</td>\n",
              "      <td>3</td>\n",
              "      <td>0.160542</td>\n",
              "    </tr>\n",
              "    <tr>\n",
              "      <th>2</th>\n",
              "      <td>21.01</td>\n",
              "      <td>3.50</td>\n",
              "      <td>Male</td>\n",
              "      <td>No</td>\n",
              "      <td>Sun</td>\n",
              "      <td>Dinner</td>\n",
              "      <td>3</td>\n",
              "      <td>0.166587</td>\n",
              "    </tr>\n",
              "    <tr>\n",
              "      <th>3</th>\n",
              "      <td>23.68</td>\n",
              "      <td>3.31</td>\n",
              "      <td>Male</td>\n",
              "      <td>No</td>\n",
              "      <td>Sun</td>\n",
              "      <td>Dinner</td>\n",
              "      <td>2</td>\n",
              "      <td>0.139780</td>\n",
              "    </tr>\n",
              "    <tr>\n",
              "      <th>4</th>\n",
              "      <td>24.59</td>\n",
              "      <td>3.61</td>\n",
              "      <td>Female</td>\n",
              "      <td>No</td>\n",
              "      <td>Sun</td>\n",
              "      <td>Dinner</td>\n",
              "      <td>4</td>\n",
              "      <td>0.146808</td>\n",
              "    </tr>\n",
              "  </tbody>\n",
              "</table>\n",
              "</div>"
            ],
            "text/plain": [
              "   total_bill   tip     sex smoker  day    time  size  tip_rate\n",
              "0       16.99  1.01  Female     No  Sun  Dinner     2  0.059447\n",
              "1       10.34  1.66    Male     No  Sun  Dinner     3  0.160542\n",
              "2       21.01  3.50    Male     No  Sun  Dinner     3  0.166587\n",
              "3       23.68  3.31    Male     No  Sun  Dinner     2  0.139780\n",
              "4       24.59  3.61  Female     No  Sun  Dinner     4  0.146808"
            ]
          },
          "metadata": {},
          "execution_count": 16
        }
      ]
    },
    {
      "cell_type": "code",
      "metadata": {
        "colab": {
          "base_uri": "https://localhost:8080/",
          "height": 204
        },
        "id": "gtaz7hgSsB-c",
        "outputId": "80c3fb69-2217-4f54-a09e-36161ab9a874"
      },
      "source": [
        "tips.head() #podemos ver que a nova coluna não foi incorporada na original"
      ],
      "execution_count": null,
      "outputs": [
        {
          "output_type": "execute_result",
          "data": {
            "text/html": [
              "<div>\n",
              "<style scoped>\n",
              "    .dataframe tbody tr th:only-of-type {\n",
              "        vertical-align: middle;\n",
              "    }\n",
              "\n",
              "    .dataframe tbody tr th {\n",
              "        vertical-align: top;\n",
              "    }\n",
              "\n",
              "    .dataframe thead th {\n",
              "        text-align: right;\n",
              "    }\n",
              "</style>\n",
              "<table border=\"1\" class=\"dataframe\">\n",
              "  <thead>\n",
              "    <tr style=\"text-align: right;\">\n",
              "      <th></th>\n",
              "      <th>total_bill</th>\n",
              "      <th>tip</th>\n",
              "      <th>sex</th>\n",
              "      <th>smoker</th>\n",
              "      <th>day</th>\n",
              "      <th>time</th>\n",
              "      <th>size</th>\n",
              "    </tr>\n",
              "  </thead>\n",
              "  <tbody>\n",
              "    <tr>\n",
              "      <th>0</th>\n",
              "      <td>16.99</td>\n",
              "      <td>1.01</td>\n",
              "      <td>Female</td>\n",
              "      <td>No</td>\n",
              "      <td>Sun</td>\n",
              "      <td>Dinner</td>\n",
              "      <td>2</td>\n",
              "    </tr>\n",
              "    <tr>\n",
              "      <th>1</th>\n",
              "      <td>10.34</td>\n",
              "      <td>1.66</td>\n",
              "      <td>Male</td>\n",
              "      <td>No</td>\n",
              "      <td>Sun</td>\n",
              "      <td>Dinner</td>\n",
              "      <td>3</td>\n",
              "    </tr>\n",
              "    <tr>\n",
              "      <th>2</th>\n",
              "      <td>21.01</td>\n",
              "      <td>3.50</td>\n",
              "      <td>Male</td>\n",
              "      <td>No</td>\n",
              "      <td>Sun</td>\n",
              "      <td>Dinner</td>\n",
              "      <td>3</td>\n",
              "    </tr>\n",
              "    <tr>\n",
              "      <th>3</th>\n",
              "      <td>23.68</td>\n",
              "      <td>3.31</td>\n",
              "      <td>Male</td>\n",
              "      <td>No</td>\n",
              "      <td>Sun</td>\n",
              "      <td>Dinner</td>\n",
              "      <td>2</td>\n",
              "    </tr>\n",
              "    <tr>\n",
              "      <th>4</th>\n",
              "      <td>24.59</td>\n",
              "      <td>3.61</td>\n",
              "      <td>Female</td>\n",
              "      <td>No</td>\n",
              "      <td>Sun</td>\n",
              "      <td>Dinner</td>\n",
              "      <td>4</td>\n",
              "    </tr>\n",
              "  </tbody>\n",
              "</table>\n",
              "</div>"
            ],
            "text/plain": [
              "   total_bill   tip     sex smoker  day    time  size\n",
              "0       16.99  1.01  Female     No  Sun  Dinner     2\n",
              "1       10.34  1.66    Male     No  Sun  Dinner     3\n",
              "2       21.01  3.50    Male     No  Sun  Dinner     3\n",
              "3       23.68  3.31    Male     No  Sun  Dinner     2\n",
              "4       24.59  3.61  Female     No  Sun  Dinner     4"
            ]
          },
          "metadata": {},
          "execution_count": 17
        }
      ]
    },
    {
      "cell_type": "code",
      "metadata": {
        "id": "7RuX1tj6teaw"
      },
      "source": [
        "tips['tip_rate'] = tips['tip']/tips['total_bill'] #incorporando a nova coluna"
      ],
      "execution_count": null,
      "outputs": []
    },
    {
      "cell_type": "code",
      "metadata": {
        "colab": {
          "base_uri": "https://localhost:8080/",
          "height": 204
        },
        "id": "HqSazxB2twjF",
        "outputId": "33a47c90-296f-430b-a73c-2b0ce1cf4671"
      },
      "source": [
        "tips.head()"
      ],
      "execution_count": null,
      "outputs": [
        {
          "output_type": "execute_result",
          "data": {
            "text/html": [
              "<div>\n",
              "<style scoped>\n",
              "    .dataframe tbody tr th:only-of-type {\n",
              "        vertical-align: middle;\n",
              "    }\n",
              "\n",
              "    .dataframe tbody tr th {\n",
              "        vertical-align: top;\n",
              "    }\n",
              "\n",
              "    .dataframe thead th {\n",
              "        text-align: right;\n",
              "    }\n",
              "</style>\n",
              "<table border=\"1\" class=\"dataframe\">\n",
              "  <thead>\n",
              "    <tr style=\"text-align: right;\">\n",
              "      <th></th>\n",
              "      <th>total_bill</th>\n",
              "      <th>tip</th>\n",
              "      <th>sex</th>\n",
              "      <th>smoker</th>\n",
              "      <th>day</th>\n",
              "      <th>time</th>\n",
              "      <th>size</th>\n",
              "      <th>tip_rate</th>\n",
              "    </tr>\n",
              "  </thead>\n",
              "  <tbody>\n",
              "    <tr>\n",
              "      <th>0</th>\n",
              "      <td>16.99</td>\n",
              "      <td>1.01</td>\n",
              "      <td>Female</td>\n",
              "      <td>No</td>\n",
              "      <td>Sun</td>\n",
              "      <td>Dinner</td>\n",
              "      <td>2</td>\n",
              "      <td>0.059447</td>\n",
              "    </tr>\n",
              "    <tr>\n",
              "      <th>1</th>\n",
              "      <td>10.34</td>\n",
              "      <td>1.66</td>\n",
              "      <td>Male</td>\n",
              "      <td>No</td>\n",
              "      <td>Sun</td>\n",
              "      <td>Dinner</td>\n",
              "      <td>3</td>\n",
              "      <td>0.160542</td>\n",
              "    </tr>\n",
              "    <tr>\n",
              "      <th>2</th>\n",
              "      <td>21.01</td>\n",
              "      <td>3.50</td>\n",
              "      <td>Male</td>\n",
              "      <td>No</td>\n",
              "      <td>Sun</td>\n",
              "      <td>Dinner</td>\n",
              "      <td>3</td>\n",
              "      <td>0.166587</td>\n",
              "    </tr>\n",
              "    <tr>\n",
              "      <th>3</th>\n",
              "      <td>23.68</td>\n",
              "      <td>3.31</td>\n",
              "      <td>Male</td>\n",
              "      <td>No</td>\n",
              "      <td>Sun</td>\n",
              "      <td>Dinner</td>\n",
              "      <td>2</td>\n",
              "      <td>0.139780</td>\n",
              "    </tr>\n",
              "    <tr>\n",
              "      <th>4</th>\n",
              "      <td>24.59</td>\n",
              "      <td>3.61</td>\n",
              "      <td>Female</td>\n",
              "      <td>No</td>\n",
              "      <td>Sun</td>\n",
              "      <td>Dinner</td>\n",
              "      <td>4</td>\n",
              "      <td>0.146808</td>\n",
              "    </tr>\n",
              "  </tbody>\n",
              "</table>\n",
              "</div>"
            ],
            "text/plain": [
              "   total_bill   tip     sex smoker  day    time  size  tip_rate\n",
              "0       16.99  1.01  Female     No  Sun  Dinner     2  0.059447\n",
              "1       10.34  1.66    Male     No  Sun  Dinner     3  0.160542\n",
              "2       21.01  3.50    Male     No  Sun  Dinner     3  0.166587\n",
              "3       23.68  3.31    Male     No  Sun  Dinner     2  0.139780\n",
              "4       24.59  3.61  Female     No  Sun  Dinner     4  0.146808"
            ]
          },
          "metadata": {},
          "execution_count": 19
        }
      ]
    },
    {
      "cell_type": "code",
      "metadata": {
        "id": "IPD8OWGL-ehz",
        "colab": {
          "base_uri": "https://localhost:8080/"
        },
        "outputId": "65e33186-454e-44fa-f233-14fe60c01d24"
      },
      "source": [
        "### WHERE - SQL ####\n",
        "sql_where = 'SELECT * FROM tipsDB WHERE smoker=\"No\" LIMIT 5'\n",
        "cursor.execute(sql_where).fetchall()"
      ],
      "execution_count": null,
      "outputs": [
        {
          "output_type": "execute_result",
          "data": {
            "text/plain": [
              "[(0, 16.99, 1.01, 'Female', 'No', 'Sun', 'Dinner', 2),\n",
              " (1, 10.34, 1.66, 'Male', 'No', 'Sun', 'Dinner', 3),\n",
              " (2, 21.01, 3.5, 'Male', 'No', 'Sun', 'Dinner', 3),\n",
              " (3, 23.68, 3.31, 'Male', 'No', 'Sun', 'Dinner', 2),\n",
              " (4, 24.59, 3.61, 'Female', 'No', 'Sun', 'Dinner', 4)]"
            ]
          },
          "metadata": {},
          "execution_count": 20
        }
      ]
    },
    {
      "cell_type": "code",
      "metadata": {
        "id": "gq3D8CKE-ehz",
        "colab": {
          "base_uri": "https://localhost:8080/",
          "height": 204
        },
        "outputId": "ab349bf8-bdd7-4e3f-d15a-efa6319c1ae9"
      },
      "source": [
        "### WHERE - PANDAS ####\n",
        "tips[tips['smoker'] == 'No'].head()"
      ],
      "execution_count": null,
      "outputs": [
        {
          "output_type": "execute_result",
          "data": {
            "text/html": [
              "<div>\n",
              "<style scoped>\n",
              "    .dataframe tbody tr th:only-of-type {\n",
              "        vertical-align: middle;\n",
              "    }\n",
              "\n",
              "    .dataframe tbody tr th {\n",
              "        vertical-align: top;\n",
              "    }\n",
              "\n",
              "    .dataframe thead th {\n",
              "        text-align: right;\n",
              "    }\n",
              "</style>\n",
              "<table border=\"1\" class=\"dataframe\">\n",
              "  <thead>\n",
              "    <tr style=\"text-align: right;\">\n",
              "      <th></th>\n",
              "      <th>total_bill</th>\n",
              "      <th>tip</th>\n",
              "      <th>sex</th>\n",
              "      <th>smoker</th>\n",
              "      <th>day</th>\n",
              "      <th>time</th>\n",
              "      <th>size</th>\n",
              "      <th>tip_rate</th>\n",
              "    </tr>\n",
              "  </thead>\n",
              "  <tbody>\n",
              "    <tr>\n",
              "      <th>0</th>\n",
              "      <td>16.99</td>\n",
              "      <td>1.01</td>\n",
              "      <td>Female</td>\n",
              "      <td>No</td>\n",
              "      <td>Sun</td>\n",
              "      <td>Dinner</td>\n",
              "      <td>2</td>\n",
              "      <td>0.059447</td>\n",
              "    </tr>\n",
              "    <tr>\n",
              "      <th>1</th>\n",
              "      <td>10.34</td>\n",
              "      <td>1.66</td>\n",
              "      <td>Male</td>\n",
              "      <td>No</td>\n",
              "      <td>Sun</td>\n",
              "      <td>Dinner</td>\n",
              "      <td>3</td>\n",
              "      <td>0.160542</td>\n",
              "    </tr>\n",
              "    <tr>\n",
              "      <th>2</th>\n",
              "      <td>21.01</td>\n",
              "      <td>3.50</td>\n",
              "      <td>Male</td>\n",
              "      <td>No</td>\n",
              "      <td>Sun</td>\n",
              "      <td>Dinner</td>\n",
              "      <td>3</td>\n",
              "      <td>0.166587</td>\n",
              "    </tr>\n",
              "    <tr>\n",
              "      <th>3</th>\n",
              "      <td>23.68</td>\n",
              "      <td>3.31</td>\n",
              "      <td>Male</td>\n",
              "      <td>No</td>\n",
              "      <td>Sun</td>\n",
              "      <td>Dinner</td>\n",
              "      <td>2</td>\n",
              "      <td>0.139780</td>\n",
              "    </tr>\n",
              "    <tr>\n",
              "      <th>4</th>\n",
              "      <td>24.59</td>\n",
              "      <td>3.61</td>\n",
              "      <td>Female</td>\n",
              "      <td>No</td>\n",
              "      <td>Sun</td>\n",
              "      <td>Dinner</td>\n",
              "      <td>4</td>\n",
              "      <td>0.146808</td>\n",
              "    </tr>\n",
              "  </tbody>\n",
              "</table>\n",
              "</div>"
            ],
            "text/plain": [
              "   total_bill   tip     sex smoker  day    time  size  tip_rate\n",
              "0       16.99  1.01  Female     No  Sun  Dinner     2  0.059447\n",
              "1       10.34  1.66    Male     No  Sun  Dinner     3  0.160542\n",
              "2       21.01  3.50    Male     No  Sun  Dinner     3  0.166587\n",
              "3       23.68  3.31    Male     No  Sun  Dinner     2  0.139780\n",
              "4       24.59  3.61  Female     No  Sun  Dinner     4  0.146808"
            ]
          },
          "metadata": {},
          "execution_count": 21
        }
      ]
    },
    {
      "cell_type": "code",
      "metadata": {
        "colab": {
          "base_uri": "https://localhost:8080/"
        },
        "id": "GKeJvPhCvQ76",
        "outputId": "8cc89bbd-d7c9-41bf-a75b-4e9e7b207394"
      },
      "source": [
        "sql_upper = 'SELECT * FROM tipsDB WHERE UPPER(smoker)=UPPER(\"no\") LIMIT 5' #o UPPER faz a busca toda reconhecer o que estiver em minusculo\n",
        "cursor.execute(sql_upper).fetchall()"
      ],
      "execution_count": null,
      "outputs": [
        {
          "output_type": "execute_result",
          "data": {
            "text/plain": [
              "[(0, 16.99, 1.01, 'Female', 'No', 'Sun', 'Dinner', 2),\n",
              " (1, 10.34, 1.66, 'Male', 'No', 'Sun', 'Dinner', 3),\n",
              " (2, 21.01, 3.5, 'Male', 'No', 'Sun', 'Dinner', 3),\n",
              " (3, 23.68, 3.31, 'Male', 'No', 'Sun', 'Dinner', 2),\n",
              " (4, 24.59, 3.61, 'Female', 'No', 'Sun', 'Dinner', 4)]"
            ]
          },
          "metadata": {},
          "execution_count": 22
        }
      ]
    },
    {
      "cell_type": "code",
      "metadata": {
        "id": "ChB8-ktexIfW"
      },
      "source": [
        "#tips[tips['smoker'].str.upper() == str.upper('no')].head()  - eu estou acessando o objeto string, que é o objeto nativo do python = mas também funciona o upper"
      ],
      "execution_count": null,
      "outputs": []
    },
    {
      "cell_type": "code",
      "metadata": {
        "id": "3huwiaJo-ehz",
        "colab": {
          "base_uri": "https://localhost:8080/"
        },
        "outputId": "b87be49b-5c91-4743-e859-50500af3d334"
      },
      "source": [
        "### WHERE - SQL ###\n",
        "### time = Dinner AND tip > 5.00 ###\n",
        "\n",
        "sql_where2 = 'SELECT * FROM tipsDB WHERE time=\"Dinner\" AND tip > 5.00'\n",
        "cursor.execute(sql_where2).fetchall()"
      ],
      "execution_count": null,
      "outputs": [
        {
          "output_type": "execute_result",
          "data": {
            "text/plain": [
              "[(23, 39.42, 7.58, 'Male', 'No', 'Sat', 'Dinner', 4),\n",
              " (44, 30.4, 5.6, 'Male', 'No', 'Sun', 'Dinner', 4),\n",
              " (47, 32.4, 6.0, 'Male', 'No', 'Sun', 'Dinner', 4),\n",
              " (52, 34.81, 5.2, 'Female', 'No', 'Sun', 'Dinner', 4),\n",
              " (59, 48.27, 6.73, 'Male', 'No', 'Sat', 'Dinner', 4),\n",
              " (116, 29.93, 5.07, 'Male', 'No', 'Sun', 'Dinner', 4),\n",
              " (155, 29.85, 5.14, 'Female', 'No', 'Sun', 'Dinner', 5),\n",
              " (170, 50.81, 10.0, 'Male', 'Yes', 'Sat', 'Dinner', 3),\n",
              " (172, 7.25, 5.15, 'Male', 'Yes', 'Sun', 'Dinner', 2),\n",
              " (181, 23.33, 5.65, 'Male', 'Yes', 'Sun', 'Dinner', 2),\n",
              " (183, 23.17, 6.5, 'Male', 'Yes', 'Sun', 'Dinner', 4),\n",
              " (211, 25.89, 5.16, 'Male', 'Yes', 'Sat', 'Dinner', 4),\n",
              " (212, 48.33, 9.0, 'Male', 'No', 'Sat', 'Dinner', 4),\n",
              " (214, 28.17, 6.5, 'Female', 'Yes', 'Sat', 'Dinner', 3),\n",
              " (239, 29.03, 5.92, 'Male', 'No', 'Sat', 'Dinner', 3)]"
            ]
          },
          "metadata": {},
          "execution_count": 23
        }
      ]
    },
    {
      "cell_type": "code",
      "metadata": {
        "id": "b3MD59gU-ehz",
        "colab": {
          "base_uri": "https://localhost:8080/",
          "height": 204
        },
        "outputId": "cd80dbad-1e78-41ec-fc4d-16139657d135"
      },
      "source": [
        "### WHERE - PANDAS ###\n",
        "### time = Dinner AND tip > 5.00 ###\n",
        "tips[(tips['time']==\"Dinner\") & (tips['tip'] > 5.00)].head()"
      ],
      "execution_count": null,
      "outputs": [
        {
          "output_type": "execute_result",
          "data": {
            "text/html": [
              "<div>\n",
              "<style scoped>\n",
              "    .dataframe tbody tr th:only-of-type {\n",
              "        vertical-align: middle;\n",
              "    }\n",
              "\n",
              "    .dataframe tbody tr th {\n",
              "        vertical-align: top;\n",
              "    }\n",
              "\n",
              "    .dataframe thead th {\n",
              "        text-align: right;\n",
              "    }\n",
              "</style>\n",
              "<table border=\"1\" class=\"dataframe\">\n",
              "  <thead>\n",
              "    <tr style=\"text-align: right;\">\n",
              "      <th></th>\n",
              "      <th>total_bill</th>\n",
              "      <th>tip</th>\n",
              "      <th>sex</th>\n",
              "      <th>smoker</th>\n",
              "      <th>day</th>\n",
              "      <th>time</th>\n",
              "      <th>size</th>\n",
              "      <th>tip_rate</th>\n",
              "    </tr>\n",
              "  </thead>\n",
              "  <tbody>\n",
              "    <tr>\n",
              "      <th>23</th>\n",
              "      <td>39.42</td>\n",
              "      <td>7.58</td>\n",
              "      <td>Male</td>\n",
              "      <td>No</td>\n",
              "      <td>Sat</td>\n",
              "      <td>Dinner</td>\n",
              "      <td>4</td>\n",
              "      <td>0.192288</td>\n",
              "    </tr>\n",
              "    <tr>\n",
              "      <th>44</th>\n",
              "      <td>30.40</td>\n",
              "      <td>5.60</td>\n",
              "      <td>Male</td>\n",
              "      <td>No</td>\n",
              "      <td>Sun</td>\n",
              "      <td>Dinner</td>\n",
              "      <td>4</td>\n",
              "      <td>0.184211</td>\n",
              "    </tr>\n",
              "    <tr>\n",
              "      <th>47</th>\n",
              "      <td>32.40</td>\n",
              "      <td>6.00</td>\n",
              "      <td>Male</td>\n",
              "      <td>No</td>\n",
              "      <td>Sun</td>\n",
              "      <td>Dinner</td>\n",
              "      <td>4</td>\n",
              "      <td>0.185185</td>\n",
              "    </tr>\n",
              "    <tr>\n",
              "      <th>52</th>\n",
              "      <td>34.81</td>\n",
              "      <td>5.20</td>\n",
              "      <td>Female</td>\n",
              "      <td>No</td>\n",
              "      <td>Sun</td>\n",
              "      <td>Dinner</td>\n",
              "      <td>4</td>\n",
              "      <td>0.149382</td>\n",
              "    </tr>\n",
              "    <tr>\n",
              "      <th>59</th>\n",
              "      <td>48.27</td>\n",
              "      <td>6.73</td>\n",
              "      <td>Male</td>\n",
              "      <td>No</td>\n",
              "      <td>Sat</td>\n",
              "      <td>Dinner</td>\n",
              "      <td>4</td>\n",
              "      <td>0.139424</td>\n",
              "    </tr>\n",
              "  </tbody>\n",
              "</table>\n",
              "</div>"
            ],
            "text/plain": [
              "    total_bill   tip     sex smoker  day    time  size  tip_rate\n",
              "23       39.42  7.58    Male     No  Sat  Dinner     4  0.192288\n",
              "44       30.40  5.60    Male     No  Sun  Dinner     4  0.184211\n",
              "47       32.40  6.00    Male     No  Sun  Dinner     4  0.185185\n",
              "52       34.81  5.20  Female     No  Sun  Dinner     4  0.149382\n",
              "59       48.27  6.73    Male     No  Sat  Dinner     4  0.139424"
            ]
          },
          "metadata": {},
          "execution_count": 28
        }
      ]
    },
    {
      "cell_type": "code",
      "metadata": {
        "id": "BuV_TVMO-ehz",
        "colab": {
          "base_uri": "https://localhost:8080/"
        },
        "outputId": "942c85c9-bc26-4d5a-d324-df3421e779f5"
      },
      "source": [
        "### IS NULL - SQL #### \n",
        "sql_update = 'UPDATE tipsDB set tip=NULL WHERE tip=7.58'\n",
        "cursor.execute(sql_update)"
      ],
      "execution_count": null,
      "outputs": [
        {
          "output_type": "execute_result",
          "data": {
            "text/plain": [
              "<sqlite3.Cursor at 0x7f114807ef80>"
            ]
          },
          "metadata": {},
          "execution_count": 30
        }
      ]
    },
    {
      "cell_type": "code",
      "metadata": {
        "colab": {
          "base_uri": "https://localhost:8080/"
        },
        "id": "_2w_C3i51qLU",
        "outputId": "d9ed1b98-0b2d-4055-f7ca-ac18523be189"
      },
      "source": [
        "sql_ISNULL = 'SELECT * FROM tipsDB WHERE tip is NULL'\n",
        "cursor.execute(sql_ISNULL).fetchall()"
      ],
      "execution_count": null,
      "outputs": [
        {
          "output_type": "execute_result",
          "data": {
            "text/plain": [
              "[(23, 39.42, None, 'Male', 'No', 'Sat', 'Dinner', 4)]"
            ]
          },
          "metadata": {},
          "execution_count": 31
        }
      ]
    },
    {
      "cell_type": "code",
      "metadata": {
        "id": "YjFoukFj-eh0"
      },
      "source": [
        "### IS NULL - PANDAS #### \n",
        "tips.loc[tips['tip']==7.58, 'tip'] = None"
      ],
      "execution_count": null,
      "outputs": []
    },
    {
      "cell_type": "code",
      "metadata": {
        "id": "kpov16Uv-eh0",
        "colab": {
          "base_uri": "https://localhost:8080/",
          "height": 80
        },
        "outputId": "0edbbbd5-d8f6-4ab0-f6c4-da561b7fa67d"
      },
      "source": [
        "tips[tips['tip'].isna()]"
      ],
      "execution_count": null,
      "outputs": [
        {
          "output_type": "execute_result",
          "data": {
            "text/html": [
              "<div>\n",
              "<style scoped>\n",
              "    .dataframe tbody tr th:only-of-type {\n",
              "        vertical-align: middle;\n",
              "    }\n",
              "\n",
              "    .dataframe tbody tr th {\n",
              "        vertical-align: top;\n",
              "    }\n",
              "\n",
              "    .dataframe thead th {\n",
              "        text-align: right;\n",
              "    }\n",
              "</style>\n",
              "<table border=\"1\" class=\"dataframe\">\n",
              "  <thead>\n",
              "    <tr style=\"text-align: right;\">\n",
              "      <th></th>\n",
              "      <th>total_bill</th>\n",
              "      <th>tip</th>\n",
              "      <th>sex</th>\n",
              "      <th>smoker</th>\n",
              "      <th>day</th>\n",
              "      <th>time</th>\n",
              "      <th>size</th>\n",
              "      <th>tip_rate</th>\n",
              "    </tr>\n",
              "  </thead>\n",
              "  <tbody>\n",
              "    <tr>\n",
              "      <th>23</th>\n",
              "      <td>39.42</td>\n",
              "      <td>NaN</td>\n",
              "      <td>Male</td>\n",
              "      <td>No</td>\n",
              "      <td>Sat</td>\n",
              "      <td>Dinner</td>\n",
              "      <td>4</td>\n",
              "      <td>0.192288</td>\n",
              "    </tr>\n",
              "  </tbody>\n",
              "</table>\n",
              "</div>"
            ],
            "text/plain": [
              "    total_bill  tip   sex smoker  day    time  size  tip_rate\n",
              "23       39.42  NaN  Male     No  Sat  Dinner     4  0.192288"
            ]
          },
          "metadata": {},
          "execution_count": 33
        }
      ]
    },
    {
      "cell_type": "code",
      "metadata": {
        "colab": {
          "base_uri": "https://localhost:8080/"
        },
        "id": "HN36AVFY-eh1",
        "outputId": "2afeda36-448b-4a9b-cbf3-c3042ed58364"
      },
      "source": [
        "### GROUP BY - SQL ###\n",
        "sql_groupby = 'SELECT sex, count(*) FROM tipsDB GROUP BY sex'\n",
        "cursor.execute(sql_groupby).fetchall()\n"
      ],
      "execution_count": null,
      "outputs": [
        {
          "output_type": "execute_result",
          "data": {
            "text/plain": [
              "[('Female', 87), ('Male', 157)]"
            ]
          },
          "metadata": {},
          "execution_count": 34
        }
      ]
    },
    {
      "cell_type": "code",
      "metadata": {
        "id": "2GGpNAkf-eh1",
        "colab": {
          "base_uri": "https://localhost:8080/"
        },
        "outputId": "b8f9707d-b023-438f-c5bf-8bb5b3c58535"
      },
      "source": [
        "### GROUP BY - PANDAS ###\n",
        "tips.groupby('sex').size()"
      ],
      "execution_count": null,
      "outputs": [
        {
          "output_type": "execute_result",
          "data": {
            "text/plain": [
              "sex\n",
              "Female     87\n",
              "Male      157\n",
              "dtype: int64"
            ]
          },
          "metadata": {},
          "execution_count": 35
        }
      ]
    },
    {
      "cell_type": "code",
      "metadata": {
        "id": "ehuTFE2X-eh1",
        "colab": {
          "base_uri": "https://localhost:8080/"
        },
        "outputId": "ad516470-ab21-4b29-d917-58444c0436f5"
      },
      "source": [
        "### GROUP BY - SQL USANDO FUNCOES NATIVAS DO SQL  ###\n",
        "# smoker, day\n",
        "# agg - count, valor médio da gorjeta (tip)\n",
        "sql_groupby2 = 'SELECT smoker, day, COUNT(*), AVG(tip) FROM tipsDB GROUP BY smoker, day'\n",
        "cursor.execute(sql_groupby2).fetchall()"
      ],
      "execution_count": null,
      "outputs": [
        {
          "output_type": "execute_result",
          "data": {
            "text/plain": [
              "[('No', 'Fri', 4, 2.8125),\n",
              " ('No', 'Sat', 45, 3.001136363636364),\n",
              " ('No', 'Sun', 57, 3.1678947368421055),\n",
              " ('No', 'Thur', 45, 2.673777777777778),\n",
              " ('Yes', 'Fri', 15, 2.714),\n",
              " ('Yes', 'Sat', 42, 2.8754761904761903),\n",
              " ('Yes', 'Sun', 19, 3.5168421052631573),\n",
              " ('Yes', 'Thur', 17, 3.0299999999999994)]"
            ]
          },
          "metadata": {},
          "execution_count": 36
        }
      ]
    },
    {
      "cell_type": "code",
      "metadata": {
        "id": "RYXGjj_x-eh1",
        "colab": {
          "base_uri": "https://localhost:8080/",
          "height": 359
        },
        "outputId": "aee79a1d-4bdb-4639-c404-e8dad670d09e"
      },
      "source": [
        "### GROUP BY - SQL USANDO FUNCOES NATIVAS DO PANDAS  ###\n",
        "tips.groupby(['smoker', 'day']).agg({\"tip\":['size', 'mean']}) \n",
        "#groupby - estou escolhendo parametros / agg - agregando quantos 'tips' tiveram, e qual foi a 'média' para essas 2 combinações determinadas em 'group by'"
      ],
      "execution_count": null,
      "outputs": [
        {
          "output_type": "execute_result",
          "data": {
            "text/html": [
              "<div>\n",
              "<style scoped>\n",
              "    .dataframe tbody tr th:only-of-type {\n",
              "        vertical-align: middle;\n",
              "    }\n",
              "\n",
              "    .dataframe tbody tr th {\n",
              "        vertical-align: top;\n",
              "    }\n",
              "\n",
              "    .dataframe thead tr th {\n",
              "        text-align: left;\n",
              "    }\n",
              "\n",
              "    .dataframe thead tr:last-of-type th {\n",
              "        text-align: right;\n",
              "    }\n",
              "</style>\n",
              "<table border=\"1\" class=\"dataframe\">\n",
              "  <thead>\n",
              "    <tr>\n",
              "      <th></th>\n",
              "      <th></th>\n",
              "      <th colspan=\"2\" halign=\"left\">tip</th>\n",
              "    </tr>\n",
              "    <tr>\n",
              "      <th></th>\n",
              "      <th></th>\n",
              "      <th>count</th>\n",
              "      <th>mean</th>\n",
              "    </tr>\n",
              "    <tr>\n",
              "      <th>smoker</th>\n",
              "      <th>day</th>\n",
              "      <th></th>\n",
              "      <th></th>\n",
              "    </tr>\n",
              "  </thead>\n",
              "  <tbody>\n",
              "    <tr>\n",
              "      <th rowspan=\"4\" valign=\"top\">No</th>\n",
              "      <th>Fri</th>\n",
              "      <td>4</td>\n",
              "      <td>2.812500</td>\n",
              "    </tr>\n",
              "    <tr>\n",
              "      <th>Sat</th>\n",
              "      <td>44</td>\n",
              "      <td>3.001136</td>\n",
              "    </tr>\n",
              "    <tr>\n",
              "      <th>Sun</th>\n",
              "      <td>57</td>\n",
              "      <td>3.167895</td>\n",
              "    </tr>\n",
              "    <tr>\n",
              "      <th>Thur</th>\n",
              "      <td>45</td>\n",
              "      <td>2.673778</td>\n",
              "    </tr>\n",
              "    <tr>\n",
              "      <th rowspan=\"4\" valign=\"top\">Yes</th>\n",
              "      <th>Fri</th>\n",
              "      <td>15</td>\n",
              "      <td>2.714000</td>\n",
              "    </tr>\n",
              "    <tr>\n",
              "      <th>Sat</th>\n",
              "      <td>42</td>\n",
              "      <td>2.875476</td>\n",
              "    </tr>\n",
              "    <tr>\n",
              "      <th>Sun</th>\n",
              "      <td>19</td>\n",
              "      <td>3.516842</td>\n",
              "    </tr>\n",
              "    <tr>\n",
              "      <th>Thur</th>\n",
              "      <td>17</td>\n",
              "      <td>3.030000</td>\n",
              "    </tr>\n",
              "  </tbody>\n",
              "</table>\n",
              "</div>"
            ],
            "text/plain": [
              "              tip          \n",
              "            count      mean\n",
              "smoker day                 \n",
              "No     Fri      4  2.812500\n",
              "       Sat     44  3.001136\n",
              "       Sun     57  3.167895\n",
              "       Thur    45  2.673778\n",
              "Yes    Fri     15  2.714000\n",
              "       Sat     42  2.875476\n",
              "       Sun     19  3.516842\n",
              "       Thur    17  3.030000"
            ]
          },
          "metadata": {},
          "execution_count": 37
        }
      ]
    },
    {
      "cell_type": "code",
      "metadata": {
        "colab": {
          "base_uri": "https://localhost:8080/"
        },
        "id": "UpwVWMAP8vur",
        "outputId": "30b72723-e4b5-43d7-aa03-e0c0a4146c49"
      },
      "source": [
        "import numpy as np\n",
        "values = np.random.randn(4)\n",
        "values = np.append(values,np.nan)\n",
        "values"
      ],
      "execution_count": null,
      "outputs": [
        {
          "output_type": "execute_result",
          "data": {
            "text/plain": [
              "array([ 0.74735879, -0.73411282,  0.86580368,  0.29700527,         nan])"
            ]
          },
          "metadata": {},
          "execution_count": 39
        }
      ]
    },
    {
      "cell_type": "code",
      "metadata": {
        "id": "JbhA5Tnq-eh2"
      },
      "source": [
        "import numpy as np\n",
        "values = np.random.randn(4)\n",
        "values = np.append(values,np.nan)\n",
        "\n",
        "df1 = pd.DataFrame({\"key\": [\"A\", \"B\", \"C\", \"D\",\"E\"], \"value\": values})\n",
        "df2 = pd.DataFrame({\"key\": [\"B\", \"D\", \"D\", \"E\"], \"value\": np.random.randn(4)})\n",
        "\n",
        "\n",
        "df1.to_sql('df1DB', con=engine)\n",
        "df2.to_sql('df2DB', con=engine)"
      ],
      "execution_count": null,
      "outputs": []
    },
    {
      "cell_type": "code",
      "metadata": {
        "id": "CYKqgQJk-eh2",
        "colab": {
          "base_uri": "https://localhost:8080/"
        },
        "outputId": "a8c4ec10-6d82-4398-90da-b7f4209c1133"
      },
      "source": [
        "### INNER_JOIN - SQL ####\n",
        "\n",
        "sql_join = 'SELECT * FROM df1DB INNER JOIN df2DB ON df1DB.key = df2DB.key'\n",
        "cursor.execute(sql_join).fetchall()"
      ],
      "execution_count": null,
      "outputs": [
        {
          "output_type": "execute_result",
          "data": {
            "text/plain": [
              "[(1, 'B', 1.4066410447177167, 0, 'B', -0.40471983023912095),\n",
              " (3, 'D', -0.3668434608408703, 1, 'D', -0.6340781064341978),\n",
              " (3, 'D', -0.3668434608408703, 2, 'D', 0.5633584340445548),\n",
              " (4, 'E', None, 3, 'E', 2.1282368993827823)]"
            ]
          },
          "metadata": {},
          "execution_count": 40
        }
      ]
    },
    {
      "cell_type": "code",
      "metadata": {
        "id": "jbHKl2Ee-eh2",
        "colab": {
          "base_uri": "https://localhost:8080/",
          "height": 173
        },
        "outputId": "37193403-3acc-4876-c684-3df313ca1a86"
      },
      "source": [
        "### INNER_JOIN - PANDAS #### \n",
        "pd.merge(df1, df2, on='key')"
      ],
      "execution_count": null,
      "outputs": [
        {
          "output_type": "execute_result",
          "data": {
            "text/html": [
              "<div>\n",
              "<style scoped>\n",
              "    .dataframe tbody tr th:only-of-type {\n",
              "        vertical-align: middle;\n",
              "    }\n",
              "\n",
              "    .dataframe tbody tr th {\n",
              "        vertical-align: top;\n",
              "    }\n",
              "\n",
              "    .dataframe thead th {\n",
              "        text-align: right;\n",
              "    }\n",
              "</style>\n",
              "<table border=\"1\" class=\"dataframe\">\n",
              "  <thead>\n",
              "    <tr style=\"text-align: right;\">\n",
              "      <th></th>\n",
              "      <th>key</th>\n",
              "      <th>value_x</th>\n",
              "      <th>value_y</th>\n",
              "    </tr>\n",
              "  </thead>\n",
              "  <tbody>\n",
              "    <tr>\n",
              "      <th>0</th>\n",
              "      <td>B</td>\n",
              "      <td>1.406641</td>\n",
              "      <td>-0.404720</td>\n",
              "    </tr>\n",
              "    <tr>\n",
              "      <th>1</th>\n",
              "      <td>D</td>\n",
              "      <td>-0.366843</td>\n",
              "      <td>-0.634078</td>\n",
              "    </tr>\n",
              "    <tr>\n",
              "      <th>2</th>\n",
              "      <td>D</td>\n",
              "      <td>-0.366843</td>\n",
              "      <td>0.563358</td>\n",
              "    </tr>\n",
              "    <tr>\n",
              "      <th>3</th>\n",
              "      <td>E</td>\n",
              "      <td>NaN</td>\n",
              "      <td>2.128237</td>\n",
              "    </tr>\n",
              "  </tbody>\n",
              "</table>\n",
              "</div>"
            ],
            "text/plain": [
              "  key   value_x   value_y\n",
              "0   B  1.406641 -0.404720\n",
              "1   D -0.366843 -0.634078\n",
              "2   D -0.366843  0.563358\n",
              "3   E       NaN  2.128237"
            ]
          },
          "metadata": {},
          "execution_count": 41
        }
      ]
    },
    {
      "cell_type": "code",
      "metadata": {
        "id": "UajJWTPM-eh2",
        "colab": {
          "base_uri": "https://localhost:8080/"
        },
        "outputId": "1ff286a9-1416-44a6-c40c-813e3525b015"
      },
      "source": [
        "### LEFT JOIN - SQL ####\n",
        "sql_LEFTjoin = 'SELECT * FROM df1DB LEFT JOIN df2DB ON df1DB.key = df2DB.key'\n",
        "cursor.execute(sql_LEFTjoin).fetchall()"
      ],
      "execution_count": null,
      "outputs": [
        {
          "output_type": "execute_result",
          "data": {
            "text/plain": [
              "[(0, 'A', -0.8138592357561322, None, None, None),\n",
              " (1, 'B', 1.4066410447177167, 0, 'B', -0.40471983023912095),\n",
              " (2, 'C', -1.8368240353506757, None, None, None),\n",
              " (3, 'D', -0.3668434608408703, 1, 'D', -0.6340781064341978),\n",
              " (3, 'D', -0.3668434608408703, 2, 'D', 0.5633584340445548),\n",
              " (4, 'E', None, 3, 'E', 2.1282368993827823)]"
            ]
          },
          "metadata": {},
          "execution_count": 42
        }
      ]
    },
    {
      "cell_type": "code",
      "metadata": {
        "id": "z4QRxr8DE_6y",
        "colab": {
          "base_uri": "https://localhost:8080/",
          "height": 235
        },
        "outputId": "045be30a-cd20-431b-dce8-888b7af971e1"
      },
      "source": [
        "### LEFT JOIN - PANDAS ####\n",
        "pd.merge(df1, df2, on='key', how = \"left\")"
      ],
      "execution_count": null,
      "outputs": [
        {
          "output_type": "execute_result",
          "data": {
            "text/html": [
              "<div>\n",
              "<style scoped>\n",
              "    .dataframe tbody tr th:only-of-type {\n",
              "        vertical-align: middle;\n",
              "    }\n",
              "\n",
              "    .dataframe tbody tr th {\n",
              "        vertical-align: top;\n",
              "    }\n",
              "\n",
              "    .dataframe thead th {\n",
              "        text-align: right;\n",
              "    }\n",
              "</style>\n",
              "<table border=\"1\" class=\"dataframe\">\n",
              "  <thead>\n",
              "    <tr style=\"text-align: right;\">\n",
              "      <th></th>\n",
              "      <th>key</th>\n",
              "      <th>value_x</th>\n",
              "      <th>value_y</th>\n",
              "    </tr>\n",
              "  </thead>\n",
              "  <tbody>\n",
              "    <tr>\n",
              "      <th>0</th>\n",
              "      <td>A</td>\n",
              "      <td>-0.813859</td>\n",
              "      <td>NaN</td>\n",
              "    </tr>\n",
              "    <tr>\n",
              "      <th>1</th>\n",
              "      <td>B</td>\n",
              "      <td>1.406641</td>\n",
              "      <td>-0.404720</td>\n",
              "    </tr>\n",
              "    <tr>\n",
              "      <th>2</th>\n",
              "      <td>C</td>\n",
              "      <td>-1.836824</td>\n",
              "      <td>NaN</td>\n",
              "    </tr>\n",
              "    <tr>\n",
              "      <th>3</th>\n",
              "      <td>D</td>\n",
              "      <td>-0.366843</td>\n",
              "      <td>-0.634078</td>\n",
              "    </tr>\n",
              "    <tr>\n",
              "      <th>4</th>\n",
              "      <td>D</td>\n",
              "      <td>-0.366843</td>\n",
              "      <td>0.563358</td>\n",
              "    </tr>\n",
              "    <tr>\n",
              "      <th>5</th>\n",
              "      <td>E</td>\n",
              "      <td>NaN</td>\n",
              "      <td>2.128237</td>\n",
              "    </tr>\n",
              "  </tbody>\n",
              "</table>\n",
              "</div>"
            ],
            "text/plain": [
              "  key   value_x   value_y\n",
              "0   A -0.813859       NaN\n",
              "1   B  1.406641 -0.404720\n",
              "2   C -1.836824       NaN\n",
              "3   D -0.366843 -0.634078\n",
              "4   D -0.366843  0.563358\n",
              "5   E       NaN  2.128237"
            ]
          },
          "metadata": {},
          "execution_count": 43
        }
      ]
    },
    {
      "cell_type": "code",
      "metadata": {
        "id": "ojqnUGuk_SWV"
      },
      "source": [
        ""
      ],
      "execution_count": null,
      "outputs": []
    }
  ]
}
{
  "nbformat": 4,
  "nbformat_minor": 0,
  "metadata": {
    "colab": {
      "name": "GridSearchCV.ipynb",
      "provenance": [],
      "include_colab_link": true
    },
    "kernelspec": {
      "name": "python3",
      "display_name": "Python 3"
    },
    "language_info": {
      "name": "python"
    }
  },
  "cells": [
    {
      "cell_type": "markdown",
      "metadata": {
        "id": "view-in-github",
        "colab_type": "text"
      },
      "source": [
        "<a href=\"https://colab.research.google.com/github/Barbara-Morais/Exercicios-Bootcamp/blob/main/GridSearchCV.ipynb\" target=\"_parent\"><img src=\"https://colab.research.google.com/assets/colab-badge.svg\" alt=\"Open In Colab\"/></a>"
      ]
    },
    {
      "cell_type": "code",
      "metadata": {
        "id": "x0rmH4kYftQ0"
      },
      "source": [
        "from sklearn.model_selection import train_test_split\n",
        "import pandas as pd\n"
      ],
      "execution_count": 1,
      "outputs": []
    },
    {
      "cell_type": "code",
      "metadata": {
        "colab": {
          "base_uri": "https://localhost:8080/",
          "height": 206
        },
        "id": "bX7GHlLgf5CZ",
        "outputId": "3cbf782f-beb5-471b-e0a4-3240bceead0e"
      },
      "source": [
        "df_social = pd.read_csv('https://raw.githubusercontent.com/CharlesPrado23/Bootcamp2oSemestre2021/main/Semana8/Social_Network_Ads.csv')\n",
        "df_social.head()"
      ],
      "execution_count": 2,
      "outputs": [
        {
          "output_type": "execute_result",
          "data": {
            "text/html": [
              "<div>\n",
              "<style scoped>\n",
              "    .dataframe tbody tr th:only-of-type {\n",
              "        vertical-align: middle;\n",
              "    }\n",
              "\n",
              "    .dataframe tbody tr th {\n",
              "        vertical-align: top;\n",
              "    }\n",
              "\n",
              "    .dataframe thead th {\n",
              "        text-align: right;\n",
              "    }\n",
              "</style>\n",
              "<table border=\"1\" class=\"dataframe\">\n",
              "  <thead>\n",
              "    <tr style=\"text-align: right;\">\n",
              "      <th></th>\n",
              "      <th>User ID</th>\n",
              "      <th>Gender</th>\n",
              "      <th>Age</th>\n",
              "      <th>EstimatedSalary</th>\n",
              "      <th>Purchased</th>\n",
              "    </tr>\n",
              "  </thead>\n",
              "  <tbody>\n",
              "    <tr>\n",
              "      <th>0</th>\n",
              "      <td>15624510</td>\n",
              "      <td>Male</td>\n",
              "      <td>19</td>\n",
              "      <td>19000</td>\n",
              "      <td>0</td>\n",
              "    </tr>\n",
              "    <tr>\n",
              "      <th>1</th>\n",
              "      <td>15810944</td>\n",
              "      <td>Male</td>\n",
              "      <td>35</td>\n",
              "      <td>20000</td>\n",
              "      <td>0</td>\n",
              "    </tr>\n",
              "    <tr>\n",
              "      <th>2</th>\n",
              "      <td>15668575</td>\n",
              "      <td>Female</td>\n",
              "      <td>26</td>\n",
              "      <td>43000</td>\n",
              "      <td>0</td>\n",
              "    </tr>\n",
              "    <tr>\n",
              "      <th>3</th>\n",
              "      <td>15603246</td>\n",
              "      <td>Female</td>\n",
              "      <td>27</td>\n",
              "      <td>57000</td>\n",
              "      <td>0</td>\n",
              "    </tr>\n",
              "    <tr>\n",
              "      <th>4</th>\n",
              "      <td>15804002</td>\n",
              "      <td>Male</td>\n",
              "      <td>19</td>\n",
              "      <td>76000</td>\n",
              "      <td>0</td>\n",
              "    </tr>\n",
              "  </tbody>\n",
              "</table>\n",
              "</div>"
            ],
            "text/plain": [
              "    User ID  Gender  Age  EstimatedSalary  Purchased\n",
              "0  15624510    Male   19            19000          0\n",
              "1  15810944    Male   35            20000          0\n",
              "2  15668575  Female   26            43000          0\n",
              "3  15603246  Female   27            57000          0\n",
              "4  15804002    Male   19            76000          0"
            ]
          },
          "metadata": {},
          "execution_count": 2
        }
      ]
    },
    {
      "cell_type": "code",
      "metadata": {
        "id": "lWMCIN3zf_nX"
      },
      "source": [
        "from sklearn import preprocessing\n",
        "le_sex = preprocessing.LabelEncoder()\n",
        "le_sex.fit(['Male','Female'])\n",
        "df_social[['Gender']] = le_sex.transform(df_social.Gender)"
      ],
      "execution_count": 3,
      "outputs": []
    },
    {
      "cell_type": "code",
      "metadata": {
        "id": "O97SDxeqgb2y"
      },
      "source": [
        "X=df_social[['Age','EstimatedSalary']]\n",
        "\n",
        "y = df_social.Purchased\n",
        "\n",
        "X_train, X_test, y_train, y_test = train_test_split(X, y, test_size=0.3, random_state=1)"
      ],
      "execution_count": 4,
      "outputs": []
    },
    {
      "cell_type": "code",
      "metadata": {
        "id": "XUCZiD16gFKf"
      },
      "source": [
        "from sklearn.model_selection import GridSearchCV\n",
        "from sklearn.neighbors import KNeighborsClassifier\n",
        "from sklearn.pipeline import Pipeline\n",
        "from sklearn.preprocessing import MinMaxScaler"
      ],
      "execution_count": 5,
      "outputs": []
    },
    {
      "cell_type": "code",
      "metadata": {
        "colab": {
          "base_uri": "https://localhost:8080/"
        },
        "id": "TOpJG8EwgKf-",
        "outputId": "d66249fc-543b-4d67-f61f-c14cb913c59d"
      },
      "source": [
        "knn_pipe = Pipeline([('mms', MinMaxScaler()),\n",
        "                     ('knn', KNeighborsClassifier())])\n",
        "params = [{'knn__n_neighbors': [3, 5, 7, 9],\n",
        "         'knn__weights': ['uniform', 'distance'],\n",
        "         'knn__leaf_size': [15, 20]}]\n",
        "gs_knn = GridSearchCV(knn_pipe,\n",
        "                      param_grid=params,\n",
        "                      scoring='accuracy',\n",
        "                      cv=5)\n",
        "gs_knn.fit(X_train, y_train)\n",
        "\n",
        "\n"
      ],
      "execution_count": 6,
      "outputs": [
        {
          "output_type": "execute_result",
          "data": {
            "text/plain": [
              "GridSearchCV(cv=5,\n",
              "             estimator=Pipeline(steps=[('mms', MinMaxScaler()),\n",
              "                                       ('knn', KNeighborsClassifier())]),\n",
              "             param_grid=[{'knn__leaf_size': [15, 20],\n",
              "                          'knn__n_neighbors': [3, 5, 7, 9],\n",
              "                          'knn__weights': ['uniform', 'distance']}],\n",
              "             scoring='accuracy')"
            ]
          },
          "metadata": {},
          "execution_count": 6
        }
      ]
    },
    {
      "cell_type": "code",
      "metadata": {
        "colab": {
          "base_uri": "https://localhost:8080/"
        },
        "id": "bXj8W8FZgwml",
        "outputId": "05719284-515b-4180-96f4-52418e1e0b2b"
      },
      "source": [
        "gs_knn.best_params_"
      ],
      "execution_count": 7,
      "outputs": [
        {
          "output_type": "execute_result",
          "data": {
            "text/plain": [
              "{'knn__leaf_size': 15, 'knn__n_neighbors': 5, 'knn__weights': 'uniform'}"
            ]
          },
          "metadata": {},
          "execution_count": 7
        }
      ]
    },
    {
      "cell_type": "code",
      "metadata": {
        "colab": {
          "base_uri": "https://localhost:8080/"
        },
        "id": "B0fUza11g28y",
        "outputId": "0d5fc1a4-e407-414e-fb20-d0567026a87e"
      },
      "source": [
        "# find best model score\n",
        "gs_knn.score(X_train, y_train)"
      ],
      "execution_count": 8,
      "outputs": [
        {
          "output_type": "execute_result",
          "data": {
            "text/plain": [
              "0.9357142857142857"
            ]
          },
          "metadata": {},
          "execution_count": 8
        }
      ]
    },
    {
      "cell_type": "markdown",
      "metadata": {
        "id": "Djv3ikvUhcrU"
      },
      "source": [
        "![image.png](data:image/png;base64,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)"
      ]
    },
    {
      "cell_type": "code",
      "metadata": {
        "colab": {
          "base_uri": "https://localhost:8080/"
        },
        "id": "LJCnS-ieOI7g",
        "outputId": "88f8bb4c-3f0c-4ce0-9bd1-8df4aae6cb90"
      },
      "source": [
        "print('\\\"I\\'m\\\"\\n \\\"\"learning\\\"\"\\n \\\"\"\"Python\\\"\"\"\\n')"
      ],
      "execution_count": 9,
      "outputs": [
        {
          "output_type": "stream",
          "name": "stdout",
          "text": [
            "\"I'm\"\n",
            " \"\"learning\"\"\n",
            " \"\"\"Python\"\"\"\n",
            "\n"
          ]
        }
      ]
    },
    {
      "cell_type": "code",
      "metadata": {
        "id": "9hA8tm4gyhKe",
        "outputId": "866f1b39-4dd7-4c0b-9a16-2fea72485474",
        "colab": {
          "base_uri": "https://localhost:8080/"
        }
      },
      "source": [
        "print()"
      ],
      "execution_count": 10,
      "outputs": [
        {
          "output_type": "stream",
          "name": "stdout",
          "text": [
            "\n"
          ]
        }
      ]
    }
  ]
}